{
 "cells": [
  {
   "cell_type": "code",
   "execution_count": 5,
   "id": "3a4c72eb",
   "metadata": {},
   "outputs": [
    {
     "name": "stdout",
     "output_type": "stream",
     "text": [
      "[1, 2, 3, 4, 5, 6, 7, 8, 9, 10]\n"
     ]
    }
   ],
   "source": [
    "l=[i for i in range(1,11)]\n",
    "print(l)"
   ]
  },
  {
   "cell_type": "code",
   "execution_count": 6,
   "id": "ab93b683",
   "metadata": {},
   "outputs": [
    {
     "data": {
      "text/plain": [
       "[10, 9, 8, 7, 6, 5, 4, 3, 2, 1]"
      ]
     },
     "execution_count": 6,
     "metadata": {},
     "output_type": "execute_result"
    }
   ],
   "source": [
    "l[::-1]"
   ]
  },
  {
   "cell_type": "code",
   "execution_count": null,
   "id": "a102972e",
   "metadata": {},
   "outputs": [],
   "source": [
    "#exploding gradient\n",
    "#vanishing gradient\n",
    "#diff btn is and ==\n",
    "#diff btn function and method\n",
    "#diff btn xgboost and adaboost\n",
    "#xgboost is parallel technique\n",
    "#sampling techniques\n",
    "#soft margin and hard margin\n",
    "#magic fn matplotlib\n",
    "#cost fn - local minima\n",
    "#gradient boosting\n",
    "#decorators\n",
    "#generators\\\\\\\\\\\n"
   ]
  }
 ],
 "metadata": {
  "kernelspec": {
   "display_name": "Python 3 (ipykernel)",
   "language": "python",
   "name": "python3"
  },
  "language_info": {
   "codemirror_mode": {
    "name": "ipython",
    "version": 3
   },
   "file_extension": ".py",
   "mimetype": "text/x-python",
   "name": "python",
   "nbconvert_exporter": "python",
   "pygments_lexer": "ipython3",
   "version": "3.9.13"
  }
 },
 "nbformat": 4,
 "nbformat_minor": 5
}
