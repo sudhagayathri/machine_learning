{
 "cells": [
  {
   "cell_type": "markdown",
   "id": "44504475",
   "metadata": {},
   "source": [
    "# there are 2 cells - coding cell, markdown cell\n"
   ]
  },
  {
   "cell_type": "code",
   "execution_count": 3,
   "id": "87d1ea14",
   "metadata": {},
   "outputs": [
    {
     "name": "stdout",
     "output_type": "stream",
     "text": [
      "sudha\n"
     ]
    }
   ],
   "source": [
    "print('sudha')"
   ]
  },
  {
   "cell_type": "markdown",
   "id": "1e406abb",
   "metadata": {},
   "source": [
    "# for markdown start with it will consider as markdown cell"
   ]
  },
  {
   "cell_type": "code",
   "execution_count": null,
   "id": "ab79029a",
   "metadata": {},
   "outputs": [],
   "source": []
  }
 ],
 "metadata": {
  "kernelspec": {
   "display_name": "Python 3 (ipykernel)",
   "language": "python",
   "name": "python3"
  },
  "language_info": {
   "codemirror_mode": {
    "name": "ipython",
    "version": 3
   },
   "file_extension": ".py",
   "mimetype": "text/x-python",
   "name": "python",
   "nbconvert_exporter": "python",
   "pygments_lexer": "ipython3",
   "version": "3.9.13"
  }
 },
 "nbformat": 4,
 "nbformat_minor": 5
}
