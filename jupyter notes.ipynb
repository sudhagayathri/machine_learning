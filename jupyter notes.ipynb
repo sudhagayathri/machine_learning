{
 "cells": [
  {
   "cell_type": "markdown",
   "id": "948ba389",
   "metadata": {},
   "source": [
    "# there are 2 cells - coding cell, markdown cell\n"
   ]
  },
  {
   "cell_type": "code",
   "execution_count": 5,
   "id": "87d1ea14",
   "metadata": {},
   "outputs": [
    {
     "name": "stdout",
     "output_type": "stream",
     "text": [
      "sudha\n"
     ]
    }
   ],
   "source": [
    "print('sudha')"
   ]
  },
  {
   "cell_type": "markdown",
   "id": "59c6fbb5",
   "metadata": {},
   "source": [
    "cell is of 2 types- \n",
    "        1.coding cell\n",
    "        2. markdown cell\n",
    "\n",
    "shift+enter to exceute\n",
    "esc- comand mode\n",
    "enter- edit mode\n",
    "\n",
    "       "
   ]
  },
  {
   "cell_type": "markdown",
   "id": "2a8f657b",
   "metadata": {},
   "source": [
    "# python intro"
   ]
  },
  {
   "cell_type": "code",
   "execution_count": null,
   "id": "24067775",
   "metadata": {},
   "outputs": [],
   "source": [
    "in python everythig is objects/datatypes/literals\n",
    "like int,float,boolean\n",
    "even def(fn) is object\n",
    "\n",
    "and objects are stored in heap area"
   ]
  },
  {
   "cell_type": "code",
   "execution_count": null,
   "id": "8df8031c",
   "metadata": {},
   "outputs": [],
   "source": []
  },
  {
   "cell_type": "code",
   "execution_count": null,
   "id": "0a845857",
   "metadata": {},
   "outputs": [],
   "source": []
  }
 ],
 "metadata": {
  "kernelspec": {
   "display_name": "Python 3 (ipykernel)",
   "language": "python",
   "name": "python3"
  },
  "language_info": {
   "codemirror_mode": {
    "name": "ipython",
    "version": 3
   },
   "file_extension": ".py",
   "mimetype": "text/x-python",
   "name": "python",
   "nbconvert_exporter": "python",
   "pygments_lexer": "ipython3",
   "version": "3.9.13"
  }
 },
 "nbformat": 4,
 "nbformat_minor": 5
}
