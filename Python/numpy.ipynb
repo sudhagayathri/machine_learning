{
 "cells": [
  {
   "cell_type": "code",
   "execution_count": 1,
   "id": "6984cb52",
   "metadata": {},
   "outputs": [
    {
     "data": {
      "text/plain": [
       "1686818868.650175"
      ]
     },
     "execution_count": 1,
     "metadata": {},
     "output_type": "execute_result"
    }
   ],
   "source": [
    "import time\n",
    "time.time()"
   ]
  },
  {
   "cell_type": "code",
   "execution_count": null,
   "id": "4546d499",
   "metadata": {},
   "outputs": [],
   "source": [
    "#scalar addition, multiply\n",
    "#ndim, shape\n",
    "#1d, 1d, 3d array\n",
    "#arange\n",
    "#random randint\n",
    "#np.full(), ones\n",
    "#matrix  - identity matrix\n",
    "#astype\n",
    "#sliciing\n",
    "#max,min, mean,"
   ]
  },
  {
   "cell_type": "code",
   "execution_count": 7,
   "id": "58091f61",
   "metadata": {},
   "outputs": [
    {
     "name": "stdout",
     "output_type": "stream",
     "text": [
      "44.4 µs ± 1.01 µs per loop (mean ± std. dev. of 7 runs, 10000 loops each)\n"
     ]
    }
   ],
   "source": [
    "import timeit\n",
    "#timeit.timeit(stmt=\"3*5\")\n",
    "\n",
    "%timeit for i in range(2000): True"
   ]
  },
  {
   "cell_type": "code",
   "execution_count": 30,
   "id": "6c531209",
   "metadata": {},
   "outputs": [
    {
     "name": "stdout",
     "output_type": "stream",
     "text": [
      "151 µs ± 7.22 µs per loop (mean ± std. dev. of 4 runs, 1000 loops each)\n"
     ]
    }
   ],
   "source": [
    "%%timeit -r 4 -n 1000\n",
    "sum(range(n))"
   ]
  },
  {
   "cell_type": "code",
   "execution_count": 6,
   "id": "0c94c635",
   "metadata": {},
   "outputs": [
    {
     "name": "stdout",
     "output_type": "stream",
     "text": [
      "[0 1 2 3 4 5]\n",
      "<class 'numpy.ndarray'>\n"
     ]
    },
    {
     "data": {
      "text/plain": [
       "15"
      ]
     },
     "execution_count": 6,
     "metadata": {},
     "output_type": "execute_result"
    }
   ],
   "source": [
    "#%%timeit -r 4 -n 1000\n",
    "import numpy as np\n",
    "n=6\n",
    "a=np.arange(n)\n",
    "print(a)\n",
    "print(type(a))\n",
    "np.sum(a)"
   ]
  },
  {
   "cell_type": "code",
   "execution_count": 12,
   "id": "56789f76",
   "metadata": {},
   "outputs": [
    {
     "name": "stdout",
     "output_type": "stream",
     "text": [
      "149 µs ± 451 ns per loop (mean ± std. dev. of 4 runs, 10000 loops each)\n"
     ]
    }
   ],
   "source": [
    "%timeit -r 4 -n 10000 test(n)"
   ]
  },
  {
   "cell_type": "code",
   "execution_count": 13,
   "id": "f5dabc42",
   "metadata": {},
   "outputs": [
    {
     "name": "stdout",
     "output_type": "stream",
     "text": [
      "14.2 µs ± 428 ns per loop (mean ± std. dev. of 4 runs, 10000 loops each)\n"
     ]
    }
   ],
   "source": [
    "%%timeit -r 4 -n 10000\n",
    "\n",
    "import numpy as np\n",
    "\n",
    "a = np.arange(n)\n",
    "\n",
    "\n",
    "np.sum(a)"
   ]
  },
  {
   "cell_type": "code",
   "execution_count": 45,
   "id": "ce255cb3",
   "metadata": {},
   "outputs": [
    {
     "name": "stdout",
     "output_type": "stream",
     "text": [
      "<class 'list'>\n",
      "<class 'numpy.ndarray'>\n",
      "1\n",
      "3\n"
     ]
    }
   ],
   "source": [
    "#list to numpy\n",
    "l1= [1,2,3]\n",
    "print(type(l1))\n",
    "l2=np.array(l1)\n",
    "print(type(l2))\n",
    "print(l2.ndim)\n",
    "print(l2.size)"
   ]
  },
  {
   "cell_type": "code",
   "execution_count": 47,
   "id": "f6ae1f0d",
   "metadata": {},
   "outputs": [
    {
     "data": {
      "text/plain": [
       "(3,)"
      ]
     },
     "execution_count": 47,
     "metadata": {},
     "output_type": "execute_result"
    }
   ],
   "source": [
    "l2.shape"
   ]
  },
  {
   "cell_type": "code",
   "execution_count": 9,
   "id": "79be2ff8",
   "metadata": {},
   "outputs": [
    {
     "name": "stdout",
     "output_type": "stream",
     "text": [
      "2\n",
      "(3, 2)\n"
     ]
    },
    {
     "data": {
      "text/plain": [
       "6"
      ]
     },
     "execution_count": 9,
     "metadata": {},
     "output_type": "execute_result"
    }
   ],
   "source": [
    "#2D ARRAY\n",
    "arr2=np.array([[1,2],[3,4],[5,6]])\n",
    "print(arr2.ndim)\n",
    "print(arr2.shape)\n",
    "arr2.size"
   ]
  },
  {
   "cell_type": "code",
   "execution_count": 17,
   "id": "ce035e49",
   "metadata": {},
   "outputs": [
    {
     "data": {
      "text/plain": [
       "[2, 3, 4, 2, 3, 4, 2, 3, 4]"
      ]
     },
     "execution_count": 17,
     "metadata": {},
     "output_type": "execute_result"
    }
   ],
   "source": [
    "#multiplication\n",
    "l3=[2,3,4]\n",
    "l3*3\n",
    "#list cannot directly multiply\n"
   ]
  },
  {
   "cell_type": "code",
   "execution_count": 15,
   "id": "088d2110",
   "metadata": {},
   "outputs": [
    {
     "name": "stdout",
     "output_type": "stream",
     "text": [
      "[1 2 3]\n"
     ]
    }
   ],
   "source": [
    "arr1=np.array([1,2,3])\n",
    "print(arr1)"
   ]
  },
  {
   "cell_type": "code",
   "execution_count": 13,
   "id": "93727d05",
   "metadata": {},
   "outputs": [
    {
     "data": {
      "text/plain": [
       "array([3, 6, 9])"
      ]
     },
     "execution_count": 13,
     "metadata": {},
     "output_type": "execute_result"
    }
   ],
   "source": [
    "l=[1,2,3]\n",
    "l*3\n",
    "k=np.array(l)\n",
    "k*3"
   ]
  },
  {
   "cell_type": "code",
   "execution_count": 19,
   "id": "e9d7e2fc",
   "metadata": {},
   "outputs": [
    {
     "name": "stdout",
     "output_type": "stream",
     "text": [
      "[2 4 6]\n",
      "[0.5 1.  1.5]\n",
      "[2, 3, 4, 3]\n",
      "[4 5 6]\n",
      "[-2 -1  0]\n"
     ]
    }
   ],
   "source": [
    "#arithmentic operations\n",
    "print(arr1*2)\n",
    "print(arr1/2)\n",
    "print(l3+[3])\n",
    "print(arr1+[3])\n",
    "print(arr1-3)\n"
   ]
  },
  {
   "cell_type": "code",
   "execution_count": 71,
   "id": "f9186c61",
   "metadata": {},
   "outputs": [
    {
     "name": "stdout",
     "output_type": "stream",
     "text": [
      "[0 2 1]\n"
     ]
    }
   ],
   "source": [
    "l1=[1,2,3]\n",
    "l2=[1,0,2]\n",
    "l1arr=np.array(l1)\n",
    "l2arr=np.array(l2)\n",
    "print(l1arr-l2arr)\n"
   ]
  },
  {
   "cell_type": "code",
   "execution_count": 82,
   "id": "b5867661",
   "metadata": {},
   "outputs": [
    {
     "name": "stdout",
     "output_type": "stream",
     "text": [
      "Help on function ndim in module numpy:\n",
      "\n",
      "ndim(a)\n",
      "    Return the number of dimensions of an array.\n",
      "    \n",
      "    Parameters\n",
      "    ----------\n",
      "    a : array_like\n",
      "        Input array.  If it is not already an ndarray, a conversion is\n",
      "        attempted.\n",
      "    \n",
      "    Returns\n",
      "    -------\n",
      "    number_of_dimensions : int\n",
      "        The number of dimensions in `a`.  Scalars are zero-dimensional.\n",
      "    \n",
      "    See Also\n",
      "    --------\n",
      "    ndarray.ndim : equivalent method\n",
      "    shape : dimensions of array\n",
      "    ndarray.shape : dimensions of array\n",
      "    \n",
      "    Examples\n",
      "    --------\n",
      "    >>> np.ndim([[1,2,3],[4,5,6]])\n",
      "    2\n",
      "    >>> np.ndim(np.array([[1,2,3],[4,5,6]]))\n",
      "    2\n",
      "    >>> np.ndim(1)\n",
      "    0\n",
      "\n"
     ]
    }
   ],
   "source": [
    "help(np.ndim)"
   ]
  },
  {
   "cell_type": "code",
   "execution_count": 94,
   "id": "ebd7809b",
   "metadata": {},
   "outputs": [
    {
     "data": {
      "text/plain": [
       "3"
      ]
     },
     "execution_count": 94,
     "metadata": {},
     "output_type": "execute_result"
    }
   ],
   "source": [
    "#3d array\n",
    "arr4=np.array([[[1,2,3],\n",
    "               [4,5,6],\n",
    "               [7,8,9]],\n",
    "              [[11,2,13],\n",
    "               [14,15,16],\n",
    "               [18,19,20]]\n",
    "              ])\n",
    "arr4.ndim"
   ]
  },
  {
   "cell_type": "code",
   "execution_count": 88,
   "id": "a4665e5e",
   "metadata": {},
   "outputs": [
    {
     "data": {
      "text/plain": [
       "5"
      ]
     },
     "execution_count": 88,
     "metadata": {},
     "output_type": "execute_result"
    }
   ],
   "source": [
    "arr4[0][1][1]"
   ]
  },
  {
   "cell_type": "code",
   "execution_count": 95,
   "id": "2a5fd42b",
   "metadata": {},
   "outputs": [
    {
     "data": {
      "text/plain": [
       "(2, 3, 3)"
      ]
     },
     "execution_count": 95,
     "metadata": {},
     "output_type": "execute_result"
    }
   ],
   "source": [
    "arr4.shape\n"
   ]
  },
  {
   "cell_type": "code",
   "execution_count": 96,
   "id": "2c976732",
   "metadata": {},
   "outputs": [
    {
     "data": {
      "text/plain": [
       "array([[[ 1,  2,  3],\n",
       "        [ 4,  5,  6],\n",
       "        [ 7,  8,  9]],\n",
       "\n",
       "       [[11,  2, 13],\n",
       "        [14, 15, 16],\n",
       "        [18, 19, 20]]])"
      ]
     },
     "execution_count": 96,
     "metadata": {},
     "output_type": "execute_result"
    }
   ],
   "source": [
    "arr4"
   ]
  },
  {
   "cell_type": "code",
   "execution_count": 97,
   "id": "cec33945",
   "metadata": {},
   "outputs": [
    {
     "data": {
      "text/plain": [
       "array([[11,  2, 13],\n",
       "       [14, 15, 16],\n",
       "       [18, 19, 20]])"
      ]
     },
     "execution_count": 97,
     "metadata": {},
     "output_type": "execute_result"
    }
   ],
   "source": [
    "arr4[1]"
   ]
  },
  {
   "cell_type": "code",
   "execution_count": 99,
   "id": "b6daeb7b",
   "metadata": {},
   "outputs": [
    {
     "data": {
      "text/plain": [
       "11"
      ]
     },
     "execution_count": 99,
     "metadata": {},
     "output_type": "execute_result"
    }
   ],
   "source": [
    "arr4[1][0][0]"
   ]
  },
  {
   "cell_type": "code",
   "execution_count": 105,
   "id": "828fe1e5",
   "metadata": {},
   "outputs": [
    {
     "data": {
      "text/plain": [
       "4"
      ]
     },
     "execution_count": 105,
     "metadata": {},
     "output_type": "execute_result"
    }
   ],
   "source": [
    "#2d array\n",
    "arr2 = np.array([[1,2],[3,4]])\n",
    "arr2.ndim\n",
    "arr2[1][1]"
   ]
  },
  {
   "cell_type": "code",
   "execution_count": 108,
   "id": "fab4ac63",
   "metadata": {},
   "outputs": [
    {
     "name": "stdout",
     "output_type": "stream",
     "text": [
      "range(0, 4)\n",
      "[0 1 2 3]\n"
     ]
    }
   ],
   "source": [
    "n=4\n",
    "print(range(n))\n",
    "print(np.arange(n))"
   ]
  },
  {
   "cell_type": "code",
   "execution_count": 22,
   "id": "a9e2c274",
   "metadata": {},
   "outputs": [
    {
     "data": {
      "text/plain": [
       "array([1, 3])"
      ]
     },
     "execution_count": 22,
     "metadata": {},
     "output_type": "execute_result"
    }
   ],
   "source": [
    "np.arange(1,4,0.5)\n",
    "np.arange(1,4,2)"
   ]
  },
  {
   "cell_type": "code",
   "execution_count": 110,
   "id": "60a016cc",
   "metadata": {},
   "outputs": [
    {
     "data": {
      "text/plain": [
       "array([0, 1, 2, 3])"
      ]
     },
     "execution_count": 110,
     "metadata": {},
     "output_type": "execute_result"
    }
   ],
   "source": [
    "np.arange(4)"
   ]
  },
  {
   "cell_type": "code",
   "execution_count": 24,
   "id": "072645aa",
   "metadata": {},
   "outputs": [
    {
     "data": {
      "text/plain": [
       "82"
      ]
     },
     "execution_count": 24,
     "metadata": {},
     "output_type": "execute_result"
    }
   ],
   "source": [
    "np.random.randint(100)\n",
    "\n"
   ]
  },
  {
   "cell_type": "code",
   "execution_count": 122,
   "id": "ec424c8e",
   "metadata": {},
   "outputs": [
    {
     "data": {
      "text/plain": [
       "array([[[0.68088841, 0.51906349, 0.30742904],\n",
       "        [0.10761928, 0.98502269, 0.86502019],\n",
       "        [0.26581485, 0.70259937, 0.74504747]],\n",
       "\n",
       "       [[0.67402303, 0.58224401, 0.34068058],\n",
       "        [0.05886763, 0.47167893, 0.59528686],\n",
       "        [0.56996176, 0.65254834, 0.27779223]],\n",
       "\n",
       "       [[0.12771447, 0.81817236, 0.89171959],\n",
       "        [0.75690356, 0.57145105, 0.47767814],\n",
       "        [0.77604828, 0.12353965, 0.82732586]],\n",
       "\n",
       "       [[0.43536427, 0.39663691, 0.83788289],\n",
       "        [0.94686541, 0.28876558, 0.14424503],\n",
       "        [0.60171209, 0.36653788, 0.42644675]]])"
      ]
     },
     "execution_count": 122,
     "metadata": {},
     "output_type": "execute_result"
    }
   ],
   "source": [
    "np.random.rand(4,3,3)"
   ]
  },
  {
   "cell_type": "code",
   "execution_count": 125,
   "id": "feaec113",
   "metadata": {},
   "outputs": [
    {
     "data": {
      "text/plain": [
       "array([0, 0, 0, 0, 0, 0])"
      ]
     },
     "execution_count": 125,
     "metadata": {},
     "output_type": "execute_result"
    }
   ],
   "source": [
    "np.zeros(6, dtype='int64')"
   ]
  },
  {
   "cell_type": "code",
   "execution_count": 129,
   "id": "faf0995a",
   "metadata": {},
   "outputs": [
    {
     "data": {
      "text/plain": [
       "array([1, 1, 1, 1, 1, 1])"
      ]
     },
     "execution_count": 129,
     "metadata": {},
     "output_type": "execute_result"
    }
   ],
   "source": [
    "np.ones(6, dtype='int64')"
   ]
  },
  {
   "cell_type": "code",
   "execution_count": 133,
   "id": "c29a57d4",
   "metadata": {},
   "outputs": [
    {
     "data": {
      "text/plain": [
       "array([[1., 1.],\n",
       "       [1., 1.]])"
      ]
     },
     "execution_count": 133,
     "metadata": {},
     "output_type": "execute_result"
    }
   ],
   "source": [
    "np.ones((2,2))"
   ]
  },
  {
   "cell_type": "code",
   "execution_count": 134,
   "id": "1aae6c98",
   "metadata": {},
   "outputs": [
    {
     "name": "stdout",
     "output_type": "stream",
     "text": [
      "Help on function full in module numpy:\n",
      "\n",
      "full(shape, fill_value, dtype=None, order='C', *, like=None)\n",
      "    Return a new array of given shape and type, filled with `fill_value`.\n",
      "    \n",
      "    Parameters\n",
      "    ----------\n",
      "    shape : int or sequence of ints\n",
      "        Shape of the new array, e.g., ``(2, 3)`` or ``2``.\n",
      "    fill_value : scalar or array_like\n",
      "        Fill value.\n",
      "    dtype : data-type, optional\n",
      "        The desired data-type for the array  The default, None, means\n",
      "         ``np.array(fill_value).dtype``.\n",
      "    order : {'C', 'F'}, optional\n",
      "        Whether to store multidimensional data in C- or Fortran-contiguous\n",
      "        (row- or column-wise) order in memory.\n",
      "    like : array_like\n",
      "        Reference object to allow the creation of arrays which are not\n",
      "        NumPy arrays. If an array-like passed in as ``like`` supports\n",
      "        the ``__array_function__`` protocol, the result will be defined\n",
      "        by it. In this case, it ensures the creation of an array object\n",
      "        compatible with that passed in via this argument.\n",
      "    \n",
      "        .. versionadded:: 1.20.0\n",
      "    \n",
      "    Returns\n",
      "    -------\n",
      "    out : ndarray\n",
      "        Array of `fill_value` with the given shape, dtype, and order.\n",
      "    \n",
      "    See Also\n",
      "    --------\n",
      "    full_like : Return a new array with shape of input filled with value.\n",
      "    empty : Return a new uninitialized array.\n",
      "    ones : Return a new array setting values to one.\n",
      "    zeros : Return a new array setting values to zero.\n",
      "    \n",
      "    Examples\n",
      "    --------\n",
      "    >>> np.full((2, 2), np.inf)\n",
      "    array([[inf, inf],\n",
      "           [inf, inf]])\n",
      "    >>> np.full((2, 2), 10)\n",
      "    array([[10, 10],\n",
      "           [10, 10]])\n",
      "    \n",
      "    >>> np.full((2, 2), [1, 2])\n",
      "    array([[1, 2],\n",
      "           [1, 2]])\n",
      "\n"
     ]
    }
   ],
   "source": [
    "help(np.full)"
   ]
  },
  {
   "cell_type": "code",
   "execution_count": 27,
   "id": "f6e8493b",
   "metadata": {},
   "outputs": [
    {
     "data": {
      "text/plain": [
       "array([[8, 8],\n",
       "       [8, 8]])"
      ]
     },
     "execution_count": 27,
     "metadata": {},
     "output_type": "execute_result"
    }
   ],
   "source": [
    "#fills values\n",
    "np.full((2,2), 8)"
   ]
  },
  {
   "cell_type": "code",
   "execution_count": 30,
   "id": "7f4e1f9f",
   "metadata": {},
   "outputs": [
    {
     "data": {
      "text/plain": [
       "array([[1, 0],\n",
       "       [0, 1]])"
      ]
     },
     "execution_count": 30,
     "metadata": {},
     "output_type": "execute_result"
    }
   ],
   "source": [
    "#matrix functions\n",
    "np.identity(2, dtype='int64')\n",
    "#np.identity(4, dtype='int64')"
   ]
  },
  {
   "cell_type": "code",
   "execution_count": 31,
   "id": "e4e9f725",
   "metadata": {},
   "outputs": [
    {
     "data": {
      "text/plain": [
       "array([[1., 0., 0.],\n",
       "       [0., 1., 0.],\n",
       "       [0., 0., 1.]])"
      ]
     },
     "execution_count": 31,
     "metadata": {},
     "output_type": "execute_result"
    }
   ],
   "source": [
    "#identity just creates square \n",
    "np.eye(3)"
   ]
  },
  {
   "cell_type": "code",
   "execution_count": 35,
   "id": "416f8b05",
   "metadata": {},
   "outputs": [
    {
     "data": {
      "text/plain": [
       "array([[0., 0., 0.],\n",
       "       [1., 0., 0.],\n",
       "       [0., 1., 0.]])"
      ]
     },
     "execution_count": 35,
     "metadata": {},
     "output_type": "execute_result"
    }
   ],
   "source": [
    "np.eye(3,3,-1) #the last is k"
   ]
  },
  {
   "cell_type": "code",
   "execution_count": 144,
   "id": "051ffd53",
   "metadata": {},
   "outputs": [
    {
     "data": {
      "text/plain": [
       "array([[0, 0],\n",
       "       [1, 0]])"
      ]
     },
     "execution_count": 144,
     "metadata": {},
     "output_type": "execute_result"
    }
   ],
   "source": [
    "np.eye(2,2,k=-1, dtype=int) #the last is k"
   ]
  },
  {
   "cell_type": "code",
   "execution_count": 167,
   "id": "d72a21bc",
   "metadata": {},
   "outputs": [
    {
     "data": {
      "text/plain": [
       "array([[ 2.43118056,  0.40481228, -1.37343692],\n",
       "       [ 1.0160123 , -0.05012943, -0.31435568],\n",
       "       [ 0.15094757,  0.93955586, -1.4381242 ]])"
      ]
     },
     "execution_count": 167,
     "metadata": {},
     "output_type": "execute_result"
    }
   ],
   "source": [
    "k = np.random.randn(3,3)\n",
    "k"
   ]
  },
  {
   "cell_type": "code",
   "execution_count": 168,
   "id": "1144a801",
   "metadata": {
    "scrolled": true
   },
   "outputs": [
    {
     "data": {
      "text/plain": [
       "array([ 2.43118056, -0.05012943, -1.4381242 ])"
      ]
     },
     "execution_count": 168,
     "metadata": {},
     "output_type": "execute_result"
    }
   ],
   "source": [
    "np.diag(k)"
   ]
  },
  {
   "cell_type": "code",
   "execution_count": 169,
   "id": "0f0bdd8a",
   "metadata": {},
   "outputs": [
    {
     "data": {
      "text/plain": [
       "array([[ 2,  0, -1],\n",
       "       [ 1,  0,  0],\n",
       "       [ 0,  0, -1]])"
      ]
     },
     "execution_count": 169,
     "metadata": {},
     "output_type": "execute_result"
    }
   ],
   "source": [
    "#astype - is for typecasting\n",
    "k.astype(int)"
   ]
  },
  {
   "cell_type": "code",
   "execution_count": 170,
   "id": "61def4b0",
   "metadata": {},
   "outputs": [
    {
     "data": {
      "text/plain": [
       "array([ 2.43118056, -0.05012943, -1.4381242 ])"
      ]
     },
     "execution_count": 170,
     "metadata": {},
     "output_type": "execute_result"
    }
   ],
   "source": [
    "np.diag(k)"
   ]
  },
  {
   "cell_type": "code",
   "execution_count": 171,
   "id": "a9718749",
   "metadata": {},
   "outputs": [
    {
     "data": {
      "text/plain": [
       "array([[0, 0, 0, 0, 0, 0],\n",
       "       [0, 1, 0, 0, 0, 0],\n",
       "       [0, 0, 2, 0, 0, 0],\n",
       "       [0, 0, 0, 3, 0, 0],\n",
       "       [0, 0, 0, 0, 4, 0],\n",
       "       [0, 0, 0, 0, 0, 5]])"
      ]
     },
     "execution_count": 171,
     "metadata": {},
     "output_type": "execute_result"
    }
   ],
   "source": [
    "l = np.array([0,1,2,3,4,5])\n",
    "np.diag(l)"
   ]
  },
  {
   "cell_type": "code",
   "execution_count": 175,
   "id": "867b4de3",
   "metadata": {},
   "outputs": [
    {
     "name": "stdout",
     "output_type": "stream",
     "text": [
      "289 ns ± 0.854 ns per loop (mean ± std. dev. of 4 runs, 1000 loops each)\n"
     ]
    }
   ],
   "source": [
    "%%timeit -r 4 -n 1000\n",
    "sum(range(4))"
   ]
  },
  {
   "cell_type": "code",
   "execution_count": 185,
   "id": "e646c781",
   "metadata": {},
   "outputs": [
    {
     "name": "stdout",
     "output_type": "stream",
     "text": [
      "8.74 µs ± 434 ns per loop (mean ± std. dev. of 4 runs, 1000 loops each)\n"
     ]
    }
   ],
   "source": [
    "%%timeit -r 4 -n 1000\n",
    "np.sum(np.arange(4))"
   ]
  },
  {
   "cell_type": "code",
   "execution_count": 189,
   "id": "1d05b533",
   "metadata": {},
   "outputs": [
    {
     "name": "stdout",
     "output_type": "stream",
     "text": [
      "259 ns ± 34.9 ns per loop (mean ± std. dev. of 4 runs, 1000 loops each)\n"
     ]
    }
   ],
   "source": [
    "%%timeit -n 1000 -r 4\n",
    "l1=[1,2,3,4,5,6]\n",
    "sum(l1)"
   ]
  },
  {
   "cell_type": "code",
   "execution_count": 201,
   "id": "40169c62",
   "metadata": {},
   "outputs": [],
   "source": [
    "arrl=np.array([1,2,3,4,5,6])\n",
    "listl = [1,2,3,4,5,6]"
   ]
  },
  {
   "cell_type": "code",
   "execution_count": 191,
   "id": "121ed006",
   "metadata": {},
   "outputs": [
    {
     "data": {
      "text/plain": [
       "array([[ 2.43118056,  0.40481228, -1.37343692],\n",
       "       [ 1.0160123 , -0.05012943, -0.31435568],\n",
       "       [ 0.15094757,  0.93955586, -1.4381242 ]])"
      ]
     },
     "execution_count": 191,
     "metadata": {},
     "output_type": "execute_result"
    }
   ],
   "source": [
    "k"
   ]
  },
  {
   "cell_type": "code",
   "execution_count": 206,
   "id": "6a3a1af3",
   "metadata": {},
   "outputs": [
    {
     "name": "stdout",
     "output_type": "stream",
     "text": [
      "5.02 µs ± 1.02 µs per loop (mean ± std. dev. of 4 runs, 1000 loops each)\n"
     ]
    }
   ],
   "source": [
    "%%timeit -n 1000 -r 4\n",
    "np.sum(arrl)"
   ]
  },
  {
   "cell_type": "code",
   "execution_count": 209,
   "id": "aa433416",
   "metadata": {},
   "outputs": [
    {
     "name": "stdout",
     "output_type": "stream",
     "text": [
      "8.29 µs ± 796 ns per loop (mean ± std. dev. of 4 runs, 1000 loops each)\n"
     ]
    }
   ],
   "source": [
    "%%timeit -n 1000 -r 4\n",
    "np.sum(listl)"
   ]
  },
  {
   "cell_type": "code",
   "execution_count": 214,
   "id": "a7fe77e5",
   "metadata": {},
   "outputs": [
    {
     "data": {
      "text/plain": [
       "array([[-0.53142959, -0.03425321,  2.96407721],\n",
       "       [-0.59809833, -1.04433399, -0.17477082],\n",
       "       [ 1.18378159, -0.09947079,  1.4091817 ]])"
      ]
     },
     "execution_count": 214,
     "metadata": {},
     "output_type": "execute_result"
    }
   ],
   "source": [
    "p =  np.random.randn(3,3)\n",
    "p"
   ]
  },
  {
   "cell_type": "code",
   "execution_count": 215,
   "id": "18f0a77a",
   "metadata": {},
   "outputs": [
    {
     "data": {
      "text/plain": [
       "2.964077205012326"
      ]
     },
     "execution_count": 215,
     "metadata": {},
     "output_type": "execute_result"
    }
   ],
   "source": [
    "np.max(p)"
   ]
  },
  {
   "cell_type": "code",
   "execution_count": 216,
   "id": "24f8e2ea",
   "metadata": {},
   "outputs": [
    {
     "data": {
      "text/plain": [
       "-1.0443339932348363"
      ]
     },
     "execution_count": 216,
     "metadata": {},
     "output_type": "execute_result"
    }
   ],
   "source": [
    "np.min(p)"
   ]
  },
  {
   "cell_type": "code",
   "execution_count": 217,
   "id": "2d308752",
   "metadata": {},
   "outputs": [
    {
     "data": {
      "text/plain": [
       "0.3416315282925671"
      ]
     },
     "execution_count": 217,
     "metadata": {},
     "output_type": "execute_result"
    }
   ],
   "source": [
    "np.mean(p)"
   ]
  },
  {
   "cell_type": "code",
   "execution_count": 218,
   "id": "1a6355f7",
   "metadata": {},
   "outputs": [
    {
     "name": "stdout",
     "output_type": "stream",
     "text": [
      "[ 6 14 32]\n"
     ]
    }
   ],
   "source": [
    "a1= np.array([1,2,4])\n",
    "a2 =np.array([6,7,8])\n",
    "print(np.multiply(a1,a2))"
   ]
  },
  {
   "cell_type": "code",
   "execution_count": 219,
   "id": "ac8a0c6a",
   "metadata": {},
   "outputs": [
    {
     "data": {
      "text/plain": [
       "array([ 6, 14, 32])"
      ]
     },
     "execution_count": 219,
     "metadata": {},
     "output_type": "execute_result"
    }
   ],
   "source": [
    "a1*a2"
   ]
  },
  {
   "cell_type": "code",
   "execution_count": 224,
   "id": "e776083d",
   "metadata": {},
   "outputs": [],
   "source": [
    "m1 = np.array([\n",
    "    [2,3,1],\n",
    "    [1,5,4]\n",
    "])\n",
    "\n",
    "m2 = np.array([\n",
    "    [2,3,1],\n",
    "    [1,5,4],\n",
    "    [4,5,6]\n",
    "])"
   ]
  },
  {
   "cell_type": "code",
   "execution_count": 226,
   "id": "1afa10ab",
   "metadata": {},
   "outputs": [
    {
     "data": {
      "text/plain": [
       "array([[11, 26, 20],\n",
       "       [23, 48, 45]])"
      ]
     },
     "execution_count": 226,
     "metadata": {},
     "output_type": "execute_result"
    }
   ],
   "source": [
    "np.dot(m1,m2)\n"
   ]
  },
  {
   "cell_type": "code",
   "execution_count": 36,
   "id": "3a0b5173",
   "metadata": {},
   "outputs": [
    {
     "data": {
      "text/plain": [
       "array([0, 1, 2, 3, 4, 5, 6, 7, 8, 9])"
      ]
     },
     "execution_count": 36,
     "metadata": {},
     "output_type": "execute_result"
    }
   ],
   "source": [
    "#slicing \n",
    "b = np.array([0, 1, 2, 3, 4, 5, 6, 7, 8, 9])\n",
    "b[-2]\n",
    "b"
   ]
  },
  {
   "cell_type": "code",
   "execution_count": 37,
   "id": "4c82ae1f",
   "metadata": {},
   "outputs": [
    {
     "data": {
      "text/plain": [
       "array([3, 5])"
      ]
     },
     "execution_count": 37,
     "metadata": {},
     "output_type": "execute_result"
    }
   ],
   "source": [
    "b[3:6:2]"
   ]
  },
  {
   "cell_type": "code",
   "execution_count": 231,
   "id": "5e016b3f",
   "metadata": {},
   "outputs": [
    {
     "data": {
      "text/plain": [
       "array([0, 1, 2, 3, 4, 5, 6, 7, 8, 9])"
      ]
     },
     "execution_count": 231,
     "metadata": {},
     "output_type": "execute_result"
    }
   ],
   "source": [
    "b"
   ]
  },
  {
   "cell_type": "code",
   "execution_count": 233,
   "id": "38f89738",
   "metadata": {},
   "outputs": [],
   "source": [
    "b[6:] = [12,13,14,15]"
   ]
  },
  {
   "cell_type": "code",
   "execution_count": 234,
   "id": "f983f545",
   "metadata": {},
   "outputs": [
    {
     "data": {
      "text/plain": [
       "array([ 0,  1,  2,  3,  4,  5, 12, 13, 14, 15])"
      ]
     },
     "execution_count": 234,
     "metadata": {},
     "output_type": "execute_result"
    }
   ],
   "source": [
    "b"
   ]
  },
  {
   "cell_type": "code",
   "execution_count": 40,
   "id": "6668df76",
   "metadata": {},
   "outputs": [
    {
     "name": "stdout",
     "output_type": "stream",
     "text": [
      "2\n"
     ]
    }
   ],
   "source": [
    "m1 = np.array([\n",
    "    [1, 2],\n",
    "    [3, 4]\n",
    "])\n",
    "print(m1.ndim)"
   ]
  },
  {
   "cell_type": "code",
   "execution_count": null,
   "id": "9026fa4f",
   "metadata": {},
   "outputs": [],
   "source": []
  }
 ],
 "metadata": {
  "kernelspec": {
   "display_name": "Python 3 (ipykernel)",
   "language": "python",
   "name": "python3"
  },
  "language_info": {
   "codemirror_mode": {
    "name": "ipython",
    "version": 3
   },
   "file_extension": ".py",
   "mimetype": "text/x-python",
   "name": "python",
   "nbconvert_exporter": "python",
   "pygments_lexer": "ipython3",
   "version": "3.9.13"
  }
 },
 "nbformat": 4,
 "nbformat_minor": 5
}
