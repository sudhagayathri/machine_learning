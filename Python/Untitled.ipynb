{
 "cells": [
  {
   "cell_type": "code",
   "execution_count": 22,
   "id": "6a3e948e",
   "metadata": {},
   "outputs": [
    {
     "name": "stdout",
     "output_type": "stream",
     "text": [
      "1\n",
      "2\n",
      "3\n",
      "4\n",
      "5\n",
      "6\n",
      "7\n",
      "8\n",
      "9\n",
      "10\n",
      "11\n",
      "12\n",
      "13\n",
      "14\n",
      "15\n",
      "16\n",
      "17\n",
      "18\n",
      "19\n",
      "20\n",
      "\n",
      "INSERT INTO db_mobile_api.tbl_hotkey_mapper (hotkeyid,wap,pos) VALUES\n",
      "(1,2,1),\n",
      "    (2,2,2),\n",
      "    (3,2,3),\n",
      "    (4,2,4),\n",
      "    (5,2,5),\n",
      "    (6,2,6),\n",
      "    (7,2,7),\n",
      "    (8,2,8),\n",
      "    (9,2,9),\n",
      "    (10,2,10),\n",
      "    (11,2,11),\n",
      "    (12,2,12),\n",
      "    (13,2,13),\n",
      "    (14,2,14),\n",
      "    (15,2,15),\n",
      "    (16,2,16),\n",
      "    (17,2,17),\n",
      "    (18,2,18),\n",
      "    (19,2,19),\n",
      "    (20,2,20),\n",
      "    \n"
     ]
    }
   ],
   "source": [
    "import requests\n",
    "import pandas as pd\n",
    "import json\n",
    "# data = requests.get(\"https://win.justdial.com/api/india_api_write/20march2020/hotkeynew.php?ln=en&version=4.1&wap=2&source=2&searchReferrer=gen&utmCampaign=&utm_campaign=&utm_source=&utm_medium=&lat=13.030&long=77.623&enc=1&env=p\")\n",
    "# rows = data.json()['data']\n",
    "\n",
    "file1 = open(\"queries.txt\", \"w\")\n",
    "i=0\n",
    "query1=\"\"\n",
    "query=\"\"\"\n",
    "INSERT INTO db_mobile_api.tbl_hotkey_mapper (hotkeyid,wap,pos) VALUES\n",
    "\"\"\"\n",
    "for i in range(1,21):\n",
    "    query1+=f\"\"\"({i},2,{i}),\n",
    "    \"\"\"\n",
    "    print(i)\n",
    "query = query + query1\n",
    "print(query)\n",
    "file1.writelines(query)\n"
   ]
  },
  {
   "cell_type": "code",
   "execution_count": null,
   "id": "7ee71370",
   "metadata": {},
   "outputs": [],
   "source": []
  }
 ],
 "metadata": {
  "kernelspec": {
   "display_name": "Python 3 (ipykernel)",
   "language": "python",
   "name": "python3"
  },
  "language_info": {
   "codemirror_mode": {
    "name": "ipython",
    "version": 3
   },
   "file_extension": ".py",
   "mimetype": "text/x-python",
   "name": "python",
   "nbconvert_exporter": "python",
   "pygments_lexer": "ipython3",
   "version": "3.9.13"
  }
 },
 "nbformat": 4,
 "nbformat_minor": 5
}
