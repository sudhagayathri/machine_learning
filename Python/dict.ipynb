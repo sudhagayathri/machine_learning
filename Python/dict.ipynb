{
 "cells": [
  {
   "cell_type": "code",
   "execution_count": 1,
   "id": "4e38df81",
   "metadata": {},
   "outputs": [],
   "source": [
    "d3 = {\"id\":4, \"count\":5, \"rows\":[1,2,3]}"
   ]
  },
  {
   "cell_type": "code",
   "execution_count": 2,
   "id": "97264c57",
   "metadata": {},
   "outputs": [
    {
     "name": "stdout",
     "output_type": "stream",
     "text": [
      "ths is sudha working in justdial\n"
     ]
    }
   ],
   "source": [
    "#print formats\n",
    "print('ths is {} working in {}'.format('sudha','justdial'))"
   ]
  },
  {
   "cell_type": "code",
   "execution_count": 3,
   "id": "bd190ee8",
   "metadata": {},
   "outputs": [
    {
     "name": "stdout",
     "output_type": "stream",
     "text": [
      "i'm sudha\n"
     ]
    }
   ],
   "source": [
    "l='sudha'\n",
    "print(f'i\\'m {l}')"
   ]
  },
  {
   "cell_type": "code",
   "execution_count": 4,
   "id": "aba40144",
   "metadata": {},
   "outputs": [
    {
     "name": "stdout",
     "output_type": "stream",
     "text": [
      "this is sudha\n"
     ]
    }
   ],
   "source": [
    "#2 formats\n",
    "print('this is {}'.format('sudha'))"
   ]
  },
  {
   "cell_type": "code",
   "execution_count": 5,
   "id": "bcf287ef",
   "metadata": {},
   "outputs": [
    {
     "name": "stdout",
     "output_type": "stream",
     "text": [
      "this issudha\n"
     ]
    }
   ],
   "source": [
    "x='sudha'\n",
    "print(f'this is{x}')"
   ]
  },
  {
   "cell_type": "code",
   "execution_count": 6,
   "id": "5d48dcbc",
   "metadata": {},
   "outputs": [
    {
     "name": "stdout",
     "output_type": "stream",
     "text": [
      "<class 'dict'>\n"
     ]
    }
   ],
   "source": [
    "print(type(d3))"
   ]
  },
  {
   "cell_type": "code",
   "execution_count": 7,
   "id": "ce4a2263",
   "metadata": {},
   "outputs": [
    {
     "data": {
      "text/plain": [
       "dict_keys(['id', 'count', 'rows'])"
      ]
     },
     "execution_count": 7,
     "metadata": {},
     "output_type": "execute_result"
    }
   ],
   "source": [
    "d3.keys()\n"
   ]
  },
  {
   "cell_type": "code",
   "execution_count": 8,
   "id": "e4504946",
   "metadata": {},
   "outputs": [
    {
     "data": {
      "text/plain": [
       "dict_values([4, 5, [1, 2, 3]])"
      ]
     },
     "execution_count": 8,
     "metadata": {},
     "output_type": "execute_result"
    }
   ],
   "source": [
    "d3.values()\n"
   ]
  },
  {
   "cell_type": "code",
   "execution_count": 9,
   "id": "35eaf053",
   "metadata": {},
   "outputs": [
    {
     "data": {
      "text/plain": [
       "dict_items([('id', 4), ('count', 5), ('rows', [1, 2, 3])])"
      ]
     },
     "execution_count": 9,
     "metadata": {},
     "output_type": "execute_result"
    }
   ],
   "source": [
    "d3.items()"
   ]
  },
  {
   "cell_type": "code",
   "execution_count": 14,
   "id": "7cf3d691",
   "metadata": {},
   "outputs": [
    {
     "name": "stdout",
     "output_type": "stream",
     "text": [
      "id\n",
      "count\n",
      "rows\n"
     ]
    }
   ],
   "source": [
    "for i in d3:\n",
    "    print(i)"
   ]
  },
  {
   "cell_type": "code",
   "execution_count": 11,
   "id": "e5c9d583",
   "metadata": {},
   "outputs": [
    {
     "data": {
      "text/plain": [
       "4"
      ]
     },
     "execution_count": 11,
     "metadata": {},
     "output_type": "execute_result"
    }
   ],
   "source": [
    "d3['id']"
   ]
  },
  {
   "cell_type": "code",
   "execution_count": 12,
   "id": "ff2ea466",
   "metadata": {},
   "outputs": [
    {
     "data": {
      "text/plain": [
       "4"
      ]
     },
     "execution_count": 12,
     "metadata": {},
     "output_type": "execute_result"
    }
   ],
   "source": [
    "d3.get('id')"
   ]
  },
  {
   "cell_type": "code",
   "execution_count": 13,
   "id": "f1e605e2",
   "metadata": {},
   "outputs": [
    {
     "ename": "KeyError",
     "evalue": "'datalen'",
     "output_type": "error",
     "traceback": [
      "\u001b[0;31m---------------------------------------------------------------------------\u001b[0m",
      "\u001b[0;31mKeyError\u001b[0m                                  Traceback (most recent call last)",
      "\u001b[0;32m/tmp/ipykernel_77331/1802102800.py\u001b[0m in \u001b[0;36m<module>\u001b[0;34m\u001b[0m\n\u001b[0;32m----> 1\u001b[0;31m \u001b[0md3\u001b[0m\u001b[0;34m[\u001b[0m\u001b[0;34m'datalen'\u001b[0m\u001b[0;34m]\u001b[0m\u001b[0;34m\u001b[0m\u001b[0;34m\u001b[0m\u001b[0m\n\u001b[0m",
      "\u001b[0;31mKeyError\u001b[0m: 'datalen'"
     ]
    }
   ],
   "source": [
    "d3['datalen']"
   ]
  },
  {
   "cell_type": "code",
   "execution_count": 15,
   "id": "7871141e",
   "metadata": {},
   "outputs": [
    {
     "name": "stdout",
     "output_type": "stream",
     "text": [
      "None\n"
     ]
    }
   ],
   "source": [
    "print(d3.get('datalen'))"
   ]
  },
  {
   "cell_type": "code",
   "execution_count": 16,
   "id": "1dfc62a9",
   "metadata": {},
   "outputs": [
    {
     "name": "stdout",
     "output_type": "stream",
     "text": [
      "0\n"
     ]
    }
   ],
   "source": [
    "print(d3.get('datalen', 0))"
   ]
  },
  {
   "cell_type": "code",
   "execution_count": 17,
   "id": "33c827a5",
   "metadata": {},
   "outputs": [
    {
     "name": "stdout",
     "output_type": "stream",
     "text": [
      "4\n"
     ]
    }
   ],
   "source": [
    "print(d3.get('id', 0))"
   ]
  },
  {
   "cell_type": "code",
   "execution_count": 18,
   "id": "83686ef0",
   "metadata": {},
   "outputs": [
    {
     "data": {
      "text/plain": [
       "{'id': 4, 'count': 5, 'rows': [1, 2, 3]}"
      ]
     },
     "execution_count": 18,
     "metadata": {},
     "output_type": "execute_result"
    }
   ],
   "source": [
    "d3"
   ]
  },
  {
   "cell_type": "code",
   "execution_count": null,
   "id": "16d7b839",
   "metadata": {},
   "outputs": [],
   "source": [
    "'id' in d3"
   ]
  },
  {
   "cell_type": "code",
   "execution_count": null,
   "id": "39f1e40d",
   "metadata": {},
   "outputs": [],
   "source": [
    "4 in d3.values()"
   ]
  },
  {
   "cell_type": "code",
   "execution_count": null,
   "id": "e8712859",
   "metadata": {},
   "outputs": [],
   "source": [
    "6 in d3.values()"
   ]
  },
  {
   "cell_type": "code",
   "execution_count": null,
   "id": "2aa4a48d",
   "metadata": {},
   "outputs": [],
   "source": [
    "('id', 4) in  d3.items()\n"
   ]
  },
  {
   "cell_type": "code",
   "execution_count": null,
   "id": "1f3f38de",
   "metadata": {},
   "outputs": [],
   "source": [
    "d3.pop('id')"
   ]
  },
  {
   "cell_type": "code",
   "execution_count": null,
   "id": "61a4c352",
   "metadata": {},
   "outputs": [],
   "source": [
    "d3"
   ]
  },
  {
   "cell_type": "code",
   "execution_count": null,
   "id": "e1fffaa5",
   "metadata": {},
   "outputs": [],
   "source": [
    "d4 = {'data':[4,3,2], 'column':'new'}"
   ]
  },
  {
   "cell_type": "code",
   "execution_count": null,
   "id": "0bb72a3d",
   "metadata": {},
   "outputs": [],
   "source": [
    "d3+d4"
   ]
  },
  {
   "cell_type": "code",
   "execution_count": null,
   "id": "bcb9aac8",
   "metadata": {},
   "outputs": [],
   "source": [
    "#to append use UPDATE"
   ]
  },
  {
   "cell_type": "code",
   "execution_count": null,
   "id": "fb06379c",
   "metadata": {},
   "outputs": [],
   "source": [
    "d3.update(d4)"
   ]
  },
  {
   "cell_type": "code",
   "execution_count": 19,
   "id": "1b6de043",
   "metadata": {},
   "outputs": [
    {
     "data": {
      "text/plain": [
       "{'id': 4, 'count': 5, 'rows': [1, 2, 3]}"
      ]
     },
     "execution_count": 19,
     "metadata": {},
     "output_type": "execute_result"
    }
   ],
   "source": [
    "d3"
   ]
  },
  {
   "cell_type": "code",
   "execution_count": null,
   "id": "1265a051",
   "metadata": {},
   "outputs": [],
   "source": [
    "d5 = {'count':6}"
   ]
  },
  {
   "cell_type": "code",
   "execution_count": null,
   "id": "ae3b94cd",
   "metadata": {},
   "outputs": [],
   "source": [
    "d3.update(d5)"
   ]
  },
  {
   "cell_type": "code",
   "execution_count": null,
   "id": "14217e05",
   "metadata": {},
   "outputs": [],
   "source": [
    "d3\n"
   ]
  },
  {
   "cell_type": "code",
   "execution_count": null,
   "id": "6244bf09",
   "metadata": {},
   "outputs": [],
   "source": [
    "d2 = d3"
   ]
  },
  {
   "cell_type": "code",
   "execution_count": null,
   "id": "64f047e5",
   "metadata": {},
   "outputs": [],
   "source": [
    "d2"
   ]
  },
  {
   "cell_type": "code",
   "execution_count": null,
   "id": "94d95777",
   "metadata": {},
   "outputs": [],
   "source": [
    "d2['count']= 4"
   ]
  },
  {
   "cell_type": "code",
   "execution_count": null,
   "id": "1527116f",
   "metadata": {},
   "outputs": [],
   "source": [
    "d2"
   ]
  },
  {
   "cell_type": "code",
   "execution_count": null,
   "id": "122164b5",
   "metadata": {},
   "outputs": [],
   "source": [
    "d3"
   ]
  },
  {
   "cell_type": "code",
   "execution_count": 21,
   "id": "cf4ec58d",
   "metadata": {},
   "outputs": [],
   "source": [
    "d5 =d3.copy()\n"
   ]
  },
  {
   "cell_type": "code",
   "execution_count": null,
   "id": "3f88e28e",
   "metadata": {},
   "outputs": [],
   "source": [
    "d5"
   ]
  },
  {
   "cell_type": "code",
   "execution_count": 22,
   "id": "02ad7975",
   "metadata": {},
   "outputs": [],
   "source": [
    "d5['multilevel'] = {5:[1,2,3]}"
   ]
  },
  {
   "cell_type": "code",
   "execution_count": 28,
   "id": "72b5ffc9",
   "metadata": {},
   "outputs": [],
   "source": [
    "d6 = d5.copy()\n",
    "from copy import deepcopy\n",
    "d7 = deepcopy(d5)"
   ]
  },
  {
   "cell_type": "code",
   "execution_count": 29,
   "id": "0c534cbd",
   "metadata": {},
   "outputs": [],
   "source": [
    "d5['multilevel'][5] = [4,5,6]"
   ]
  },
  {
   "cell_type": "code",
   "execution_count": 30,
   "id": "b7d99936",
   "metadata": {},
   "outputs": [
    {
     "data": {
      "text/plain": [
       "{'id': 4, 'count': 5, 'rows': [1, 2, 3], 'multilevel': {5: [4, 5, 6]}}"
      ]
     },
     "execution_count": 30,
     "metadata": {},
     "output_type": "execute_result"
    }
   ],
   "source": [
    "d5"
   ]
  },
  {
   "cell_type": "code",
   "execution_count": 31,
   "id": "57dca57b",
   "metadata": {},
   "outputs": [
    {
     "data": {
      "text/plain": [
       "{'id': 4, 'count': 5, 'rows': [1, 2, 3], 'multilevel': {5: [4, 5, 6]}}"
      ]
     },
     "execution_count": 31,
     "metadata": {},
     "output_type": "execute_result"
    }
   ],
   "source": [
    "d7"
   ]
  },
  {
   "cell_type": "code",
   "execution_count": 32,
   "id": "30da8fcb",
   "metadata": {},
   "outputs": [],
   "source": [
    "d6['multilevel'][5] = [0,1,2]"
   ]
  },
  {
   "cell_type": "code",
   "execution_count": null,
   "id": "ab6ade18",
   "metadata": {},
   "outputs": [],
   "source": [
    "d5"
   ]
  },
  {
   "cell_type": "code",
   "execution_count": 34,
   "id": "0c9ddd22",
   "metadata": {},
   "outputs": [],
   "source": [
    "d7['multilevel'][5] = [11,12,14]"
   ]
  },
  {
   "cell_type": "code",
   "execution_count": 35,
   "id": "46d8bd89",
   "metadata": {},
   "outputs": [
    {
     "data": {
      "text/plain": [
       "{'id': 4, 'count': 5, 'rows': [1, 2, 3], 'multilevel': {5: [11, 12, 14]}}"
      ]
     },
     "execution_count": 35,
     "metadata": {},
     "output_type": "execute_result"
    }
   ],
   "source": [
    "d7"
   ]
  },
  {
   "cell_type": "code",
   "execution_count": 36,
   "id": "5d4938b3",
   "metadata": {},
   "outputs": [
    {
     "data": {
      "text/plain": [
       "{'id': 4, 'count': 5, 'rows': [1, 2, 3], 'multilevel': {5: [0, 1, 2]}}"
      ]
     },
     "execution_count": 36,
     "metadata": {},
     "output_type": "execute_result"
    }
   ],
   "source": [
    "d5"
   ]
  },
  {
   "cell_type": "code",
   "execution_count": null,
   "id": "bc90630e",
   "metadata": {},
   "outputs": [],
   "source": []
  },
  {
   "cell_type": "code",
   "execution_count": null,
   "id": "f77d2d8a",
   "metadata": {},
   "outputs": [],
   "source": [
    "d3"
   ]
  },
  {
   "cell_type": "code",
   "execution_count": null,
   "id": "0090c9d0",
   "metadata": {},
   "outputs": [],
   "source": [
    "d5['count'] = 3"
   ]
  },
  {
   "cell_type": "code",
   "execution_count": null,
   "id": "ed1ac82b",
   "metadata": {},
   "outputs": [],
   "source": [
    "d5"
   ]
  },
  {
   "cell_type": "code",
   "execution_count": null,
   "id": "a004d8ac",
   "metadata": {},
   "outputs": [],
   "source": [
    "d3"
   ]
  },
  {
   "cell_type": "code",
   "execution_count": null,
   "id": "04cbf6b8",
   "metadata": {},
   "outputs": [],
   "source": [
    "#take dict as input\n",
    "d = {}\n",
    "n = int(input('enter the no of pairs u want'))\n",
    "for i in range(n):\n",
    "    a = input('enter the key--')\n",
    "    b = input('enter the value--')\n",
    "    d.update({a:b})\n",
    "print(d)\n"
   ]
  },
  {
   "cell_type": "code",
   "execution_count": 40,
   "id": "6d797682",
   "metadata": {},
   "outputs": [
    {
     "name": "stdout",
     "output_type": "stream",
     "text": [
      "no of keys that u want2\n",
      "enter keyname\n",
      "enter valueram\n",
      "enter keycount\n",
      "enter value2\n",
      "{'name': 'ram', 'count': 2}\n"
     ]
    }
   ],
   "source": [
    "#take dict as ip\n",
    "dict={}\n",
    "n = int(input('no of keys that u want'))\n",
    "for i in range(n):\n",
    "    key = input('enter key')\n",
    "    val = input('enter value')\n",
    "    if val.isdigit():\n",
    "        val=int(val)\n",
    "    dict.update({key:val})\n",
    "print(dict)    "
   ]
  },
  {
   "cell_type": "code",
   "execution_count": null,
   "id": "04f39d9b",
   "metadata": {},
   "outputs": [],
   "source": [
    "#if digit take int as value\n",
    "e={}\n",
    "n = int(input('enter no of pairs'))\n",
    "for i in range(n):\n",
    "    a = input('enter key')\n",
    "    b = input('enter value')\n",
    "    if b.isdigit():\n",
    "        b= int(b)\n",
    "    e.update({a:b})\n",
    "print(e)\n"
   ]
  },
  {
   "cell_type": "code",
   "execution_count": 43,
   "id": "a3af2b12",
   "metadata": {},
   "outputs": [
    {
     "name": "stdout",
     "output_type": "stream",
     "text": [
      "enter no of pairs2\n",
      "enter keyname\n",
      "enter value2+3\n",
      "enter keykey\n",
      "enter value5*8\n",
      "{'name': 5, 'key': 40}\n"
     ]
    }
   ],
   "source": [
    "#if digit take int as value\n",
    "e={}\n",
    "n = int(input('enter no of pairs'))\n",
    "for i in range(n):\n",
    "    a = input('enter key')\n",
    "    b = eval(input('enter value'))\n",
    "    e.update({a:b})\n",
    "print(e)"
   ]
  },
  {
   "cell_type": "code",
   "execution_count": 41,
   "id": "9988fb25",
   "metadata": {},
   "outputs": [
    {
     "name": "stdout",
     "output_type": "stream",
     "text": [
      "{'H': 1, 'e': 1, 'l': 3, 'o': 2, ' ': 1, 'W': 1, 'r': 1, 'd': 1}\n"
     ]
    }
   ],
   "source": [
    "str = 'Hello World'\n",
    "dictcount = {}\n",
    "for i in str:\n",
    "    if dictcount.get(i) != None:\n",
    "        dictcount[i]+=1\n",
    "    else:\n",
    "        dictcount[i]=1\n",
    "print(dictcount)        "
   ]
  },
  {
   "cell_type": "code",
   "execution_count": 37,
   "id": "265251c8",
   "metadata": {},
   "outputs": [
    {
     "name": "stdout",
     "output_type": "stream",
     "text": [
      "H\n",
      "e\n",
      "l\n",
      "l\n",
      "o\n",
      " \n",
      "W\n",
      "o\n",
      "r\n",
      "l\n",
      "d\n",
      "{'H': 1, 'e': 1, 'l': 3, 'o': 2, ' ': 1, 'W': 1, 'r': 1, 'd': 1}\n"
     ]
    }
   ],
   "source": [
    "#count no of character lenght in given word\n",
    "str = 'Hello World'\n",
    "newd = {}\n",
    "for i in str:\n",
    "    print(i)\n",
    "    cnt = 1\n",
    "    if newd.get(i):\n",
    "        cnt += int(newd[i])\n",
    "    newd.update({i:cnt})\n",
    "print(newd)\n"
   ]
  },
  {
   "cell_type": "code",
   "execution_count": null,
   "id": "9d326946",
   "metadata": {},
   "outputs": [],
   "source": [
    "str = 'Hello World'\n",
    "str.count('l')"
   ]
  },
  {
   "cell_type": "code",
   "execution_count": 45,
   "id": "99604e6b",
   "metadata": {},
   "outputs": [
    {
     "name": "stdout",
     "output_type": "stream",
     "text": [
      "{'e', 'd', 'r', 'W', 'o', 'l', 'H', ' '}\n",
      "{'e': 1, 'd': 1, 'r': 1, 'W': 1, 'o': 2, 'l': 3, 'H': 1, ' ': 1}\n"
     ]
    }
   ],
   "source": [
    "str = 'Hello World'\n",
    "newd2= {}\n",
    "unique_str = set(str)\n",
    "print(unique_str)\n",
    "for i in unique_str:\n",
    "    newd2[i] = str.count(i)\n",
    "\n",
    "print(newd2)\n",
    "    "
   ]
  },
  {
   "cell_type": "code",
   "execution_count": null,
   "id": "2a0c2082",
   "metadata": {},
   "outputs": [],
   "source": [
    "from math import cos, sin\n",
    "cos(0)\n",
    "print(sin(0))"
   ]
  },
  {
   "cell_type": "code",
   "execution_count": null,
   "id": "31894589",
   "metadata": {},
   "outputs": [],
   "source": [
    "tan(o)"
   ]
  },
  {
   "cell_type": "code",
   "execution_count": null,
   "id": "930b2da1",
   "metadata": {
    "scrolled": true
   },
   "outputs": [],
   "source": [
    "from math import tan\n",
    "tan(0)\n"
   ]
  },
  {
   "cell_type": "code",
   "execution_count": 46,
   "id": "ca056d7a",
   "metadata": {},
   "outputs": [
    {
     "name": "stdout",
     "output_type": "stream",
     "text": [
      "{'a': 1, 'b': 2}\n"
     ]
    }
   ],
   "source": [
    "d = {'a':1}\n",
    "d['b']= 2\n",
    "print(d)\n"
   ]
  },
  {
   "cell_type": "code",
   "execution_count": 47,
   "id": "7e0ad7ca",
   "metadata": {},
   "outputs": [
    {
     "name": "stdout",
     "output_type": "stream",
     "text": [
      "('AA', 11)\n",
      "('BB', 22)\n",
      "('CC', 33)\n",
      "('DD', 44)\n",
      "after changing order------\n",
      "('AA', 11)\n",
      "('BB', 33)\n",
      "('CC', 33)\n",
      "('DD', 44)\n",
      "\n",
      "('AA', 11)\n",
      "('BB', 22)\n",
      "('CC', 33)\n",
      "('DD', 44)\n"
     ]
    }
   ],
   "source": [
    "import collections\n",
    "#Create normal dict\n",
    "my_dict = {}\n",
    "my_dict['AA'] = 11\n",
    "my_dict['BB'] = 22\n",
    "my_dict['CC'] = 33\n",
    "my_dict['DD'] = 44\n",
    "for item in my_dict.items():\n",
    "   print(item)\n",
    "print('after changing order------')\n",
    "my_dict['BB'] = 33\n",
    "for item in my_dict.items():\n",
    "   print(item)\n",
    "print()\n",
    "#Create ordered dict\n",
    "my_ord_dict = collections.OrderedDict()\n",
    "my_ord_dict['AA'] = 11\n",
    "my_ord_dict['BB'] = 22\n",
    "my_ord_dict['CC'] = 33\n",
    "my_ord_dict['DD'] = 44\n",
    "for item in my_ord_dict.items():\n",
    "   print(item)"
   ]
  },
  {
   "cell_type": "code",
   "execution_count": 48,
   "id": "053dbac1",
   "metadata": {},
   "outputs": [
    {
     "name": "stdout",
     "output_type": "stream",
     "text": [
      "('AA', 11)\n",
      "('BB', 22)\n",
      "('CC', 33)\n",
      "('DD', 44)\n",
      "After changing in Dict\n",
      "('AA', 11)\n",
      "('BB', 100)\n",
      "('CC', 33)\n",
      "('DD', 44)\n",
      "\n",
      "('AA', 11)\n",
      "('BB', 22)\n",
      "('CC', 33)\n",
      "('DD', 44)\n",
      "After changing in Ordered Dict\n",
      "('AA', 11)\n",
      "('BB', 100)\n",
      "('CC', 33)\n",
      "('DD', 44)\n"
     ]
    }
   ],
   "source": [
    "import collections\n",
    "#Create normal dict\n",
    "my_dict = {}\n",
    "my_dict['AA'] = 11\n",
    "my_dict['BB'] = 22\n",
    "my_dict['CC'] = 33\n",
    "my_dict['DD'] = 44\n",
    "for item in my_dict.items():\n",
    "   print(item)\n",
    "#Change the value for key BB\n",
    "my_dict['BB'] = 100\n",
    "print('After changing in Dict')\n",
    "for item in my_dict.items():\n",
    "   print(item)\n",
    "print()\n",
    "#Create ordered dict\n",
    "my_ord_dict = collections.OrderedDict()\n",
    "my_ord_dict['AA'] = 11\n",
    "my_ord_dict['BB'] = 22\n",
    "my_ord_dict['CC'] = 33\n",
    "my_ord_dict['DD'] = 44\n",
    "for item in my_ord_dict.items():\n",
    "   print(item)\n",
    "#Change the value for key BB\n",
    "my_ord_dict['BB'] = 100\n",
    "print('After changing in Ordered Dict')\n",
    "for item in my_ord_dict.items():\n",
    "   print(item)"
   ]
  },
  {
   "cell_type": "code",
   "execution_count": 49,
   "id": "7fafc395",
   "metadata": {},
   "outputs": [
    {
     "name": "stdout",
     "output_type": "stream",
     "text": [
      "{3: 'Monday', 'a': 'Tuesday'}\n"
     ]
    }
   ],
   "source": [
    "myDict = {3:'Monday','a':'Tuesday'}\n",
    "print(myDict)"
   ]
  },
  {
   "cell_type": "code",
   "execution_count": 50,
   "id": "f56a9c5d",
   "metadata": {},
   "outputs": [
    {
     "ename": "TypeError",
     "evalue": "'dict' object is not callable",
     "output_type": "error",
     "traceback": [
      "\u001b[0;31m---------------------------------------------------------------------------\u001b[0m",
      "\u001b[0;31mTypeError\u001b[0m                                 Traceback (most recent call last)",
      "\u001b[0;32m/tmp/ipykernel_77331/964046018.py\u001b[0m in \u001b[0;36m<module>\u001b[0;34m\u001b[0m\n\u001b[0;32m----> 1\u001b[0;31m \u001b[0mmy_dict\u001b[0m \u001b[0;34m=\u001b[0m \u001b[0mdict\u001b[0m\u001b[0;34m(\u001b[0m\u001b[0menumerate\u001b[0m\u001b[0;34m(\u001b[0m\u001b[0;34m'This is Python class'\u001b[0m\u001b[0;34m)\u001b[0m\u001b[0;34m)\u001b[0m\u001b[0;34m\u001b[0m\u001b[0;34m\u001b[0m\u001b[0m\n\u001b[0m\u001b[1;32m      2\u001b[0m \u001b[0mprint\u001b[0m\u001b[0;34m(\u001b[0m\u001b[0mmy_dict\u001b[0m\u001b[0;34m)\u001b[0m\u001b[0;34m\u001b[0m\u001b[0;34m\u001b[0m\u001b[0m\n",
      "\u001b[0;31mTypeError\u001b[0m: 'dict' object is not callable"
     ]
    }
   ],
   "source": [
    "my_dict = dict(enumerate('This is Python class'))\n",
    "print(my_dict)"
   ]
  },
  {
   "cell_type": "code",
   "execution_count": 51,
   "id": "d8476842",
   "metadata": {},
   "outputs": [],
   "source": [
    "d5={'ki':'gh', 'name':'sudha'}"
   ]
  },
  {
   "cell_type": "code",
   "execution_count": 52,
   "id": "5b9a03a0",
   "metadata": {},
   "outputs": [
    {
     "data": {
      "text/plain": [
       "'gh'"
      ]
     },
     "execution_count": 52,
     "metadata": {},
     "output_type": "execute_result"
    }
   ],
   "source": [
    "d5.setdefault('ki', 'jj')"
   ]
  },
  {
   "cell_type": "code",
   "execution_count": 53,
   "id": "eda9c706",
   "metadata": {},
   "outputs": [
    {
     "data": {
      "text/plain": [
       "'here'"
      ]
     },
     "execution_count": 53,
     "metadata": {},
     "output_type": "execute_result"
    }
   ],
   "source": [
    "d5.setdefault('data', 'here')"
   ]
  },
  {
   "cell_type": "code",
   "execution_count": null,
   "id": "4ff36223",
   "metadata": {},
   "outputs": [],
   "source": [
    "d5"
   ]
  },
  {
   "cell_type": "code",
   "execution_count": 55,
   "id": "bd2f57ed",
   "metadata": {},
   "outputs": [
    {
     "data": {
      "text/plain": [
       "'there'"
      ]
     },
     "execution_count": 55,
     "metadata": {},
     "output_type": "execute_result"
    }
   ],
   "source": [
    "d5.setdefault('newdata','there')"
   ]
  },
  {
   "cell_type": "code",
   "execution_count": 54,
   "id": "f2fe167c",
   "metadata": {},
   "outputs": [
    {
     "data": {
      "text/plain": [
       "{'ki': 'gh', 'name': 'sudha', 'data': 'here'}"
      ]
     },
     "execution_count": 54,
     "metadata": {},
     "output_type": "execute_result"
    }
   ],
   "source": [
    "d5"
   ]
  },
  {
   "cell_type": "code",
   "execution_count": null,
   "id": "75ab1896",
   "metadata": {},
   "outputs": [],
   "source": []
  }
 ],
 "metadata": {
  "kernelspec": {
   "display_name": "Python 3 (ipykernel)",
   "language": "python",
   "name": "python3"
  },
  "language_info": {
   "codemirror_mode": {
    "name": "ipython",
    "version": 3
   },
   "file_extension": ".py",
   "mimetype": "text/x-python",
   "name": "python",
   "nbconvert_exporter": "python",
   "pygments_lexer": "ipython3",
   "version": "3.9.13"
  }
 },
 "nbformat": 4,
 "nbformat_minor": 5
}
