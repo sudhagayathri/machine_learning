{
 "cells": [
  {
   "cell_type": "code",
   "execution_count": 1,
   "id": "714926a8",
   "metadata": {},
   "outputs": [
    {
     "name": "stdout",
     "output_type": "stream",
     "text": [
      "3\n",
      "1\n"
     ]
    }
   ],
   "source": [
    "def MeanMode(arr):\n",
    "    #mode\n",
    "    modedict = {}\n",
    "    mean= sum(arr)/len(arr)\n",
    "    lar=0\n",
    "    mode = 0\n",
    "    for i in arr:\n",
    "        if i not in modedict:\n",
    "            modedict[i] = 1\n",
    "        else:\n",
    "            modedict[i] += 1\n",
    "        if modedict[i]>lar:\n",
    "            lar=modedict[i]\n",
    "            mode=i\n",
    "    print(mode)\n",
    "    if mean==mode:\n",
    "        return 1\n",
    "    else:\n",
    "        return 0\n",
    "    \n",
    "arr = [5,3,3,3,1]\n",
    "print(MeanMode(arr))\n",
    "    "
   ]
  },
  {
   "cell_type": "code",
   "execution_count": 9,
   "id": "f5e9670d",
   "metadata": {},
   "outputs": [
    {
     "name": "stdout",
     "output_type": "stream",
     "text": [
      "shit\n",
      "<built-in method get of dict object at 0x7f903464d700>\n",
      "3\n",
      "0\n"
     ]
    }
   ],
   "source": [
    "def mean_mode(l1):\n",
    "    mean=sum(l1)/len(l1)\n",
    "    num_count={}\n",
    "    for i in l1:\n",
    "        if i in num_count:\n",
    "            num_count[i] += 1\n",
    "        else:\n",
    "            num_count[i] = 1\n",
    "    mode = max(num_count, key=num_count.get)\n",
    "    print('shit')\n",
    "    print(num_count.get)\n",
    "    print(max(num_count, key=num_count.get))\n",
    "    if mode == mean:\n",
    "        return 1\n",
    "    else:\n",
    "        return 0\n",
    "arr = [5,3,3,3,1,1]\n",
    "print(mean_mode(arr))"
   ]
  },
  {
   "cell_type": "code",
   "execution_count": null,
   "id": "223225f6",
   "metadata": {},
   "outputs": [],
   "source": []
  }
 ],
 "metadata": {
  "kernelspec": {
   "display_name": "Python 3 (ipykernel)",
   "language": "python",
   "name": "python3"
  },
  "language_info": {
   "codemirror_mode": {
    "name": "ipython",
    "version": 3
   },
   "file_extension": ".py",
   "mimetype": "text/x-python",
   "name": "python",
   "nbconvert_exporter": "python",
   "pygments_lexer": "ipython3",
   "version": "3.9.13"
  }
 },
 "nbformat": 4,
 "nbformat_minor": 5
}
