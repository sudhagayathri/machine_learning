{
 "cells": [
  {
   "cell_type": "code",
   "execution_count": 19,
   "id": "18092c2a",
   "metadata": {},
   "outputs": [
    {
     "name": "stdout",
     "output_type": "stream",
     "text": [
      "<class 'list'>\n",
      "1\n",
      "2\n",
      "3\n",
      "4\n",
      "5\n",
      "6\n",
      "7\n",
      "8\n",
      "9\n",
      "10\n",
      "11\n",
      "12\n",
      "13\n",
      "14\n",
      "15\n",
      "16\n",
      "17\n",
      "18\n",
      "19\n",
      "20\n"
     ]
    }
   ],
   "source": [
    "import requests\n",
    "import pandas as pd\n",
    "import json\n",
    "data = requests.get(\"https://win.justdial.com/api/india_api_write/20march2020/hotkeynew.php?ln=en&version=4.1&wap=2&source=2&searchReferrer=gen&utmCampaign=&utm_campaign=&utm_source=&utm_medium=&lat=13.030&long=77.623&enc=1&env=p\")\n",
    "rows = data.json()[\"data\"]\n",
    "print(type(rows))\n",
    "query1=\"\"\n",
    "query=\"\"\"\n",
    "    INSERT INTO db_mobile_api.tbl_hotkeys (name,data) VALUES\n",
    "    \"\"\"\n",
    "file1 = open(\"queries2.txt\", \"w\")\n",
    "file1.writelines(query)\n",
    "i=0\n",
    "for row in rows:\n",
    "    query1=f\"\"\"(\"{row[\"name\"]}\",\"{row}\"),\n",
    "    \"\"\"\n",
    "    i += 1\n",
    "    print(i)\n",
    "    file1.writelines(query1)\n",
    "#query = query + query1\n",
    "#file1.writelines(query)\n"
   ]
  },
  {
   "cell_type": "code",
   "execution_count": 22,
   "id": "c825eddc",
   "metadata": {},
   "outputs": [
    {
     "name": "stdout",
     "output_type": "stream",
     "text": [
      "<class 'list'>\n",
      "2\n",
      "3\n",
      "4\n",
      "5\n",
      "6\n",
      "7\n",
      "8\n",
      "9\n",
      "10\n",
      "11\n",
      "12\n",
      "13\n",
      "14\n",
      "15\n",
      "16\n",
      "17\n",
      "18\n",
      "19\n",
      "20\n",
      "21\n",
      "\n",
      "    INSERT INTO db_mobile_api.tbl_hotkey_mapper (hotkeyid,wap,pos) VALUES\n",
      "    (22,2,1),\n",
      "    (23,2,2),\n",
      "    (24,2,3),\n",
      "    (25,2,4),\n",
      "    (26,2,5),\n",
      "    (27,2,6),\n",
      "    (28,2,7),\n",
      "    (29,2,8),\n",
      "    (30,2,9),\n",
      "    (31,2,10),\n",
      "    (32,2,11),\n",
      "    (33,2,12),\n",
      "    (34,2,13),\n",
      "    (35,2,14),\n",
      "    (36,2,15),\n",
      "    (37,2,16),\n",
      "    (38,2,17),\n",
      "    (39,2,18),\n",
      "    (40,2,19),\n",
      "    (41,2,20),\n",
      "    \n"
     ]
    }
   ],
   "source": [
    "import requests\n",
    "import pandas as pd\n",
    "import json\n",
    "data = requests.get(\"https://win.justdial.com/api/india_api_write/20march2020/hotkeynew.php?ln=en&version=4.1&wap=2&source=2&searchReferrer=gen&utmCampaign=&utm_campaign=&utm_source=&utm_medium=&lat=13.030&long=77.623&enc=1&env=p\")\n",
    "rows = data.json()[\"data\"]\n",
    "print(type(rows))\n",
    "query1=\"\"\n",
    "query=\"\"\"\n",
    "    INSERT INTO db_mobile_api.tbl_hotkey_mapper (hotkeyid,wap,pos) VALUES\n",
    "    \"\"\"\n",
    "j=1\n",
    "for i in range(22,42):\n",
    "    query1+=f\"\"\"({i},2,{j}),\n",
    "    \"\"\"\n",
    "    j += 1\n",
    "    print(j)\n",
    "query = query + query1\n",
    "print(query)\n",
    "#file1.writelines(query)\n"
   ]
  },
  {
   "cell_type": "code",
   "execution_count": 25,
   "id": "cee3b44a",
   "metadata": {},
   "outputs": [
    {
     "name": "stdout",
     "output_type": "stream",
     "text": [
      "<class 'list'>\n",
      "<class 'dict'>\n",
      "1\n",
      "<class 'dict'>\n",
      "2\n",
      "<class 'dict'>\n",
      "3\n",
      "<class 'dict'>\n",
      "4\n",
      "<class 'dict'>\n",
      "5\n"
     ]
    }
   ],
   "source": [
    "import requests\n",
    "import pandas as pd\n",
    "import json\n",
    "data = requests.get(\"https://win.justdial.com/api/india_api_write/20march2020/footerelement.php?ln=en&city=Bangalore&area=Shampura&lat=13.026&long=77.617&dcity=Bangalore&wap=2&source=2&version=4.1&searchReferrer=gen&utmCampaign=&utm_campaign=&utm_source=&utm_medium=&enc=1&env=p\")\n",
    "rows = data.json()[\"results\"]\n",
    "print(type(rows))\n",
    "query1=\"\"\n",
    "query=\"\"\"\n",
    "    INSERT INTO db_mobile_api.tbl_footerelement (name,maindata) VALUES\n",
    "    \"\"\"\n",
    "query2=\"\"\"\n",
    "    INSERT INTO db_mobile_api.tbl_footerelement_data (name,maindata) VALUES\n",
    "    \"\"\"\n",
    "file1 = open(\"queries2.txt\", \"w\")\n",
    "file1.writelines(query)\n",
    "i=0\n",
    "for row in rows:\n",
    "    subdata = row.pop('data')\n",
    "    query1=f\"\"\"(\"{row[\"name\"]}\",\"{row}\"),\n",
    "    \"\"\"\n",
    "    if len(subdata) > 0:\n",
    "        \n",
    "        \n",
    "    i += 1\n",
    "    print(i)\n",
    "    file1.writelines(query1)\n",
    "#query = query + query1\n",
    "#file1.writelines(query)\n"
   ]
  },
  {
   "cell_type": "code",
   "execution_count": 23,
   "id": "9e82b00d",
   "metadata": {},
   "outputs": [],
   "source": [
    "lst=[1,2,3,4]\n",
    "lst.remove(2)"
   ]
  },
  {
   "cell_type": "code",
   "execution_count": 24,
   "id": "618ef348",
   "metadata": {},
   "outputs": [
    {
     "data": {
      "text/plain": [
       "[1, 3, 4]"
      ]
     },
     "execution_count": 24,
     "metadata": {},
     "output_type": "execute_result"
    }
   ],
   "source": [
    "lst"
   ]
  },
  {
   "cell_type": "code",
   "execution_count": null,
   "id": "dc176552",
   "metadata": {},
   "outputs": [],
   "source": []
  }
 ],
 "metadata": {
  "kernelspec": {
   "display_name": "Python 3 (ipykernel)",
   "language": "python",
   "name": "python3"
  },
  "language_info": {
   "codemirror_mode": {
    "name": "ipython",
    "version": 3
   },
   "file_extension": ".py",
   "mimetype": "text/x-python",
   "name": "python",
   "nbconvert_exporter": "python",
   "pygments_lexer": "ipython3",
   "version": "3.9.13"
  }
 },
 "nbformat": 4,
 "nbformat_minor": 5
}
