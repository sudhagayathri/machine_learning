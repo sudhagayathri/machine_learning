{
 "cells": [
  {
   "cell_type": "code",
   "execution_count": 19,
   "id": "6a3e948e",
   "metadata": {},
   "outputs": [],
   "source": [
    "import requests\n",
    "import pandas as pd\n",
    "import json\n",
    "# data = requests.get(\"https://win.justdial.com/api/india_api_write/20march2020/hotkeynew.php?ln=en&version=4.1&wap=2&source=2&searchReferrer=gen&utmCampaign=&utm_campaign=&utm_source=&utm_medium=&lat=13.030&long=77.623&enc=1&env=p\")\n",
    "# rows = data.json()['data']\n",
    "\n",
    "file1 = open(\"queries.txt\", \"w\")\n",
    "i=0\n",
    "query1=\"\"\n",
    "query=\"\"\"\n",
    "INSERT INTO db_mobile_api.tbl_hotkey_mapper (hotkeyid,wap,pos) VALUES\n",
    "\"\"\"\n",
    "for i in range(1,21):\n",
    "    query1+=f\"\"\"(i,2,i),\n",
    "    \"\"\"\n",
    "    print(i)\n",
    "query = query + query1\n",
    "file1.writelines(query)\n"
   ]
  },
  {
   "cell_type": "code",
   "execution_count": null,
   "id": "7ee71370",
   "metadata": {},
   "outputs": [],
   "source": []
  }
 ],
 "metadata": {
  "kernelspec": {
   "display_name": "Python 3 (ipykernel)",
   "language": "python",
   "name": "python3"
  },
  "language_info": {
   "codemirror_mode": {
    "name": "ipython",
    "version": 3
   },
   "file_extension": ".py",
   "mimetype": "text/x-python",
   "name": "python",
   "nbconvert_exporter": "python",
   "pygments_lexer": "ipython3",
   "version": "3.9.13"
  }
 },
 "nbformat": 4,
 "nbformat_minor": 5
}
