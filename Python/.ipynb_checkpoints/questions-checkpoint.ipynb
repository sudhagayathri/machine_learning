{
 "cells": [
  {
   "cell_type": "code",
   "execution_count": 14,
   "id": "1f71bff9",
   "metadata": {},
   "outputs": [
    {
     "name": "stdout",
     "output_type": "stream",
     "text": [
      "15\n",
      "3\n",
      "1\n"
     ]
    }
   ],
   "source": [
    "def MeanMode(arr):\n",
    "    #mode\n",
    "    sum = 0\n",
    "    modedict = {}\n",
    "    print(sum(arr)\n",
    "    lar=0\n",
    "    mode = 0\n",
    "    for i in arr:\n",
    "        sum += i\n",
    "        if i not in modedict:\n",
    "            modedict[i] = 1\n",
    "        else:\n",
    "            modedict[i] += 1\n",
    "        if modedict[i]>lar:\n",
    "            lar=modedict[i]\n",
    "            mode=i\n",
    "    mean= sum/len(arr)\n",
    "    print(mode)\n",
    "    if mean==mode:\n",
    "        return 1\n",
    "    else:\n",
    "        return 0\n",
    "    \n",
    "arr = [5,3,3,3,1]\n",
    "print(MeanMode(arr))\n",
    "    "
   ]
  },
  {
   "cell_type": "code",
   "execution_count": null,
   "id": "37f18879",
   "metadata": {},
   "outputs": [],
   "source": []
  }
 ],
 "metadata": {
  "kernelspec": {
   "display_name": "Python 3 (ipykernel)",
   "language": "python",
   "name": "python3"
  },
  "language_info": {
   "codemirror_mode": {
    "name": "ipython",
    "version": 3
   },
   "file_extension": ".py",
   "mimetype": "text/x-python",
   "name": "python",
   "nbconvert_exporter": "python",
   "pygments_lexer": "ipython3",
   "version": "3.9.13"
  }
 },
 "nbformat": 4,
 "nbformat_minor": 5
}
