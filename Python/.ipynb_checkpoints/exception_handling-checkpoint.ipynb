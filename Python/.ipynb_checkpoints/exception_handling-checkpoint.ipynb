{
 "cells": [
  {
   "cell_type": "code",
   "execution_count": 8,
   "id": "68f5c208",
   "metadata": {},
   "outputs": [],
   "source": [
    "def ecptn():\n",
    "    try:\n",
    "        a=int(input('enter numerator'))\n",
    "        b=int(input('enter denom'))\n",
    "        c=a/b\n",
    "    except ZeroDivisionError:\n",
    "        print('div vby 0')\n",
    "    except Exception(e):\n",
    "        print(\"came here  \"+e)\n",
    "    else:\n",
    "        print(c)\n",
    "    finally:\n",
    "        print('done')\n",
    "    "
   ]
  },
  {
   "cell_type": "code",
   "execution_count": 2,
   "id": "e6998b98",
   "metadata": {},
   "outputs": [
    {
     "name": "stdout",
     "output_type": "stream",
     "text": [
      "came here\n",
      "enter numerator10\n",
      "enter denomx\n",
      "val error\n",
      "done\n"
     ]
    }
   ],
   "source": [
    "a = ecptn()"
   ]
  },
  {
   "cell_type": "code",
   "execution_count": 3,
   "id": "2fdf6c4e",
   "metadata": {},
   "outputs": [],
   "source": [
    "def naime():\n",
    "    print('here')"
   ]
  },
  {
   "cell_type": "code",
   "execution_count": 4,
   "id": "39211e1c",
   "metadata": {},
   "outputs": [
    {
     "name": "stdout",
     "output_type": "stream",
     "text": [
      "here\n",
      "None\n"
     ]
    }
   ],
   "source": [
    "x = naime()\n",
    "print(x)"
   ]
  },
  {
   "cell_type": "code",
   "execution_count": null,
   "id": "059c754f",
   "metadata": {},
   "outputs": [],
   "source": []
  }
 ],
 "metadata": {
  "kernelspec": {
   "display_name": "Python 3 (ipykernel)",
   "language": "python",
   "name": "python3"
  },
  "language_info": {
   "codemirror_mode": {
    "name": "ipython",
    "version": 3
   },
   "file_extension": ".py",
   "mimetype": "text/x-python",
   "name": "python",
   "nbconvert_exporter": "python",
   "pygments_lexer": "ipython3",
   "version": "3.9.13"
  }
 },
 "nbformat": 4,
 "nbformat_minor": 5
}
