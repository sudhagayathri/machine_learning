{
 "cells": [
  {
   "cell_type": "code",
   "execution_count": 1,
   "id": "6b36ea0d",
   "metadata": {},
   "outputs": [],
   "source": [
    "l1 = [20,30, 'a', 'b']"
   ]
  },
  {
   "cell_type": "code",
   "execution_count": 2,
   "id": "9b1f8c9b",
   "metadata": {},
   "outputs": [
    {
     "data": {
      "text/plain": [
       "4"
      ]
     },
     "execution_count": 2,
     "metadata": {},
     "output_type": "execute_result"
    }
   ],
   "source": [
    "len(l1)"
   ]
  },
  {
   "cell_type": "code",
   "execution_count": 3,
   "id": "0f96c742",
   "metadata": {},
   "outputs": [
    {
     "ename": "TypeError",
     "evalue": "can only concatenate list (not \"int\") to list",
     "output_type": "error",
     "traceback": [
      "\u001b[0;31m---------------------------------------------------------------------------\u001b[0m",
      "\u001b[0;31mTypeError\u001b[0m                                 Traceback (most recent call last)",
      "\u001b[0;32m/tmp/ipykernel_104298/2935075914.py\u001b[0m in \u001b[0;36m<module>\u001b[0;34m\u001b[0m\n\u001b[0;32m----> 1\u001b[0;31m \u001b[0ml1\u001b[0m\u001b[0;34m+\u001b[0m\u001b[0;36m20\u001b[0m\u001b[0;34m\u001b[0m\u001b[0;34m\u001b[0m\u001b[0m\n\u001b[0m",
      "\u001b[0;31mTypeError\u001b[0m: can only concatenate list (not \"int\") to list"
     ]
    }
   ],
   "source": [
    "l1+20"
   ]
  },
  {
   "cell_type": "code",
   "execution_count": 5,
   "id": "084ac282",
   "metadata": {},
   "outputs": [
    {
     "data": {
      "text/plain": [
       "[2, 2, 3, 4, 20]"
      ]
     },
     "execution_count": 5,
     "metadata": {},
     "output_type": "execute_result"
    }
   ],
   "source": [
    "l2=[2,2,3,4]\n",
    "l2+[20]"
   ]
  },
  {
   "cell_type": "code",
   "execution_count": 6,
   "id": "2e4a28f7",
   "metadata": {},
   "outputs": [
    {
     "data": {
      "text/plain": [
       "[2, 2, 3, 4, 2, 2, 3, 4]"
      ]
     },
     "execution_count": 6,
     "metadata": {},
     "output_type": "execute_result"
    }
   ],
   "source": [
    "l2*2 //repeat data\n"
   ]
  },
  {
   "cell_type": "code",
   "execution_count": 7,
   "id": "1aabdba8",
   "metadata": {},
   "outputs": [
    {
     "data": {
      "text/plain": [
       "True"
      ]
     },
     "execution_count": 7,
     "metadata": {},
     "output_type": "execute_result"
    }
   ],
   "source": [
    "2 in l2"
   ]
  },
  {
   "cell_type": "code",
   "execution_count": 8,
   "id": "f79d4f53",
   "metadata": {},
   "outputs": [
    {
     "data": {
      "text/plain": [
       "False"
      ]
     },
     "execution_count": 8,
     "metadata": {},
     "output_type": "execute_result"
    }
   ],
   "source": [
    "5 in l2"
   ]
  },
  {
   "cell_type": "code",
   "execution_count": 9,
   "id": "633c0efc",
   "metadata": {},
   "outputs": [
    {
     "data": {
      "text/plain": [
       "[20, 30, 'a', 'b', 30]"
      ]
     },
     "execution_count": 9,
     "metadata": {},
     "output_type": "execute_result"
    }
   ],
   "source": [
    "l1+[30]"
   ]
  },
  {
   "cell_type": "code",
   "execution_count": 10,
   "id": "57bb2a88",
   "metadata": {},
   "outputs": [
    {
     "data": {
      "text/plain": [
       "[2, 2, 3]"
      ]
     },
     "execution_count": 10,
     "metadata": {},
     "output_type": "execute_result"
    }
   ],
   "source": [
    "l2[:-1]"
   ]
  },
  {
   "cell_type": "code",
   "execution_count": 11,
   "id": "9d6b29ab",
   "metadata": {},
   "outputs": [
    {
     "data": {
      "text/plain": [
       "[2, 2, 3, 4]"
      ]
     },
     "execution_count": 11,
     "metadata": {},
     "output_type": "execute_result"
    }
   ],
   "source": [
    "l2"
   ]
  },
  {
   "cell_type": "code",
   "execution_count": 12,
   "id": "143071ee",
   "metadata": {},
   "outputs": [
    {
     "data": {
      "text/plain": [
       "4"
      ]
     },
     "execution_count": 12,
     "metadata": {},
     "output_type": "execute_result"
    }
   ],
   "source": [
    "l2[-1]"
   ]
  },
  {
   "cell_type": "code",
   "execution_count": 14,
   "id": "0c891d7c",
   "metadata": {},
   "outputs": [
    {
     "data": {
      "text/plain": [
       "[2]"
      ]
     },
     "execution_count": 14,
     "metadata": {},
     "output_type": "execute_result"
    }
   ],
   "source": [
    "l3=l2[:-2]\n",
    "l3\n",
    "l4=l2[:1]\n",
    "l4"
   ]
  },
  {
   "cell_type": "code",
   "execution_count": 18,
   "id": "4268a299",
   "metadata": {},
   "outputs": [
    {
     "name": "stdout",
     "output_type": "stream",
     "text": [
      "[2, 3, 4, 5, 6]\n",
      "[4, 5, 6, 7, 8]\n",
      "[1, 2, 3, 4]\n",
      "[2, 4]\n",
      "[1, 3, 5, 7]\n",
      "[8, 7, 6, 5, 4, 3, 2, 1]\n",
      "[3, 4, 5, 6, 7, 8]\n",
      "[7, 8]\n"
     ]
    }
   ],
   "source": [
    "a4=[1,2,3,4,5,6,7,8]\n",
    "#a4[1:2:3] - start:end:jump\n",
    "print(a4[1:6])\n",
    "print(a4[3:]) #only start\n",
    "print(a4[:4])\n",
    "print(a4[1:5:2])\n",
    "print(a4[::2])\n",
    "print(a4[::-1])\n",
    "print(a4[2::])\n",
    "print(a4[-2:])"
   ]
  },
  {
   "cell_type": "code",
   "execution_count": 20,
   "id": "e6afa325",
   "metadata": {},
   "outputs": [
    {
     "data": {
      "text/plain": [
       "[8, 3, 2, 8, 0, 6, 4, 3, 7, 9]"
      ]
     },
     "execution_count": 20,
     "metadata": {},
     "output_type": "execute_result"
    }
   ],
   "source": [
    "l2=[9, 7, 3, 4, 6, 0, 8, 2, 3, 8]\n",
    "l2[-1::-1]"
   ]
  },
  {
   "cell_type": "code",
   "execution_count": 21,
   "id": "4c1ce209",
   "metadata": {},
   "outputs": [],
   "source": [
    "l2.append(9)"
   ]
  },
  {
   "cell_type": "code",
   "execution_count": 22,
   "id": "1741d6f8",
   "metadata": {},
   "outputs": [
    {
     "data": {
      "text/plain": [
       "[9, 7, 3, 4, 6, 0, 8, 2, 3, 8, 9]"
      ]
     },
     "execution_count": 22,
     "metadata": {},
     "output_type": "execute_result"
    }
   ],
   "source": [
    "l2"
   ]
  },
  {
   "cell_type": "code",
   "execution_count": 23,
   "id": "d9d447a8",
   "metadata": {},
   "outputs": [],
   "source": [
    "#extend for array merge\n",
    "l2.extend([2,1])"
   ]
  },
  {
   "cell_type": "code",
   "execution_count": 24,
   "id": "73efac11",
   "metadata": {},
   "outputs": [
    {
     "data": {
      "text/plain": [
       "[9, 7, 3, 4, 6, 0, 8, 2, 3, 8, 9, 2, 1]"
      ]
     },
     "execution_count": 24,
     "metadata": {},
     "output_type": "execute_result"
    }
   ],
   "source": [
    "l2\n"
   ]
  },
  {
   "cell_type": "code",
   "execution_count": 27,
   "id": "d844714b",
   "metadata": {},
   "outputs": [],
   "source": [
    "l2.remove(9)"
   ]
  },
  {
   "cell_type": "code",
   "execution_count": 28,
   "id": "bdacbcbd",
   "metadata": {},
   "outputs": [
    {
     "data": {
      "text/plain": [
       "[7, 3, 4, 6, 0, 8, 2, 3, 8, 9, 2]"
      ]
     },
     "execution_count": 28,
     "metadata": {},
     "output_type": "execute_result"
    }
   ],
   "source": [
    "l2"
   ]
  },
  {
   "cell_type": "code",
   "execution_count": 30,
   "id": "5da8bb62",
   "metadata": {},
   "outputs": [],
   "source": [
    "l2.append(9)"
   ]
  },
  {
   "cell_type": "code",
   "execution_count": 31,
   "id": "7acebe65",
   "metadata": {},
   "outputs": [
    {
     "data": {
      "text/plain": [
       "[7, 3, 4, 6, 0, 8, 2, 3, 8, 9, 2, 9]"
      ]
     },
     "execution_count": 31,
     "metadata": {},
     "output_type": "execute_result"
    }
   ],
   "source": [
    "l2"
   ]
  },
  {
   "cell_type": "code",
   "execution_count": 32,
   "id": "959b12e2",
   "metadata": {},
   "outputs": [],
   "source": [
    "while 9 in l2:\n",
    "    l2.remove(9)"
   ]
  },
  {
   "cell_type": "code",
   "execution_count": 33,
   "id": "22a39749",
   "metadata": {},
   "outputs": [
    {
     "data": {
      "text/plain": [
       "[7, 3, 4, 6, 0, 8, 2, 3, 8, 2]"
      ]
     },
     "execution_count": 33,
     "metadata": {},
     "output_type": "execute_result"
    }
   ],
   "source": [
    "l2"
   ]
  },
  {
   "cell_type": "code",
   "execution_count": 34,
   "id": "b817d7bf",
   "metadata": {},
   "outputs": [
    {
     "data": {
      "text/plain": [
       "1"
      ]
     },
     "execution_count": 34,
     "metadata": {},
     "output_type": "execute_result"
    }
   ],
   "source": [
    "k2= [10, 2, 0, 9, 10, 10, 10, 4, 1]\n",
    "k2.pop()\n"
   ]
  },
  {
   "cell_type": "code",
   "execution_count": 35,
   "id": "27f5ccae",
   "metadata": {},
   "outputs": [
    {
     "data": {
      "text/plain": [
       "[10, 2, 0, 9, 10, 10, 10, 4]"
      ]
     },
     "execution_count": 35,
     "metadata": {},
     "output_type": "execute_result"
    }
   ],
   "source": [
    "k2"
   ]
  },
  {
   "cell_type": "code",
   "execution_count": 36,
   "id": "08b9a107",
   "metadata": {},
   "outputs": [
    {
     "data": {
      "text/plain": [
       "10"
      ]
     },
     "execution_count": 36,
     "metadata": {},
     "output_type": "execute_result"
    }
   ],
   "source": [
    "k2.pop(4) #deletes by index"
   ]
  },
  {
   "cell_type": "code",
   "execution_count": 45,
   "id": "e3e72137",
   "metadata": {},
   "outputs": [
    {
     "data": {
      "text/plain": [
       "[10, 10, 10, 9, 4, 2, 0]"
      ]
     },
     "execution_count": 45,
     "metadata": {},
     "output_type": "execute_result"
    }
   ],
   "source": [
    "v=k2.sort()\n",
    "k2.reverse()\n",
    "k2\n"
   ]
  },
  {
   "cell_type": "code",
   "execution_count": 47,
   "id": "138d21c3",
   "metadata": {},
   "outputs": [
    {
     "name": "stdout",
     "output_type": "stream",
     "text": [
      "20\n",
      "20\n",
      "20\n",
      "18\n",
      "8\n",
      "4\n",
      "0\n"
     ]
    }
   ],
   "source": [
    "for i in k2:\n",
    "    print(i * 2)"
   ]
  },
  {
   "cell_type": "code",
   "execution_count": null,
   "id": "40d28844",
   "metadata": {},
   "outputs": [],
   "source": [
    "l3 = []\n",
    "for i in l1:\n",
    "    if i % 2 == 0:\n",
    "        l3.append(i**2)\n",
    "    else:\n",
    "        l3.append(i**3)\n",
    "        \n",
    "print(l3)"
   ]
  },
  {
   "cell_type": "code",
   "execution_count": 50,
   "id": "e517bf15",
   "metadata": {},
   "outputs": [
    {
     "data": {
      "text/plain": [
       "[100, 100, 100, 729, 16, 4, 0]"
      ]
     },
     "execution_count": 50,
     "metadata": {},
     "output_type": "execute_result"
    }
   ],
   "source": [
    "v = [i ** 2 if i%2==0 else i **3 for i in k2]\n",
    "v"
   ]
  },
  {
   "cell_type": "code",
   "execution_count": 53,
   "id": "bc4904dc",
   "metadata": {},
   "outputs": [
    {
     "data": {
      "text/plain": [
       "[11, 11, 11, 10, 5, 3, 1]"
      ]
     },
     "execution_count": 53,
     "metadata": {},
     "output_type": "execute_result"
    }
   ],
   "source": [
    "sum = [i+1 for i in k2]\n",
    "sum"
   ]
  },
  {
   "cell_type": "code",
   "execution_count": 57,
   "id": "07834a0a",
   "metadata": {},
   "outputs": [
    {
     "name": "stdout",
     "output_type": "stream",
     "text": [
      "25\n"
     ]
    }
   ],
   "source": [
    "#lambda+reduce\n",
    "def square(a):\n",
    "    return a*a\n",
    "print(square(5))"
   ]
  },
  {
   "cell_type": "code",
   "execution_count": 58,
   "id": "6c25620b",
   "metadata": {},
   "outputs": [
    {
     "name": "stdout",
     "output_type": "stream",
     "text": [
      "25\n"
     ]
    }
   ],
   "source": [
    "#here above we are unnecesarily using fn name , whihc just holds single line\n",
    "#istead we can use lambda\n",
    "f = lambda a:a*a\n",
    "print(f(5))"
   ]
  },
  {
   "cell_type": "code",
   "execution_count": 62,
   "id": "d5f1915e",
   "metadata": {},
   "outputs": [
    {
     "name": "stdout",
     "output_type": "stream",
     "text": [
      "[2, 4, 6]\n",
      "[2, 4, 6]\n"
     ]
    }
   ],
   "source": [
    "#filter,map, reduce\n",
    "#filter\n",
    "def evn(n):\n",
    "    return n%2==0\n",
    "\n",
    "k1=[1,2,3,4,5,6,7]\n",
    "v=list(filter(evn, k1))\n",
    "print(v)\n",
    "\n",
    "#filter-with lambda\n",
    "\n",
    "v2 = list(filter(lambda x:x%2==0, k1))\n",
    "print(v2)"
   ]
  },
  {
   "cell_type": "code",
   "execution_count": 65,
   "id": "e612497c",
   "metadata": {},
   "outputs": [
    {
     "name": "stdout",
     "output_type": "stream",
     "text": [
      "[2, 4, 6, 8, 10, 12, 14]\n"
     ]
    }
   ],
   "source": [
    "#map\n",
    "k1\n",
    "f = list(map(lambda x:x*2, k1))\n",
    "print(f)"
   ]
  },
  {
   "cell_type": "code",
   "execution_count": 70,
   "id": "d9484a9d",
   "metadata": {},
   "outputs": [
    {
     "data": {
      "text/plain": [
       "28"
      ]
     },
     "execution_count": 70,
     "metadata": {},
     "output_type": "execute_result"
    }
   ],
   "source": [
    "from functools import reduce\n",
    "p =reduce(lambda a,b:a+b, k1)\n",
    "p\n"
   ]
  },
  {
   "cell_type": "code",
   "execution_count": 76,
   "id": "31d69f48",
   "metadata": {},
   "outputs": [
    {
     "data": {
      "text/plain": [
       "6"
      ]
     },
     "execution_count": 76,
     "metadata": {},
     "output_type": "execute_result"
    }
   ],
   "source": [
    "t1=1,2,3,4,5,6\n",
    "t1\n",
    "type(t1)\n",
    "t1[-1]"
   ]
  },
  {
   "cell_type": "code",
   "execution_count": null,
   "id": "00622c28",
   "metadata": {},
   "outputs": [],
   "source": []
  }
 ],
 "metadata": {
  "kernelspec": {
   "display_name": "Python 3 (ipykernel)",
   "language": "python",
   "name": "python3"
  },
  "language_info": {
   "codemirror_mode": {
    "name": "ipython",
    "version": 3
   },
   "file_extension": ".py",
   "mimetype": "text/x-python",
   "name": "python",
   "nbconvert_exporter": "python",
   "pygments_lexer": "ipython3",
   "version": "3.9.13"
  }
 },
 "nbformat": 4,
 "nbformat_minor": 5
}
