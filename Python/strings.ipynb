{
 "cells": [
  {
   "cell_type": "code",
   "execution_count": 1,
   "id": "7e4871f3",
   "metadata": {},
   "outputs": [
    {
     "data": {
      "text/plain": [
       "str"
      ]
     },
     "execution_count": 1,
     "metadata": {},
     "output_type": "execute_result"
    }
   ],
   "source": [
    "x ='sudha gayathri'\n",
    "type(x)"
   ]
  },
  {
   "cell_type": "code",
   "execution_count": 6,
   "id": "0963f816",
   "metadata": {},
   "outputs": [
    {
     "name": "stdout",
     "output_type": "stream",
     "text": [
      "2\n"
     ]
    }
   ],
   "source": [
    "v = 2\n",
    "print(str(v))"
   ]
  },
  {
   "cell_type": "code",
   "execution_count": 3,
   "id": "1df7c080",
   "metadata": {},
   "outputs": [
    {
     "data": {
      "text/plain": [
       "' '"
      ]
     },
     "execution_count": 3,
     "metadata": {},
     "output_type": "execute_result"
    }
   ],
   "source": [
    "x[5]"
   ]
  },
  {
   "cell_type": "code",
   "execution_count": 4,
   "id": "d5c7e183",
   "metadata": {},
   "outputs": [
    {
     "data": {
      "text/plain": [
       "'anusudha'"
      ]
     },
     "execution_count": 4,
     "metadata": {},
     "output_type": "execute_result"
    }
   ],
   "source": [
    "a=\"anu\" \n",
    "b=\"sudha\"\n",
    "a+b"
   ]
  },
  {
   "cell_type": "code",
   "execution_count": 5,
   "id": "ca4f174c",
   "metadata": {},
   "outputs": [
    {
     "ename": "TypeError",
     "evalue": "can only concatenate str (not \"int\") to str",
     "output_type": "error",
     "traceback": [
      "\u001b[0;31m---------------------------------------------------------------------------\u001b[0m",
      "\u001b[0;31mTypeError\u001b[0m                                 Traceback (most recent call last)",
      "\u001b[0;32m/tmp/ipykernel_14639/2837710665.py\u001b[0m in \u001b[0;36m<module>\u001b[0;34m\u001b[0m\n\u001b[0;32m----> 1\u001b[0;31m \u001b[0ma\u001b[0m\u001b[0;34m+\u001b[0m\u001b[0;36m10\u001b[0m\u001b[0;34m\u001b[0m\u001b[0;34m\u001b[0m\u001b[0m\n\u001b[0m",
      "\u001b[0;31mTypeError\u001b[0m: can only concatenate str (not \"int\") to str"
     ]
    }
   ],
   "source": [
    "a+10"
   ]
  },
  {
   "cell_type": "code",
   "execution_count": null,
   "id": "18278ab2",
   "metadata": {},
   "outputs": [],
   "source": [
    "a+str(10)"
   ]
  },
  {
   "cell_type": "code",
   "execution_count": null,
   "id": "8e7036c8",
   "metadata": {},
   "outputs": [],
   "source": [
    "'u' in a\n"
   ]
  },
  {
   "cell_type": "code",
   "execution_count": null,
   "id": "90084e98",
   "metadata": {},
   "outputs": [],
   "source": [
    "'s' in a"
   ]
  },
  {
   "cell_type": "code",
   "execution_count": null,
   "id": "55f79d0c",
   "metadata": {},
   "outputs": [],
   "source": [
    "'sudha' in x"
   ]
  },
  {
   "cell_type": "code",
   "execution_count": null,
   "id": "55bc3ce3",
   "metadata": {},
   "outputs": [],
   "source": [
    "'anu' in x"
   ]
  },
  {
   "cell_type": "code",
   "execution_count": null,
   "id": "3952ebbb",
   "metadata": {},
   "outputs": [],
   "source": [
    "str1=str(input('enter main string'))\n",
    "substr = input(\"enter substring to be searched\")\n",
    "\n",
    "if substr in str1:\n",
    "    print('yes')\n",
    "else:\n",
    "    print('no')\n",
    "    \n",
    "    \n"
   ]
  },
  {
   "cell_type": "code",
   "execution_count": null,
   "id": "737d76c7",
   "metadata": {},
   "outputs": [],
   "source": [
    "a=\"sudha\"\n",
    "b=\"sudha \"\n",
    "print(b.strip())\n",
    "if a.strip==b.strip:\n",
    "    print('same')\n",
    "else:\n",
    "    print('diff')"
   ]
  },
  {
   "cell_type": "code",
   "execution_count": null,
   "id": "9777e920",
   "metadata": {},
   "outputs": [],
   "source": [
    "a=\"sudha\"\n",
    "b=\"sudha \"\n",
    "print(b.strip())\n",
    "if a.strip()==b.strip():\n",
    "    print('same')\n",
    "else:\n",
    "    print('diff')\n",
    "if a==b:\n",
    "    print('same')\n",
    "else:\n",
    "    print('diff')\n"
   ]
  },
  {
   "cell_type": "code",
   "execution_count": null,
   "id": "195eb30f",
   "metadata": {},
   "outputs": [],
   "source": [
    "str2='PpPython'\n",
    "str2.lstrip('Pp')"
   ]
  },
  {
   "cell_type": "code",
   "execution_count": null,
   "id": "847f9a62",
   "metadata": {},
   "outputs": [],
   "source": [
    "str2"
   ]
  },
  {
   "cell_type": "code",
   "execution_count": null,
   "id": "1ebe8593",
   "metadata": {},
   "outputs": [],
   "source": [
    "help(str2.rstrip())"
   ]
  },
  {
   "cell_type": "code",
   "execution_count": null,
   "id": "9e96319a",
   "metadata": {},
   "outputs": [],
   "source": [
    "str3='  Python  '\n",
    "str3.rstrip() #right strip\n",
    "str3.lstrip() #left strip"
   ]
  },
  {
   "cell_type": "code",
   "execution_count": null,
   "id": "52f62eb8",
   "metadata": {},
   "outputs": [],
   "source": [
    "#find"
   ]
  },
  {
   "cell_type": "code",
   "execution_count": null,
   "id": "d87b6aa2",
   "metadata": {},
   "outputs": [],
   "source": [
    "s3=\"sudha gayathri\"\n",
    "s3.find('i')"
   ]
  },
  {
   "cell_type": "code",
   "execution_count": null,
   "id": "5ab5a9ed",
   "metadata": {},
   "outputs": [],
   "source": [
    "l1=[12,13,14,15]\n",
    "l1.index(13)"
   ]
  },
  {
   "cell_type": "code",
   "execution_count": null,
   "id": "08412066",
   "metadata": {},
   "outputs": [],
   "source": [
    "s3.find('0') #if -1 no element present"
   ]
  },
  {
   "cell_type": "code",
   "execution_count": null,
   "id": "fc5d9a0d",
   "metadata": {},
   "outputs": [],
   "source": [
    "frst_index =s3.find('a')\n",
    "s3.find('a', frst_index+1)\n",
    "s3.rfind('a', frst_index+1)\n"
   ]
  },
  {
   "cell_type": "code",
   "execution_count": null,
   "id": "9755ebb5",
   "metadata": {},
   "outputs": [],
   "source": [
    "s3.index('o')"
   ]
  },
  {
   "cell_type": "code",
   "execution_count": null,
   "id": "7d78ac73",
   "metadata": {},
   "outputs": [],
   "source": [
    "s3.find('o')"
   ]
  },
  {
   "cell_type": "code",
   "execution_count": null,
   "id": "4fe986c5",
   "metadata": {},
   "outputs": [],
   "source": [
    "s3=\"sudha gayathri\"\n",
    "s3.count('a')"
   ]
  },
  {
   "cell_type": "code",
   "execution_count": null,
   "id": "55167fbe",
   "metadata": {},
   "outputs": [],
   "source": [
    "s3.count('0')"
   ]
  },
  {
   "cell_type": "code",
   "execution_count": null,
   "id": "2d951a0d",
   "metadata": {},
   "outputs": [],
   "source": [
    "l3=[12,13,12,14]\n",
    "l3.count(12)"
   ]
  },
  {
   "cell_type": "code",
   "execution_count": null,
   "id": "dd5b0bc5",
   "metadata": {},
   "outputs": [],
   "source": [
    "l3.count(1)"
   ]
  },
  {
   "cell_type": "code",
   "execution_count": null,
   "id": "a7b1df98",
   "metadata": {},
   "outputs": [],
   "source": [
    "s2= 'Welcome to Python'\n",
    "print(s2.count('o'))\n",
    "# Print all the indexes of 'o' in a list\n",
    "\n",
    "all_indx = []\n",
    "last_idx = 0\n",
    "for x in range(s2.count('o')):\n",
    "    indx = s2.find('o', last_idx+1)\n",
    "    last_idx = indx\n",
    "    all_indx.append(indx)\n",
    "all_indx"
   ]
  },
  {
   "cell_type": "code",
   "execution_count": null,
   "id": "b5cec803",
   "metadata": {},
   "outputs": [],
   "source": [
    "for x in range(3):\n",
    "    print('hy')"
   ]
  },
  {
   "cell_type": "code",
   "execution_count": null,
   "id": "219bfd3d",
   "metadata": {},
   "outputs": [],
   "source": [
    "help(s2.rfind)"
   ]
  },
  {
   "cell_type": "code",
   "execution_count": null,
   "id": "644b5b36",
   "metadata": {},
   "outputs": [],
   "source": [
    "s2= 'Welcome to Python'\n",
    "s2.replace('o','m')"
   ]
  },
  {
   "cell_type": "code",
   "execution_count": null,
   "id": "b5536a0e",
   "metadata": {},
   "outputs": [],
   "source": [
    "s2"
   ]
  },
  {
   "cell_type": "code",
   "execution_count": null,
   "id": "d12e3e2b",
   "metadata": {},
   "outputs": [],
   "source": [
    "s2.replace('o','l',2)"
   ]
  },
  {
   "cell_type": "code",
   "execution_count": null,
   "id": "e9a37384",
   "metadata": {},
   "outputs": [],
   "source": [
    "s2.replace('o','l',-1)"
   ]
  },
  {
   "cell_type": "code",
   "execution_count": null,
   "id": "6956ac45",
   "metadata": {},
   "outputs": [],
   "source": [
    "#split\n",
    "x=\"sudha gayathri\"\n",
    "y=\"sudha,gayathri\"\n",
    "x.split()\n",
    "names = y.split(',')"
   ]
  },
  {
   "cell_type": "code",
   "execution_count": null,
   "id": "fb5381c3",
   "metadata": {},
   "outputs": [],
   "source": [
    "names"
   ]
  },
  {
   "cell_type": "code",
   "execution_count": null,
   "id": "a6dbfde8",
   "metadata": {},
   "outputs": [],
   "source": [
    "' '.join(names)"
   ]
  },
  {
   "cell_type": "code",
   "execution_count": 9,
   "id": "bf071b38",
   "metadata": {},
   "outputs": [
    {
     "data": {
      "text/plain": [
       "'2.5,3.5,5.5'"
      ]
     },
     "execution_count": 9,
     "metadata": {},
     "output_type": "execute_result"
    }
   ],
   "source": [
    "num = [2.5,3.5,5.5]\n",
    "numlst = [str(i) for i in num]\n",
    "numstr = ','.join(numlst)\n",
    "\n",
    "numstr"
   ]
  },
  {
   "cell_type": "code",
   "execution_count": null,
   "id": "5e2e3723",
   "metadata": {},
   "outputs": [],
   "source": [
    "v = 2\n",
    "print(strv)\n"
   ]
  },
  {
   "cell_type": "code",
   "execution_count": 11,
   "id": "5f12df47",
   "metadata": {},
   "outputs": [
    {
     "data": {
      "text/plain": [
       "'yython'"
      ]
     },
     "execution_count": 11,
     "metadata": {},
     "output_type": "execute_result"
    }
   ],
   "source": [
    "'PPPyython'.strip('P')"
   ]
  },
  {
   "cell_type": "code",
   "execution_count": 12,
   "id": "c0523660",
   "metadata": {},
   "outputs": [
    {
     "data": {
      "text/plain": [
       "'PPPyython'"
      ]
     },
     "execution_count": 12,
     "metadata": {},
     "output_type": "execute_result"
    }
   ],
   "source": [
    "'PPPyython'.strip('y')#doesnt strip middle letter"
   ]
  },
  {
   "cell_type": "code",
   "execution_count": 13,
   "id": "9ef43f52",
   "metadata": {},
   "outputs": [
    {
     "data": {
      "text/plain": [
       "True"
      ]
     },
     "execution_count": 13,
     "metadata": {},
     "output_type": "execute_result"
    }
   ],
   "source": [
    "s2= 'Welcome to Python'\n",
    "s2.startswith('We')"
   ]
  },
  {
   "cell_type": "code",
   "execution_count": 14,
   "id": "f0ff9fd6",
   "metadata": {},
   "outputs": [
    {
     "data": {
      "text/plain": [
       "True"
      ]
     },
     "execution_count": 14,
     "metadata": {},
     "output_type": "execute_result"
    }
   ],
   "source": [
    "s2.endswith('Python')"
   ]
  },
  {
   "cell_type": "code",
   "execution_count": 15,
   "id": "f04d1313",
   "metadata": {},
   "outputs": [
    {
     "data": {
      "text/plain": [
       "True"
      ]
     },
     "execution_count": 15,
     "metadata": {},
     "output_type": "execute_result"
    }
   ],
   "source": [
    "s2.endswith('n')"
   ]
  },
  {
   "cell_type": "code",
   "execution_count": 16,
   "id": "8a7d2e94",
   "metadata": {},
   "outputs": [
    {
     "data": {
      "text/plain": [
       "True"
      ]
     },
     "execution_count": 16,
     "metadata": {},
     "output_type": "execute_result"
    }
   ],
   "source": [
    "'SUHDA'.isupper()"
   ]
  },
  {
   "cell_type": "code",
   "execution_count": 17,
   "id": "e78be032",
   "metadata": {},
   "outputs": [
    {
     "data": {
      "text/plain": [
       "'suhda'"
      ]
     },
     "execution_count": 17,
     "metadata": {},
     "output_type": "execute_result"
    }
   ],
   "source": [
    "str='SUHDA'\n",
    "str.lower()"
   ]
  },
  {
   "cell_type": "code",
   "execution_count": null,
   "id": "fc20d1b2",
   "metadata": {},
   "outputs": [],
   "source": [
    "#str.title() to convert to camelcase\n",
    "#str.capitalize() only 1st letter is capital"
   ]
  }
 ],
 "metadata": {
  "kernelspec": {
   "display_name": "Python 3 (ipykernel)",
   "language": "python",
   "name": "python3"
  },
  "language_info": {
   "codemirror_mode": {
    "name": "ipython",
    "version": 3
   },
   "file_extension": ".py",
   "mimetype": "text/x-python",
   "name": "python",
   "nbconvert_exporter": "python",
   "pygments_lexer": "ipython3",
   "version": "3.9.13"
  }
 },
 "nbformat": 4,
 "nbformat_minor": 5
}
