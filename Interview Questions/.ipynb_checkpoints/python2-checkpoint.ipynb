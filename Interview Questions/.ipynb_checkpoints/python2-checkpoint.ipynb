{
 "cells": [
  {
   "cell_type": "markdown",
   "id": "5218b9cd",
   "metadata": {},
   "source": [
    "**decorartor:**\n",
    "\n",
    "In Python, a decorator is a design pattern that allows you to modify the functionality of a function by wrapping it in another function.\n",
    "\n",
    "The outer function is called the decorator, which takes the original function as an argument and returns a modified version of it."
   ]
  },
  {
   "cell_type": "code",
   "execution_count": 6,
   "id": "0eabb6d2",
   "metadata": {},
   "outputs": [
    {
     "name": "stdout",
     "output_type": "stream",
     "text": [
      "making it pretty--\n",
      "this is ordianry\n"
     ]
    }
   ],
   "source": [
    "#decorator example\n",
    "def make_pretty(func):\n",
    "    print('making it pretty--')\n",
    "    def inner():\n",
    "        return func()\n",
    "    return inner\n",
    "\n",
    "@make_pretty\n",
    "def oridinary():\n",
    "    print('this is ordianry')\n",
    "\n",
    "oridinary()"
   ]
  },
  {
   "cell_type": "code",
   "execution_count": 22,
   "id": "5cc87b97",
   "metadata": {
    "scrolled": true
   },
   "outputs": [
    {
     "name": "stdout",
     "output_type": "stream",
     "text": [
      "dividing\n"
     ]
    },
    {
     "data": {
      "text/plain": [
       "'cant divide'"
      ]
     },
     "execution_count": 22,
     "metadata": {},
     "output_type": "execute_result"
    }
   ],
   "source": [
    "#decorator example2\n",
    "def smart_divide(func):\n",
    "    def inner(a,b):\n",
    "        print('dividing')\n",
    "        if b == 0:\n",
    "            return 'cant divide'\n",
    "        return func(a,b)\n",
    "    return inner\n",
    "\n",
    "@smart_divide\n",
    "def divide(a,b):\n",
    "    return a/b\n",
    "\n",
    "divide(2,0)"
   ]
  },
  {
   "cell_type": "code",
   "execution_count": null,
   "id": "1caefd28",
   "metadata": {},
   "outputs": [],
   "source": []
  },
  {
   "cell_type": "code",
   "execution_count": 23,
   "id": "3bc7a324",
   "metadata": {},
   "outputs": [
    {
     "data": {
      "text/plain": [
       "<generator object <genexpr> at 0x7fe29197d5f0>"
      ]
     },
     "execution_count": 23,
     "metadata": {},
     "output_type": "execute_result"
    }
   ],
   "source": []
  },
  {
   "cell_type": "markdown",
   "id": "bd693b6b",
   "metadata": {},
   "source": [
    "**generators:**\n",
    "\n",
    "In Python, a generator is a function that returns an iterator that produces a sequence of values when iterated over.\n",
    "\n",
    "Generators are useful when we want to produce a large sequence of values, but we don't want to store all of them in memory at once."
   ]
  },
  {
   "cell_type": "code",
   "execution_count": 28,
   "id": "f745fdfb",
   "metadata": {},
   "outputs": [
    {
     "name": "stdout",
     "output_type": "stream",
     "text": [
      "<generator object <genexpr> at 0x7fe291fa27b0>\n",
      "0\n",
      "10\n",
      "20\n"
     ]
    }
   ],
   "source": [
    "generator_exp = (i * 5 for i in range(5) if i%2==0) \n",
    "print(generator_exp)\n",
    "for k in generator_exp:\n",
    "    print(k)\n",
    "\n"
   ]
  },
  {
   "cell_type": "code",
   "execution_count": 29,
   "id": "c0a03266",
   "metadata": {},
   "outputs": [
    {
     "data": {
      "text/plain": [
       "[0, 10, 20]"
      ]
     },
     "execution_count": 29,
     "metadata": {},
     "output_type": "execute_result"
    }
   ],
   "source": [
    "#general approach - we store in list\n",
    "generator_exp = [i * 5 for i in range(5) if i%2==0]\n",
    "type(generator_exp)\n",
    "generator_exp"
   ]
  },
  {
   "cell_type": "code",
   "execution_count": 36,
   "id": "a36e1911",
   "metadata": {},
   "outputs": [],
   "source": [
    "#fibonacci\n",
    "def fib(limit):\n",
    "    a=0\n",
    "    b=1\n",
    "    while a<limit:\n",
    "        yield a\n",
    "        a,b=b,a+b    "
   ]
  },
  {
   "cell_type": "code",
   "execution_count": 42,
   "id": "ed4f87b0",
   "metadata": {},
   "outputs": [],
   "source": [
    "x = fib(5)"
   ]
  },
  {
   "cell_type": "code",
   "execution_count": 43,
   "id": "0d378764",
   "metadata": {},
   "outputs": [
    {
     "name": "stdout",
     "output_type": "stream",
     "text": [
      "0\n",
      "1\n",
      "1\n",
      "2\n"
     ]
    }
   ],
   "source": [
    "print(next(x))\n",
    "print(next(x))\n",
    "print(next(x))\n",
    "print(next(x))\n"
   ]
  },
  {
   "cell_type": "code",
   "execution_count": null,
   "id": "050047c4",
   "metadata": {},
   "outputs": [],
   "source": []
  }
 ],
 "metadata": {
  "kernelspec": {
   "display_name": "Python 3 (ipykernel)",
   "language": "python",
   "name": "python3"
  },
  "language_info": {
   "codemirror_mode": {
    "name": "ipython",
    "version": 3
   },
   "file_extension": ".py",
   "mimetype": "text/x-python",
   "name": "python",
   "nbconvert_exporter": "python",
   "pygments_lexer": "ipython3",
   "version": "3.9.13"
  }
 },
 "nbformat": 4,
 "nbformat_minor": 5
}
