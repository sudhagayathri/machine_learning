{
 "cells": [
  {
   "cell_type": "markdown",
   "id": "98d8170a",
   "metadata": {},
   "source": [
    "**decorartor:**\n",
    "\n",
    "In Python, a decorator is a design pattern that allows you to modify the functionality of a function by wrapping it in another function.\n",
    "\n",
    "The outer function is called the decorator, which takes the original function as an argument and returns a modified version of it."
   ]
  },
  {
   "cell_type": "code",
   "execution_count": 6,
   "id": "bfd39c41",
   "metadata": {},
   "outputs": [
    {
     "name": "stdout",
     "output_type": "stream",
     "text": [
      "making it pretty--\n",
      "this is ordianry\n"
     ]
    }
   ],
   "source": [
    "#decorator example\n",
    "def make_pretty(func):\n",
    "    print('making it pretty--')\n",
    "    def inner():\n",
    "        return func()\n",
    "    return inner\n",
    "\n",
    "@make_pretty\n",
    "def oridinary():\n",
    "    print('this is ordianry')\n",
    "\n",
    "oridinary()"
   ]
  },
  {
   "cell_type": "code",
   "execution_count": 22,
   "id": "11a08638",
   "metadata": {
    "scrolled": true
   },
   "outputs": [
    {
     "name": "stdout",
     "output_type": "stream",
     "text": [
      "dividing\n"
     ]
    },
    {
     "data": {
      "text/plain": [
       "'cant divide'"
      ]
     },
     "execution_count": 22,
     "metadata": {},
     "output_type": "execute_result"
    }
   ],
   "source": [
    "#decorator example2\n",
    "def smart_divide(func):\n",
    "    def inner(a,b):\n",
    "        print('dividing')\n",
    "        if b == 0:\n",
    "            return 'cant divide'\n",
    "        return func(a,b)\n",
    "    return inner\n",
    "\n",
    "@smart_divide\n",
    "def divide(a,b):\n",
    "    return a/b\n",
    "\n",
    "divide(2,0)"
   ]
  },
  {
   "cell_type": "code",
   "execution_count": null,
   "id": "1a36517d",
   "metadata": {},
   "outputs": [],
   "source": []
  },
  {
   "cell_type": "code",
   "execution_count": 23,
   "id": "8c868ca8",
   "metadata": {},
   "outputs": [
    {
     "data": {
      "text/plain": [
       "<generator object <genexpr> at 0x7fe29197d5f0>"
      ]
     },
     "execution_count": 23,
     "metadata": {},
     "output_type": "execute_result"
    }
   ],
   "source": []
  },
  {
   "cell_type": "markdown",
   "id": "649c764f",
   "metadata": {},
   "source": [
    "**generators:**\n",
    "\n",
    "In Python, a generator is a function that returns an iterator that produces a sequence of values when iterated over.\n",
    "\n",
    "Generators are useful when we want to produce a large sequence of values, but we don't want to store all of them in memory at once."
   ]
  },
  {
   "cell_type": "code",
   "execution_count": 28,
   "id": "f434d234",
   "metadata": {},
   "outputs": [
    {
     "name": "stdout",
     "output_type": "stream",
     "text": [
      "<generator object <genexpr> at 0x7fe291fa27b0>\n",
      "0\n",
      "10\n",
      "20\n"
     ]
    }
   ],
   "source": [
    "generator_exp = (i * 5 for i in range(5) if i%2==0) \n",
    "print(generator_exp)\n",
    "for k in generator_exp:\n",
    "    print(k)\n",
    "\n"
   ]
  },
  {
   "cell_type": "code",
   "execution_count": 29,
   "id": "9119bf39",
   "metadata": {},
   "outputs": [
    {
     "data": {
      "text/plain": [
       "[0, 10, 20]"
      ]
     },
     "execution_count": 29,
     "metadata": {},
     "output_type": "execute_result"
    }
   ],
   "source": [
    "#general approach - we store in list\n",
    "generator_exp = [i * 5 for i in range(5) if i%2==0]\n",
    "type(generator_exp)\n",
    "generator_exp"
   ]
  },
  {
   "cell_type": "code",
   "execution_count": 36,
   "id": "04ac8d45",
   "metadata": {},
   "outputs": [],
   "source": [
    "#fibonacci\n",
    "def fib(limit):\n",
    "    a=0\n",
    "    b=1\n",
    "    while a<limit:\n",
    "        yield a\n",
    "        a,b=b,a+b    "
   ]
  },
  {
   "cell_type": "code",
   "execution_count": 42,
   "id": "c9d1a94c",
   "metadata": {},
   "outputs": [],
   "source": [
    "x = fib(5)"
   ]
  },
  {
   "cell_type": "code",
   "execution_count": 43,
   "id": "e451a2ed",
   "metadata": {},
   "outputs": [
    {
     "name": "stdout",
     "output_type": "stream",
     "text": [
      "0\n",
      "1\n",
      "1\n",
      "2\n"
     ]
    }
   ],
   "source": [
    "print(next(x))\n",
    "print(next(x))\n",
    "print(next(x))\n",
    "print(next(x))\n"
   ]
  },
  {
   "cell_type": "code",
   "execution_count": 46,
   "id": "f8121c26",
   "metadata": {},
   "outputs": [
    {
     "data": {
      "text/plain": [
       "10"
      ]
     },
     "execution_count": 46,
     "metadata": {},
     "output_type": "execute_result"
    }
   ],
   "source": [
    "a=14\n",
    "b=4\n",
    "a^b"
   ]
  },
  {
   "cell_type": "code",
   "execution_count": 64,
   "id": "6db9928c",
   "metadata": {},
   "outputs": [
    {
     "name": "stdout",
     "output_type": "stream",
     "text": [
      "54321\n"
     ]
    }
   ],
   "source": [
    "x='12345'\n",
    "x[::-1]\n",
    "rev=[]\n",
    "for i in range(len(x)-1,-1,-1):\n",
    "    rev.append(x[i])\n",
    "print(''.join(rev))"
   ]
  },
  {
   "cell_type": "code",
   "execution_count": 68,
   "id": "6c95a9ac",
   "metadata": {},
   "outputs": [],
   "source": [
    "a=[1,2]\n",
    "a.insert(500,5)\n",
    "a.insert(400,7)"
   ]
  },
  {
   "cell_type": "code",
   "execution_count": 69,
   "id": "e1763175",
   "metadata": {},
   "outputs": [
    {
     "data": {
      "text/plain": [
       "[1, 2, 5, 7]"
      ]
     },
     "execution_count": 69,
     "metadata": {},
     "output_type": "execute_result"
    }
   ],
   "source": [
    "a"
   ]
  },
  {
   "cell_type": "code",
   "execution_count": null,
   "id": "a5ec7bf2",
   "metadata": {},
   "outputs": [],
   "source": []
  }
 ],
 "metadata": {
  "kernelspec": {
   "display_name": "Python 3 (ipykernel)",
   "language": "python",
   "name": "python3"
  },
  "language_info": {
   "codemirror_mode": {
    "name": "ipython",
    "version": 3
   },
   "file_extension": ".py",
   "mimetype": "text/x-python",
   "name": "python",
   "nbconvert_exporter": "python",
   "pygments_lexer": "ipython3",
   "version": "3.9.13"
  }
 },
 "nbformat": 4,
 "nbformat_minor": 5
}
