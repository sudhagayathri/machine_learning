{
 "cells": [
  {
   "cell_type": "code",
   "execution_count": 4,
   "id": "6ed2d87b",
   "metadata": {},
   "outputs": [
    {
     "name": "stdout",
     "output_type": "stream",
     "text": [
      "abcabc\n"
     ]
    }
   ],
   "source": [
    "#['abc', 'acb', 'bac', 'bca', 'cab', 'cba']\n",
    "str1 = 'abc'\n",
    "strarr = str1.split()\n",
    "newstr = []\n",
    "for i in strarr:\n",
    "    for j in range(len(strarr)):\n",
    "        x = i+str(strarr[j])\n",
    "        print(x)\n"
   ]
  },
  {
   "cell_type": "code",
   "execution_count": 23,
   "id": "ad62d95c",
   "metadata": {},
   "outputs": [
    {
     "name": "stdout",
     "output_type": "stream",
     "text": [
      "*****\n",
      "****\n",
      "***\n",
      "**\n",
      "*\n",
      "\n"
     ]
    }
   ],
   "source": [
    "\n",
    "# *****\n",
    "\n",
    "# ****\n",
    "\n",
    "# ***\n",
    "\n",
    "# **\n",
    "\n",
    "# *\n",
    "k=5\n",
    "for i in range(6):\n",
    "    j = k-i\n",
    "    print('*'*j)\n"
   ]
  },
  {
   "cell_type": "code",
   "execution_count": null,
   "id": "2bb08739",
   "metadata": {},
   "outputs": [],
   "source": []
  }
 ],
 "metadata": {
  "kernelspec": {
   "display_name": "Python 3 (ipykernel)",
   "language": "python",
   "name": "python3"
  },
  "language_info": {
   "codemirror_mode": {
    "name": "ipython",
    "version": 3
   },
   "file_extension": ".py",
   "mimetype": "text/x-python",
   "name": "python",
   "nbconvert_exporter": "python",
   "pygments_lexer": "ipython3",
   "version": "3.9.13"
  }
 },
 "nbformat": 4,
 "nbformat_minor": 5
}
