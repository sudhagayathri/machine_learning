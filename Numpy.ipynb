{
 "cells": [
  {
   "cell_type": "markdown",
   "id": "54f7f04c",
   "metadata": {},
   "source": [
    "Data Analysis include cleaning, process and transform data to procure meaningful information\n",
    "it includes- \n",
    "import datasets\n",
    "clean and prepare data\n",
    "manipulate pandas dataframe\n",
    "summarize data\n",
    "build data pipelines(to continously feed ml model)\n"
   ]
  },
  {
   "cell_type": "code",
   "execution_count": 1,
   "id": "f0266cd7",
   "metadata": {},
   "outputs": [
    {
     "name": "stdout",
     "output_type": "stream",
     "text": [
      "[1 2 3 4]\n"
     ]
    }
   ],
   "source": [
    "#lsit - colection of hetergenous data\n",
    "#array - collection of same type data\n",
    "#Numpy - arrays are not present directly in python\n",
    "l = [1,2,3,4]\n",
    "import numpy as np\n",
    "a = np.array(l)\n",
    "print(a)\n"
   ]
  },
  {
   "cell_type": "code",
   "execution_count": 2,
   "id": "fd73f0c1",
   "metadata": {},
   "outputs": [
    {
     "data": {
      "text/plain": [
       "array([1, 2, 3, 4])"
      ]
     },
     "execution_count": 2,
     "metadata": {},
     "output_type": "execute_result"
    }
   ],
   "source": [
    " a\n",
    "    "
   ]
  },
  {
   "cell_type": "code",
   "execution_count": 3,
   "id": "df947998",
   "metadata": {},
   "outputs": [
    {
     "data": {
      "text/plain": [
       "1"
      ]
     },
     "execution_count": 3,
     "metadata": {},
     "output_type": "execute_result"
    }
   ],
   "source": [
    "a.ndim #no of dimensions\n"
   ]
  },
  {
   "cell_type": "code",
   "execution_count": 4,
   "id": "73395ff7",
   "metadata": {},
   "outputs": [
    {
     "data": {
      "text/plain": [
       "2"
      ]
     },
     "execution_count": 4,
     "metadata": {},
     "output_type": "execute_result"
    }
   ],
   "source": [
    "a[1]\n"
   ]
  },
  {
   "cell_type": "code",
   "execution_count": 8,
   "id": "d1fa4629",
   "metadata": {},
   "outputs": [
    {
     "data": {
      "text/plain": [
       "6"
      ]
     },
     "execution_count": 8,
     "metadata": {},
     "output_type": "execute_result"
    }
   ],
   "source": [
    "#images are stored in form of pixels - 2d array - hence numpy is largely used in image processng\n",
    "b = np.array([[1,2,3],[4,5,6]])\n",
    "b.shape #depth of x and y\n",
    "b.size  #total elem"
   ]
  },
  {
   "cell_type": "code",
   "execution_count": 9,
   "id": "7dc54c33",
   "metadata": {},
   "outputs": [
    {
     "data": {
      "text/plain": [
       "numpy.ndarray"
      ]
     },
     "execution_count": 9,
     "metadata": {},
     "output_type": "execute_result"
    }
   ],
   "source": [
    "type(b)"
   ]
  },
  {
   "cell_type": "code",
   "execution_count": 10,
   "id": "786fccf9",
   "metadata": {},
   "outputs": [
    {
     "data": {
      "text/plain": [
       "dtype('int64')"
      ]
     },
     "execution_count": 10,
     "metadata": {},
     "output_type": "execute_result"
    }
   ],
   "source": [
    "b.dtype #type of ele"
   ]
  },
  {
   "cell_type": "code",
   "execution_count": 15,
   "id": "a3b95033",
   "metadata": {},
   "outputs": [
    {
     "data": {
      "text/plain": [
       "(2, 2, 3)"
      ]
     },
     "execution_count": 15,
     "metadata": {},
     "output_type": "execute_result"
    }
   ],
   "source": [
    "#3 dimensional - 2 layers, 2 rows, 3 columns\n",
    "c = np.array([\n",
    "                [[1,2,3], \n",
    "                  [4,5,6]],\n",
    "                 \n",
    "                 [[7,8,9], \n",
    "                  [20,22,23]]\n",
    "])\n",
    "c.shape\n"
   ]
  },
  {
   "cell_type": "code",
   "execution_count": 16,
   "id": "789e68c4",
   "metadata": {},
   "outputs": [],
   "source": [
    "d = np.ones((3,4))"
   ]
  },
  {
   "cell_type": "code",
   "execution_count": 17,
   "id": "5e84ff29",
   "metadata": {},
   "outputs": [
    {
     "data": {
      "text/plain": [
       "array([[1., 1., 1., 1.],\n",
       "       [1., 1., 1., 1.],\n",
       "       [1., 1., 1., 1.]])"
      ]
     },
     "execution_count": 17,
     "metadata": {},
     "output_type": "execute_result"
    }
   ],
   "source": [
    "d\n"
   ]
  },
  {
   "cell_type": "code",
   "execution_count": 18,
   "id": "114f778a",
   "metadata": {},
   "outputs": [],
   "source": [
    "d = np.ones((3,4), dtype='int')"
   ]
  },
  {
   "cell_type": "code",
   "execution_count": 19,
   "id": "85acb87c",
   "metadata": {},
   "outputs": [
    {
     "data": {
      "text/plain": [
       "array([[1, 1, 1, 1],\n",
       "       [1, 1, 1, 1],\n",
       "       [1, 1, 1, 1]])"
      ]
     },
     "execution_count": 19,
     "metadata": {},
     "output_type": "execute_result"
    }
   ],
   "source": [
    "d\n",
    "\n"
   ]
  },
  {
   "cell_type": "code",
   "execution_count": 21,
   "id": "04d04161",
   "metadata": {},
   "outputs": [
    {
     "data": {
      "text/plain": [
       "array([ 4,  5,  6,  7,  8,  9, 10, 11, 12, 13, 14, 15, 16])"
      ]
     },
     "execution_count": 21,
     "metadata": {},
     "output_type": "execute_result"
    }
   ],
   "source": [
    "np.arange(4,17)"
   ]
  },
  {
   "cell_type": "code",
   "execution_count": 22,
   "id": "1fb7a7e9",
   "metadata": {},
   "outputs": [
    {
     "data": {
      "text/plain": [
       "array([ 4,  7, 10, 13, 16])"
      ]
     },
     "execution_count": 22,
     "metadata": {},
     "output_type": "execute_result"
    }
   ],
   "source": [
    "np.arange(4,17, 3) #3 is step size"
   ]
  },
  {
   "cell_type": "code",
   "execution_count": 24,
   "id": "280dce9c",
   "metadata": {},
   "outputs": [
    {
     "data": {
      "text/plain": [
       "array([ 5., 10., 15., 20.])"
      ]
     },
     "execution_count": 24,
     "metadata": {},
     "output_type": "execute_result"
    }
   ],
   "source": [
    "np.linspace(5,20,4) #4 is no of elements that shud be divided frm range"
   ]
  },
  {
   "cell_type": "code",
   "execution_count": 26,
   "id": "db24f02f",
   "metadata": {},
   "outputs": [
    {
     "data": {
      "text/plain": [
       "array([[[ 1,  2,  3],\n",
       "        [ 4,  5,  6]],\n",
       "\n",
       "       [[ 7,  8,  9],\n",
       "        [20, 22, 23]]])"
      ]
     },
     "execution_count": 26,
     "metadata": {},
     "output_type": "execute_result"
    }
   ],
   "source": [
    "c"
   ]
  },
  {
   "cell_type": "code",
   "execution_count": 27,
   "id": "88b861f8",
   "metadata": {},
   "outputs": [
    {
     "data": {
      "text/plain": [
       "array([[[ 1,  2],\n",
       "        [ 3,  4]],\n",
       "\n",
       "       [[ 5,  6],\n",
       "        [ 7,  8]],\n",
       "\n",
       "       [[ 9, 20],\n",
       "        [22, 23]]])"
      ]
     },
     "execution_count": 27,
     "metadata": {},
     "output_type": "execute_result"
    }
   ],
   "source": [
    "c.reshape(3,2,2)"
   ]
  },
  {
   "cell_type": "code",
   "execution_count": 28,
   "id": "e5d69d81",
   "metadata": {},
   "outputs": [
    {
     "data": {
      "text/plain": [
       "array([[ 1,  2],\n",
       "       [ 3,  4],\n",
       "       [ 5,  6],\n",
       "       [ 7,  8],\n",
       "       [ 9, 20],\n",
       "       [22, 23]])"
      ]
     },
     "execution_count": 28,
     "metadata": {},
     "output_type": "execute_result"
    }
   ],
   "source": [
    "c.reshape(6,2)\n"
   ]
  },
  {
   "cell_type": "code",
   "execution_count": 29,
   "id": "f614016b",
   "metadata": {},
   "outputs": [
    {
     "data": {
      "text/plain": [
       "array([ 1,  2,  3,  4,  5,  6,  7,  8,  9, 20, 22, 23])"
      ]
     },
     "execution_count": 29,
     "metadata": {},
     "output_type": "execute_result"
    }
   ],
   "source": [
    "c.flatten()\n"
   ]
  },
  {
   "cell_type": "code",
   "execution_count": 36,
   "id": "4deeb18e",
   "metadata": {},
   "outputs": [
    {
     "data": {
      "text/plain": [
       "array([3, 5])"
      ]
     },
     "execution_count": 36,
     "metadata": {},
     "output_type": "execute_result"
    }
   ],
   "source": [
    "#integer array indexing\n",
    "#2d array\n",
    "x = np.array([[1,2,3], [4,5,6]])\n",
    "\n",
    "#to get [3, 5] frm above u shud pass 2 index list - 1st list row data, 2nd column data\n",
    "x[[0, 1],[2,1]]"
   ]
  },
  {
   "cell_type": "code",
   "execution_count": 38,
   "id": "0dda8cbc",
   "metadata": {},
   "outputs": [
    {
     "data": {
      "text/plain": [
       "array([3, 4, 5, 6])"
      ]
     },
     "execution_count": 38,
     "metadata": {},
     "output_type": "execute_result"
    }
   ],
   "source": [
    "#boolean array indxing\n",
    "x[x>=3]"
   ]
  },
  {
   "cell_type": "code",
   "execution_count": 46,
   "id": "66ac58c9",
   "metadata": {},
   "outputs": [
    {
     "data": {
      "text/plain": [
       "[2, 4, 6, 8, 10]"
      ]
     },
     "execution_count": 46,
     "metadata": {},
     "output_type": "execute_result"
    }
   ],
   "source": [
    "#extract multiples of 2 in given list using numpy(boolean array indxing) without for loop, this cannot be done on list\n",
    "y = [1,2,3,4,5,6,7,8,9,10]\n",
    "y = np.array(y)\n",
    "list(y[y%2==0])"
   ]
  },
  {
   "cell_type": "code",
   "execution_count": null,
   "id": "d15e28dd",
   "metadata": {},
   "outputs": [],
   "source": []
  }
 ],
 "metadata": {
  "kernelspec": {
   "display_name": "Python 3 (ipykernel)",
   "language": "python",
   "name": "python3"
  },
  "language_info": {
   "codemirror_mode": {
    "name": "ipython",
    "version": 3
   },
   "file_extension": ".py",
   "mimetype": "text/x-python",
   "name": "python",
   "nbconvert_exporter": "python",
   "pygments_lexer": "ipython3",
   "version": "3.9.13"
  }
 },
 "nbformat": 4,
 "nbformat_minor": 5
}
