{
 "cells": [
  {
   "cell_type": "markdown",
   "id": "123c8156",
   "metadata": {},
   "source": [
    "# Linear regression\n",
    "#how one variable(dependent) can be predicted using other varaibales\n"
   ]
  },
  {
   "cell_type": "code",
   "execution_count": null,
   "id": "a3c6ade8",
   "metadata": {},
   "outputs": [],
   "source": [
    "#first step in building model\n",
    "#1. EDA \n",
    "#2. preprocessing(this comes under EDA only)\n",
    "#3. model building\n",
    "#4. Evaluation"
   ]
  }
 ],
 "metadata": {
  "kernelspec": {
   "display_name": "Python 3 (ipykernel)",
   "language": "python",
   "name": "python3"
  },
  "language_info": {
   "codemirror_mode": {
    "name": "ipython",
    "version": 3
   },
   "file_extension": ".py",
   "mimetype": "text/x-python",
   "name": "python",
   "nbconvert_exporter": "python",
   "pygments_lexer": "ipython3",
   "version": "3.9.13"
  }
 },
 "nbformat": 4,
 "nbformat_minor": 5
}
