{
 "cells": [
  {
   "cell_type": "code",
   "execution_count": null,
   "id": "ed174c93",
   "metadata": {},
   "outputs": [],
   "source": []
  },
  {
   "cell_type": "code",
   "execution_count": 6,
   "id": "0a13b3b5",
   "metadata": {},
   "outputs": [
    {
     "data": {
      "text/plain": [
       "'/home/justdial/learnbae_ml/Statistics/Untitled Folder'"
      ]
     },
     "execution_count": 6,
     "metadata": {},
     "output_type": "execute_result"
    }
   ],
   "source": [
    "import numpy as np\n",
    "import pandas as pd\n",
    "import scipy.stats as st\n",
    "import os\n",
    "os.getcwd()"
   ]
  },
  {
   "cell_type": "code",
   "execution_count": 8,
   "id": "ac2b9662",
   "metadata": {},
   "outputs": [
    {
     "data": {
      "text/html": [
       "<div>\n",
       "<style scoped>\n",
       "    .dataframe tbody tr th:only-of-type {\n",
       "        vertical-align: middle;\n",
       "    }\n",
       "\n",
       "    .dataframe tbody tr th {\n",
       "        vertical-align: top;\n",
       "    }\n",
       "\n",
       "    .dataframe thead th {\n",
       "        text-align: right;\n",
       "    }\n",
       "</style>\n",
       "<table border=\"1\" class=\"dataframe\">\n",
       "  <thead>\n",
       "    <tr style=\"text-align: right;\">\n",
       "      <th></th>\n",
       "      <th>age</th>\n",
       "      <th>sex</th>\n",
       "      <th>cp</th>\n",
       "      <th>trestbps</th>\n",
       "      <th>chol</th>\n",
       "      <th>fbs</th>\n",
       "      <th>restecg</th>\n",
       "      <th>thalach</th>\n",
       "      <th>exang</th>\n",
       "      <th>oldpeak</th>\n",
       "      <th>slope</th>\n",
       "      <th>ca</th>\n",
       "      <th>thal</th>\n",
       "      <th>target</th>\n",
       "    </tr>\n",
       "  </thead>\n",
       "  <tbody>\n",
       "    <tr>\n",
       "      <th>0</th>\n",
       "      <td>52</td>\n",
       "      <td>1</td>\n",
       "      <td>0</td>\n",
       "      <td>125</td>\n",
       "      <td>212</td>\n",
       "      <td>0</td>\n",
       "      <td>1</td>\n",
       "      <td>168</td>\n",
       "      <td>0</td>\n",
       "      <td>1.0</td>\n",
       "      <td>2</td>\n",
       "      <td>2</td>\n",
       "      <td>3</td>\n",
       "      <td>0</td>\n",
       "    </tr>\n",
       "    <tr>\n",
       "      <th>1</th>\n",
       "      <td>53</td>\n",
       "      <td>1</td>\n",
       "      <td>0</td>\n",
       "      <td>140</td>\n",
       "      <td>203</td>\n",
       "      <td>1</td>\n",
       "      <td>0</td>\n",
       "      <td>155</td>\n",
       "      <td>1</td>\n",
       "      <td>3.1</td>\n",
       "      <td>0</td>\n",
       "      <td>0</td>\n",
       "      <td>3</td>\n",
       "      <td>0</td>\n",
       "    </tr>\n",
       "    <tr>\n",
       "      <th>2</th>\n",
       "      <td>70</td>\n",
       "      <td>1</td>\n",
       "      <td>0</td>\n",
       "      <td>145</td>\n",
       "      <td>174</td>\n",
       "      <td>0</td>\n",
       "      <td>1</td>\n",
       "      <td>125</td>\n",
       "      <td>1</td>\n",
       "      <td>2.6</td>\n",
       "      <td>0</td>\n",
       "      <td>0</td>\n",
       "      <td>3</td>\n",
       "      <td>0</td>\n",
       "    </tr>\n",
       "    <tr>\n",
       "      <th>3</th>\n",
       "      <td>61</td>\n",
       "      <td>1</td>\n",
       "      <td>0</td>\n",
       "      <td>148</td>\n",
       "      <td>203</td>\n",
       "      <td>0</td>\n",
       "      <td>1</td>\n",
       "      <td>161</td>\n",
       "      <td>0</td>\n",
       "      <td>0.0</td>\n",
       "      <td>2</td>\n",
       "      <td>1</td>\n",
       "      <td>3</td>\n",
       "      <td>0</td>\n",
       "    </tr>\n",
       "    <tr>\n",
       "      <th>4</th>\n",
       "      <td>62</td>\n",
       "      <td>0</td>\n",
       "      <td>0</td>\n",
       "      <td>138</td>\n",
       "      <td>294</td>\n",
       "      <td>1</td>\n",
       "      <td>1</td>\n",
       "      <td>106</td>\n",
       "      <td>0</td>\n",
       "      <td>1.9</td>\n",
       "      <td>1</td>\n",
       "      <td>3</td>\n",
       "      <td>2</td>\n",
       "      <td>0</td>\n",
       "    </tr>\n",
       "  </tbody>\n",
       "</table>\n",
       "</div>"
      ],
      "text/plain": [
       "   age  sex  cp  trestbps  chol  fbs  restecg  thalach  exang  oldpeak  slope  \\\n",
       "0   52    1   0       125   212    0        1      168      0      1.0      2   \n",
       "1   53    1   0       140   203    1        0      155      1      3.1      0   \n",
       "2   70    1   0       145   174    0        1      125      1      2.6      0   \n",
       "3   61    1   0       148   203    0        1      161      0      0.0      2   \n",
       "4   62    0   0       138   294    1        1      106      0      1.9      1   \n",
       "\n",
       "   ca  thal  target  \n",
       "0   2     3       0  \n",
       "1   0     3       0  \n",
       "2   0     3       0  \n",
       "3   1     3       0  \n",
       "4   3     2       0  "
      ]
     },
     "execution_count": 8,
     "metadata": {},
     "output_type": "execute_result"
    }
   ],
   "source": [
    "cardio =pd.read_csv(\"Cardio_vascular.csv\")\n",
    "cardio.head()"
   ]
  },
  {
   "cell_type": "code",
   "execution_count": 3,
   "id": "0ed14db5",
   "metadata": {},
   "outputs": [],
   "source": [
    "from scipy.stats import shapiro\n"
   ]
  },
  {
   "cell_type": "code",
   "execution_count": 9,
   "id": "8d9a7160",
   "metadata": {},
   "outputs": [
    {
     "data": {
      "text/plain": [
       "ShapiroResult(statistic=0.9502236843109131, pvalue=4.0010225784919354e-18)"
      ]
     },
     "execution_count": 9,
     "metadata": {},
     "output_type": "execute_result"
    }
   ],
   "source": [
    "#shud be used only when no of samples > 30\n",
    "#alpha val wud be given by stakeholder, if not given default is 0.05\n",
    "shapiro(cardio['chol'])"
   ]
  },
  {
   "cell_type": "code",
   "execution_count": null,
   "id": "0832eb3a",
   "metadata": {},
   "outputs": [],
   "source": [
    "#calculate ci with different cl "
   ]
  },
  {
   "cell_type": "code",
   "execution_count": 10,
   "id": "cc567f6e",
   "metadata": {},
   "outputs": [
    {
     "name": "stderr",
     "output_type": "stream",
     "text": [
      "/tmp/ipykernel_35706/2127368623.py:3: DeprecationWarning: Use of keyword argument `alpha` for method `interval` is deprecated. Use first positional argument or keyword argument `confidence` instead.\n",
      "  st.norm.interval(alpha=0.90, loc=np.mean(cardio['chol']), scale=st.sem(cardio['chol']))\n"
     ]
    },
    {
     "data": {
      "text/plain": [
       "(243.34935246016116, 248.65064753983884)"
      ]
     },
     "execution_count": 10,
     "metadata": {},
     "output_type": "execute_result"
    }
   ],
   "source": [
    "#calculate ci for confidence level=0.90, 90% confidence level\n",
    "import scipy.stats as st\n",
    "st.norm.interval(alpha=0.90, loc=np.mean(cardio['chol']), scale=st.sem(cardio['chol']))\n",
    "#alpha is cl for which we are calculating - sem-standard error mean"
   ]
  },
  {
   "cell_type": "code",
   "execution_count": 11,
   "id": "5e57e646",
   "metadata": {},
   "outputs": [
    {
     "name": "stderr",
     "output_type": "stream",
     "text": [
      "/tmp/ipykernel_35706/2644647484.py:3: DeprecationWarning: Use of keyword argument `alpha` for method `interval` is deprecated. Use first positional argument or keyword argument `confidence` instead.\n",
      "  st.norm.interval(alpha=0.95, loc=np.mean(cardio['chol']), scale=st.sem(cardio['chol']))\n"
     ]
    },
    {
     "data": {
      "text/plain": [
       "(242.8415586477306, 249.1584413522694)"
      ]
     },
     "execution_count": 11,
     "metadata": {},
     "output_type": "execute_result"
    }
   ],
   "source": [
    "#calculate ci for confidence level=0.95\n",
    "import scipy.stats as st\n",
    "st.norm.interval(alpha=0.95, loc=np.mean(cardio['chol']), scale=st.sem(cardio['chol']))\n",
    "#alpha is cl for which we are calculating - sem-standard error mean"
   ]
  },
  {
   "cell_type": "code",
   "execution_count": null,
   "id": "713fd9b1",
   "metadata": {},
   "outputs": [],
   "source": [
    "#as confidence level increases, confidence interval increases"
   ]
  },
  {
   "cell_type": "code",
   "execution_count": 12,
   "id": "ef2fd0c4",
   "metadata": {},
   "outputs": [
    {
     "name": "stderr",
     "output_type": "stream",
     "text": [
      "/tmp/ipykernel_35706/378029497.py:3: DeprecationWarning: Use of keyword argument `alpha` for method `interval` is deprecated. Use first positional argument or keyword argument `confidence` instead.\n",
      "  st.norm.interval(alpha=0.90, loc=np.mean(cardio['trestbps']), scale=st.sem(cardio['trestbps']))\n"
     ]
    },
    {
     "data": {
      "text/plain": [
       "(130.7117579774995, 132.51165665664686)"
      ]
     },
     "execution_count": 12,
     "metadata": {},
     "output_type": "execute_result"
    }
   ],
   "source": [
    "#calculate ci for confidence level=0.90, 90% confidence level\n",
    "import scipy.stats as st\n",
    "st.norm.interval(alpha=0.90, loc=np.mean(cardio['trestbps']), scale=st.sem(cardio['trestbps']))\n",
    "#alpha is cl for which we are calculating - sem-standard error mean"
   ]
  },
  {
   "cell_type": "code",
   "execution_count": null,
   "id": "3416a74c",
   "metadata": {},
   "outputs": [],
   "source": [
    "#calculate confidence interval of sample 50 plants"
   ]
  },
  {
   "cell_type": "code",
   "execution_count": 13,
   "id": "a1db8708",
   "metadata": {},
   "outputs": [],
   "source": [
    "data=np.random.randint(10,30,50) #min 10, max - 30, cnt-50"
   ]
  },
  {
   "cell_type": "code",
   "execution_count": 14,
   "id": "77f66f31",
   "metadata": {},
   "outputs": [
    {
     "data": {
      "text/plain": [
       "array([16, 28, 23, 17, 29, 14, 10, 27, 22, 13, 25, 21, 29, 20, 11, 19, 13,\n",
       "       24, 26, 12, 10, 23, 28, 11, 18, 28, 28, 25, 20, 18, 27, 23, 11, 13,\n",
       "       29, 22, 28, 11, 18, 18, 25, 26, 11, 19, 14, 11, 24, 23, 16, 21])"
      ]
     },
     "execution_count": 14,
     "metadata": {},
     "output_type": "execute_result"
    }
   ],
   "source": [
    "data"
   ]
  },
  {
   "cell_type": "code",
   "execution_count": 15,
   "id": "2c21883c",
   "metadata": {},
   "outputs": [
    {
     "name": "stderr",
     "output_type": "stream",
     "text": [
      "/tmp/ipykernel_35706/3828146806.py:2: DeprecationWarning: Use of keyword argument `alpha` for method `interval` is deprecated. Use first positional argument or keyword argument `confidence` instead.\n",
      "  st.norm.interval(alpha=0.90, loc=np.mean(data), scale=st.sem(data))\n"
     ]
    },
    {
     "data": {
      "text/plain": [
       "(18.50619517806883, 21.413804821931173)"
      ]
     },
     "execution_count": 15,
     "metadata": {},
     "output_type": "execute_result"
    }
   ],
   "source": [
    "import scipy.stats as st\n",
    "st.norm.interval(alpha=0.90, loc=np.mean(data), scale=st.sem(data))"
   ]
  },
  {
   "cell_type": "code",
   "execution_count": 16,
   "id": "acdce343",
   "metadata": {},
   "outputs": [
    {
     "data": {
      "text/plain": [
       "19.96"
      ]
     },
     "execution_count": 16,
     "metadata": {},
     "output_type": "execute_result"
    }
   ],
   "source": [
    "np.mean(data)"
   ]
  },
  {
   "cell_type": "code",
   "execution_count": null,
   "id": "2b1d908c",
   "metadata": {},
   "outputs": [],
   "source": [
    "#means - 90% chance that mean height of population will fall in this range (18.50619517806883, 21.413804821931173)\n",
    "#like if we have 1 lakh population, and if randomly selected any samples there is 90 percent chance that its height falls \n",
    "#in btn 18 to 21\n",
    "#there is still 10% chances that it can fall out of this range"
   ]
  },
  {
   "cell_type": "code",
   "execution_count": 18,
   "id": "71905800",
   "metadata": {},
   "outputs": [
    {
     "data": {
      "text/plain": [
       "ShapiroResult(statistic=0.9234757423400879, pvalue=0.003156144404783845)"
      ]
     },
     "execution_count": 18,
     "metadata": {},
     "output_type": "execute_result"
    }
   ],
   "source": [
    "shapiro(data)"
   ]
  },
  {
   "cell_type": "code",
   "execution_count": null,
   "id": "7390b9a3",
   "metadata": {},
   "outputs": [],
   "source": [
    "#if pvalue s less than alpha value, it is normally distributed, there is no null hypothesis"
   ]
  },
  {
   "cell_type": "code",
   "execution_count": 19,
   "id": "b46618a6",
   "metadata": {},
   "outputs": [
    {
     "name": "stderr",
     "output_type": "stream",
     "text": [
      "/tmp/ipykernel_35706/424225708.py:2: DeprecationWarning: Use of keyword argument `alpha` for method `interval` is deprecated. Use first positional argument or keyword argument `confidence` instead.\n",
      "  st.norm.interval(alpha=0.95, loc=np.mean(data), scale=st.sem(data))\n"
     ]
    },
    {
     "data": {
      "text/plain": [
       "(18.227684707716655, 21.692315292283347)"
      ]
     },
     "execution_count": 19,
     "metadata": {},
     "output_type": "execute_result"
    }
   ],
   "source": [
    "import scipy.stats as st\n",
    "st.norm.interval(alpha=0.95, loc=np.mean(data), scale=st.sem(data))"
   ]
  },
  {
   "cell_type": "markdown",
   "id": "24e823b1",
   "metadata": {},
   "source": [
    "# Confidence interval using t-distrution"
   ]
  },
  {
   "cell_type": "code",
   "execution_count": null,
   "id": "8fbdf2e0",
   "metadata": {},
   "outputs": [],
   "source": [
    "#if we are working with small sample < 30, this is used"
   ]
  },
  {
   "cell_type": "code",
   "execution_count": 21,
   "id": "ef509a71",
   "metadata": {},
   "outputs": [],
   "source": [
    "data2=np.random.randint(10,30,15) #min 10, max - 30, cnt-50"
   ]
  },
  {
   "cell_type": "code",
   "execution_count": 22,
   "id": "dd3b90c7",
   "metadata": {},
   "outputs": [
    {
     "data": {
      "text/plain": [
       "ShapiroResult(statistic=0.9553446173667908, pvalue=0.6121435761451721)"
      ]
     },
     "execution_count": 22,
     "metadata": {},
     "output_type": "execute_result"
    }
   ],
   "source": [
    "shapiro(data2)"
   ]
  },
  {
   "cell_type": "code",
   "execution_count": null,
   "id": "6a33e156",
   "metadata": {},
   "outputs": [],
   "source": [
    "#here p value > 0.5, more than alpha value(0.05)/significance level, hence it is NOT normally distributed\n",
    "#we can reject null hypothesis"
   ]
  },
  {
   "cell_type": "code",
   "execution_count": 23,
   "id": "054e09a0",
   "metadata": {},
   "outputs": [
    {
     "name": "stderr",
     "output_type": "stream",
     "text": [
      "/tmp/ipykernel_35706/2673484837.py:2: DeprecationWarning: Use of keyword argument `alpha` for method `interval` is deprecated. Use first positional argument or keyword argument `confidence` instead.\n",
      "  st.t.interval(alpha=0.95, df=len(data2-1),loc=np.mean(data2), scale=st.sem(data2))\n"
     ]
    },
    {
     "data": {
      "text/plain": [
       "(15.565646188240873, 21.63435381175913)"
      ]
     },
     "execution_count": 23,
     "metadata": {},
     "output_type": "execute_result"
    }
   ],
   "source": [
    "import scipy.stats as st\n",
    "st.t.interval(alpha=0.95, df=len(data2-1),loc=np.mean(data2), scale=st.sem(data2))"
   ]
  },
  {
   "cell_type": "markdown",
   "id": "fa383b65",
   "metadata": {},
   "source": [
    "# one sample t-test in python"
   ]
  },
  {
   "cell_type": "code",
   "execution_count": null,
   "id": "9276548e",
   "metadata": {},
   "outputs": [],
   "source": [
    "#we have collected samples, we are checking whether mean of sample & mean of population is same"
   ]
  },
  {
   "cell_type": "code",
   "execution_count": null,
   "id": "132e8236",
   "metadata": {},
   "outputs": [],
   "source": [
    "\n",
    "\"\"\"For example, suppose we want to know whether or not the mean weight of a certain species of \n",
    "some turtle is equal to 310 pounds.\n",
    "\n",
    "To test this, we go out and collect a simple random sample of turtles with the following weights:\n",
    "\n",
    "Weights: 300, 315, 320, 311, 314, 309, 300, 308, 305, 303, 305, 301, 303\n",
    "\n",
    ":\"\"\""
   ]
  },
  {
   "cell_type": "code",
   "execution_count": null,
   "id": "836f7b30",
   "metadata": {},
   "outputs": [],
   "source": [
    "\"\"\"The two hypotheses for this particular one sample t-test are as follows:\n",
    "\n",
    "H0: µ = 310 (the mean weight for this species of turtle is 310 pounds)\n",
    "HA: µ ≠310 (the mean weight is not 310 pounds)\"\"\""
   ]
  },
  {
   "cell_type": "code",
   "execution_count": null,
   "id": "99c1cf33",
   "metadata": {},
   "outputs": [],
   "source": [
    "\"\"\"A two sample t-test is used to test whether or not the means of two populations are equal.\n",
    "\n",
    "For example, suppose we want to know whether or not the mean weight between two \n",
    "different species of turtles is equal.\"\"\""
   ]
  },
  {
   "cell_type": "code",
   "execution_count": 24,
   "id": "bd7669b7",
   "metadata": {},
   "outputs": [],
   "source": [
    "data = [300, 315, 320, 311, 314, 309, 300, 308, 305, 303, 305, 301, 303]"
   ]
  },
  {
   "cell_type": "code",
   "execution_count": null,
   "id": "7e0d942f",
   "metadata": {},
   "outputs": [],
   "source": [
    "#perform one sample t test"
   ]
  },
  {
   "cell_type": "code",
   "execution_count": 26,
   "id": "2c7d647d",
   "metadata": {},
   "outputs": [
    {
     "data": {
      "text/plain": [
       "Ttest_1sampResult(statistic=-1.5848116313861254, pvalue=0.1389944275158753)"
      ]
     },
     "execution_count": 26,
     "metadata": {},
     "output_type": "execute_result"
    }
   ],
   "source": [
    "import scipy.stats as st\n",
    "st.ttest_1samp(data,popmean=310)"
   ]
  },
  {
   "cell_type": "code",
   "execution_count": null,
   "id": "9c3e5c2a",
   "metadata": {},
   "outputs": [],
   "source": [
    "#as p-value >alpha(0.05) we are not able to reject null hypothesis"
   ]
  },
  {
   "cell_type": "code",
   "execution_count": 27,
   "id": "48d2911a",
   "metadata": {},
   "outputs": [
    {
     "name": "stderr",
     "output_type": "stream",
     "text": [
      "/tmp/ipykernel_35706/424225708.py:2: DeprecationWarning: Use of keyword argument `alpha` for method `interval` is deprecated. Use first positional argument or keyword argument `confidence` instead.\n",
      "  st.norm.interval(alpha=0.95, loc=np.mean(data), scale=st.sem(data))\n"
     ]
    },
    {
     "data": {
      "text/plain": [
       "(303.8060135909931, 310.6555248705454)"
      ]
     },
     "execution_count": 27,
     "metadata": {},
     "output_type": "execute_result"
    }
   ],
   "source": [
    "import scipy.stats as st\n",
    "st.norm.interval(alpha=0.95, loc=np.mean(data), scale=st.sem(data))"
   ]
  },
  {
   "cell_type": "code",
   "execution_count": null,
   "id": "ff3c93da",
   "metadata": {},
   "outputs": [],
   "source": [
    "#even trough ci, we are getting 310 value"
   ]
  },
  {
   "cell_type": "code",
   "execution_count": null,
   "id": "d58d3d7c",
   "metadata": {},
   "outputs": [],
   "source": [
    "\"\"\"To test this, we collect a simple random sample of turtles from each \n",
    "species with the following weights:\n",
    "\n",
    "Sample 1: 300, 315, 320, 311, 314, 309, 300, 308, 305, 303, 305, 301, 303\n",
    "\n",
    "Sample 2: 335, 329, 322, 321, 324, 319, 304, 308, 305, 311, 307, 300, 305\n",
    "\n",
    "The following code shows how to use the ttest_ind() function from the scipy.stats library to \n",
    "perform this two sample t-test:\"\"\""
   ]
  },
  {
   "cell_type": "code",
   "execution_count": null,
   "id": "f4d211e3",
   "metadata": {},
   "outputs": [],
   "source": [
    "\"\"\"The two hypotheses for this particular two sample t-test are as follows:\n",
    "\n",
    "H0: µ1 = µ2 (the mean weight between the two species is equal)\n",
    "HA: µ1 ≠ µ2 (the mean weight between the two species is not equal)\"\"\""
   ]
  },
  {
   "cell_type": "code",
   "execution_count": null,
   "id": "5bfe494d",
   "metadata": {},
   "outputs": [],
   "source": [
    "#here we are provided with null hypothesis and alternate"
   ]
  },
  {
   "cell_type": "code",
   "execution_count": 28,
   "id": "c7372e64",
   "metadata": {},
   "outputs": [],
   "source": [
    "sample1=[300, 315, 320, 311, 314, 309, 300, 308, 305, 303, 305, 301, 303]\n",
    "sample2=[335, 329, 322, 321, 324, 319, 304, 308, 305, 311, 307, 300, 305]"
   ]
  },
  {
   "cell_type": "code",
   "execution_count": 29,
   "id": "7fe88c49",
   "metadata": {},
   "outputs": [
    {
     "data": {
      "text/plain": [
       "Ttest_indResult(statistic=-2.10090292575557, pvalue=0.04633501389516513)"
      ]
     },
     "execution_count": 29,
     "metadata": {},
     "output_type": "execute_result"
    }
   ],
   "source": [
    "st.ttest_ind(sample1, sample2)"
   ]
  },
  {
   "cell_type": "code",
   "execution_count": null,
   "id": "f07653f1",
   "metadata": {},
   "outputs": [],
   "source": [
    "#as p-value< aplha, we reject null hypothesis, means mean weight btn 2 samples is not equal\n",
    "#means two samples are collected from different sources"
   ]
  },
  {
   "cell_type": "code",
   "execution_count": null,
   "id": "ff7736a3",
   "metadata": {},
   "outputs": [],
   "source": [
    "\"\"\"A university professor gave online lectures instead of face-to-face classes due to Covid-19. Later, \n",
    "he uploaded recorded lectures to the cloud for students who followed the course asynchronously \n",
    "(those who did not attend the lesson but later watched the records). However, \n",
    "he believes that the students who attend class at the class time and participate in the process are more successful. \n",
    "Therefore, he recorded the average grades of the students at the end of the semester. The data is below.\n",
    "\n",
    "synchronous = [94. , 84.9, 82.6, 69.5, 80.1, 79.6, 81.4, 77.8, 81.7, 78.8, 73.2, 87.9, 87.9, 93.5, 82.3, 79.3, 78.3, 71.6, 88.6, 74.6, 74.1, 80.6]\n",
    "asynchronous = [77.1, 71.7, 91. , 72.2, 74.8, 85.1, 67.6, 69.9, 75.3, 71.7, 65.7, 72.6, 71.5, 78.2]\n",
    "\n",
    "Conduct the hypothesis testing to check whether the professor’s belief is statistically significant by using a 0.05 \n",
    "significance level to evaluate the null and alternative hypotheses. \n",
    "Before doing hypothesis testing, check the related assumptions. Comment on the results.\"\"\""
   ]
  },
  {
   "cell_type": "code",
   "execution_count": null,
   "id": "e4a78b73",
   "metadata": {},
   "outputs": [],
   "source": [
    "\"\"\"1. Defining Hypothesis\n",
    "Since the grades are obtained from the different individuals, the data is unpaired.\n",
    "\n",
    "H₀: μₛ≤μₐ\n",
    "H₁: μₛ>μₐ\n",
    "\n",
    "2. Assumption Check\n",
    "H₀: The data is normally distributed.\n",
    "H₁: The data is not normally distributed.\n",
    "Assume that α=0.05. If the p-value is >0.05, it can be said that data is normally distributed.\"\"\""
   ]
  },
  {
   "cell_type": "code",
   "execution_count": 33,
   "id": "a94f548b",
   "metadata": {},
   "outputs": [],
   "source": [
    "synchronous = [94. , 84.9, 82.6, 69.5, 80.1, 79.6, 81.4, 77.8, 81.7, 78.8, 73.2, 87.9, 87.9, 93.5, 82.3, 79.3, 78.3, 71.6, 88.6, 74.6, 74.1, 80.6]\n",
    "asynchronous = [77.1, 71.7, 91. , 72.2, 74.8, 85.1, 67.6, 69.9, 75.3, 71.7, 65.7, 72.6, 71.5, 78.2]\n"
   ]
  },
  {
   "cell_type": "code",
   "execution_count": 43,
   "id": "f4170476",
   "metadata": {},
   "outputs": [
    {
     "name": "stdout",
     "output_type": "stream",
     "text": [
      "40.75208677685952 41.81714285714285\n"
     ]
    }
   ],
   "source": [
    "print(np.var(synchronous), np.var(asynchronous))"
   ]
  },
  {
   "cell_type": "code",
   "execution_count": null,
   "id": "40eaafa2",
   "metadata": {},
   "outputs": [],
   "source": [
    "#here variance is not equal, for ttest we can pass equal_var as false"
   ]
  },
  {
   "cell_type": "code",
   "execution_count": 44,
   "id": "91f6595c",
   "metadata": {},
   "outputs": [
    {
     "data": {
      "text/plain": [
       "Ttest_indResult(statistic=2.8241907458142563, pvalue=0.008754235249671019)"
      ]
     },
     "execution_count": 44,
     "metadata": {},
     "output_type": "execute_result"
    }
   ],
   "source": [
    "st.ttest_ind(synchronous, asynchronous, equal_var=False)"
   ]
  },
  {
   "cell_type": "code",
   "execution_count": null,
   "id": "33be41b0",
   "metadata": {},
   "outputs": [],
   "source": [
    "#p value is less than 0.05, hence we can reject null hypothesis\n",
    "#The data is not normally distributed, means professor assumption is correct"
   ]
  },
  {
   "cell_type": "code",
   "execution_count": null,
   "id": "d01f2510",
   "metadata": {},
   "outputs": [],
   "source": [
    "\"\"\"\n",
    "For example, suppose a professor wants to know if two different \n",
    "studying methods lead to different mean exam scores.\n",
    "\n",
    "To test this, he recruits 10 students to use method A and 10 students to use method B.\n",
    "\n",
    " :\"\"\""
   ]
  },
  {
   "cell_type": "code",
   "execution_count": 37,
   "id": "d8e1e16e",
   "metadata": {},
   "outputs": [
    {
     "data": {
      "text/html": [
       "<div>\n",
       "<style scoped>\n",
       "    .dataframe tbody tr th:only-of-type {\n",
       "        vertical-align: middle;\n",
       "    }\n",
       "\n",
       "    .dataframe tbody tr th {\n",
       "        vertical-align: top;\n",
       "    }\n",
       "\n",
       "    .dataframe thead th {\n",
       "        text-align: right;\n",
       "    }\n",
       "</style>\n",
       "<table border=\"1\" class=\"dataframe\">\n",
       "  <thead>\n",
       "    <tr style=\"text-align: right;\">\n",
       "      <th></th>\n",
       "      <th>method</th>\n",
       "      <th>score</th>\n",
       "    </tr>\n",
       "  </thead>\n",
       "  <tbody>\n",
       "    <tr>\n",
       "      <th>0</th>\n",
       "      <td>A</td>\n",
       "      <td>71</td>\n",
       "    </tr>\n",
       "    <tr>\n",
       "      <th>1</th>\n",
       "      <td>A</td>\n",
       "      <td>72</td>\n",
       "    </tr>\n",
       "    <tr>\n",
       "      <th>2</th>\n",
       "      <td>A</td>\n",
       "      <td>72</td>\n",
       "    </tr>\n",
       "    <tr>\n",
       "      <th>3</th>\n",
       "      <td>A</td>\n",
       "      <td>75</td>\n",
       "    </tr>\n",
       "    <tr>\n",
       "      <th>4</th>\n",
       "      <td>A</td>\n",
       "      <td>78</td>\n",
       "    </tr>\n",
       "    <tr>\n",
       "      <th>5</th>\n",
       "      <td>A</td>\n",
       "      <td>81</td>\n",
       "    </tr>\n",
       "    <tr>\n",
       "      <th>6</th>\n",
       "      <td>A</td>\n",
       "      <td>82</td>\n",
       "    </tr>\n",
       "    <tr>\n",
       "      <th>7</th>\n",
       "      <td>A</td>\n",
       "      <td>83</td>\n",
       "    </tr>\n",
       "    <tr>\n",
       "      <th>8</th>\n",
       "      <td>A</td>\n",
       "      <td>89</td>\n",
       "    </tr>\n",
       "    <tr>\n",
       "      <th>9</th>\n",
       "      <td>A</td>\n",
       "      <td>91</td>\n",
       "    </tr>\n",
       "    <tr>\n",
       "      <th>10</th>\n",
       "      <td>B</td>\n",
       "      <td>80</td>\n",
       "    </tr>\n",
       "    <tr>\n",
       "      <th>11</th>\n",
       "      <td>B</td>\n",
       "      <td>81</td>\n",
       "    </tr>\n",
       "    <tr>\n",
       "      <th>12</th>\n",
       "      <td>B</td>\n",
       "      <td>81</td>\n",
       "    </tr>\n",
       "    <tr>\n",
       "      <th>13</th>\n",
       "      <td>B</td>\n",
       "      <td>84</td>\n",
       "    </tr>\n",
       "    <tr>\n",
       "      <th>14</th>\n",
       "      <td>B</td>\n",
       "      <td>88</td>\n",
       "    </tr>\n",
       "    <tr>\n",
       "      <th>15</th>\n",
       "      <td>B</td>\n",
       "      <td>88</td>\n",
       "    </tr>\n",
       "    <tr>\n",
       "      <th>16</th>\n",
       "      <td>B</td>\n",
       "      <td>89</td>\n",
       "    </tr>\n",
       "    <tr>\n",
       "      <th>17</th>\n",
       "      <td>B</td>\n",
       "      <td>90</td>\n",
       "    </tr>\n",
       "    <tr>\n",
       "      <th>18</th>\n",
       "      <td>B</td>\n",
       "      <td>90</td>\n",
       "    </tr>\n",
       "    <tr>\n",
       "      <th>19</th>\n",
       "      <td>B</td>\n",
       "      <td>91</td>\n",
       "    </tr>\n",
       "  </tbody>\n",
       "</table>\n",
       "</div>"
      ],
      "text/plain": [
       "   method  score\n",
       "0       A     71\n",
       "1       A     72\n",
       "2       A     72\n",
       "3       A     75\n",
       "4       A     78\n",
       "5       A     81\n",
       "6       A     82\n",
       "7       A     83\n",
       "8       A     89\n",
       "9       A     91\n",
       "10      B     80\n",
       "11      B     81\n",
       "12      B     81\n",
       "13      B     84\n",
       "14      B     88\n",
       "15      B     88\n",
       "16      B     89\n",
       "17      B     90\n",
       "18      B     90\n",
       "19      B     91"
      ]
     },
     "execution_count": 37,
     "metadata": {},
     "output_type": "execute_result"
    }
   ],
   "source": [
    "#create pandas DataFrame\n",
    "df = pd.DataFrame({'method': ['A', 'A', 'A', 'A', 'A', 'A', 'A', 'A', 'A', 'A',\n",
    "                              'B', 'B', 'B', 'B', 'B', 'B', 'B', 'B', 'B', 'B'],\n",
    "                   'score': [71, 72, 72, 75, 78, 81, 82, 83, 89, 91, 80, 81, 81,\n",
    "                             84, 88, 88, 89, 90, 90, 91]})\n",
    "\n",
    "#view first five rows of DataFrame\n",
    "df.head(20)"
   ]
  },
  {
   "cell_type": "code",
   "execution_count": 38,
   "id": "53f93972",
   "metadata": {},
   "outputs": [],
   "source": [
    "#create two samples/groups\n",
    "#alternative hypothesis - result of two different method students are not same\n",
    "#null hypothesis - result is same\n",
    "grp1= df[df['method'] ==\"A\"]\n",
    "grp2= df[df['method'] ==\"B\"]"
   ]
  },
  {
   "cell_type": "code",
   "execution_count": 39,
   "id": "b4431192",
   "metadata": {},
   "outputs": [
    {
     "data": {
      "text/html": [
       "<div>\n",
       "<style scoped>\n",
       "    .dataframe tbody tr th:only-of-type {\n",
       "        vertical-align: middle;\n",
       "    }\n",
       "\n",
       "    .dataframe tbody tr th {\n",
       "        vertical-align: top;\n",
       "    }\n",
       "\n",
       "    .dataframe thead th {\n",
       "        text-align: right;\n",
       "    }\n",
       "</style>\n",
       "<table border=\"1\" class=\"dataframe\">\n",
       "  <thead>\n",
       "    <tr style=\"text-align: right;\">\n",
       "      <th></th>\n",
       "      <th>method</th>\n",
       "      <th>score</th>\n",
       "    </tr>\n",
       "  </thead>\n",
       "  <tbody>\n",
       "    <tr>\n",
       "      <th>0</th>\n",
       "      <td>A</td>\n",
       "      <td>71</td>\n",
       "    </tr>\n",
       "    <tr>\n",
       "      <th>1</th>\n",
       "      <td>A</td>\n",
       "      <td>72</td>\n",
       "    </tr>\n",
       "    <tr>\n",
       "      <th>2</th>\n",
       "      <td>A</td>\n",
       "      <td>72</td>\n",
       "    </tr>\n",
       "    <tr>\n",
       "      <th>3</th>\n",
       "      <td>A</td>\n",
       "      <td>75</td>\n",
       "    </tr>\n",
       "    <tr>\n",
       "      <th>4</th>\n",
       "      <td>A</td>\n",
       "      <td>78</td>\n",
       "    </tr>\n",
       "    <tr>\n",
       "      <th>5</th>\n",
       "      <td>A</td>\n",
       "      <td>81</td>\n",
       "    </tr>\n",
       "    <tr>\n",
       "      <th>6</th>\n",
       "      <td>A</td>\n",
       "      <td>82</td>\n",
       "    </tr>\n",
       "    <tr>\n",
       "      <th>7</th>\n",
       "      <td>A</td>\n",
       "      <td>83</td>\n",
       "    </tr>\n",
       "    <tr>\n",
       "      <th>8</th>\n",
       "      <td>A</td>\n",
       "      <td>89</td>\n",
       "    </tr>\n",
       "    <tr>\n",
       "      <th>9</th>\n",
       "      <td>A</td>\n",
       "      <td>91</td>\n",
       "    </tr>\n",
       "  </tbody>\n",
       "</table>\n",
       "</div>"
      ],
      "text/plain": [
       "  method  score\n",
       "0      A     71\n",
       "1      A     72\n",
       "2      A     72\n",
       "3      A     75\n",
       "4      A     78\n",
       "5      A     81\n",
       "6      A     82\n",
       "7      A     83\n",
       "8      A     89\n",
       "9      A     91"
      ]
     },
     "execution_count": 39,
     "metadata": {},
     "output_type": "execute_result"
    }
   ],
   "source": [
    "grp1"
   ]
  },
  {
   "cell_type": "code",
   "execution_count": 40,
   "id": "e008ae12",
   "metadata": {},
   "outputs": [],
   "source": [
    "sample1 = grp1['score']\n",
    "sample2 = grp2['score']"
   ]
  },
  {
   "cell_type": "code",
   "execution_count": 41,
   "id": "3d87efaf",
   "metadata": {},
   "outputs": [
    {
     "data": {
      "text/plain": [
       "0    71\n",
       "1    72\n",
       "2    72\n",
       "3    75\n",
       "4    78\n",
       "5    81\n",
       "6    82\n",
       "7    83\n",
       "8    89\n",
       "9    91\n",
       "Name: score, dtype: int64"
      ]
     },
     "execution_count": 41,
     "metadata": {},
     "output_type": "execute_result"
    }
   ],
   "source": [
    "sample1\n"
   ]
  },
  {
   "cell_type": "code",
   "execution_count": 42,
   "id": "f59afbde",
   "metadata": {},
   "outputs": [
    {
     "data": {
      "text/plain": [
       "Ttest_indResult(statistic=-2.6034304605397938, pvalue=0.017969284594810425)"
      ]
     },
     "execution_count": 42,
     "metadata": {},
     "output_type": "execute_result"
    }
   ],
   "source": [
    "st.ttest_ind(sample1, sample2)"
   ]
  },
  {
   "cell_type": "code",
   "execution_count": null,
   "id": "d494584b",
   "metadata": {},
   "outputs": [],
   "source": [
    "#p value is less than 0.05, hence we can reject null hypothesis\n",
    "#the result of 2 groups is not same"
   ]
  },
  {
   "cell_type": "code",
   "execution_count": null,
   "id": "934ef78d",
   "metadata": {},
   "outputs": [],
   "source": [
    "#welch's t-test in pandas"
   ]
  },
  {
   "cell_type": "code",
   "execution_count": null,
   "id": "5a90a841",
   "metadata": {},
   "outputs": [],
   "source": [
    "#its same as t-test , except that it dosnt assume samples come frm equal variance, we need to pass\n",
    "#equal_var=False within ttest_ind()"
   ]
  }
 ],
 "metadata": {
  "kernelspec": {
   "display_name": "Python 3 (ipykernel)",
   "language": "python",
   "name": "python3"
  },
  "language_info": {
   "codemirror_mode": {
    "name": "ipython",
    "version": 3
   },
   "file_extension": ".py",
   "mimetype": "text/x-python",
   "name": "python",
   "nbconvert_exporter": "python",
   "pygments_lexer": "ipython3",
   "version": "3.9.13"
  }
 },
 "nbformat": 4,
 "nbformat_minor": 5
}
