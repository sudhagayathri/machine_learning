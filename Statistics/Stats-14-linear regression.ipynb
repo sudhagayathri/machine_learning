{
 "cells": [
  {
   "cell_type": "markdown",
   "id": "c1a6531c",
   "metadata": {},
   "source": [
    "# Linear regression\n",
    "#how one variable(dependent) can be predicted using other varaibales\n",
    "#here we predict price of  house basd on various factor\n"
   ]
  },
  {
   "cell_type": "code",
   "execution_count": null,
   "id": "387c8a4d",
   "metadata": {},
   "outputs": [],
   "source": [
    "#first step in building model\n",
    "#1. EDA \n",
    "#2. preprocessing(this comes under EDA only)\n",
    "#3. model building\n",
    "#4. Evaluation"
   ]
  },
  {
   "cell_type": "code",
   "execution_count": 1,
   "id": "aca7920c",
   "metadata": {},
   "outputs": [],
   "source": [
    "import numpy as np\n",
    "import pandas as pd\n",
    "import matplotlib.pyplot as plt\n",
    "%matplotlib inline\n",
    "import seaborn as sns\n",
    "import warnings\n",
    "warnings.filterwarnings('ignore')"
   ]
  },
  {
   "cell_type": "code",
   "execution_count": null,
   "id": "098a4061",
   "metadata": {},
   "outputs": [],
   "source": []
  }
 ],
 "metadata": {
  "kernelspec": {
   "display_name": "Python 3 (ipykernel)",
   "language": "python",
   "name": "python3"
  },
  "language_info": {
   "codemirror_mode": {
    "name": "ipython",
    "version": 3
   },
   "file_extension": ".py",
   "mimetype": "text/x-python",
   "name": "python",
   "nbconvert_exporter": "python",
   "pygments_lexer": "ipython3",
   "version": "3.9.13"
  }
 },
 "nbformat": 4,
 "nbformat_minor": 5
}
