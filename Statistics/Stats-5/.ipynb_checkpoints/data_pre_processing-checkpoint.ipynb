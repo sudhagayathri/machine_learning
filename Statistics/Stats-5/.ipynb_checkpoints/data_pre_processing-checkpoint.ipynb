{
 "cells": [
  {
   "cell_type": "code",
   "execution_count": 1,
   "id": "3d306516",
   "metadata": {},
   "outputs": [],
   "source": [
    "#pre-processing, handling missing value, outliers treatment, label encoding\n"
   ]
  },
  {
   "cell_type": "code",
   "execution_count": 2,
   "id": "c5cc5b5b",
   "metadata": {},
   "outputs": [],
   "source": [
    "#in ML, if we run data set with missing values it will throw error, either we have to drop that data or fill it with\n",
    "#some data"
   ]
  },
  {
   "cell_type": "code",
   "execution_count": 3,
   "id": "8ceaf094",
   "metadata": {},
   "outputs": [],
   "source": [
    "#handling missing values - 1. Inputation - replace with new value - either by mean/median\n",
    "#if no outlier prefer mean\n",
    "#prefer median if there is outlier\n",
    "#2.Drop/delete entire row/obervation\n",
    " \n",
    "#Always try imputation approach"
   ]
  },
  {
   "cell_type": "code",
   "execution_count": 4,
   "id": "303628e5",
   "metadata": {},
   "outputs": [
    {
     "data": {
      "text/plain": [
       "'/home/justdial/learnbae_ml/Statistics/Stats-5'"
      ]
     },
     "execution_count": 4,
     "metadata": {},
     "output_type": "execute_result"
    }
   ],
   "source": [
    "import numpy as np\n",
    "import pandas as pd\n",
    "import matplotlib.pyplot as plt\n",
    "%matplotlib inline\n",
    "import seaborn as sns\n",
    "import os\n",
    "os.getcwd()"
   ]
  },
  {
   "cell_type": "code",
   "execution_count": 5,
   "id": "ebf66d41",
   "metadata": {},
   "outputs": [
    {
     "data": {
      "text/html": [
       "<div>\n",
       "<style scoped>\n",
       "    .dataframe tbody tr th:only-of-type {\n",
       "        vertical-align: middle;\n",
       "    }\n",
       "\n",
       "    .dataframe tbody tr th {\n",
       "        vertical-align: top;\n",
       "    }\n",
       "\n",
       "    .dataframe thead th {\n",
       "        text-align: right;\n",
       "    }\n",
       "</style>\n",
       "<table border=\"1\" class=\"dataframe\">\n",
       "  <thead>\n",
       "    <tr style=\"text-align: right;\">\n",
       "      <th></th>\n",
       "      <th>Dept</th>\n",
       "      <th>Age</th>\n",
       "      <th>Experience</th>\n",
       "      <th>Salary</th>\n",
       "      <th>Education</th>\n",
       "      <th>Projects</th>\n",
       "    </tr>\n",
       "  </thead>\n",
       "  <tbody>\n",
       "    <tr>\n",
       "      <th>0</th>\n",
       "      <td>HR</td>\n",
       "      <td>32.0</td>\n",
       "      <td>9</td>\n",
       "      <td>40000.0</td>\n",
       "      <td>Under_Graduate</td>\n",
       "      <td>0.0</td>\n",
       "    </tr>\n",
       "    <tr>\n",
       "      <th>1</th>\n",
       "      <td>HR</td>\n",
       "      <td>33.0</td>\n",
       "      <td>12</td>\n",
       "      <td>48000.0</td>\n",
       "      <td>Master</td>\n",
       "      <td>0.0</td>\n",
       "    </tr>\n",
       "    <tr>\n",
       "      <th>2</th>\n",
       "      <td>IT</td>\n",
       "      <td>35.0</td>\n",
       "      <td>12</td>\n",
       "      <td>45000.0</td>\n",
       "      <td>Master</td>\n",
       "      <td>5.0</td>\n",
       "    </tr>\n",
       "    <tr>\n",
       "      <th>3</th>\n",
       "      <td>IT</td>\n",
       "      <td>NaN</td>\n",
       "      <td>12</td>\n",
       "      <td>46000.0</td>\n",
       "      <td>Graduate</td>\n",
       "      <td>5.0</td>\n",
       "    </tr>\n",
       "    <tr>\n",
       "      <th>4</th>\n",
       "      <td>HR</td>\n",
       "      <td>34.0</td>\n",
       "      <td>11</td>\n",
       "      <td>NaN</td>\n",
       "      <td>Graduate</td>\n",
       "      <td>2.0</td>\n",
       "    </tr>\n",
       "  </tbody>\n",
       "</table>\n",
       "</div>"
      ],
      "text/plain": [
       "  Dept   Age Experience   Salary       Education  Projects\n",
       "0   HR  32.0          9  40000.0  Under_Graduate       0.0\n",
       "1   HR  33.0         12  48000.0          Master       0.0\n",
       "2   IT  35.0         12  45000.0          Master       5.0\n",
       "3   IT   NaN         12  46000.0        Graduate       5.0\n",
       "4   HR  34.0         11      NaN        Graduate       2.0"
      ]
     },
     "execution_count": 5,
     "metadata": {},
     "output_type": "execute_result"
    }
   ],
   "source": [
    "df =pd.read_excel(\"data_preprocessing.xlsx\")\n",
    "df.head()"
   ]
  },
  {
   "cell_type": "code",
   "execution_count": 6,
   "id": "583f401b",
   "metadata": {},
   "outputs": [
    {
     "data": {
      "text/html": [
       "<div>\n",
       "<style scoped>\n",
       "    .dataframe tbody tr th:only-of-type {\n",
       "        vertical-align: middle;\n",
       "    }\n",
       "\n",
       "    .dataframe tbody tr th {\n",
       "        vertical-align: top;\n",
       "    }\n",
       "\n",
       "    .dataframe thead th {\n",
       "        text-align: right;\n",
       "    }\n",
       "</style>\n",
       "<table border=\"1\" class=\"dataframe\">\n",
       "  <thead>\n",
       "    <tr style=\"text-align: right;\">\n",
       "      <th></th>\n",
       "      <th>Age</th>\n",
       "      <th>Salary</th>\n",
       "      <th>Projects</th>\n",
       "    </tr>\n",
       "  </thead>\n",
       "  <tbody>\n",
       "    <tr>\n",
       "      <th>count</th>\n",
       "      <td>30.000000</td>\n",
       "      <td>31.000000</td>\n",
       "      <td>27.000000</td>\n",
       "    </tr>\n",
       "    <tr>\n",
       "      <th>mean</th>\n",
       "      <td>37.333333</td>\n",
       "      <td>41983.870968</td>\n",
       "      <td>2.148148</td>\n",
       "    </tr>\n",
       "    <tr>\n",
       "      <th>std</th>\n",
       "      <td>18.690461</td>\n",
       "      <td>15998.168578</td>\n",
       "      <td>1.261980</td>\n",
       "    </tr>\n",
       "    <tr>\n",
       "      <th>min</th>\n",
       "      <td>0.000000</td>\n",
       "      <td>20000.000000</td>\n",
       "      <td>0.000000</td>\n",
       "    </tr>\n",
       "    <tr>\n",
       "      <th>25%</th>\n",
       "      <td>29.500000</td>\n",
       "      <td>35500.000000</td>\n",
       "      <td>1.000000</td>\n",
       "    </tr>\n",
       "    <tr>\n",
       "      <th>50%</th>\n",
       "      <td>34.500000</td>\n",
       "      <td>42000.000000</td>\n",
       "      <td>2.000000</td>\n",
       "    </tr>\n",
       "    <tr>\n",
       "      <th>75%</th>\n",
       "      <td>48.750000</td>\n",
       "      <td>45250.000000</td>\n",
       "      <td>3.000000</td>\n",
       "    </tr>\n",
       "    <tr>\n",
       "      <th>max</th>\n",
       "      <td>75.000000</td>\n",
       "      <td>90000.000000</td>\n",
       "      <td>5.000000</td>\n",
       "    </tr>\n",
       "  </tbody>\n",
       "</table>\n",
       "</div>"
      ],
      "text/plain": [
       "             Age        Salary   Projects\n",
       "count  30.000000     31.000000  27.000000\n",
       "mean   37.333333  41983.870968   2.148148\n",
       "std    18.690461  15998.168578   1.261980\n",
       "min     0.000000  20000.000000   0.000000\n",
       "25%    29.500000  35500.000000   1.000000\n",
       "50%    34.500000  42000.000000   2.000000\n",
       "75%    48.750000  45250.000000   3.000000\n",
       "max    75.000000  90000.000000   5.000000"
      ]
     },
     "execution_count": 6,
     "metadata": {},
     "output_type": "execute_result"
    }
   ],
   "source": [
    "df.describe()"
   ]
  },
  {
   "cell_type": "code",
   "execution_count": 7,
   "id": "f0ed8c0d",
   "metadata": {},
   "outputs": [
    {
     "data": {
      "text/html": [
       "<div>\n",
       "<style scoped>\n",
       "    .dataframe tbody tr th:only-of-type {\n",
       "        vertical-align: middle;\n",
       "    }\n",
       "\n",
       "    .dataframe tbody tr th {\n",
       "        vertical-align: top;\n",
       "    }\n",
       "\n",
       "    .dataframe thead th {\n",
       "        text-align: right;\n",
       "    }\n",
       "</style>\n",
       "<table border=\"1\" class=\"dataframe\">\n",
       "  <thead>\n",
       "    <tr style=\"text-align: right;\">\n",
       "      <th></th>\n",
       "      <th>Dept</th>\n",
       "      <th>Experience</th>\n",
       "      <th>Education</th>\n",
       "    </tr>\n",
       "  </thead>\n",
       "  <tbody>\n",
       "    <tr>\n",
       "      <th>count</th>\n",
       "      <td>31</td>\n",
       "      <td>29</td>\n",
       "      <td>31</td>\n",
       "    </tr>\n",
       "    <tr>\n",
       "      <th>unique</th>\n",
       "      <td>4</td>\n",
       "      <td>15</td>\n",
       "      <td>5</td>\n",
       "    </tr>\n",
       "    <tr>\n",
       "      <th>top</th>\n",
       "      <td>HR</td>\n",
       "      <td>12</td>\n",
       "      <td>Master</td>\n",
       "    </tr>\n",
       "    <tr>\n",
       "      <th>freq</th>\n",
       "      <td>13</td>\n",
       "      <td>6</td>\n",
       "      <td>12</td>\n",
       "    </tr>\n",
       "  </tbody>\n",
       "</table>\n",
       "</div>"
      ],
      "text/plain": [
       "       Dept  Experience Education\n",
       "count    31          29        31\n",
       "unique    4          15         5\n",
       "top      HR          12    Master\n",
       "freq     13           6        12"
      ]
     },
     "execution_count": 7,
     "metadata": {},
     "output_type": "execute_result"
    }
   ],
   "source": [
    "df.describe(include=\"O\")"
   ]
  },
  {
   "cell_type": "code",
   "execution_count": 8,
   "id": "ad75573e",
   "metadata": {},
   "outputs": [
    {
     "name": "stdout",
     "output_type": "stream",
     "text": [
      "<class 'pandas.core.frame.DataFrame'>\n",
      "RangeIndex: 33 entries, 0 to 32\n",
      "Data columns (total 6 columns):\n",
      " #   Column      Non-Null Count  Dtype  \n",
      "---  ------      --------------  -----  \n",
      " 0   Dept        31 non-null     object \n",
      " 1   Age         30 non-null     float64\n",
      " 2   Experience  29 non-null     object \n",
      " 3   Salary      31 non-null     float64\n",
      " 4   Education   31 non-null     object \n",
      " 5   Projects    27 non-null     float64\n",
      "dtypes: float64(3), object(3)\n",
      "memory usage: 1.7+ KB\n"
     ]
    }
   ],
   "source": [
    "df.info()"
   ]
  },
  {
   "cell_type": "code",
   "execution_count": 9,
   "id": "393fe6bf",
   "metadata": {},
   "outputs": [],
   "source": [
    "#here total entries are 33, but dept has just 31 non-null, age 30 non-null\n",
    "#means it has missing values\n"
   ]
  },
  {
   "cell_type": "code",
   "execution_count": 10,
   "id": "ffc616cd",
   "metadata": {},
   "outputs": [
    {
     "data": {
      "text/plain": [
       "Dept          2\n",
       "Age           3\n",
       "Experience    4\n",
       "Salary        2\n",
       "Education     2\n",
       "Projects      6\n",
       "dtype: int64"
      ]
     },
     "execution_count": 10,
     "metadata": {},
     "output_type": "execute_result"
    }
   ],
   "source": [
    "df.isnull().sum()"
   ]
  },
  {
   "cell_type": "code",
   "execution_count": 11,
   "id": "bfb8a80e",
   "metadata": {},
   "outputs": [
    {
     "data": {
      "text/plain": [
       "19"
      ]
     },
     "execution_count": 11,
     "metadata": {},
     "output_type": "execute_result"
    }
   ],
   "source": [
    "df.isnull().sum().sum()"
   ]
  },
  {
   "cell_type": "code",
   "execution_count": 12,
   "id": "ce7675d3",
   "metadata": {},
   "outputs": [
    {
     "data": {
      "text/plain": [
       "Dept          True\n",
       "Age           True\n",
       "Experience    True\n",
       "Salary        True\n",
       "Education     True\n",
       "Projects      True\n",
       "dtype: bool"
      ]
     },
     "execution_count": 12,
     "metadata": {},
     "output_type": "execute_result"
    }
   ],
   "source": [
    "df.isnull().any()"
   ]
  },
  {
   "cell_type": "code",
   "execution_count": 13,
   "id": "ec6205be",
   "metadata": {},
   "outputs": [
    {
     "data": {
      "text/plain": [
       "Dept           6.060606\n",
       "Age            9.090909\n",
       "Experience    12.121212\n",
       "Salary         6.060606\n",
       "Education      6.060606\n",
       "Projects      18.181818\n",
       "dtype: float64"
      ]
     },
     "execution_count": 13,
     "metadata": {},
     "output_type": "execute_result"
    }
   ],
   "source": [
    "#calculate per of missing value for each colmn\n",
    "df.isnull().sum()/len(df)*100"
   ]
  },
  {
   "cell_type": "code",
   "execution_count": 14,
   "id": "fec9d5b0",
   "metadata": {},
   "outputs": [],
   "source": [
    "# in above 1st approach - if we have very small missing value - 0.05% - we can drop that row\n",
    "# in above 2nd approach - if we have very large missing value more than 50per-we can drop that column"
   ]
  },
  {
   "cell_type": "code",
   "execution_count": 15,
   "id": "99878e4a",
   "metadata": {},
   "outputs": [],
   "source": [
    "df1=df.copy()"
   ]
  },
  {
   "cell_type": "code",
   "execution_count": 16,
   "id": "463f1010",
   "metadata": {},
   "outputs": [
    {
     "name": "stdout",
     "output_type": "stream",
     "text": [
      "<class 'pandas.core.frame.DataFrame'>\n",
      "RangeIndex: 33 entries, 0 to 32\n",
      "Data columns (total 6 columns):\n",
      " #   Column      Non-Null Count  Dtype  \n",
      "---  ------      --------------  -----  \n",
      " 0   Dept        31 non-null     object \n",
      " 1   Age         30 non-null     float64\n",
      " 2   Experience  29 non-null     object \n",
      " 3   Salary      31 non-null     float64\n",
      " 4   Education   31 non-null     object \n",
      " 5   Projects    27 non-null     float64\n",
      "dtypes: float64(3), object(3)\n",
      "memory usage: 1.7+ KB\n"
     ]
    }
   ],
   "source": [
    "df1.info()\n"
   ]
  },
  {
   "cell_type": "code",
   "execution_count": 17,
   "id": "3e0ebe66",
   "metadata": {},
   "outputs": [],
   "source": [
    "#if type is object, it is categorical, so we have to apply mode"
   ]
  },
  {
   "cell_type": "code",
   "execution_count": 18,
   "id": "d27d3a36",
   "metadata": {},
   "outputs": [],
   "source": [
    "#handling AGE missing value - through mean/median\n"
   ]
  },
  {
   "cell_type": "code",
   "execution_count": 19,
   "id": "53dde9b0",
   "metadata": {},
   "outputs": [],
   "source": [
    "#fillna - wherever missing values it will repalce with mean\n",
    "#age has 31 non-empty, but still has empty values\n",
    "df1['Age'] = df1['Age'].fillna(df1['Age'].mean())"
   ]
  },
  {
   "cell_type": "code",
   "execution_count": 20,
   "id": "681a31a3",
   "metadata": {},
   "outputs": [
    {
     "name": "stdout",
     "output_type": "stream",
     "text": [
      "<class 'pandas.core.frame.DataFrame'>\n",
      "RangeIndex: 33 entries, 0 to 32\n",
      "Data columns (total 6 columns):\n",
      " #   Column      Non-Null Count  Dtype  \n",
      "---  ------      --------------  -----  \n",
      " 0   Dept        31 non-null     object \n",
      " 1   Age         33 non-null     float64\n",
      " 2   Experience  29 non-null     object \n",
      " 3   Salary      31 non-null     float64\n",
      " 4   Education   31 non-null     object \n",
      " 5   Projects    27 non-null     float64\n",
      "dtypes: float64(3), object(3)\n",
      "memory usage: 1.7+ KB\n"
     ]
    }
   ],
   "source": [
    "df1.info()\n"
   ]
  },
  {
   "cell_type": "code",
   "execution_count": 21,
   "id": "ccea87c6",
   "metadata": {},
   "outputs": [],
   "source": [
    "#fillna - wherever missing values it will repalce with MEDIAN\n",
    "#age has 31 non-empty, but still has empty values\n",
    "#df1['Age'] = df1['Age'].fillna(df1['Age'].median())"
   ]
  },
  {
   "cell_type": "code",
   "execution_count": 22,
   "id": "c6b604e1",
   "metadata": {},
   "outputs": [],
   "source": [
    "#handling SALARY missing value - through mean/median"
   ]
  },
  {
   "cell_type": "code",
   "execution_count": 23,
   "id": "377fbcc0",
   "metadata": {},
   "outputs": [
    {
     "name": "stdout",
     "output_type": "stream",
     "text": [
      "<class 'pandas.core.frame.DataFrame'>\n",
      "RangeIndex: 33 entries, 0 to 32\n",
      "Data columns (total 6 columns):\n",
      " #   Column      Non-Null Count  Dtype  \n",
      "---  ------      --------------  -----  \n",
      " 0   Dept        31 non-null     object \n",
      " 1   Age         33 non-null     float64\n",
      " 2   Experience  29 non-null     object \n",
      " 3   Salary      31 non-null     float64\n",
      " 4   Education   31 non-null     object \n",
      " 5   Projects    27 non-null     float64\n",
      "dtypes: float64(3), object(3)\n",
      "memory usage: 1.7+ KB\n"
     ]
    }
   ],
   "source": [
    "df1.info()"
   ]
  },
  {
   "cell_type": "code",
   "execution_count": 24,
   "id": "88d1d1cd",
   "metadata": {},
   "outputs": [],
   "source": [
    "#here salary has 31 non-null, still has 2 empty values, here we apply median"
   ]
  },
  {
   "cell_type": "code",
   "execution_count": 25,
   "id": "d57eef69",
   "metadata": {},
   "outputs": [],
   "source": [
    "df1['Salary'] = df1['Salary'].fillna(df1['Salary'].median())"
   ]
  },
  {
   "cell_type": "code",
   "execution_count": 26,
   "id": "48408b72",
   "metadata": {},
   "outputs": [
    {
     "name": "stdout",
     "output_type": "stream",
     "text": [
      "<class 'pandas.core.frame.DataFrame'>\n",
      "RangeIndex: 33 entries, 0 to 32\n",
      "Data columns (total 6 columns):\n",
      " #   Column      Non-Null Count  Dtype  \n",
      "---  ------      --------------  -----  \n",
      " 0   Dept        31 non-null     object \n",
      " 1   Age         33 non-null     float64\n",
      " 2   Experience  29 non-null     object \n",
      " 3   Salary      33 non-null     float64\n",
      " 4   Education   31 non-null     object \n",
      " 5   Projects    27 non-null     float64\n",
      "dtypes: float64(3), object(3)\n",
      "memory usage: 1.7+ KB\n"
     ]
    }
   ],
   "source": [
    "df1.info()"
   ]
  },
  {
   "cell_type": "code",
   "execution_count": 27,
   "id": "836be564",
   "metadata": {},
   "outputs": [],
   "source": [
    "#above exp has d-type has object, ideally it shud be flaot/int, because some random data is there\n",
    "#and if we apply median/mean it will throw error"
   ]
  },
  {
   "cell_type": "code",
   "execution_count": 28,
   "id": "3d0fd413",
   "metadata": {},
   "outputs": [],
   "source": [
    "#this wud throw error\n",
    "#df1['Experience'] = df1['Experience'].fillna(df1['Experience'].median())"
   ]
  },
  {
   "cell_type": "code",
   "execution_count": 29,
   "id": "e1fc5b86",
   "metadata": {},
   "outputs": [],
   "source": [
    "#here if we apply mode it will work as it is object\n",
    "#but ideally it shud be flaot, becuase of wrong data it is object\n",
    "#we shud apply median/mean - for this we have to CONVERT object to numeric"
   ]
  },
  {
   "cell_type": "code",
   "execution_count": 30,
   "id": "3a6c84f9",
   "metadata": {},
   "outputs": [],
   "source": [
    "#will throw error\n",
    "#df1['Experience'] = pd.to_numeric(df1['Experience'])"
   ]
  },
  {
   "cell_type": "code",
   "execution_count": 31,
   "id": "52eaad31",
   "metadata": {},
   "outputs": [],
   "source": [
    "#above we got to know where error is there"
   ]
  },
  {
   "cell_type": "code",
   "execution_count": 32,
   "id": "a6a20c56",
   "metadata": {},
   "outputs": [],
   "source": [
    "df1['Experience'].mask((df1['Experience'].eq(\".\")), inplace=True)\n",
    "#inplace it does in df1, instead of createing new var"
   ]
  },
  {
   "cell_type": "code",
   "execution_count": 33,
   "id": "fde6d5ec",
   "metadata": {},
   "outputs": [
    {
     "data": {
      "text/plain": [
       "5"
      ]
     },
     "execution_count": 33,
     "metadata": {},
     "output_type": "execute_result"
    }
   ],
   "source": [
    "df1['Experience'].isnull().sum()"
   ]
  },
  {
   "cell_type": "code",
   "execution_count": 34,
   "id": "77cfb1e9",
   "metadata": {},
   "outputs": [],
   "source": [
    "#so now we convereted '.' to empty, so it increases frm 4 to 5\n",
    "#now again check converting to median"
   ]
  },
  {
   "cell_type": "code",
   "execution_count": 35,
   "id": "4f6c02fb",
   "metadata": {},
   "outputs": [
    {
     "name": "stdout",
     "output_type": "stream",
     "text": [
      "<class 'pandas.core.frame.DataFrame'>\n",
      "RangeIndex: 33 entries, 0 to 32\n",
      "Data columns (total 6 columns):\n",
      " #   Column      Non-Null Count  Dtype  \n",
      "---  ------      --------------  -----  \n",
      " 0   Dept        31 non-null     object \n",
      " 1   Age         33 non-null     float64\n",
      " 2   Experience  28 non-null     object \n",
      " 3   Salary      33 non-null     float64\n",
      " 4   Education   31 non-null     object \n",
      " 5   Projects    27 non-null     float64\n",
      "dtypes: float64(3), object(3)\n",
      "memory usage: 1.7+ KB\n"
     ]
    }
   ],
   "source": [
    "df1.info()"
   ]
  },
  {
   "cell_type": "code",
   "execution_count": 36,
   "id": "69c01f7d",
   "metadata": {},
   "outputs": [],
   "source": [
    "#its still object"
   ]
  },
  {
   "cell_type": "code",
   "execution_count": 37,
   "id": "e93b1241",
   "metadata": {},
   "outputs": [],
   "source": [
    "#will throw error\n",
    "#df1['Experience'] = pd.to_numeric(df1['Experience'])"
   ]
  },
  {
   "cell_type": "code",
   "execution_count": 38,
   "id": "8005efef",
   "metadata": {},
   "outputs": [],
   "source": [
    "#ALL THIS IS DATA CLEANING"
   ]
  },
  {
   "cell_type": "code",
   "execution_count": 39,
   "id": "df7b6fba",
   "metadata": {},
   "outputs": [],
   "source": [
    "df1['Experience'].mask((df1['Experience'].eq(\"%\")), inplace=True)"
   ]
  },
  {
   "cell_type": "code",
   "execution_count": 40,
   "id": "c7154ddb",
   "metadata": {},
   "outputs": [
    {
     "data": {
      "text/plain": [
       "6"
      ]
     },
     "execution_count": 40,
     "metadata": {},
     "output_type": "execute_result"
    }
   ],
   "source": [
    "df1['Experience'].isnull().sum()"
   ]
  },
  {
   "cell_type": "code",
   "execution_count": 41,
   "id": "189b26e3",
   "metadata": {},
   "outputs": [],
   "source": [
    "#will throw error\n",
    "#df1['Experience'] = df1['Experience'].fillna(df1['Experience'].median())"
   ]
  },
  {
   "cell_type": "code",
   "execution_count": 42,
   "id": "e3473ba1",
   "metadata": {},
   "outputs": [],
   "source": [
    "df1['Experience'].mask((df1['Experience'].eq(\"a\")), inplace=True)"
   ]
  },
  {
   "cell_type": "code",
   "execution_count": 43,
   "id": "c666740b",
   "metadata": {},
   "outputs": [
    {
     "name": "stdout",
     "output_type": "stream",
     "text": [
      "<class 'pandas.core.frame.DataFrame'>\n",
      "RangeIndex: 33 entries, 0 to 32\n",
      "Data columns (total 6 columns):\n",
      " #   Column      Non-Null Count  Dtype  \n",
      "---  ------      --------------  -----  \n",
      " 0   Dept        31 non-null     object \n",
      " 1   Age         33 non-null     float64\n",
      " 2   Experience  26 non-null     object \n",
      " 3   Salary      33 non-null     float64\n",
      " 4   Education   31 non-null     object \n",
      " 5   Projects    27 non-null     float64\n",
      "dtypes: float64(3), object(3)\n",
      "memory usage: 1.7+ KB\n"
     ]
    }
   ],
   "source": [
    "df1.info()"
   ]
  },
  {
   "cell_type": "code",
   "execution_count": 44,
   "id": "8f7f9fcb",
   "metadata": {},
   "outputs": [],
   "source": [
    "df1['Experience'] = df1['Experience'].fillna(df1['Experience'].median())"
   ]
  },
  {
   "cell_type": "code",
   "execution_count": 45,
   "id": "ce999d0c",
   "metadata": {},
   "outputs": [
    {
     "name": "stdout",
     "output_type": "stream",
     "text": [
      "<class 'pandas.core.frame.DataFrame'>\n",
      "RangeIndex: 33 entries, 0 to 32\n",
      "Data columns (total 6 columns):\n",
      " #   Column      Non-Null Count  Dtype  \n",
      "---  ------      --------------  -----  \n",
      " 0   Dept        31 non-null     object \n",
      " 1   Age         33 non-null     float64\n",
      " 2   Experience  33 non-null     float64\n",
      " 3   Salary      33 non-null     float64\n",
      " 4   Education   31 non-null     object \n",
      " 5   Projects    27 non-null     float64\n",
      "dtypes: float64(4), object(2)\n",
      "memory usage: 1.7+ KB\n"
     ]
    }
   ],
   "source": [
    "df1.info()"
   ]
  },
  {
   "cell_type": "code",
   "execution_count": 46,
   "id": "52bc8e41",
   "metadata": {},
   "outputs": [],
   "source": [
    "#now  experience is cleaned and null values is replaced"
   ]
  },
  {
   "cell_type": "code",
   "execution_count": 47,
   "id": "17dd8470",
   "metadata": {},
   "outputs": [],
   "source": [
    "df1['Projects'] = df1['Projects'].fillna(df1['Projects'].mean())"
   ]
  },
  {
   "cell_type": "code",
   "execution_count": 48,
   "id": "5ce320d6",
   "metadata": {},
   "outputs": [
    {
     "name": "stdout",
     "output_type": "stream",
     "text": [
      "<class 'pandas.core.frame.DataFrame'>\n",
      "RangeIndex: 33 entries, 0 to 32\n",
      "Data columns (total 6 columns):\n",
      " #   Column      Non-Null Count  Dtype  \n",
      "---  ------      --------------  -----  \n",
      " 0   Dept        31 non-null     object \n",
      " 1   Age         33 non-null     float64\n",
      " 2   Experience  33 non-null     float64\n",
      " 3   Salary      33 non-null     float64\n",
      " 4   Education   31 non-null     object \n",
      " 5   Projects    33 non-null     float64\n",
      "dtypes: float64(4), object(2)\n",
      "memory usage: 1.7+ KB\n"
     ]
    }
   ],
   "source": [
    "df1.info()"
   ]
  },
  {
   "cell_type": "code",
   "execution_count": 49,
   "id": "322a1b4c",
   "metadata": {},
   "outputs": [],
   "source": [
    "#we can handle categorical varaible(object ) with mode approach"
   ]
  },
  {
   "cell_type": "code",
   "execution_count": 50,
   "id": "ea233379",
   "metadata": {},
   "outputs": [],
   "source": [
    "df1['Dept'] = df1['Dept'].fillna(df1['Dept'].mode())"
   ]
  },
  {
   "cell_type": "code",
   "execution_count": 51,
   "id": "6c31e4f6",
   "metadata": {},
   "outputs": [
    {
     "name": "stdout",
     "output_type": "stream",
     "text": [
      "<class 'pandas.core.frame.DataFrame'>\n",
      "RangeIndex: 33 entries, 0 to 32\n",
      "Data columns (total 6 columns):\n",
      " #   Column      Non-Null Count  Dtype  \n",
      "---  ------      --------------  -----  \n",
      " 0   Dept        31 non-null     object \n",
      " 1   Age         33 non-null     float64\n",
      " 2   Experience  33 non-null     float64\n",
      " 3   Salary      33 non-null     float64\n",
      " 4   Education   31 non-null     object \n",
      " 5   Projects    33 non-null     float64\n",
      "dtypes: float64(4), object(2)\n",
      "memory usage: 1.7+ KB\n"
     ]
    }
   ],
   "source": [
    "df1.info()"
   ]
  },
  {
   "cell_type": "code",
   "execution_count": 52,
   "id": "a5900f34",
   "metadata": {},
   "outputs": [],
   "source": [
    "#it still didnt work, because we shud send 1st mode"
   ]
  },
  {
   "cell_type": "code",
   "execution_count": 53,
   "id": "c962b8df",
   "metadata": {},
   "outputs": [],
   "source": [
    "df1['Dept'] = df1['Dept'].fillna(df1['Dept'].mode()[0])\n",
    "#applying 1st mode"
   ]
  },
  {
   "cell_type": "code",
   "execution_count": 54,
   "id": "97b259fd",
   "metadata": {},
   "outputs": [
    {
     "name": "stdout",
     "output_type": "stream",
     "text": [
      "<class 'pandas.core.frame.DataFrame'>\n",
      "RangeIndex: 33 entries, 0 to 32\n",
      "Data columns (total 6 columns):\n",
      " #   Column      Non-Null Count  Dtype  \n",
      "---  ------      --------------  -----  \n",
      " 0   Dept        33 non-null     object \n",
      " 1   Age         33 non-null     float64\n",
      " 2   Experience  33 non-null     float64\n",
      " 3   Salary      33 non-null     float64\n",
      " 4   Education   31 non-null     object \n",
      " 5   Projects    33 non-null     float64\n",
      "dtypes: float64(4), object(2)\n",
      "memory usage: 1.7+ KB\n"
     ]
    }
   ],
   "source": [
    "df1.info()"
   ]
  },
  {
   "cell_type": "code",
   "execution_count": 55,
   "id": "774e75b6",
   "metadata": {},
   "outputs": [
    {
     "ename": "KeyError",
     "evalue": "2",
     "output_type": "error",
     "traceback": [
      "\u001b[0;31m---------------------------------------------------------------------------\u001b[0m",
      "\u001b[0;31mValueError\u001b[0m                                Traceback (most recent call last)",
      "\u001b[0;32m~/anaconda3/lib/python3.9/site-packages/pandas/core/indexes/range.py\u001b[0m in \u001b[0;36mget_loc\u001b[0;34m(self, key, method, tolerance)\u001b[0m\n\u001b[1;32m    384\u001b[0m                 \u001b[0;32mtry\u001b[0m\u001b[0;34m:\u001b[0m\u001b[0;34m\u001b[0m\u001b[0;34m\u001b[0m\u001b[0m\n\u001b[0;32m--> 385\u001b[0;31m                     \u001b[0;32mreturn\u001b[0m \u001b[0mself\u001b[0m\u001b[0;34m.\u001b[0m\u001b[0m_range\u001b[0m\u001b[0;34m.\u001b[0m\u001b[0mindex\u001b[0m\u001b[0;34m(\u001b[0m\u001b[0mnew_key\u001b[0m\u001b[0;34m)\u001b[0m\u001b[0;34m\u001b[0m\u001b[0;34m\u001b[0m\u001b[0m\n\u001b[0m\u001b[1;32m    386\u001b[0m                 \u001b[0;32mexcept\u001b[0m \u001b[0mValueError\u001b[0m \u001b[0;32mas\u001b[0m \u001b[0merr\u001b[0m\u001b[0;34m:\u001b[0m\u001b[0;34m\u001b[0m\u001b[0;34m\u001b[0m\u001b[0m\n",
      "\u001b[0;31mValueError\u001b[0m: 2 is not in range",
      "\nThe above exception was the direct cause of the following exception:\n",
      "\u001b[0;31mKeyError\u001b[0m                                  Traceback (most recent call last)",
      "\u001b[0;32m/tmp/ipykernel_10462/1587878070.py\u001b[0m in \u001b[0;36m<module>\u001b[0;34m\u001b[0m\n\u001b[0;32m----> 1\u001b[0;31m \u001b[0mdf1\u001b[0m\u001b[0;34m[\u001b[0m\u001b[0;34m'Education'\u001b[0m\u001b[0;34m]\u001b[0m \u001b[0;34m=\u001b[0m \u001b[0mdf1\u001b[0m\u001b[0;34m[\u001b[0m\u001b[0;34m'Education'\u001b[0m\u001b[0;34m]\u001b[0m\u001b[0;34m.\u001b[0m\u001b[0mfillna\u001b[0m\u001b[0;34m(\u001b[0m\u001b[0mdf1\u001b[0m\u001b[0;34m[\u001b[0m\u001b[0;34m'Education'\u001b[0m\u001b[0;34m]\u001b[0m\u001b[0;34m.\u001b[0m\u001b[0mmode\u001b[0m\u001b[0;34m(\u001b[0m\u001b[0;34m)\u001b[0m\u001b[0;34m[\u001b[0m\u001b[0;36m2\u001b[0m\u001b[0;34m]\u001b[0m\u001b[0;34m)\u001b[0m\u001b[0;34m\u001b[0m\u001b[0;34m\u001b[0m\u001b[0m\n\u001b[0m",
      "\u001b[0;32m~/anaconda3/lib/python3.9/site-packages/pandas/core/series.py\u001b[0m in \u001b[0;36m__getitem__\u001b[0;34m(self, key)\u001b[0m\n\u001b[1;32m    956\u001b[0m \u001b[0;34m\u001b[0m\u001b[0m\n\u001b[1;32m    957\u001b[0m         \u001b[0;32melif\u001b[0m \u001b[0mkey_is_scalar\u001b[0m\u001b[0;34m:\u001b[0m\u001b[0;34m\u001b[0m\u001b[0;34m\u001b[0m\u001b[0m\n\u001b[0;32m--> 958\u001b[0;31m             \u001b[0;32mreturn\u001b[0m \u001b[0mself\u001b[0m\u001b[0;34m.\u001b[0m\u001b[0m_get_value\u001b[0m\u001b[0;34m(\u001b[0m\u001b[0mkey\u001b[0m\u001b[0;34m)\u001b[0m\u001b[0;34m\u001b[0m\u001b[0;34m\u001b[0m\u001b[0m\n\u001b[0m\u001b[1;32m    959\u001b[0m \u001b[0;34m\u001b[0m\u001b[0m\n\u001b[1;32m    960\u001b[0m         \u001b[0;32mif\u001b[0m \u001b[0mis_hashable\u001b[0m\u001b[0;34m(\u001b[0m\u001b[0mkey\u001b[0m\u001b[0;34m)\u001b[0m\u001b[0;34m:\u001b[0m\u001b[0;34m\u001b[0m\u001b[0;34m\u001b[0m\u001b[0m\n",
      "\u001b[0;32m~/anaconda3/lib/python3.9/site-packages/pandas/core/series.py\u001b[0m in \u001b[0;36m_get_value\u001b[0;34m(self, label, takeable)\u001b[0m\n\u001b[1;32m   1067\u001b[0m \u001b[0;34m\u001b[0m\u001b[0m\n\u001b[1;32m   1068\u001b[0m         \u001b[0;31m# Similar to Index.get_value, but we do not fall back to positional\u001b[0m\u001b[0;34m\u001b[0m\u001b[0;34m\u001b[0m\u001b[0m\n\u001b[0;32m-> 1069\u001b[0;31m         \u001b[0mloc\u001b[0m \u001b[0;34m=\u001b[0m \u001b[0mself\u001b[0m\u001b[0;34m.\u001b[0m\u001b[0mindex\u001b[0m\u001b[0;34m.\u001b[0m\u001b[0mget_loc\u001b[0m\u001b[0;34m(\u001b[0m\u001b[0mlabel\u001b[0m\u001b[0;34m)\u001b[0m\u001b[0;34m\u001b[0m\u001b[0;34m\u001b[0m\u001b[0m\n\u001b[0m\u001b[1;32m   1070\u001b[0m         \u001b[0;32mreturn\u001b[0m \u001b[0mself\u001b[0m\u001b[0;34m.\u001b[0m\u001b[0mindex\u001b[0m\u001b[0;34m.\u001b[0m\u001b[0m_get_values_for_loc\u001b[0m\u001b[0;34m(\u001b[0m\u001b[0mself\u001b[0m\u001b[0;34m,\u001b[0m \u001b[0mloc\u001b[0m\u001b[0;34m,\u001b[0m \u001b[0mlabel\u001b[0m\u001b[0;34m)\u001b[0m\u001b[0;34m\u001b[0m\u001b[0;34m\u001b[0m\u001b[0m\n\u001b[1;32m   1071\u001b[0m \u001b[0;34m\u001b[0m\u001b[0m\n",
      "\u001b[0;32m~/anaconda3/lib/python3.9/site-packages/pandas/core/indexes/range.py\u001b[0m in \u001b[0;36mget_loc\u001b[0;34m(self, key, method, tolerance)\u001b[0m\n\u001b[1;32m    385\u001b[0m                     \u001b[0;32mreturn\u001b[0m \u001b[0mself\u001b[0m\u001b[0;34m.\u001b[0m\u001b[0m_range\u001b[0m\u001b[0;34m.\u001b[0m\u001b[0mindex\u001b[0m\u001b[0;34m(\u001b[0m\u001b[0mnew_key\u001b[0m\u001b[0;34m)\u001b[0m\u001b[0;34m\u001b[0m\u001b[0;34m\u001b[0m\u001b[0m\n\u001b[1;32m    386\u001b[0m                 \u001b[0;32mexcept\u001b[0m \u001b[0mValueError\u001b[0m \u001b[0;32mas\u001b[0m \u001b[0merr\u001b[0m\u001b[0;34m:\u001b[0m\u001b[0;34m\u001b[0m\u001b[0;34m\u001b[0m\u001b[0m\n\u001b[0;32m--> 387\u001b[0;31m                     \u001b[0;32mraise\u001b[0m \u001b[0mKeyError\u001b[0m\u001b[0;34m(\u001b[0m\u001b[0mkey\u001b[0m\u001b[0;34m)\u001b[0m \u001b[0;32mfrom\u001b[0m \u001b[0merr\u001b[0m\u001b[0;34m\u001b[0m\u001b[0;34m\u001b[0m\u001b[0m\n\u001b[0m\u001b[1;32m    388\u001b[0m             \u001b[0mself\u001b[0m\u001b[0;34m.\u001b[0m\u001b[0m_check_indexing_error\u001b[0m\u001b[0;34m(\u001b[0m\u001b[0mkey\u001b[0m\u001b[0;34m)\u001b[0m\u001b[0;34m\u001b[0m\u001b[0;34m\u001b[0m\u001b[0m\n\u001b[1;32m    389\u001b[0m             \u001b[0;32mraise\u001b[0m \u001b[0mKeyError\u001b[0m\u001b[0;34m(\u001b[0m\u001b[0mkey\u001b[0m\u001b[0;34m)\u001b[0m\u001b[0;34m\u001b[0m\u001b[0;34m\u001b[0m\u001b[0m\n",
      "\u001b[0;31mKeyError\u001b[0m: 2"
     ]
    }
   ],
   "source": [
    "#will throw error\n",
    "#df1['Education'] = df1['Education'].fillna(df1['Education'].mode()[2])"
   ]
  },
  {
   "cell_type": "code",
   "execution_count": null,
   "id": "a3a3d7a8",
   "metadata": {},
   "outputs": [],
   "source": [
    "#above it threw error, as it is out of range , so always pass 1st mode"
   ]
  },
  {
   "cell_type": "code",
   "execution_count": null,
   "id": "b3178a07",
   "metadata": {},
   "outputs": [],
   "source": [
    "df1['Education'] = df1['Education'].fillna(df1['Education'].mode()[0])"
   ]
  },
  {
   "cell_type": "code",
   "execution_count": null,
   "id": "05da3b7e",
   "metadata": {},
   "outputs": [],
   "source": [
    "df1.describe()"
   ]
  },
  {
   "cell_type": "code",
   "execution_count": null,
   "id": "49e6e059",
   "metadata": {},
   "outputs": [],
   "source": [
    "df1.info()"
   ]
  },
  {
   "cell_type": "code",
   "execution_count": null,
   "id": "8241f7e2",
   "metadata": {},
   "outputs": [],
   "source": [
    "#no missing data evrryting 33"
   ]
  },
  {
   "cell_type": "code",
   "execution_count": null,
   "id": "79b0482a",
   "metadata": {},
   "outputs": [],
   "source": [
    "df1['Dept'].value_counts()"
   ]
  },
  {
   "cell_type": "code",
   "execution_count": null,
   "id": "3926e8ce",
   "metadata": {},
   "outputs": [],
   "source": [
    "df1['Education'].value_counts()"
   ]
  },
  {
   "cell_type": "code",
   "execution_count": null,
   "id": "d63fd980",
   "metadata": {},
   "outputs": [],
   "source": [
    "#ALWAYS for Categorical data, check value_counts, above we have wrong data, a and ?, now clean the data"
   ]
  },
  {
   "cell_type": "code",
   "execution_count": null,
   "id": "81832c67",
   "metadata": {},
   "outputs": [],
   "source": [
    "df1['Education'] = df1['Education'].replace(\"?\",df1['Education'].mode()[0])"
   ]
  },
  {
   "cell_type": "code",
   "execution_count": null,
   "id": "5c71e43c",
   "metadata": {},
   "outputs": [],
   "source": [
    "df1['Education'].value_counts()"
   ]
  },
  {
   "cell_type": "code",
   "execution_count": null,
   "id": "61120447",
   "metadata": {},
   "outputs": [],
   "source": [
    "#now it replaced ? with master"
   ]
  },
  {
   "cell_type": "code",
   "execution_count": null,
   "id": "3a87b0d1",
   "metadata": {},
   "outputs": [],
   "source": [
    "df1['Education'] = df1['Education'].replace(\"a\",df1['Education'].mode()[0])"
   ]
  },
  {
   "cell_type": "code",
   "execution_count": null,
   "id": "9c486e70",
   "metadata": {},
   "outputs": [],
   "source": [
    "df1['Education'].value_counts()"
   ]
  },
  {
   "cell_type": "code",
   "execution_count": null,
   "id": "85577312",
   "metadata": {},
   "outputs": [],
   "source": [
    "df1.describe()"
   ]
  },
  {
   "cell_type": "code",
   "execution_count": null,
   "id": "877dcd50",
   "metadata": {},
   "outputs": [],
   "source": [
    "#ABOVE, AGE has minn value is 0, its interpretation is very wrong,, there can be no age wth 0 value\n",
    "#so age value of 0 value shud be replaaced"
   ]
  },
  {
   "cell_type": "code",
   "execution_count": null,
   "id": "c138b1bb",
   "metadata": {},
   "outputs": [],
   "source": [
    "df1['Age'] = df1['Age'].replace(0,df1['Age'].mean())"
   ]
  },
  {
   "cell_type": "code",
   "execution_count": null,
   "id": "0cada571",
   "metadata": {},
   "outputs": [],
   "source": [
    "df1.describe()"
   ]
  },
  {
   "cell_type": "code",
   "execution_count": null,
   "id": "b2abaca7",
   "metadata": {},
   "outputs": [],
   "source": [
    "#now age min value is 29, instead of 0"
   ]
  },
  {
   "cell_type": "code",
   "execution_count": null,
   "id": "14ab8f31",
   "metadata": {},
   "outputs": [],
   "source": [
    "#handling multi columns missing value in one line"
   ]
  },
  {
   "cell_type": "code",
   "execution_count": null,
   "id": "4960d3df",
   "metadata": {},
   "outputs": [],
   "source": [
    "cat_cols =['Dept', 'Education']"
   ]
  },
  {
   "cell_type": "code",
   "execution_count": null,
   "id": "43022892",
   "metadata": {},
   "outputs": [],
   "source": [
    "df2 = df1.copy()"
   ]
  },
  {
   "cell_type": "code",
   "execution_count": null,
   "id": "175cf074",
   "metadata": {
    "scrolled": true
   },
   "outputs": [],
   "source": [
    "df2[cat_cols]=df2[cat_cols].fillna(df2[cat_cols].mode().iloc[0])"
   ]
  },
  {
   "cell_type": "code",
   "execution_count": null,
   "id": "cdd82d19",
   "metadata": {},
   "outputs": [],
   "source": [
    "num_col = ['Age', 'Experience', 'Projects']"
   ]
  },
  {
   "cell_type": "code",
   "execution_count": null,
   "id": "10dd0b14",
   "metadata": {},
   "outputs": [],
   "source": [
    "df2[num_col]=df2[num_col].fillna(df2[num_col].mean())"
   ]
  },
  {
   "cell_type": "code",
   "execution_count": null,
   "id": "900619de",
   "metadata": {},
   "outputs": [],
   "source": [
    "#2nd METHOD - DROP approach"
   ]
  },
  {
   "cell_type": "code",
   "execution_count": null,
   "id": "1eb63f50",
   "metadata": {},
   "outputs": [],
   "source": [
    "df3.dropna(inplace=True)#will drop all rows with NAN value in any column"
   ]
  },
  {
   "cell_type": "markdown",
   "id": "608252ba",
   "metadata": {},
   "source": [
    "# Feature Engineering - Outlier Treatment"
   ]
  },
  {
   "cell_type": "code",
   "execution_count": null,
   "id": "ce40e79b",
   "metadata": {},
   "outputs": [],
   "source": [
    "df1.info()"
   ]
  },
  {
   "cell_type": "code",
   "execution_count": null,
   "id": "0e7dbc22",
   "metadata": {},
   "outputs": [],
   "source": [
    "sns.boxplot(data=df1)\n"
   ]
  },
  {
   "cell_type": "code",
   "execution_count": null,
   "id": "5d417e05",
   "metadata": {},
   "outputs": [],
   "source": [
    "df1.describe()"
   ]
  },
  {
   "cell_type": "code",
   "execution_count": null,
   "id": "3c2bc70d",
   "metadata": {},
   "outputs": [],
   "source": [
    "sns.boxplot(y=\"Salary\",data=df1)"
   ]
  },
  {
   "cell_type": "code",
   "execution_count": null,
   "id": "d52105fb",
   "metadata": {},
   "outputs": [],
   "source": [
    "#it seems there is a outlier\n"
   ]
  },
  {
   "cell_type": "markdown",
   "id": "fd6a7724",
   "metadata": {},
   "source": [
    "# but we confirm using IQR AAPPROACH"
   ]
  },
  {
   "cell_type": "code",
   "execution_count": null,
   "id": "738b49fd",
   "metadata": {
    "scrolled": true
   },
   "outputs": [],
   "source": [
    "Q1 = df1.quantile(0.25)\n",
    "Q3 = df1.quantile(0.75)\n",
    "iqr = Q3-Q1\n",
    "upper_fence= Q3+1.5*iqr\n",
    "lower_fence= Q1-1.5*iqr\n",
    "print('upper fence \\n', upper_fence)\n",
    "print('lowe fence \\n', lower_fence)"
   ]
  },
  {
   "cell_type": "markdown",
   "id": "9ba27413",
   "metadata": {},
   "source": [
    "# Adjustment of outliers - 1. Removal of outliers"
   ]
  },
  {
   "cell_type": "code",
   "execution_count": null,
   "id": "7a175c01",
   "metadata": {},
   "outputs": [],
   "source": [
    "#Removal of outliers\n",
    "df10 = df1[~((df1<lower_fence)|(df1>upper_fence)).any(axis=1)]"
   ]
  },
  {
   "cell_type": "code",
   "execution_count": null,
   "id": "7fa6e890",
   "metadata": {},
   "outputs": [],
   "source": [
    "df1.describe()"
   ]
  },
  {
   "cell_type": "code",
   "execution_count": null,
   "id": "11488b53",
   "metadata": {},
   "outputs": [],
   "source": [
    "df10.describe()"
   ]
  },
  {
   "cell_type": "code",
   "execution_count": null,
   "id": "750dd124",
   "metadata": {},
   "outputs": [],
   "source": [
    "#compared to df1, salary max has been droppped, everything less than lowerfence & more than upper_fence is dropped"
   ]
  },
  {
   "cell_type": "code",
   "execution_count": null,
   "id": "11132a86",
   "metadata": {},
   "outputs": [],
   "source": [
    "df10.info()"
   ]
  },
  {
   "cell_type": "code",
   "execution_count": null,
   "id": "e3e70b9e",
   "metadata": {},
   "outputs": [],
   "source": [
    "sns.boxplot(y=\"Salary\", data=df10)"
   ]
  },
  {
   "cell_type": "code",
   "execution_count": null,
   "id": "cfc9dd90",
   "metadata": {},
   "outputs": [],
   "source": [
    "#here we can still see one dot, but that is nt outlier, its  value  is q1-1.5itr"
   ]
  },
  {
   "cell_type": "markdown",
   "id": "d8d41d98",
   "metadata": {},
   "source": [
    "# Adjustment of outliers - 2. Flooring or Caping option - no delete"
   ]
  },
  {
   "cell_type": "code",
   "execution_count": null,
   "id": "5f7919c8",
   "metadata": {},
   "outputs": [],
   "source": [
    "Q1 = df1.quantile(0.25)\n",
    "Q3 = df1.quantile(0.75)\n",
    "iqr = Q3-Q1\n",
    "upper_fence= Q3+1.5*iqr\n",
    "lower_fence= Q1-1.5*iqr\n",
    "print('upper fence \\n', upper_fence)\n",
    "print('\\n lower fence \\n', lower_fence)"
   ]
  },
  {
   "cell_type": "code",
   "execution_count": null,
   "id": "80bd3cd0",
   "metadata": {},
   "outputs": [],
   "source": [
    "#here in flooring or capping, we will not drop the outliers, but replace it with some values"
   ]
  },
  {
   "cell_type": "code",
   "execution_count": null,
   "id": "db8a25f2",
   "metadata": {},
   "outputs": [],
   "source": [
    "df11=df1.copy()"
   ]
  },
  {
   "cell_type": "code",
   "execution_count": null,
   "id": "b5226a53",
   "metadata": {},
   "outputs": [],
   "source": [
    "df11.describe()"
   ]
  },
  {
   "cell_type": "code",
   "execution_count": null,
   "id": "5d9590d7",
   "metadata": {},
   "outputs": [],
   "source": [
    "#here we are replacing age > higher fence with higher fence and age < lower fence with lower fence\n",
    "df11['Age'] = np.where(df11['Age']>upper_fence['Age'],upper_fence['Age'], np.where(df11['Age']<lower_fence['Age'], lower_fence['Age'],df11['Age']))"
   ]
  },
  {
   "cell_type": "code",
   "execution_count": null,
   "id": "ffe94f12",
   "metadata": {},
   "outputs": [],
   "source": [
    "df11.describe()"
   ]
  },
  {
   "cell_type": "code",
   "execution_count": null,
   "id": "d1fc7d54",
   "metadata": {},
   "outputs": [],
   "source": [
    "#here min is replaced with lower fence,10 and max is replaced with higher fence 73.8"
   ]
  },
  {
   "cell_type": "code",
   "execution_count": null,
   "id": "ab9b4e3e",
   "metadata": {},
   "outputs": [],
   "source": [
    "#can be done on salary"
   ]
  },
  {
   "cell_type": "code",
   "execution_count": null,
   "id": "bab318bd",
   "metadata": {},
   "outputs": [],
   "source": [
    "df11.info()"
   ]
  },
  {
   "cell_type": "code",
   "execution_count": null,
   "id": "0a229c76",
   "metadata": {},
   "outputs": [],
   "source": [
    "# in cappoing, observations are not dropped unlike removing/deleting outliers"
   ]
  },
  {
   "cell_type": "markdown",
   "id": "925bfb98",
   "metadata": {},
   "source": [
    "# using z-score method"
   ]
  },
  {
   "cell_type": "code",
   "execution_count": null,
   "id": "3af01d8e",
   "metadata": {},
   "outputs": [],
   "source": [
    "#upper_fence=mean+3sd(standard deviaition)\n",
    "#lower_fence=mean-3sd(standard deviaition)"
   ]
  },
  {
   "cell_type": "code",
   "execution_count": null,
   "id": "ba20ddab",
   "metadata": {},
   "outputs": [],
   "source": [
    "df12 =df1.copy()\n"
   ]
  },
  {
   "cell_type": "code",
   "execution_count": null,
   "id": "02bf9c29",
   "metadata": {},
   "outputs": [],
   "source": [
    "df12.describe()"
   ]
  },
  {
   "cell_type": "code",
   "execution_count": null,
   "id": "b94a01b0",
   "metadata": {},
   "outputs": [],
   "source": [
    "up_fence = df12.mean()+3*df12.std()\n",
    "lower_fence = df12.mean()-3*df12.std()\n",
    "print('upper fence \\n ', up_fence)\n",
    "print('lower fence \\n ', lower_fence)"
   ]
  },
  {
   "cell_type": "code",
   "execution_count": null,
   "id": "49d31ce5",
   "metadata": {},
   "outputs": [],
   "source": [
    "#z-score  is not much used , beacause here age upper fence is 90 & age lower fence is -16\n",
    "#actually age itself has max till 75  only\n",
    "#only 5% of data will be 3*s.d"
   ]
  },
  {
   "cell_type": "markdown",
   "id": "b49a74eb",
   "metadata": {},
   "source": [
    "# label encoding"
   ]
  },
  {
   "cell_type": "code",
   "execution_count": null,
   "id": "15d86c2b",
   "metadata": {},
   "outputs": [],
   "source": [
    "df11.info()"
   ]
  },
  {
   "cell_type": "code",
   "execution_count": null,
   "id": "3c0b972f",
   "metadata": {},
   "outputs": [],
   "source": [
    "#here Dept,Education etc are categorical data\n",
    "#ml algo will not be able to work on categorical data, so its required to convert categorical values(string) to numbers\n",
    "#this is called label encoding"
   ]
  },
  {
   "cell_type": "code",
   "execution_count": null,
   "id": "63021a3a",
   "metadata": {},
   "outputs": [],
   "source": [
    "#so once categorical data is replaced with numbers, it is ready to feed to ml model"
   ]
  },
  {
   "cell_type": "code",
   "execution_count": null,
   "id": "d4ee0e69",
   "metadata": {},
   "outputs": [],
   "source": [
    "df11['Dept'].value_counts()"
   ]
  },
  {
   "cell_type": "code",
   "execution_count": null,
   "id": "951dd9c5",
   "metadata": {},
   "outputs": [],
   "source": [
    "#label encoding follows dicitonary pattern- first letter in Dept name, HR - 0, IT- 1, Marketing - 2, Sales- 3"
   ]
  },
  {
   "cell_type": "code",
   "execution_count": null,
   "id": "7d3f9139",
   "metadata": {},
   "outputs": [],
   "source": [
    "df14 = df11.copy()"
   ]
  },
  {
   "cell_type": "markdown",
   "id": "b25f5575",
   "metadata": {},
   "source": [
    "# 1st aproach - function astype approach"
   ]
  },
  {
   "cell_type": "code",
   "execution_count": null,
   "id": "e84b33fc",
   "metadata": {},
   "outputs": [],
   "source": [
    "df14['Dept'] = df14['Dept'].astype('category')\n",
    "#this will treat it as catgeory"
   ]
  },
  {
   "cell_type": "code",
   "execution_count": null,
   "id": "cd8e55dc",
   "metadata": {},
   "outputs": [],
   "source": [
    "df14.head()"
   ]
  },
  {
   "cell_type": "code",
   "execution_count": null,
   "id": "aa5a9b3e",
   "metadata": {},
   "outputs": [],
   "source": [
    "df14['Dept'] = df14['Dept'].cat.codes\n",
    "#this will convert to codes"
   ]
  },
  {
   "cell_type": "code",
   "execution_count": null,
   "id": "6f7b3ba7",
   "metadata": {},
   "outputs": [],
   "source": [
    "df14.head()"
   ]
  },
  {
   "cell_type": "code",
   "execution_count": null,
   "id": "893ab6ef",
   "metadata": {},
   "outputs": [],
   "source": [
    "df14['Education'] = df14['Education'].astype('category').cat.codes"
   ]
  },
  {
   "cell_type": "code",
   "execution_count": null,
   "id": "9c4ea586",
   "metadata": {},
   "outputs": [],
   "source": [
    "df14.head()"
   ]
  },
  {
   "cell_type": "code",
   "execution_count": null,
   "id": "9fd6006d",
   "metadata": {},
   "outputs": [],
   "source": [
    "#here we can see it replaced Education and Dept with numbers, this is done with alphabetical order"
   ]
  },
  {
   "cell_type": "code",
   "execution_count": null,
   "id": "1f518d40",
   "metadata": {},
   "outputs": [],
   "source": [
    "df14.head(100)"
   ]
  },
  {
   "cell_type": "code",
   "execution_count": null,
   "id": "c786f5aa",
   "metadata": {},
   "outputs": [],
   "source": [
    "df14.info()"
   ]
  },
  {
   "cell_type": "code",
   "execution_count": null,
   "id": "38097383",
   "metadata": {},
   "outputs": [],
   "source": [
    "#now even data type of Dept,Education changed frm object to int"
   ]
  },
  {
   "cell_type": "markdown",
   "id": "6401c234",
   "metadata": {},
   "source": [
    "# 2nd aproach(label encoding) - sklearn label encoder"
   ]
  },
  {
   "cell_type": "code",
   "execution_count": null,
   "id": "9f413059",
   "metadata": {},
   "outputs": [],
   "source": [
    "df15 = df1.copy()"
   ]
  },
  {
   "cell_type": "code",
   "execution_count": null,
   "id": "c60be225",
   "metadata": {},
   "outputs": [],
   "source": [
    "from sklearn import preprocessing"
   ]
  },
  {
   "cell_type": "code",
   "execution_count": null,
   "id": "7cc93e68",
   "metadata": {},
   "outputs": [],
   "source": [
    "label = preprocessing.LabelEncoder()"
   ]
  },
  {
   "cell_type": "code",
   "execution_count": null,
   "id": "e4d88d99",
   "metadata": {},
   "outputs": [],
   "source": [
    "df15['Dept'] = label.fit_transform(df15['Dept'])"
   ]
  },
  {
   "cell_type": "code",
   "execution_count": null,
   "id": "852c8eed",
   "metadata": {},
   "outputs": [],
   "source": [
    "df15.head()\n"
   ]
  },
  {
   "cell_type": "code",
   "execution_count": null,
   "id": "93625bff",
   "metadata": {},
   "outputs": [],
   "source": [
    "df15['Education'] = label.fit_transform(df15['Education'])"
   ]
  },
  {
   "cell_type": "code",
   "execution_count": null,
   "id": "93fe4dd3",
   "metadata": {},
   "outputs": [],
   "source": [
    "df15.head()"
   ]
  },
  {
   "cell_type": "code",
   "execution_count": null,
   "id": "7c9b3d37",
   "metadata": {},
   "outputs": [],
   "source": [
    "df17 = df1.copy()"
   ]
  },
  {
   "cell_type": "code",
   "execution_count": null,
   "id": "4187aa2e",
   "metadata": {},
   "outputs": [],
   "source": [
    "df17['Education'] = label.fit(df16['Education'])"
   ]
  },
  {
   "cell_type": "code",
   "execution_count": null,
   "id": "2affb4d8",
   "metadata": {},
   "outputs": [],
   "source": [
    "df17['Education'] = label.transform(df16['Education'])"
   ]
  },
  {
   "cell_type": "code",
   "execution_count": null,
   "id": "c7f60dbf",
   "metadata": {
    "scrolled": true
   },
   "outputs": [],
   "source": [
    "df17.head()"
   ]
  },
  {
   "cell_type": "markdown",
   "id": "85b3a6ba",
   "metadata": {},
   "source": [
    "# one hot encoding"
   ]
  },
  {
   "cell_type": "code",
   "execution_count": null,
   "id": "e4aacf92",
   "metadata": {},
   "outputs": [],
   "source": [
    "#we use this becuase for one categorical data it will not assign one large number\n",
    "#suppose if we 25 Dept, label encoding can assign for one cateory 0 , for last it wil be 25\n",
    "#machine will give weighatge to one value which is 25, instaeda of category with 0\n",
    "#we need to remove this weightage\n",
    "#hence we go for one hot encoding\n",
    "#here for Dept, it wil create colmns for each category \n",
    "#                    hr it tech\n",
    "#1st row if it is hr - 1 0   0\n",
    "#2nd row if it s it -  0 1   0\n",
    "\n",
    "#disadvantage - it creates unnecessary extra columns, makes data complex\n",
    "#creates sparse data - useless data\n",
    "\n",
    "#so only if distinct catgeories are huge in number, we can go wth this\n",
    "#if no of catgeories is just 3/4, we can use above approach"
   ]
  },
  {
   "cell_type": "code",
   "execution_count": null,
   "id": "3109bfe5",
   "metadata": {},
   "outputs": [],
   "source": [
    "#get_dummies approach"
   ]
  },
  {
   "cell_type": "code",
   "execution_count": null,
   "id": "8054703c",
   "metadata": {},
   "outputs": [],
   "source": [
    "df17 = df1.copy()"
   ]
  },
  {
   "cell_type": "code",
   "execution_count": null,
   "id": "2539bf64",
   "metadata": {},
   "outputs": [],
   "source": [
    "df17.head()"
   ]
  },
  {
   "cell_type": "code",
   "execution_count": null,
   "id": "6e7584ae",
   "metadata": {},
   "outputs": [],
   "source": [
    "df17 = pd.get_dummies(df17, columns=['Dept', 'Education'])"
   ]
  },
  {
   "cell_type": "code",
   "execution_count": null,
   "id": "1457a067",
   "metadata": {},
   "outputs": [],
   "source": [
    "df17.head(100)"
   ]
  },
  {
   "cell_type": "code",
   "execution_count": null,
   "id": "2d6af18c",
   "metadata": {},
   "outputs": [],
   "source": [
    "#multi collinearity - machine will not learn new thing\n",
    "#we should drop dummy column because machine are not learning any new information\n",
    "#the macnine knows there are  4 depts, if \n",
    "#if in that row it says 1 0 0 obviously Dept_marleting wil be 0 , it doesnt last extra column to understand, \n",
    "#it wud be obvious\n",
    "#the last column wil not help in learning new thing"
   ]
  },
  {
   "cell_type": "code",
   "execution_count": null,
   "id": "755dd292",
   "metadata": {},
   "outputs": [],
   "source": [
    "df17_dropdummy=df17.drop([\"Dept_HR\",\"Education_Graduate\"],axis=1)"
   ]
  },
  {
   "cell_type": "code",
   "execution_count": null,
   "id": "78774414",
   "metadata": {},
   "outputs": [],
   "source": [
    "df17_dropdummy.head()"
   ]
  },
  {
   "cell_type": "code",
   "execution_count": null,
   "id": "7d1e6e4e",
   "metadata": {},
   "outputs": [],
   "source": [
    "#here dept_it, and one column in  education got dropped"
   ]
  },
  {
   "cell_type": "code",
   "execution_count": null,
   "id": "851a4d00",
   "metadata": {
    "scrolled": true
   },
   "outputs": [],
   "source": [
    "df17.corr()"
   ]
  },
  {
   "cell_type": "code",
   "execution_count": null,
   "id": "1c039614",
   "metadata": {},
   "outputs": [],
   "source": []
  },
  {
   "cell_type": "code",
   "execution_count": null,
   "id": "19056504",
   "metadata": {},
   "outputs": [],
   "source": []
  }
 ],
 "metadata": {
  "kernelspec": {
   "display_name": "Python 3 (ipykernel)",
   "language": "python",
   "name": "python3"
  },
  "language_info": {
   "codemirror_mode": {
    "name": "ipython",
    "version": 3
   },
   "file_extension": ".py",
   "mimetype": "text/x-python",
   "name": "python",
   "nbconvert_exporter": "python",
   "pygments_lexer": "ipython3",
   "version": "3.9.13"
  }
 },
 "nbformat": 4,
 "nbformat_minor": 5
}
