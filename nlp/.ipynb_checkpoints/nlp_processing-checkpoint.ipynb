{
 "cells": [
  {
   "cell_type": "code",
   "execution_count": 1,
   "id": "faf3ffe1",
   "metadata": {},
   "outputs": [
    {
     "name": "stdout",
     "output_type": "stream",
     "text": [
      "Requirement already satisfied: nltk in /home/justdial/anaconda3/lib/python3.9/site-packages (3.7)\n",
      "Requirement already satisfied: joblib in /home/justdial/anaconda3/lib/python3.9/site-packages (from nltk) (1.1.0)\n",
      "Requirement already satisfied: click in /home/justdial/anaconda3/lib/python3.9/site-packages (from nltk) (8.0.4)\n",
      "Requirement already satisfied: tqdm in /home/justdial/anaconda3/lib/python3.9/site-packages (from nltk) (4.64.1)\n",
      "Requirement already satisfied: regex>=2021.8.3 in /home/justdial/anaconda3/lib/python3.9/site-packages (from nltk) (2022.7.9)\n",
      "Note: you may need to restart the kernel to use updated packages.\n"
     ]
    }
   ],
   "source": [
    "pip install nltk"
   ]
  },
  {
   "cell_type": "code",
   "execution_count": 2,
   "id": "9d1d8a13",
   "metadata": {},
   "outputs": [],
   "source": [
    "#creating simple text\n",
    "paragraph = \"\"\" Narendra Damodardas Modi; born 17 September 1950)[b] is an Indian politician serving as the 14th and current prime minister of India since 2014. Modi was the chief minister of Gujarat from 2001 to 2014 and is the Member of Parliament from Varanasi. He is a member of the Bharatiya Janata Party (BJP) and of the Rashtriya Swayamsevak Sangh (RSS), a right-wing Hindu nationalist paramilitary volunteer organisation. He is the longest serving prime minister from outside the Indian National Congress.\n",
    "\"\"\""
   ]
  },
  {
   "cell_type": "code",
   "execution_count": 3,
   "id": "4121e51e",
   "metadata": {},
   "outputs": [
    {
     "data": {
      "text/plain": [
       "' Narendra Damodardas Modi; born 17 September 1950)[b] is an Indian politician serving as the 14th and current prime minister of India since 2014. Modi was the chief minister of Gujarat from 2001 to 2014 and is the Member of Parliament from Varanasi. He is a member of the Bharatiya Janata Party (BJP) and of the Rashtriya Swayamsevak Sangh (RSS), a right-wing Hindu nationalist paramilitary volunteer organisation. He is the longest serving prime minister from outside the Indian National Congress.\\n'"
      ]
     },
     "execution_count": 3,
     "metadata": {},
     "output_type": "execute_result"
    }
   ],
   "source": [
    "paragraph"
   ]
  },
  {
   "cell_type": "code",
   "execution_count": 4,
   "id": "db8864f6",
   "metadata": {},
   "outputs": [
    {
     "name": "stderr",
     "output_type": "stream",
     "text": [
      "[nltk_data] Downloading package stopwords to\n",
      "[nltk_data]     /home/justdial/nltk_data...\n",
      "[nltk_data]   Package stopwords is already up-to-date!\n"
     ]
    },
    {
     "data": {
      "text/plain": [
       "True"
      ]
     },
     "execution_count": 4,
     "metadata": {},
     "output_type": "execute_result"
    }
   ],
   "source": [
    "import nltk\n",
    "from nltk.corpus import stopwords\n",
    "nltk.download('stopwords')"
   ]
  },
  {
   "cell_type": "code",
   "execution_count": 5,
   "id": "f073fc64",
   "metadata": {},
   "outputs": [
    {
     "name": "stdout",
     "output_type": "stream",
     "text": [
      "['arabic', 'azerbaijani', 'basque', 'bengali', 'catalan', 'chinese', 'danish', 'dutch', 'english', 'finnish', 'french', 'german', 'greek', 'hebrew', 'hinglish', 'hungarian', 'indonesian', 'italian', 'kazakh', 'nepali', 'norwegian', 'portuguese', 'romanian', 'russian', 'slovene', 'spanish', 'swedish', 'tajik', 'turkish']\n"
     ]
    }
   ],
   "source": [
    "print(stopwords.fileids())"
   ]
  },
  {
   "cell_type": "code",
   "execution_count": 6,
   "id": "9123fad3",
   "metadata": {},
   "outputs": [
    {
     "name": "stdout",
     "output_type": "stream",
     "text": [
      "29\n"
     ]
    }
   ],
   "source": [
    "#no of languages it supports\n",
    "print(len(stopwords.fileids()))"
   ]
  },
  {
   "cell_type": "code",
   "execution_count": 7,
   "id": "78796cff",
   "metadata": {},
   "outputs": [
    {
     "data": {
      "text/plain": [
       "['i',\n",
       " 'me',\n",
       " 'my',\n",
       " 'myself',\n",
       " 'we',\n",
       " 'our',\n",
       " 'ours',\n",
       " 'ourselves',\n",
       " 'you',\n",
       " \"you're\",\n",
       " \"you've\",\n",
       " \"you'll\",\n",
       " \"you'd\",\n",
       " 'your',\n",
       " 'yours',\n",
       " 'yourself',\n",
       " 'yourselves',\n",
       " 'he',\n",
       " 'him',\n",
       " 'his',\n",
       " 'himself',\n",
       " 'she',\n",
       " \"she's\",\n",
       " 'her',\n",
       " 'hers',\n",
       " 'herself',\n",
       " 'it',\n",
       " \"it's\",\n",
       " 'its',\n",
       " 'itself',\n",
       " 'they',\n",
       " 'them',\n",
       " 'their',\n",
       " 'theirs',\n",
       " 'themselves',\n",
       " 'what',\n",
       " 'which',\n",
       " 'who',\n",
       " 'whom',\n",
       " 'this',\n",
       " 'that',\n",
       " \"that'll\",\n",
       " 'these',\n",
       " 'those',\n",
       " 'am',\n",
       " 'is',\n",
       " 'are',\n",
       " 'was',\n",
       " 'were',\n",
       " 'be',\n",
       " 'been',\n",
       " 'being',\n",
       " 'have',\n",
       " 'has',\n",
       " 'had',\n",
       " 'having',\n",
       " 'do',\n",
       " 'does',\n",
       " 'did',\n",
       " 'doing',\n",
       " 'a',\n",
       " 'an',\n",
       " 'the',\n",
       " 'and',\n",
       " 'but',\n",
       " 'if',\n",
       " 'or',\n",
       " 'because',\n",
       " 'as',\n",
       " 'until',\n",
       " 'while',\n",
       " 'of',\n",
       " 'at',\n",
       " 'by',\n",
       " 'for',\n",
       " 'with',\n",
       " 'about',\n",
       " 'against',\n",
       " 'between',\n",
       " 'into',\n",
       " 'through',\n",
       " 'during',\n",
       " 'before',\n",
       " 'after',\n",
       " 'above',\n",
       " 'below',\n",
       " 'to',\n",
       " 'from',\n",
       " 'up',\n",
       " 'down',\n",
       " 'in',\n",
       " 'out',\n",
       " 'on',\n",
       " 'off',\n",
       " 'over',\n",
       " 'under',\n",
       " 'again',\n",
       " 'further',\n",
       " 'then',\n",
       " 'once',\n",
       " 'here',\n",
       " 'there',\n",
       " 'when',\n",
       " 'where',\n",
       " 'why',\n",
       " 'how',\n",
       " 'all',\n",
       " 'any',\n",
       " 'both',\n",
       " 'each',\n",
       " 'few',\n",
       " 'more',\n",
       " 'most',\n",
       " 'other',\n",
       " 'some',\n",
       " 'such',\n",
       " 'no',\n",
       " 'nor',\n",
       " 'not',\n",
       " 'only',\n",
       " 'own',\n",
       " 'same',\n",
       " 'so',\n",
       " 'than',\n",
       " 'too',\n",
       " 'very',\n",
       " 's',\n",
       " 't',\n",
       " 'can',\n",
       " 'will',\n",
       " 'just',\n",
       " 'don',\n",
       " \"don't\",\n",
       " 'should',\n",
       " \"should've\",\n",
       " 'now',\n",
       " 'd',\n",
       " 'll',\n",
       " 'm',\n",
       " 'o',\n",
       " 're',\n",
       " 've',\n",
       " 'y',\n",
       " 'ain',\n",
       " 'aren',\n",
       " \"aren't\",\n",
       " 'couldn',\n",
       " \"couldn't\",\n",
       " 'didn',\n",
       " \"didn't\",\n",
       " 'doesn',\n",
       " \"doesn't\",\n",
       " 'hadn',\n",
       " \"hadn't\",\n",
       " 'hasn',\n",
       " \"hasn't\",\n",
       " 'haven',\n",
       " \"haven't\",\n",
       " 'isn',\n",
       " \"isn't\",\n",
       " 'ma',\n",
       " 'mightn',\n",
       " \"mightn't\",\n",
       " 'mustn',\n",
       " \"mustn't\",\n",
       " 'needn',\n",
       " \"needn't\",\n",
       " 'shan',\n",
       " \"shan't\",\n",
       " 'shouldn',\n",
       " \"shouldn't\",\n",
       " 'wasn',\n",
       " \"wasn't\",\n",
       " 'weren',\n",
       " \"weren't\",\n",
       " 'won',\n",
       " \"won't\",\n",
       " 'wouldn',\n",
       " \"wouldn't\"]"
      ]
     },
     "execution_count": 7,
     "metadata": {},
     "output_type": "execute_result"
    }
   ],
   "source": [
    "stopwords.words('english')"
   ]
  },
  {
   "cell_type": "code",
   "execution_count": 8,
   "id": "6335ebea",
   "metadata": {},
   "outputs": [
    {
     "data": {
      "text/plain": [
       "179"
      ]
     },
     "execution_count": 8,
     "metadata": {},
     "output_type": "execute_result"
    }
   ],
   "source": [
    "len(stopwords.words('english'))"
   ]
  },
  {
   "cell_type": "code",
   "execution_count": 9,
   "id": "34454f74",
   "metadata": {},
   "outputs": [
    {
     "data": {
      "text/plain": [
       "True"
      ]
     },
     "execution_count": 9,
     "metadata": {},
     "output_type": "execute_result"
    }
   ],
   "source": [
    "#punctuations\n",
    "nltk.download('punkt', quiet=True)"
   ]
  },
  {
   "cell_type": "code",
   "execution_count": 10,
   "id": "c781f44c",
   "metadata": {},
   "outputs": [
    {
     "data": {
      "text/plain": [
       "[' Narendra Damodardas Modi; born 17 September 1950)[b] is an Indian politician serving as the 14th and current prime minister of India since 2014.',\n",
       " 'Modi was the chief minister of Gujarat from 2001 to 2014 and is the Member of Parliament from Varanasi.',\n",
       " 'He is a member of the Bharatiya Janata Party (BJP) and of the Rashtriya Swayamsevak Sangh (RSS), a right-wing Hindu nationalist paramilitary volunteer organisation.',\n",
       " 'He is the longest serving prime minister from outside the Indian National Congress.']"
      ]
     },
     "execution_count": 10,
     "metadata": {},
     "output_type": "execute_result"
    }
   ],
   "source": [
    "#converting corpus to sentences\n",
    "sentences = nltk.sent_tokenize(paragraph)\n",
    "sentences"
   ]
  },
  {
   "cell_type": "code",
   "execution_count": 11,
   "id": "d4ee0534",
   "metadata": {},
   "outputs": [],
   "source": [
    "#text cleaning - remove extra symbols besides letters and numbers, convert to lowercase\n",
    "corpus = []\n",
    "import re\n",
    "for i in sentences:\n",
    "    v = re.sub('[^0-9a-zA-Z]+', ' ', i)\n",
    "    v =v.lower()\n",
    "    corpus.append(v)"
   ]
  },
  {
   "cell_type": "code",
   "execution_count": 12,
   "id": "a95333d4",
   "metadata": {},
   "outputs": [
    {
     "data": {
      "text/plain": [
       "[' narendra damodardas modi born 17 september 1950 b is an indian politician serving as the 14th and current prime minister of india since 2014 ',\n",
       " 'modi was the chief minister of gujarat from 2001 to 2014 and is the member of parliament from varanasi ',\n",
       " 'he is a member of the bharatiya janata party bjp and of the rashtriya swayamsevak sangh rss a right wing hindu nationalist paramilitary volunteer organisation ',\n",
       " 'he is the longest serving prime minister from outside the indian national congress ']"
      ]
     },
     "execution_count": 12,
     "metadata": {},
     "output_type": "execute_result"
    }
   ],
   "source": [
    "corpus"
   ]
  },
  {
   "cell_type": "code",
   "execution_count": 13,
   "id": "3cada364",
   "metadata": {},
   "outputs": [
    {
     "data": {
      "text/plain": [
       "['narendra',\n",
       " 'damodardas',\n",
       " 'modi',\n",
       " 'born',\n",
       " '17',\n",
       " 'september',\n",
       " '1950',\n",
       " 'b',\n",
       " 'is',\n",
       " 'an',\n",
       " 'indian',\n",
       " 'politician',\n",
       " 'serving',\n",
       " 'as',\n",
       " 'the',\n",
       " '14th',\n",
       " 'and',\n",
       " 'current',\n",
       " 'prime',\n",
       " 'minister',\n",
       " 'of',\n",
       " 'india',\n",
       " 'since',\n",
       " '2014']"
      ]
     },
     "execution_count": 13,
     "metadata": {},
     "output_type": "execute_result"
    }
   ],
   "source": [
    "nltk.word_tokenize(corpus[0]) #we can use split also instead of word_tokenize"
   ]
  },
  {
   "cell_type": "code",
   "execution_count": 14,
   "id": "1fe3eb64",
   "metadata": {},
   "outputs": [],
   "source": [
    "from nltk.stem import PorterStemmer,LancasterStemmer"
   ]
  },
  {
   "cell_type": "code",
   "execution_count": 15,
   "id": "7a396a59",
   "metadata": {},
   "outputs": [
    {
     "data": {
      "text/plain": [
       "'gone'"
      ]
     },
     "execution_count": 15,
     "metadata": {},
     "output_type": "execute_result"
    }
   ],
   "source": [
    "l1 =\"gone\"\n",
    "stem1 = PorterStemmer()\n",
    "stem1.stem(l1)"
   ]
  },
  {
   "cell_type": "code",
   "execution_count": 16,
   "id": "366b6271",
   "metadata": {},
   "outputs": [
    {
     "data": {
      "text/plain": [
       "'gon'"
      ]
     },
     "execution_count": 16,
     "metadata": {},
     "output_type": "execute_result"
    }
   ],
   "source": [
    "l1 =\"gone\"\n",
    "stem2 = LancasterStemmer()\n",
    "stem2.stem(l1)"
   ]
  },
  {
   "cell_type": "code",
   "execution_count": 17,
   "id": "3587279f",
   "metadata": {},
   "outputs": [],
   "source": [
    "#as we see, lancasterstemmer is very aggresive, it gave som word which s not part of ditionary"
   ]
  },
  {
   "cell_type": "code",
   "execution_count": 18,
   "id": "49eb57ba",
   "metadata": {},
   "outputs": [],
   "source": [
    "#STEPS\n",
    "#for each sentence , tokenise into words\n",
    "#for each word find if there r stopwords and remove them\n",
    "#get the root word for remaining words"
   ]
  },
  {
   "cell_type": "code",
   "execution_count": null,
   "id": "e9d1e43e",
   "metadata": {},
   "outputs": [],
   "source": []
  },
  {
   "cell_type": "code",
   "execution_count": 19,
   "id": "0a0b774d",
   "metadata": {},
   "outputs": [],
   "source": [
    "clean_text=[]\n",
    "for i in corpus:\n",
    "    words = nltk.word_tokenize(i)\n",
    "    for word in words:\n",
    "        if word not in set(stopwords.words('english')):\n",
    "            rootword = stem1.stem(word)\n",
    "            clean_text.append(rootword)\n",
    "            "
   ]
  },
  {
   "cell_type": "code",
   "execution_count": 20,
   "id": "98b940a4",
   "metadata": {},
   "outputs": [
    {
     "name": "stdout",
     "output_type": "stream",
     "text": [
      "[' narendra damodardas modi born 17 september 1950 b is an indian politician serving as the 14th and current prime minister of india since 2014 ', 'modi was the chief minister of gujarat from 2001 to 2014 and is the member of parliament from varanasi ', 'he is a member of the bharatiya janata party bjp and of the rashtriya swayamsevak sangh rss a right wing hindu nationalist paramilitary volunteer organisation ', 'he is the longest serving prime minister from outside the indian national congress '] \n",
      "\n",
      " ['narendra', 'damodarda', 'modi', 'born', '17', 'septemb', '1950', 'b', 'indian', 'politician', 'serv', '14th', 'current', 'prime', 'minist', 'india', 'sinc', '2014', 'modi', 'chief', 'minist', 'gujarat', '2001', '2014', 'member', 'parliament', 'varanasi', 'member', 'bharatiya', 'janata', 'parti', 'bjp', 'rashtriya', 'swayamsevak', 'sangh', 'rss', 'right', 'wing', 'hindu', 'nationalist', 'paramilitari', 'volunt', 'organis', 'longest', 'serv', 'prime', 'minist', 'outsid', 'indian', 'nation', 'congress'] \n",
      "\n",
      " 51\n"
     ]
    }
   ],
   "source": [
    "print(corpus, '\\n\\n', clean_text, '\\n\\n', len(clean_text))"
   ]
  },
  {
   "cell_type": "code",
   "execution_count": 21,
   "id": "8cadfc69",
   "metadata": {},
   "outputs": [],
   "source": [
    "#lemamatizer"
   ]
  },
  {
   "cell_type": "code",
   "execution_count": 22,
   "id": "08172738",
   "metadata": {},
   "outputs": [
    {
     "name": "stderr",
     "output_type": "stream",
     "text": [
      "[nltk_data] Downloading package wordnet to /home/justdial/nltk_data...\n",
      "[nltk_data]   Package wordnet is already up-to-date!\n",
      "[nltk_data] Downloading package omw-1.4 to /home/justdial/nltk_data...\n",
      "[nltk_data]   Package omw-1.4 is already up-to-date!\n"
     ]
    },
    {
     "data": {
      "text/plain": [
       "True"
      ]
     },
     "execution_count": 22,
     "metadata": {},
     "output_type": "execute_result"
    }
   ],
   "source": [
    "from nltk.stem import WordNetLemmatizer\n",
    "nltk.download('wordnet') #we need to download dictionaries - downloading english dictinay\n",
    "nltk.download('omw-1.4') #open multilingual wordnet"
   ]
  },
  {
   "cell_type": "code",
   "execution_count": 23,
   "id": "80f2588a",
   "metadata": {},
   "outputs": [],
   "source": [
    "lemmatizer = WordNetLemmatizer()\n"
   ]
  },
  {
   "cell_type": "code",
   "execution_count": 24,
   "id": "15cd420b",
   "metadata": {},
   "outputs": [],
   "source": [
    "clean_text_lemmatise=[]\n",
    "for i in corpus:\n",
    "    words = nltk.word_tokenize(i)\n",
    "    for word in words:\n",
    "        if word not in set(stopwords.words('english')):\n",
    "            rootword = lemmatizer.lemmatize(word)\n",
    "            clean_text_lemmatise.append(rootword)"
   ]
  },
  {
   "cell_type": "code",
   "execution_count": 25,
   "id": "071b7813",
   "metadata": {},
   "outputs": [
    {
     "name": "stdout",
     "output_type": "stream",
     "text": [
      "[' narendra damodardas modi born 17 september 1950 b is an indian politician serving as the 14th and current prime minister of india since 2014 ', 'modi was the chief minister of gujarat from 2001 to 2014 and is the member of parliament from varanasi ', 'he is a member of the bharatiya janata party bjp and of the rashtriya swayamsevak sangh rss a right wing hindu nationalist paramilitary volunteer organisation ', 'he is the longest serving prime minister from outside the indian national congress '] \n",
      "\n",
      " ['narendra', 'damodarda', 'modi', 'born', '17', 'septemb', '1950', 'b', 'indian', 'politician', 'serv', '14th', 'current', 'prime', 'minist', 'india', 'sinc', '2014', 'modi', 'chief', 'minist', 'gujarat', '2001', '2014', 'member', 'parliament', 'varanasi', 'member', 'bharatiya', 'janata', 'parti', 'bjp', 'rashtriya', 'swayamsevak', 'sangh', 'rss', 'right', 'wing', 'hindu', 'nationalist', 'paramilitari', 'volunt', 'organis', 'longest', 'serv', 'prime', 'minist', 'outsid', 'indian', 'nation', 'congress'] \n",
      "\n",
      " ['narendra', 'damodardas', 'modi', 'born', '17', 'september', '1950', 'b', 'indian', 'politician', 'serving', '14th', 'current', 'prime', 'minister', 'india', 'since', '2014', 'modi', 'chief', 'minister', 'gujarat', '2001', '2014', 'member', 'parliament', 'varanasi', 'member', 'bharatiya', 'janata', 'party', 'bjp', 'rashtriya', 'swayamsevak', 'sangh', 'r', 'right', 'wing', 'hindu', 'nationalist', 'paramilitary', 'volunteer', 'organisation', 'longest', 'serving', 'prime', 'minister', 'outside', 'indian', 'national', 'congress'] \n",
      "\n",
      " 51\n"
     ]
    }
   ],
   "source": [
    "print(corpus, '\\n\\n', clean_text, '\\n\\n',clean_text_lemmatise, '\\n\\n', len(clean_text_lemmatise))"
   ]
  },
  {
   "cell_type": "code",
   "execution_count": 26,
   "id": "10f49015",
   "metadata": {},
   "outputs": [],
   "source": [
    "# so here we see stemming is eating up words, lematiser is keeping up as per dictionary"
   ]
  },
  {
   "cell_type": "markdown",
   "id": "3f2e61ab",
   "metadata": {},
   "source": [
    "# vectorisation"
   ]
  },
  {
   "cell_type": "markdown",
   "id": "d2948e22",
   "metadata": {},
   "source": [
    "# Bag of words"
   ]
  },
  {
   "cell_type": "code",
   "execution_count": 27,
   "id": "e68ece94",
   "metadata": {},
   "outputs": [],
   "source": [
    "from sklearn.feature_extraction.text import CountVectorizer\n"
   ]
  },
  {
   "cell_type": "code",
   "execution_count": 28,
   "id": "989b094f",
   "metadata": {},
   "outputs": [
    {
     "data": {
      "text/plain": [
       "[' Narendra Damodardas Modi; born 17 September 1950)[b] is an Indian politician serving as the 14th and current prime minister of India since 2014.',\n",
       " 'Modi was the chief minister of Gujarat from 2001 to 2014 and is the Member of Parliament from Varanasi.',\n",
       " 'He is a member of the Bharatiya Janata Party (BJP) and of the Rashtriya Swayamsevak Sangh (RSS), a right-wing Hindu nationalist paramilitary volunteer organisation.',\n",
       " 'He is the longest serving prime minister from outside the Indian National Congress.']"
      ]
     },
     "execution_count": 28,
     "metadata": {},
     "output_type": "execute_result"
    }
   ],
   "source": [
    "sentences"
   ]
  },
  {
   "cell_type": "code",
   "execution_count": 37,
   "id": "51fb270b",
   "metadata": {},
   "outputs": [],
   "source": [
    "corpus_new=[]\n",
    "for each in sentences:\n",
    "    review = (re.sub('[^a-zA-Z0-9]',' ',each))\n",
    "    review = review.lower()\n",
    "    review = review.split()\n",
    "    review = [lemmatizer.lemmatize(word) for word in review if word not in set(stopwords.words('english'))]\n",
    "    review = ' '.join(review)\n",
    "    corpus_new.append(review)"
   ]
  },
  {
   "cell_type": "code",
   "execution_count": 38,
   "id": "7a3464e5",
   "metadata": {},
   "outputs": [
    {
     "data": {
      "text/plain": [
       "['narendra damodardas modi born 17 september 1950 b indian politician serving 14th current prime minister india since 2014',\n",
       " 'modi chief minister gujarat 2001 2014 member parliament varanasi',\n",
       " 'member bharatiya janata party bjp rashtriya swayamsevak sangh r right wing hindu nationalist paramilitary volunteer organisation',\n",
       " 'longest serving prime minister outside indian national congress']"
      ]
     },
     "execution_count": 38,
     "metadata": {},
     "output_type": "execute_result"
    }
   ],
   "source": [
    "corpus_new"
   ]
  },
  {
   "cell_type": "code",
   "execution_count": 32,
   "id": "f20b17ab",
   "metadata": {},
   "outputs": [],
   "source": [
    "cv =CountVectorizer()\n",
    "vect = cv.fit_transform(corpus_new)"
   ]
  },
  {
   "cell_type": "code",
   "execution_count": 33,
   "id": "690c6fbe",
   "metadata": {},
   "outputs": [
    {
     "data": {
      "text/plain": [
       "<4x41 sparse matrix of type '<class 'numpy.int64'>'\n",
       "\twith 49 stored elements in Compressed Sparse Row format>"
      ]
     },
     "execution_count": 33,
     "metadata": {},
     "output_type": "execute_result"
    }
   ],
   "source": [
    "vect"
   ]
  },
  {
   "cell_type": "code",
   "execution_count": 34,
   "id": "57603ea7",
   "metadata": {},
   "outputs": [
    {
     "data": {
      "text/plain": [
       "array([[1, 1, 1, 0, 1, 0, 0, 1, 0, 0, 1, 1, 0, 0, 1, 1, 0, 0, 0, 1, 1, 1,\n",
       "        0, 0, 0, 0, 0, 0, 0, 1, 1, 0, 0, 0, 1, 1, 1, 0, 0, 0, 0],\n",
       "       [0, 0, 0, 1, 1, 0, 0, 0, 1, 0, 0, 0, 1, 0, 0, 0, 0, 0, 1, 1, 1, 0,\n",
       "        0, 0, 0, 0, 0, 1, 0, 0, 0, 0, 0, 0, 0, 0, 0, 0, 1, 0, 0],\n",
       "       [0, 0, 0, 0, 0, 1, 1, 0, 0, 0, 0, 0, 0, 1, 0, 0, 1, 0, 1, 0, 0, 0,\n",
       "        0, 1, 1, 0, 1, 0, 1, 0, 0, 1, 1, 1, 0, 0, 0, 1, 0, 1, 1],\n",
       "       [0, 0, 0, 0, 0, 0, 0, 0, 0, 1, 0, 0, 0, 0, 0, 1, 0, 1, 0, 1, 0, 0,\n",
       "        1, 0, 0, 1, 0, 0, 0, 0, 1, 0, 0, 0, 0, 1, 0, 0, 0, 0, 0]])"
      ]
     },
     "execution_count": 34,
     "metadata": {},
     "output_type": "execute_result"
    }
   ],
   "source": [
    "vect.toarray()"
   ]
  },
  {
   "cell_type": "code",
   "execution_count": 36,
   "id": "3820c06d",
   "metadata": {},
   "outputs": [
    {
     "data": {
      "text/plain": [
       "array(['14th', '17', '1950', '2001', '2014', 'bharatiya', 'bjp', 'born',\n",
       "       'chief', 'congress', 'current', 'damodardas', 'gujarat', 'hindu',\n",
       "       'india', 'indian', 'janata', 'longest', 'member', 'minister',\n",
       "       'modi', 'narendra', 'national', 'nationalist', 'organisation',\n",
       "       'outside', 'paramilitary', 'parliament', 'party', 'politician',\n",
       "       'prime', 'rashtriya', 'right', 'sangh', 'september', 'serving',\n",
       "       'since', 'swayamsevak', 'varanasi', 'volunteer', 'wing'],\n",
       "      dtype=object)"
      ]
     },
     "execution_count": 36,
     "metadata": {},
     "output_type": "execute_result"
    }
   ],
   "source": [
    "cv.get_feature_names_out()"
   ]
  },
  {
   "cell_type": "code",
   "execution_count": 39,
   "id": "6c27cf3b",
   "metadata": {},
   "outputs": [
    {
     "data": {
      "text/plain": [
       "array([[1, 1, 1, 0, 1, 0, 0, 1, 0, 0, 1, 1, 0, 0, 1, 1, 0, 0, 0, 1, 1, 1,\n",
       "        0, 0, 0, 0, 0, 0, 0, 1, 1, 0, 0, 0, 1, 1, 1, 0, 0, 0, 0]])"
      ]
     },
     "execution_count": 39,
     "metadata": {},
     "output_type": "execute_result"
    }
   ],
   "source": [
    "vect[0].toarray()"
   ]
  },
  {
   "cell_type": "code",
   "execution_count": 40,
   "id": "aa4c777b",
   "metadata": {},
   "outputs": [],
   "source": [
    "cv1 = CountVectorizer(ngram_range=(1,2)) #unigrams and bigrams"
   ]
  },
  {
   "cell_type": "code",
   "execution_count": 42,
   "id": "4fd6004d",
   "metadata": {},
   "outputs": [],
   "source": [
    "vect1 = cv1.fit_transform(corpus_new)"
   ]
  },
  {
   "cell_type": "code",
   "execution_count": 43,
   "id": "d722e08c",
   "metadata": {},
   "outputs": [
    {
     "data": {
      "text/plain": [
       "array(['14th', '14th current', '17', '17 september', '1950',\n",
       "       '1950 indian', '2001', '2001 2014', '2014', '2014 member',\n",
       "       'bharatiya', 'bharatiya janata', 'bjp', 'bjp rashtriya', 'born',\n",
       "       'born 17', 'chief', 'chief minister', 'congress', 'current',\n",
       "       'current prime', 'damodardas', 'damodardas modi', 'gujarat',\n",
       "       'gujarat 2001', 'hindu', 'hindu nationalist', 'india',\n",
       "       'india since', 'indian', 'indian national', 'indian politician',\n",
       "       'janata', 'janata party', 'longest', 'longest serving', 'member',\n",
       "       'member bharatiya', 'member parliament', 'minister',\n",
       "       'minister gujarat', 'minister india', 'minister outside', 'modi',\n",
       "       'modi born', 'modi chief', 'narendra', 'narendra damodardas',\n",
       "       'national', 'national congress', 'nationalist',\n",
       "       'nationalist paramilitary', 'organisation', 'outside',\n",
       "       'outside indian', 'paramilitary', 'paramilitary volunteer',\n",
       "       'parliament', 'parliament varanasi', 'party', 'party bjp',\n",
       "       'politician', 'politician serving', 'prime', 'prime minister',\n",
       "       'rashtriya', 'rashtriya swayamsevak', 'right', 'right wing',\n",
       "       'sangh', 'sangh right', 'september', 'september 1950', 'serving',\n",
       "       'serving 14th', 'serving prime', 'since', 'since 2014',\n",
       "       'swayamsevak', 'swayamsevak sangh', 'varanasi', 'volunteer',\n",
       "       'volunteer organisation', 'wing', 'wing hindu'], dtype=object)"
      ]
     },
     "execution_count": 43,
     "metadata": {},
     "output_type": "execute_result"
    }
   ],
   "source": [
    "cv1.get_feature_names_out()"
   ]
  },
  {
   "cell_type": "code",
   "execution_count": 49,
   "id": "39487a75",
   "metadata": {},
   "outputs": [],
   "source": [
    "cv2 = CountVectorizer(ngram_range=(2,2)) #only bigrams - (2,2) bcoz it takes 2 params"
   ]
  },
  {
   "cell_type": "code",
   "execution_count": 50,
   "id": "69e1e923",
   "metadata": {},
   "outputs": [],
   "source": [
    "vect2= cv2.fit_transform(corpus_new)"
   ]
  },
  {
   "cell_type": "code",
   "execution_count": 51,
   "id": "c55bdc8c",
   "metadata": {},
   "outputs": [
    {
     "data": {
      "text/plain": [
       "array(['14th current', '17 september', '1950 indian', '2001 2014',\n",
       "       '2014 member', 'bharatiya janata', 'bjp rashtriya', 'born 17',\n",
       "       'chief minister', 'current prime', 'damodardas modi',\n",
       "       'gujarat 2001', 'hindu nationalist', 'india since',\n",
       "       'indian national', 'indian politician', 'janata party',\n",
       "       'longest serving', 'member bharatiya', 'member parliament',\n",
       "       'minister gujarat', 'minister india', 'minister outside',\n",
       "       'modi born', 'modi chief', 'narendra damodardas',\n",
       "       'national congress', 'nationalist paramilitary', 'outside indian',\n",
       "       'paramilitary volunteer', 'parliament varanasi', 'party bjp',\n",
       "       'politician serving', 'prime minister', 'rashtriya swayamsevak',\n",
       "       'right wing', 'sangh right', 'september 1950', 'serving 14th',\n",
       "       'serving prime', 'since 2014', 'swayamsevak sangh',\n",
       "       'volunteer organisation', 'wing hindu'], dtype=object)"
      ]
     },
     "execution_count": 51,
     "metadata": {},
     "output_type": "execute_result"
    }
   ],
   "source": [
    "cv2.get_feature_names_out()"
   ]
  },
  {
   "cell_type": "code",
   "execution_count": null,
   "id": "bb81b3ca",
   "metadata": {},
   "outputs": [],
   "source": [
    "#here above we can see only bigram"
   ]
  },
  {
   "cell_type": "markdown",
   "id": "76de206d",
   "metadata": {},
   "source": [
    "# Term Frequency Inverse Document Frequency(TFIDF)"
   ]
  },
  {
   "cell_type": "code",
   "execution_count": 57,
   "id": "2062f72d",
   "metadata": {},
   "outputs": [],
   "source": [
    "from sklearn.feature_extraction.text import TfidfVectorizer\n",
    "tf = TfidfVectorizer()"
   ]
  },
  {
   "cell_type": "code",
   "execution_count": 58,
   "id": "d878d462",
   "metadata": {},
   "outputs": [],
   "source": [
    "tf_vect = tf.fit_transform(corpus_new)"
   ]
  },
  {
   "cell_type": "code",
   "execution_count": 59,
   "id": "c4634dbc",
   "metadata": {},
   "outputs": [
    {
     "data": {
      "text/plain": [
       "<1x41 sparse matrix of type '<class 'numpy.float64'>'\n",
       "\twith 17 stored elements in Compressed Sparse Row format>"
      ]
     },
     "execution_count": 59,
     "metadata": {},
     "output_type": "execute_result"
    }
   ],
   "source": [
    "tf_vect[0]"
   ]
  },
  {
   "cell_type": "code",
   "execution_count": 60,
   "id": "eef15a2f",
   "metadata": {},
   "outputs": [
    {
     "data": {
      "text/plain": [
       "array([[0.26247376, 0.26247376, 0.26247376, 0.        , 0.20693733,\n",
       "        0.        , 0.        , 0.26247376, 0.        , 0.        ,\n",
       "        0.26247376, 0.26247376, 0.        , 0.        , 0.26247376,\n",
       "        0.20693733, 0.        , 0.        , 0.        , 0.1675336 ,\n",
       "        0.20693733, 0.26247376, 0.        , 0.        , 0.        ,\n",
       "        0.        , 0.        , 0.        , 0.        , 0.26247376,\n",
       "        0.20693733, 0.        , 0.        , 0.        , 0.26247376,\n",
       "        0.20693733, 0.26247376, 0.        , 0.        , 0.        ,\n",
       "        0.        ]])"
      ]
     },
     "execution_count": 60,
     "metadata": {},
     "output_type": "execute_result"
    }
   ],
   "source": [
    "tf_vect[0].toarrayray()"
   ]
  },
  {
   "cell_type": "code",
   "execution_count": null,
   "id": "1f65c359",
   "metadata": {},
   "outputs": [],
   "source": [
    "#here we can see 0, it means either the word is not there in that sentence or "
   ]
  },
  {
   "cell_type": "code",
   "execution_count": 61,
   "id": "0bfdbb6b",
   "metadata": {},
   "outputs": [
    {
     "ename": "AttributeError",
     "evalue": "get_feature_names_out not found",
     "output_type": "error",
     "traceback": [
      "\u001b[0;31m---------------------------------------------------------------------------\u001b[0m",
      "\u001b[0;31mAttributeError\u001b[0m                            Traceback (most recent call last)",
      "\u001b[0;32m/tmp/ipykernel_5733/359406091.py\u001b[0m in \u001b[0;36m<module>\u001b[0;34m\u001b[0m\n\u001b[0;32m----> 1\u001b[0;31m \u001b[0mtf_vect\u001b[0m\u001b[0;34m.\u001b[0m\u001b[0mget_feature_names_out\u001b[0m\u001b[0;34m(\u001b[0m\u001b[0;34m)\u001b[0m\u001b[0;34m\u001b[0m\u001b[0;34m\u001b[0m\u001b[0m\n\u001b[0m",
      "\u001b[0;32m~/anaconda3/lib/python3.9/site-packages/scipy/sparse/_base.py\u001b[0m in \u001b[0;36m__getattr__\u001b[0;34m(self, attr)\u001b[0m\n\u001b[1;32m    769\u001b[0m             \u001b[0;32mreturn\u001b[0m \u001b[0mself\u001b[0m\u001b[0;34m.\u001b[0m\u001b[0mgetnnz\u001b[0m\u001b[0;34m(\u001b[0m\u001b[0;34m)\u001b[0m\u001b[0;34m\u001b[0m\u001b[0;34m\u001b[0m\u001b[0m\n\u001b[1;32m    770\u001b[0m         \u001b[0;32melse\u001b[0m\u001b[0;34m:\u001b[0m\u001b[0;34m\u001b[0m\u001b[0;34m\u001b[0m\u001b[0m\n\u001b[0;32m--> 771\u001b[0;31m             \u001b[0;32mraise\u001b[0m \u001b[0mAttributeError\u001b[0m\u001b[0;34m(\u001b[0m\u001b[0mattr\u001b[0m \u001b[0;34m+\u001b[0m \u001b[0;34m\" not found\"\u001b[0m\u001b[0;34m)\u001b[0m\u001b[0;34m\u001b[0m\u001b[0;34m\u001b[0m\u001b[0m\n\u001b[0m\u001b[1;32m    772\u001b[0m \u001b[0;34m\u001b[0m\u001b[0m\n\u001b[1;32m    773\u001b[0m     \u001b[0;32mdef\u001b[0m \u001b[0mtranspose\u001b[0m\u001b[0;34m(\u001b[0m\u001b[0mself\u001b[0m\u001b[0;34m,\u001b[0m \u001b[0maxes\u001b[0m\u001b[0;34m=\u001b[0m\u001b[0;32mNone\u001b[0m\u001b[0;34m,\u001b[0m \u001b[0mcopy\u001b[0m\u001b[0;34m=\u001b[0m\u001b[0;32mFalse\u001b[0m\u001b[0;34m)\u001b[0m\u001b[0;34m:\u001b[0m\u001b[0;34m\u001b[0m\u001b[0;34m\u001b[0m\u001b[0m\n",
      "\u001b[0;31mAttributeError\u001b[0m: get_feature_names_out not found"
     ]
    }
   ],
   "source": []
  },
  {
   "cell_type": "code",
   "execution_count": null,
   "id": "1c42f2f9",
   "metadata": {},
   "outputs": [],
   "source": []
  }
 ],
 "metadata": {
  "kernelspec": {
   "display_name": "Python 3 (ipykernel)",
   "language": "python",
   "name": "python3"
  },
  "language_info": {
   "codemirror_mode": {
    "name": "ipython",
    "version": 3
   },
   "file_extension": ".py",
   "mimetype": "text/x-python",
   "name": "python",
   "nbconvert_exporter": "python",
   "pygments_lexer": "ipython3",
   "version": "3.9.13"
  }
 },
 "nbformat": 4,
 "nbformat_minor": 5
}
