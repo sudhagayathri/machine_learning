{
 "cells": [
  {
   "cell_type": "code",
   "execution_count": 1,
   "metadata": {
    "colab": {
     "base_uri": "https://localhost:8080/"
    },
    "id": "EISL5ntcEQkT",
    "outputId": "e6a610cb-a8ac-4109-9c1e-9ef58dea6d10"
   },
   "outputs": [
    {
     "name": "stdout",
     "output_type": "stream",
     "text": [
      "Requirement already satisfied: spacy in /usr/local/lib/python3.10/dist-packages (3.5.4)\n",
      "Requirement already satisfied: spacy-legacy<3.1.0,>=3.0.11 in /usr/local/lib/python3.10/dist-packages (from spacy) (3.0.12)\n",
      "Requirement already satisfied: spacy-loggers<2.0.0,>=1.0.0 in /usr/local/lib/python3.10/dist-packages (from spacy) (1.0.4)\n",
      "Requirement already satisfied: murmurhash<1.1.0,>=0.28.0 in /usr/local/lib/python3.10/dist-packages (from spacy) (1.0.9)\n",
      "Requirement already satisfied: cymem<2.1.0,>=2.0.2 in /usr/local/lib/python3.10/dist-packages (from spacy) (2.0.7)\n",
      "Requirement already satisfied: preshed<3.1.0,>=3.0.2 in /usr/local/lib/python3.10/dist-packages (from spacy) (3.0.8)\n",
      "Requirement already satisfied: thinc<8.2.0,>=8.1.8 in /usr/local/lib/python3.10/dist-packages (from spacy) (8.1.10)\n",
      "Requirement already satisfied: wasabi<1.2.0,>=0.9.1 in /usr/local/lib/python3.10/dist-packages (from spacy) (1.1.2)\n",
      "Requirement already satisfied: srsly<3.0.0,>=2.4.3 in /usr/local/lib/python3.10/dist-packages (from spacy) (2.4.7)\n",
      "Requirement already satisfied: catalogue<2.1.0,>=2.0.6 in /usr/local/lib/python3.10/dist-packages (from spacy) (2.0.8)\n",
      "Requirement already satisfied: typer<0.10.0,>=0.3.0 in /usr/local/lib/python3.10/dist-packages (from spacy) (0.9.0)\n",
      "Requirement already satisfied: pathy>=0.10.0 in /usr/local/lib/python3.10/dist-packages (from spacy) (0.10.2)\n",
      "Requirement already satisfied: smart-open<7.0.0,>=5.2.1 in /usr/local/lib/python3.10/dist-packages (from spacy) (6.3.0)\n",
      "Requirement already satisfied: tqdm<5.0.0,>=4.38.0 in /usr/local/lib/python3.10/dist-packages (from spacy) (4.65.0)\n",
      "Requirement already satisfied: numpy>=1.15.0 in /usr/local/lib/python3.10/dist-packages (from spacy) (1.22.4)\n",
      "Requirement already satisfied: requests<3.0.0,>=2.13.0 in /usr/local/lib/python3.10/dist-packages (from spacy) (2.27.1)\n",
      "Requirement already satisfied: pydantic!=1.8,!=1.8.1,<1.11.0,>=1.7.4 in /usr/local/lib/python3.10/dist-packages (from spacy) (1.10.11)\n",
      "Requirement already satisfied: jinja2 in /usr/local/lib/python3.10/dist-packages (from spacy) (3.1.2)\n",
      "Requirement already satisfied: setuptools in /usr/local/lib/python3.10/dist-packages (from spacy) (67.7.2)\n",
      "Requirement already satisfied: packaging>=20.0 in /usr/local/lib/python3.10/dist-packages (from spacy) (23.1)\n",
      "Requirement already satisfied: langcodes<4.0.0,>=3.2.0 in /usr/local/lib/python3.10/dist-packages (from spacy) (3.3.0)\n",
      "Requirement already satisfied: typing-extensions>=4.2.0 in /usr/local/lib/python3.10/dist-packages (from pydantic!=1.8,!=1.8.1,<1.11.0,>=1.7.4->spacy) (4.7.1)\n",
      "Requirement already satisfied: urllib3<1.27,>=1.21.1 in /usr/local/lib/python3.10/dist-packages (from requests<3.0.0,>=2.13.0->spacy) (1.26.16)\n",
      "Requirement already satisfied: certifi>=2017.4.17 in /usr/local/lib/python3.10/dist-packages (from requests<3.0.0,>=2.13.0->spacy) (2023.5.7)\n",
      "Requirement already satisfied: charset-normalizer~=2.0.0 in /usr/local/lib/python3.10/dist-packages (from requests<3.0.0,>=2.13.0->spacy) (2.0.12)\n",
      "Requirement already satisfied: idna<4,>=2.5 in /usr/local/lib/python3.10/dist-packages (from requests<3.0.0,>=2.13.0->spacy) (3.4)\n",
      "Requirement already satisfied: blis<0.8.0,>=0.7.8 in /usr/local/lib/python3.10/dist-packages (from thinc<8.2.0,>=8.1.8->spacy) (0.7.9)\n",
      "Requirement already satisfied: confection<1.0.0,>=0.0.1 in /usr/local/lib/python3.10/dist-packages (from thinc<8.2.0,>=8.1.8->spacy) (0.1.0)\n",
      "Requirement already satisfied: click<9.0.0,>=7.1.1 in /usr/local/lib/python3.10/dist-packages (from typer<0.10.0,>=0.3.0->spacy) (8.1.6)\n",
      "Requirement already satisfied: MarkupSafe>=2.0 in /usr/local/lib/python3.10/dist-packages (from jinja2->spacy) (2.1.3)\n"
     ]
    }
   ],
   "source": [
    "pip install spacy"
   ]
  },
  {
   "cell_type": "code",
   "execution_count": 2,
   "metadata": {
    "colab": {
     "base_uri": "https://localhost:8080/"
    },
    "id": "pIX5-hczEZxu",
    "outputId": "06c90b70-96ed-4bc5-f6e6-5955bd713757"
   },
   "outputs": [
    {
     "name": "stdout",
     "output_type": "stream",
     "text": [
      "2023-07-26 12:14:21.650930: I tensorflow/core/platform/cpu_feature_guard.cc:182] This TensorFlow binary is optimized to use available CPU instructions in performance-critical operations.\n",
      "To enable the following instructions: AVX2 FMA, in other operations, rebuild TensorFlow with the appropriate compiler flags.\n",
      "2023-07-26 12:14:22.791238: W tensorflow/compiler/tf2tensorrt/utils/py_utils.cc:38] TF-TRT Warning: Could not find TensorRT\n",
      "2023-07-26 12:14:24.112983: I tensorflow/compiler/xla/stream_executor/cuda/cuda_gpu_executor.cc:996] successful NUMA node read from SysFS had negative value (-1), but there must be at least one NUMA node, so returning NUMA node zero. See more at https://github.com/torvalds/linux/blob/v6.0/Documentation/ABI/testing/sysfs-bus-pci#L344-L355\n",
      "2023-07-26 12:14:24.113455: I tensorflow/compiler/xla/stream_executor/cuda/cuda_gpu_executor.cc:996] successful NUMA node read from SysFS had negative value (-1), but there must be at least one NUMA node, so returning NUMA node zero. See more at https://github.com/torvalds/linux/blob/v6.0/Documentation/ABI/testing/sysfs-bus-pci#L344-L355\n",
      "2023-07-26 12:14:24.113663: I tensorflow/compiler/xla/stream_executor/cuda/cuda_gpu_executor.cc:996] successful NUMA node read from SysFS had negative value (-1), but there must be at least one NUMA node, so returning NUMA node zero. See more at https://github.com/torvalds/linux/blob/v6.0/Documentation/ABI/testing/sysfs-bus-pci#L344-L355\n",
      "Collecting en-core-web-sm==3.5.0\n",
      "  Downloading https://github.com/explosion/spacy-models/releases/download/en_core_web_sm-3.5.0/en_core_web_sm-3.5.0-py3-none-any.whl (12.8 MB)\n",
      "\u001b[2K     \u001b[90m━━━━━━━━━━━━━━━━━━━━━━━━━━━━━━━━━━━━━━━━\u001b[0m \u001b[32m12.8/12.8 MB\u001b[0m \u001b[31m22.0 MB/s\u001b[0m eta \u001b[36m0:00:00\u001b[0m\n",
      "\u001b[?25hRequirement already satisfied: spacy<3.6.0,>=3.5.0 in /usr/local/lib/python3.10/dist-packages (from en-core-web-sm==3.5.0) (3.5.4)\n",
      "Requirement already satisfied: spacy-legacy<3.1.0,>=3.0.11 in /usr/local/lib/python3.10/dist-packages (from spacy<3.6.0,>=3.5.0->en-core-web-sm==3.5.0) (3.0.12)\n",
      "Requirement already satisfied: spacy-loggers<2.0.0,>=1.0.0 in /usr/local/lib/python3.10/dist-packages (from spacy<3.6.0,>=3.5.0->en-core-web-sm==3.5.0) (1.0.4)\n",
      "Requirement already satisfied: murmurhash<1.1.0,>=0.28.0 in /usr/local/lib/python3.10/dist-packages (from spacy<3.6.0,>=3.5.0->en-core-web-sm==3.5.0) (1.0.9)\n",
      "Requirement already satisfied: cymem<2.1.0,>=2.0.2 in /usr/local/lib/python3.10/dist-packages (from spacy<3.6.0,>=3.5.0->en-core-web-sm==3.5.0) (2.0.7)\n",
      "Requirement already satisfied: preshed<3.1.0,>=3.0.2 in /usr/local/lib/python3.10/dist-packages (from spacy<3.6.0,>=3.5.0->en-core-web-sm==3.5.0) (3.0.8)\n",
      "Requirement already satisfied: thinc<8.2.0,>=8.1.8 in /usr/local/lib/python3.10/dist-packages (from spacy<3.6.0,>=3.5.0->en-core-web-sm==3.5.0) (8.1.10)\n",
      "Requirement already satisfied: wasabi<1.2.0,>=0.9.1 in /usr/local/lib/python3.10/dist-packages (from spacy<3.6.0,>=3.5.0->en-core-web-sm==3.5.0) (1.1.2)\n",
      "Requirement already satisfied: srsly<3.0.0,>=2.4.3 in /usr/local/lib/python3.10/dist-packages (from spacy<3.6.0,>=3.5.0->en-core-web-sm==3.5.0) (2.4.7)\n",
      "Requirement already satisfied: catalogue<2.1.0,>=2.0.6 in /usr/local/lib/python3.10/dist-packages (from spacy<3.6.0,>=3.5.0->en-core-web-sm==3.5.0) (2.0.8)\n",
      "Requirement already satisfied: typer<0.10.0,>=0.3.0 in /usr/local/lib/python3.10/dist-packages (from spacy<3.6.0,>=3.5.0->en-core-web-sm==3.5.0) (0.9.0)\n",
      "Requirement already satisfied: pathy>=0.10.0 in /usr/local/lib/python3.10/dist-packages (from spacy<3.6.0,>=3.5.0->en-core-web-sm==3.5.0) (0.10.2)\n",
      "Requirement already satisfied: smart-open<7.0.0,>=5.2.1 in /usr/local/lib/python3.10/dist-packages (from spacy<3.6.0,>=3.5.0->en-core-web-sm==3.5.0) (6.3.0)\n",
      "Requirement already satisfied: tqdm<5.0.0,>=4.38.0 in /usr/local/lib/python3.10/dist-packages (from spacy<3.6.0,>=3.5.0->en-core-web-sm==3.5.0) (4.65.0)\n",
      "Requirement already satisfied: numpy>=1.15.0 in /usr/local/lib/python3.10/dist-packages (from spacy<3.6.0,>=3.5.0->en-core-web-sm==3.5.0) (1.22.4)\n",
      "Requirement already satisfied: requests<3.0.0,>=2.13.0 in /usr/local/lib/python3.10/dist-packages (from spacy<3.6.0,>=3.5.0->en-core-web-sm==3.5.0) (2.27.1)\n",
      "Requirement already satisfied: pydantic!=1.8,!=1.8.1,<1.11.0,>=1.7.4 in /usr/local/lib/python3.10/dist-packages (from spacy<3.6.0,>=3.5.0->en-core-web-sm==3.5.0) (1.10.11)\n",
      "Requirement already satisfied: jinja2 in /usr/local/lib/python3.10/dist-packages (from spacy<3.6.0,>=3.5.0->en-core-web-sm==3.5.0) (3.1.2)\n",
      "Requirement already satisfied: setuptools in /usr/local/lib/python3.10/dist-packages (from spacy<3.6.0,>=3.5.0->en-core-web-sm==3.5.0) (67.7.2)\n",
      "Requirement already satisfied: packaging>=20.0 in /usr/local/lib/python3.10/dist-packages (from spacy<3.6.0,>=3.5.0->en-core-web-sm==3.5.0) (23.1)\n",
      "Requirement already satisfied: langcodes<4.0.0,>=3.2.0 in /usr/local/lib/python3.10/dist-packages (from spacy<3.6.0,>=3.5.0->en-core-web-sm==3.5.0) (3.3.0)\n",
      "Requirement already satisfied: typing-extensions>=4.2.0 in /usr/local/lib/python3.10/dist-packages (from pydantic!=1.8,!=1.8.1,<1.11.0,>=1.7.4->spacy<3.6.0,>=3.5.0->en-core-web-sm==3.5.0) (4.7.1)\n",
      "Requirement already satisfied: urllib3<1.27,>=1.21.1 in /usr/local/lib/python3.10/dist-packages (from requests<3.0.0,>=2.13.0->spacy<3.6.0,>=3.5.0->en-core-web-sm==3.5.0) (1.26.16)\n",
      "Requirement already satisfied: certifi>=2017.4.17 in /usr/local/lib/python3.10/dist-packages (from requests<3.0.0,>=2.13.0->spacy<3.6.0,>=3.5.0->en-core-web-sm==3.5.0) (2023.5.7)\n",
      "Requirement already satisfied: charset-normalizer~=2.0.0 in /usr/local/lib/python3.10/dist-packages (from requests<3.0.0,>=2.13.0->spacy<3.6.0,>=3.5.0->en-core-web-sm==3.5.0) (2.0.12)\n",
      "Requirement already satisfied: idna<4,>=2.5 in /usr/local/lib/python3.10/dist-packages (from requests<3.0.0,>=2.13.0->spacy<3.6.0,>=3.5.0->en-core-web-sm==3.5.0) (3.4)\n",
      "Requirement already satisfied: blis<0.8.0,>=0.7.8 in /usr/local/lib/python3.10/dist-packages (from thinc<8.2.0,>=8.1.8->spacy<3.6.0,>=3.5.0->en-core-web-sm==3.5.0) (0.7.9)\n",
      "Requirement already satisfied: confection<1.0.0,>=0.0.1 in /usr/local/lib/python3.10/dist-packages (from thinc<8.2.0,>=8.1.8->spacy<3.6.0,>=3.5.0->en-core-web-sm==3.5.0) (0.1.0)\n",
      "Requirement already satisfied: click<9.0.0,>=7.1.1 in /usr/local/lib/python3.10/dist-packages (from typer<0.10.0,>=0.3.0->spacy<3.6.0,>=3.5.0->en-core-web-sm==3.5.0) (8.1.6)\n",
      "Requirement already satisfied: MarkupSafe>=2.0 in /usr/local/lib/python3.10/dist-packages (from jinja2->spacy<3.6.0,>=3.5.0->en-core-web-sm==3.5.0) (2.1.3)\n",
      "\u001b[38;5;2m✔ Download and installation successful\u001b[0m\n",
      "You can now load the package via spacy.load('en_core_web_sm')\n"
     ]
    }
   ],
   "source": [
    "#download the model\n",
    "\n",
    "!python -m spacy download en_core_web_sm"
   ]
  },
  {
   "cell_type": "code",
   "execution_count": 3,
   "metadata": {
    "id": "rhgV305XEdS0"
   },
   "outputs": [],
   "source": [
    "import spacy\n",
    "nlp = spacy.load(\"en_core_web_sm\")"
   ]
  },
  {
   "cell_type": "code",
   "execution_count": 4,
   "metadata": {
    "id": "MfR9nm79Ejue"
   },
   "outputs": [],
   "source": [
    "text = \"\"\"The sun shines brightly as I walk along the sandy shore, feeling the\n",
    "soft grains beneath my bare feet. The rhythmic sound of waves crashing against\n",
    "the shore fills the air, creating a soothing melody. The salty breeze carries a\n",
    "refreshing scent, reminding me of the vast ocean that stretches out before me.\n",
    "Seagulls soar gracefully overhead, their calls echoing in the distance\"\"\""
   ]
  },
  {
   "cell_type": "code",
   "execution_count": 5,
   "metadata": {
    "colab": {
     "base_uri": "https://localhost:8080/"
    },
    "id": "Jk_La-tEE20B",
    "outputId": "464766c9-91fb-47bc-d5dd-4a171b69b21c"
   },
   "outputs": [
    {
     "name": "stdout",
     "output_type": "stream",
     "text": [
      "The sun shines brightly as I walk along the sandy shore, feeling the\n",
      "soft grains beneath my bare feet. The rhythmic sound of waves crashing against\n",
      "the shore fills the air, creating a soothing melody. The salty breeze carries a\n",
      "refreshing scent, reminding me of the vast ocean that stretches out before me.\n",
      "Seagulls soar gracefully overhead, their calls echoing in the distance\n"
     ]
    }
   ],
   "source": [
    "doc = nlp(text)\n",
    "print(doc)"
   ]
  },
  {
   "cell_type": "code",
   "execution_count": 6,
   "metadata": {
    "colab": {
     "base_uri": "https://localhost:8080/"
    },
    "id": "NSMDt-cBE7Ss",
    "outputId": "64a3baf7-4188-457e-c84e-246843fcbe55"
   },
   "outputs": [
    {
     "data": {
      "text/plain": [
       "[The sun shines brightly as I walk along the sandy shore, feeling the\n",
       " soft grains beneath my bare feet.,\n",
       " The rhythmic sound of waves crashing against\n",
       " the shore fills the air, creating a soothing melody.,\n",
       " The salty breeze carries a\n",
       " refreshing scent, reminding me of the vast ocean that stretches out before me.,\n",
       " Seagulls soar gracefully overhead, their calls echoing in the distance]"
      ]
     },
     "execution_count": 6,
     "metadata": {},
     "output_type": "execute_result"
    }
   ],
   "source": [
    "list(doc.sents)"
   ]
  },
  {
   "cell_type": "code",
   "execution_count": 7,
   "metadata": {
    "colab": {
     "base_uri": "https://localhost:8080/"
    },
    "id": "-yYUOv8LCNwG",
    "outputId": "40289eac-1e80-4b87-dc3b-c8d1ab71b0a8"
   },
   "outputs": [
    {
     "name": "stdout",
     "output_type": "stream",
     "text": [
      "4\n"
     ]
    }
   ],
   "source": [
    "\n",
    "print(len(list(doc.sents)))"
   ]
  },
  {
   "cell_type": "code",
   "execution_count": 8,
   "metadata": {
    "colab": {
     "base_uri": "https://localhost:8080/"
    },
    "id": "XLD5DCCOFCtV",
    "outputId": "6a777910-6635-477c-a690-0d3714b4b70f"
   },
   "outputs": [
    {
     "name": "stdout",
     "output_type": "stream",
     "text": [
      "The\n",
      "sun\n",
      "shines\n",
      "brightly\n",
      "as\n",
      "I\n",
      "walk\n",
      "along\n",
      "the\n",
      "sandy\n",
      "shore\n",
      ",\n",
      "feeling\n",
      "the\n",
      "\n",
      "\n",
      "soft\n",
      "grains\n",
      "beneath\n",
      "my\n",
      "bare\n",
      "feet\n",
      ".\n",
      "The\n",
      "rhythmic\n",
      "sound\n",
      "of\n",
      "waves\n",
      "crashing\n",
      "against\n",
      "\n",
      "\n",
      "the\n",
      "shore\n",
      "fills\n",
      "the\n",
      "air\n",
      ",\n",
      "creating\n",
      "a\n",
      "soothing\n",
      "melody\n",
      ".\n",
      "The\n",
      "salty\n",
      "breeze\n",
      "carries\n",
      "a\n",
      "\n",
      "\n",
      "refreshing\n",
      "scent\n",
      ",\n",
      "reminding\n",
      "me\n",
      "of\n",
      "the\n",
      "vast\n",
      "ocean\n",
      "that\n",
      "stretches\n",
      "out\n",
      "before\n",
      "me\n",
      ".\n",
      "\n",
      "\n",
      "Seagulls\n",
      "soar\n",
      "gracefully\n",
      "overhead\n",
      ",\n",
      "their\n",
      "calls\n",
      "echoing\n",
      "in\n",
      "the\n",
      "distance\n"
     ]
    }
   ],
   "source": [
    "for token in doc:\n",
    "  print(token)"
   ]
  },
  {
   "cell_type": "code",
   "execution_count": 9,
   "metadata": {
    "colab": {
     "base_uri": "https://localhost:8080/"
    },
    "id": "UW_40CZBFgB0",
    "outputId": "358dad4c-1d40-471e-da3e-300c2265e0ec"
   },
   "outputs": [
    {
     "name": "stdout",
     "output_type": "stream",
     "text": [
      "{\"'re\", 'whose', 'its', 'put', 'thru', '’ll', 'itself', 'beside', 'eight', 'others', 'does', '‘re', 'already', 'across', 'much', 'any', 'made', '’re', 'less', 'yourselves', 'so', 'along', 'doing', 'herself', 'on', 'nobody', 'formerly', 'make', 'and', 'anyhow', 'after', 'four', 'within', 'how', 'becomes', 'it', 'around', 'you', 'though', 'amount', 'until', 'whence', 'either', 'however', 'not', 'former', 'per', 'anyone', 'thence', 'mostly', 'becoming', 'a', 'thereby', '’d', 'thereupon', '’m', 'under', 'see', 'being', 'just', 'at', 'out', 'all', '’s', 'was', 'too', 'unless', 'wherever', 'three', '‘s', 'name', 'twelve', 'beforehand', 'up', 'still', 'very', 'did', 'were', 'amongst', 'everyone', 'alone', 'front', 'empty', 'your', 'during', 'do', 'should', 'whether', 'or', 'cannot', 'more', 'third', 'go', 'via', 'those', 'two', 'noone', 'mine', 'yours', 'neither', 'she', 'than', 'beyond', 'one', 'since', 'upon', 'have', 'both', 'has', 'if', 'ours', 'must', 'something', 'seem', 'anything', 'to', 'move', 'them', 'hers', 'except', 'over', 'whither', 'back', 'n’t', 'what', 'done', 'yet', 'rather', 'but', \"n't\", 'only', 'n‘t', 'seems', 'will', 'side', \"'ve\", 'into', 'nothing', 'my', 're', '‘m', 'whom', 'he', 'throughout', 'had', '‘ve', 'always', 'when', 'nor', 'why', 'while', '’ve', 'indeed', 'toward', 'using', 'towards', 'quite', 'become', 'six', 'whenever', 'call', 'would', 'ca', 'here', 'twenty', 'nevertheless', 'from', 'above', 'there', 'his', 'therein', 'seeming', 'down', 'besides', 'serious', 'almost', 'somehow', 'their', 'as', 'among', 'fifteen', 'the', 'five', 'themselves', 'fifty', 'nowhere', 'everything', 'perhaps', 'of', 'whereupon', 'top', 'be', 'whereas', 'our', 'show', 'whereafter', 'somewhere', 'whole', 'her', 'behind', 'is', 'part', 'meanwhile', 'hence', 'enough', 'anyway', 'against', 'us', 'seemed', 'keep', 'therefore', 'else', 'several', 'give', 'who', 'we', 'various', 'which', 'often', 'thereafter', \"'m\", 'might', 'few', 'myself', 'next', 'sometimes', 'moreover', 'could', 'together', 'where', 'himself', 'hereupon', 'became', 'about', 'nine', 'whoever', 'regarding', 'everywhere', 'none', 'whereby', 'in', 'through', 'me', 'ourselves', 'by', 'such', 'sixty', 'latter', 'that', \"'d\", 'am', 'an', 'further', 'for', 'last', 'below', 'least', 'anywhere', 'before', 'first', 'sometime', 'with', 'wherein', 'between', 'own', 'hereafter', 'once', 'these', 'well', 'same', 'him', 'used', 'hereby', 'no', \"'ll\", 'some', 'namely', 'now', 'thus', '‘ll', 'off', 'otherwise', 'ever', 'although', 'they', 'because', 'this', 'never', 'afterwards', 'each', 'yourself', 'even', 'say', 'every', 'onto', 'also', 'can', 'other', 'take', 'latterly', 'get', 'please', 'really', 'again', 'i', 'forty', 'most', 'due', 'eleven', 'then', \"'s\", 'are', 'hundred', 'elsewhere', 'someone', '‘d', 'without', 'whatever', 'another', 'been', 'full', 'ten', 'herein', 'may', 'many', 'bottom'}\n",
      "326\n"
     ]
    }
   ],
   "source": [
    "stopwords = spacy.lang.en.stop_words.STOP_WORDS\n",
    "print(stopwords)\n",
    "print(len(stopwords))"
   ]
  },
  {
   "cell_type": "code",
   "execution_count": 10,
   "metadata": {
    "colab": {
     "base_uri": "https://localhost:8080/"
    },
    "id": "BhgSrnRjGOyv",
    "outputId": "a9629750-d7d8-4751-a4fa-e51d0c82b0da"
   },
   "outputs": [
    {
     "name": "stdout",
     "output_type": "stream",
     "text": [
      "The\n",
      "as\n",
      "I\n",
      "along\n",
      "the\n",
      "the\n",
      "my\n",
      "The\n",
      "of\n",
      "against\n",
      "the\n",
      "the\n",
      "a\n",
      "The\n",
      "a\n",
      "me\n",
      "of\n",
      "the\n",
      "that\n",
      "out\n",
      "before\n",
      "me\n",
      "their\n",
      "in\n",
      "the\n"
     ]
    }
   ],
   "source": [
    "for token in doc:\n",
    "  if token.is_stop:\n",
    "    print(token)"
   ]
  },
  {
   "cell_type": "code",
   "execution_count": 11,
   "metadata": {
    "colab": {
     "base_uri": "https://localhost:8080/"
    },
    "id": "dtT9U2ZzG-e-",
    "outputId": "fc513920-ba18-491a-8cc4-f0d9965134f0"
   },
   "outputs": [
    {
     "name": "stdout",
     "output_type": "stream",
     "text": [
      ",\n",
      ".\n",
      ",\n",
      ".\n",
      ",\n",
      ".\n",
      ",\n"
     ]
    }
   ],
   "source": [
    "for token in doc:\n",
    "  if token.is_punct:\n",
    "    print(token)"
   ]
  },
  {
   "cell_type": "code",
   "execution_count": 12,
   "metadata": {
    "colab": {
     "base_uri": "https://localhost:8080/"
    },
    "id": "RrdpLvh1HKpn",
    "outputId": "72505c56-d7e0-4a53-b8f2-bde634ed551c"
   },
   "outputs": [
    {
     "name": "stdout",
     "output_type": "stream",
     "text": [
      "the\n",
      "sun\n",
      "shine\n",
      "brightly\n",
      "as\n",
      "I\n",
      "walk\n",
      "along\n",
      "the\n",
      "sandy\n",
      "shore\n",
      ",\n",
      "feel\n",
      "the\n",
      "\n",
      "\n",
      "soft\n",
      "grain\n",
      "beneath\n",
      "my\n",
      "bare\n",
      "foot\n",
      ".\n",
      "the\n",
      "rhythmic\n",
      "sound\n",
      "of\n",
      "wave\n",
      "crash\n",
      "against\n",
      "\n",
      "\n",
      "the\n",
      "shore\n",
      "fill\n",
      "the\n",
      "air\n",
      ",\n",
      "create\n",
      "a\n",
      "soothing\n",
      "melody\n",
      ".\n",
      "the\n",
      "salty\n",
      "breeze\n",
      "carry\n",
      "a\n",
      "\n",
      "\n",
      "refreshing\n",
      "scent\n",
      ",\n",
      "remind\n",
      "I\n",
      "of\n",
      "the\n",
      "vast\n",
      "ocean\n",
      "that\n",
      "stretch\n",
      "out\n",
      "before\n",
      "I\n",
      ".\n",
      "\n",
      "\n",
      "Seagulls\n",
      "soar\n",
      "gracefully\n",
      "overhead\n",
      ",\n",
      "their\n",
      "call\n",
      "echo\n",
      "in\n",
      "the\n",
      "distance\n"
     ]
    }
   ],
   "source": [
    "for token in doc:\n",
    "  print(token.lemma_)"
   ]
  },
  {
   "cell_type": "code",
   "execution_count": 13,
   "metadata": {
    "id": "S3YBtoz1Io3m"
   },
   "outputs": [],
   "source": [
    "# is_ascii , is_digit, is_lower, is_uppercase all these options are provided by this library for each token to be analysed."
   ]
  },
  {
   "cell_type": "code",
   "execution_count": 14,
   "metadata": {
    "colab": {
     "base_uri": "https://localhost:8080/"
    },
    "id": "YpbCzcktEYt-",
    "outputId": "f928ecbb-ae77-4c5d-aa77-e256dd7999f6"
   },
   "outputs": [
    {
     "name": "stdout",
     "output_type": "stream",
     "text": [
      "The -->> DT\n",
      "sun -->> NN\n",
      "shines -->> VBZ\n",
      "brightly -->> RB\n",
      "as -->> IN\n",
      "I -->> PRP\n",
      "walk -->> VBP\n",
      "along -->> IN\n",
      "the -->> DT\n",
      "sandy -->> JJ\n",
      "shore -->> NN\n",
      ", -->> ,\n",
      "feeling -->> VBG\n",
      "the -->> DT\n",
      "\n",
      " -->> _SP\n",
      "soft -->> JJ\n",
      "grains -->> NNS\n",
      "beneath -->> IN\n",
      "my -->> PRP$\n",
      "bare -->> JJ\n",
      "feet -->> NNS\n",
      ". -->> .\n",
      "The -->> DT\n",
      "rhythmic -->> JJ\n",
      "sound -->> NN\n",
      "of -->> IN\n",
      "waves -->> NNS\n",
      "crashing -->> VBG\n",
      "against -->> IN\n",
      "\n",
      " -->> _SP\n",
      "the -->> DT\n",
      "shore -->> NN\n",
      "fills -->> VBZ\n",
      "the -->> DT\n",
      "air -->> NN\n",
      ", -->> ,\n",
      "creating -->> VBG\n",
      "a -->> DT\n",
      "soothing -->> JJ\n",
      "melody -->> NN\n",
      ". -->> .\n",
      "The -->> DT\n",
      "salty -->> JJ\n",
      "breeze -->> NN\n",
      "carries -->> VBZ\n",
      "a -->> DT\n",
      "\n",
      " -->> _SP\n",
      "refreshing -->> JJ\n",
      "scent -->> NN\n",
      ", -->> ,\n",
      "reminding -->> VBG\n",
      "me -->> PRP\n",
      "of -->> IN\n",
      "the -->> DT\n",
      "vast -->> JJ\n",
      "ocean -->> NN\n",
      "that -->> WDT\n",
      "stretches -->> VBZ\n",
      "out -->> RP\n",
      "before -->> IN\n",
      "me -->> PRP\n",
      ". -->> .\n",
      "\n",
      " -->> _SP\n",
      "Seagulls -->> NNP\n",
      "soar -->> VBP\n",
      "gracefully -->> RB\n",
      "overhead -->> RB\n",
      ", -->> ,\n",
      "their -->> PRP$\n",
      "calls -->> NNS\n",
      "echoing -->> VBG\n",
      "in -->> IN\n",
      "the -->> DT\n",
      "distance -->> NN\n"
     ]
    }
   ],
   "source": [
    "# parts of speech\n",
    "\n",
    "for token in doc:\n",
    "  print(f'{token} -->> {token.tag_}')"
   ]
  },
  {
   "cell_type": "code",
   "execution_count": 15,
   "metadata": {
    "colab": {
     "base_uri": "https://localhost:8080/"
    },
    "id": "4U4Q-0z7KPKC",
    "outputId": "2e10dce9-bd4d-4208-f0fa-7730499a0d72"
   },
   "outputs": [
    {
     "name": "stdout",
     "output_type": "stream",
     "text": [
      "The -->> DT -->> determiner\n",
      "sun -->> NN -->> noun, singular or mass\n",
      "shines -->> VBZ -->> verb, 3rd person singular present\n",
      "brightly -->> RB -->> adverb\n",
      "as -->> IN -->> conjunction, subordinating or preposition\n",
      "I -->> PRP -->> pronoun, personal\n",
      "walk -->> VBP -->> verb, non-3rd person singular present\n",
      "along -->> IN -->> conjunction, subordinating or preposition\n",
      "the -->> DT -->> determiner\n",
      "sandy -->> JJ -->> adjective (English), other noun-modifier (Chinese)\n",
      "shore -->> NN -->> noun, singular or mass\n",
      ", -->> , -->> punctuation mark, comma\n",
      "feeling -->> VBG -->> verb, gerund or present participle\n",
      "the -->> DT -->> determiner\n",
      "\n",
      " -->> _SP -->> whitespace\n",
      "soft -->> JJ -->> adjective (English), other noun-modifier (Chinese)\n",
      "grains -->> NNS -->> noun, plural\n",
      "beneath -->> IN -->> conjunction, subordinating or preposition\n",
      "my -->> PRP$ -->> pronoun, possessive\n",
      "bare -->> JJ -->> adjective (English), other noun-modifier (Chinese)\n",
      "feet -->> NNS -->> noun, plural\n",
      ". -->> . -->> punctuation mark, sentence closer\n",
      "The -->> DT -->> determiner\n",
      "rhythmic -->> JJ -->> adjective (English), other noun-modifier (Chinese)\n",
      "sound -->> NN -->> noun, singular or mass\n",
      "of -->> IN -->> conjunction, subordinating or preposition\n",
      "waves -->> NNS -->> noun, plural\n",
      "crashing -->> VBG -->> verb, gerund or present participle\n",
      "against -->> IN -->> conjunction, subordinating or preposition\n",
      "\n",
      " -->> _SP -->> whitespace\n",
      "the -->> DT -->> determiner\n",
      "shore -->> NN -->> noun, singular or mass\n",
      "fills -->> VBZ -->> verb, 3rd person singular present\n",
      "the -->> DT -->> determiner\n",
      "air -->> NN -->> noun, singular or mass\n",
      ", -->> , -->> punctuation mark, comma\n",
      "creating -->> VBG -->> verb, gerund or present participle\n",
      "a -->> DT -->> determiner\n",
      "soothing -->> JJ -->> adjective (English), other noun-modifier (Chinese)\n",
      "melody -->> NN -->> noun, singular or mass\n",
      ". -->> . -->> punctuation mark, sentence closer\n",
      "The -->> DT -->> determiner\n",
      "salty -->> JJ -->> adjective (English), other noun-modifier (Chinese)\n",
      "breeze -->> NN -->> noun, singular or mass\n",
      "carries -->> VBZ -->> verb, 3rd person singular present\n",
      "a -->> DT -->> determiner\n",
      "\n",
      " -->> _SP -->> whitespace\n",
      "refreshing -->> JJ -->> adjective (English), other noun-modifier (Chinese)\n",
      "scent -->> NN -->> noun, singular or mass\n",
      ", -->> , -->> punctuation mark, comma\n",
      "reminding -->> VBG -->> verb, gerund or present participle\n",
      "me -->> PRP -->> pronoun, personal\n",
      "of -->> IN -->> conjunction, subordinating or preposition\n",
      "the -->> DT -->> determiner\n",
      "vast -->> JJ -->> adjective (English), other noun-modifier (Chinese)\n",
      "ocean -->> NN -->> noun, singular or mass\n",
      "that -->> WDT -->> wh-determiner\n",
      "stretches -->> VBZ -->> verb, 3rd person singular present\n",
      "out -->> RP -->> adverb, particle\n",
      "before -->> IN -->> conjunction, subordinating or preposition\n",
      "me -->> PRP -->> pronoun, personal\n",
      ". -->> . -->> punctuation mark, sentence closer\n",
      "\n",
      " -->> _SP -->> whitespace\n",
      "Seagulls -->> NNP -->> noun, proper singular\n",
      "soar -->> VBP -->> verb, non-3rd person singular present\n",
      "gracefully -->> RB -->> adverb\n",
      "overhead -->> RB -->> adverb\n",
      ", -->> , -->> punctuation mark, comma\n",
      "their -->> PRP$ -->> pronoun, possessive\n",
      "calls -->> NNS -->> noun, plural\n",
      "echoing -->> VBG -->> verb, gerund or present participle\n",
      "in -->> IN -->> conjunction, subordinating or preposition\n",
      "the -->> DT -->> determiner\n",
      "distance -->> NN -->> noun, singular or mass\n"
     ]
    }
   ],
   "source": [
    "for token in doc:\n",
    "  print(f'{token} -->> {token.tag_} -->> {spacy.explain(token.tag_)}')"
   ]
  },
  {
   "cell_type": "code",
   "execution_count": 16,
   "metadata": {
    "id": "NJdAgPz-MT_d"
   },
   "outputs": [],
   "source": [
    "# now spacy also provides the word vectors. Each word is expressed as a vector with 300 dimensions.\n",
    "#These vectors are created after training huge amount of data"
   ]
  },
  {
   "cell_type": "code",
   "execution_count": 17,
   "metadata": {
    "colab": {
     "base_uri": "https://localhost:8080/"
    },
    "id": "I5hHpypVOyH8",
    "outputId": "eabc39cc-584a-4e37-d921-923b4616bf92"
   },
   "outputs": [
    {
     "name": "stdout",
     "output_type": "stream",
     "text": [
      "[ 1.1328037  -0.6480558  -0.54923105  2.7682927  -0.69626266 -0.04358552\n",
      " -0.5832767   0.05841331 -0.53974915  1.5817747   1.4471748   1.2500592\n",
      " -0.9256161  -1.2275966  -0.95306766 -0.76528    -1.2347431   1.6680763\n",
      " -0.92882085  0.2436085  -0.74035513 -0.35159224 -0.62429035 -1.9111422\n",
      "  1.7000755  -0.1157802   1.0510356   0.32199705  0.05002122  0.4015646\n",
      "  0.8570495  -0.88786507  1.1932352  -1.9664266   0.32029283  1.074909\n",
      "  0.53768986 -0.6980263   0.40990114  4.0339274  -0.26108274  1.448862\n",
      " -1.4434249   1.0426874  -0.8347695   0.08545834 -0.3540132   2.2558994\n",
      "  1.498102    0.08410326 -0.9077096  -0.60526955  0.2942642   0.6258843\n",
      "  0.79280853  0.6541636  -1.2387383   0.8658197  -0.73799217 -0.09689599\n",
      " -0.84770966  0.37835577  0.12529284 -0.3266111   0.74820894 -0.44465616\n",
      "  0.07641698 -1.0774902  -0.818764   -1.4675393  -0.04549345  0.80450803\n",
      "  0.08623436 -0.38953763 -0.51924825 -0.61967415 -0.10790645 -0.5527932\n",
      "  0.6392537   0.3981304   0.0568407  -1.2133002  -0.8360968  -1.3358436\n",
      "  2.1138878   0.23528858  0.61501765 -0.5978025   0.6598722  -0.7703292\n",
      " -0.617862   -0.28443977 -0.26348528 -0.35421377 -0.47050798 -0.43497837]\n"
     ]
    }
   ],
   "source": [
    "print(doc[0].vector)"
   ]
  },
  {
   "cell_type": "code",
   "execution_count": 18,
   "metadata": {
    "colab": {
     "base_uri": "https://localhost:8080/"
    },
    "id": "-yLbpWm4Oy0H",
    "outputId": "2f3a0409-7db4-47ac-8640-d732a2394268"
   },
   "outputs": [
    {
     "name": "stdout",
     "output_type": "stream",
     "text": [
      "2023-07-26 12:14:44.561234: W tensorflow/compiler/tf2tensorrt/utils/py_utils.cc:38] TF-TRT Warning: Could not find TensorRT\n",
      "Collecting en-core-web-md==3.5.0\n",
      "  Downloading https://github.com/explosion/spacy-models/releases/download/en_core_web_md-3.5.0/en_core_web_md-3.5.0-py3-none-any.whl (42.8 MB)\n",
      "\u001b[2K     \u001b[90m━━━━━━━━━━━━━━━━━━━━━━━━━━━━━━━━━━━━━━━━\u001b[0m \u001b[32m42.8/42.8 MB\u001b[0m \u001b[31m17.2 MB/s\u001b[0m eta \u001b[36m0:00:00\u001b[0m\n",
      "\u001b[?25hRequirement already satisfied: spacy<3.6.0,>=3.5.0 in /usr/local/lib/python3.10/dist-packages (from en-core-web-md==3.5.0) (3.5.4)\n",
      "Requirement already satisfied: spacy-legacy<3.1.0,>=3.0.11 in /usr/local/lib/python3.10/dist-packages (from spacy<3.6.0,>=3.5.0->en-core-web-md==3.5.0) (3.0.12)\n",
      "Requirement already satisfied: spacy-loggers<2.0.0,>=1.0.0 in /usr/local/lib/python3.10/dist-packages (from spacy<3.6.0,>=3.5.0->en-core-web-md==3.5.0) (1.0.4)\n",
      "Requirement already satisfied: murmurhash<1.1.0,>=0.28.0 in /usr/local/lib/python3.10/dist-packages (from spacy<3.6.0,>=3.5.0->en-core-web-md==3.5.0) (1.0.9)\n",
      "Requirement already satisfied: cymem<2.1.0,>=2.0.2 in /usr/local/lib/python3.10/dist-packages (from spacy<3.6.0,>=3.5.0->en-core-web-md==3.5.0) (2.0.7)\n",
      "Requirement already satisfied: preshed<3.1.0,>=3.0.2 in /usr/local/lib/python3.10/dist-packages (from spacy<3.6.0,>=3.5.0->en-core-web-md==3.5.0) (3.0.8)\n",
      "Requirement already satisfied: thinc<8.2.0,>=8.1.8 in /usr/local/lib/python3.10/dist-packages (from spacy<3.6.0,>=3.5.0->en-core-web-md==3.5.0) (8.1.10)\n",
      "Requirement already satisfied: wasabi<1.2.0,>=0.9.1 in /usr/local/lib/python3.10/dist-packages (from spacy<3.6.0,>=3.5.0->en-core-web-md==3.5.0) (1.1.2)\n",
      "Requirement already satisfied: srsly<3.0.0,>=2.4.3 in /usr/local/lib/python3.10/dist-packages (from spacy<3.6.0,>=3.5.0->en-core-web-md==3.5.0) (2.4.7)\n",
      "Requirement already satisfied: catalogue<2.1.0,>=2.0.6 in /usr/local/lib/python3.10/dist-packages (from spacy<3.6.0,>=3.5.0->en-core-web-md==3.5.0) (2.0.8)\n",
      "Requirement already satisfied: typer<0.10.0,>=0.3.0 in /usr/local/lib/python3.10/dist-packages (from spacy<3.6.0,>=3.5.0->en-core-web-md==3.5.0) (0.9.0)\n",
      "Requirement already satisfied: pathy>=0.10.0 in /usr/local/lib/python3.10/dist-packages (from spacy<3.6.0,>=3.5.0->en-core-web-md==3.5.0) (0.10.2)\n",
      "Requirement already satisfied: smart-open<7.0.0,>=5.2.1 in /usr/local/lib/python3.10/dist-packages (from spacy<3.6.0,>=3.5.0->en-core-web-md==3.5.0) (6.3.0)\n",
      "Requirement already satisfied: tqdm<5.0.0,>=4.38.0 in /usr/local/lib/python3.10/dist-packages (from spacy<3.6.0,>=3.5.0->en-core-web-md==3.5.0) (4.65.0)\n",
      "Requirement already satisfied: numpy>=1.15.0 in /usr/local/lib/python3.10/dist-packages (from spacy<3.6.0,>=3.5.0->en-core-web-md==3.5.0) (1.22.4)\n",
      "Requirement already satisfied: requests<3.0.0,>=2.13.0 in /usr/local/lib/python3.10/dist-packages (from spacy<3.6.0,>=3.5.0->en-core-web-md==3.5.0) (2.27.1)\n",
      "Requirement already satisfied: pydantic!=1.8,!=1.8.1,<1.11.0,>=1.7.4 in /usr/local/lib/python3.10/dist-packages (from spacy<3.6.0,>=3.5.0->en-core-web-md==3.5.0) (1.10.11)\n",
      "Requirement already satisfied: jinja2 in /usr/local/lib/python3.10/dist-packages (from spacy<3.6.0,>=3.5.0->en-core-web-md==3.5.0) (3.1.2)\n",
      "Requirement already satisfied: setuptools in /usr/local/lib/python3.10/dist-packages (from spacy<3.6.0,>=3.5.0->en-core-web-md==3.5.0) (67.7.2)\n",
      "Requirement already satisfied: packaging>=20.0 in /usr/local/lib/python3.10/dist-packages (from spacy<3.6.0,>=3.5.0->en-core-web-md==3.5.0) (23.1)\n",
      "Requirement already satisfied: langcodes<4.0.0,>=3.2.0 in /usr/local/lib/python3.10/dist-packages (from spacy<3.6.0,>=3.5.0->en-core-web-md==3.5.0) (3.3.0)\n",
      "Requirement already satisfied: typing-extensions>=4.2.0 in /usr/local/lib/python3.10/dist-packages (from pydantic!=1.8,!=1.8.1,<1.11.0,>=1.7.4->spacy<3.6.0,>=3.5.0->en-core-web-md==3.5.0) (4.7.1)\n",
      "Requirement already satisfied: urllib3<1.27,>=1.21.1 in /usr/local/lib/python3.10/dist-packages (from requests<3.0.0,>=2.13.0->spacy<3.6.0,>=3.5.0->en-core-web-md==3.5.0) (1.26.16)\n",
      "Requirement already satisfied: certifi>=2017.4.17 in /usr/local/lib/python3.10/dist-packages (from requests<3.0.0,>=2.13.0->spacy<3.6.0,>=3.5.0->en-core-web-md==3.5.0) (2023.5.7)\n",
      "Requirement already satisfied: charset-normalizer~=2.0.0 in /usr/local/lib/python3.10/dist-packages (from requests<3.0.0,>=2.13.0->spacy<3.6.0,>=3.5.0->en-core-web-md==3.5.0) (2.0.12)\n",
      "Requirement already satisfied: idna<4,>=2.5 in /usr/local/lib/python3.10/dist-packages (from requests<3.0.0,>=2.13.0->spacy<3.6.0,>=3.5.0->en-core-web-md==3.5.0) (3.4)\n",
      "Requirement already satisfied: blis<0.8.0,>=0.7.8 in /usr/local/lib/python3.10/dist-packages (from thinc<8.2.0,>=8.1.8->spacy<3.6.0,>=3.5.0->en-core-web-md==3.5.0) (0.7.9)\n",
      "Requirement already satisfied: confection<1.0.0,>=0.0.1 in /usr/local/lib/python3.10/dist-packages (from thinc<8.2.0,>=8.1.8->spacy<3.6.0,>=3.5.0->en-core-web-md==3.5.0) (0.1.0)\n",
      "Requirement already satisfied: click<9.0.0,>=7.1.1 in /usr/local/lib/python3.10/dist-packages (from typer<0.10.0,>=0.3.0->spacy<3.6.0,>=3.5.0->en-core-web-md==3.5.0) (8.1.6)\n",
      "Requirement already satisfied: MarkupSafe>=2.0 in /usr/local/lib/python3.10/dist-packages (from jinja2->spacy<3.6.0,>=3.5.0->en-core-web-md==3.5.0) (2.1.3)\n",
      "\u001b[38;5;2m✔ Download and installation successful\u001b[0m\n",
      "You can now load the package via spacy.load('en_core_web_md')\n"
     ]
    }
   ],
   "source": [
    "!python -m spacy download en_core_web_md"
   ]
  },
  {
   "cell_type": "code",
   "execution_count": 19,
   "metadata": {
    "id": "7HdqcQKGPWS9"
   },
   "outputs": [],
   "source": [
    "import spacy\n",
    "nlpp = spacy.load(\"en_core_web_md\")"
   ]
  },
  {
   "cell_type": "code",
   "execution_count": 20,
   "metadata": {
    "id": "hI-hQeMMPgHu"
   },
   "outputs": [],
   "source": [
    "doc = nlpp(text)"
   ]
  },
  {
   "cell_type": "code",
   "execution_count": 21,
   "metadata": {
    "colab": {
     "base_uri": "https://localhost:8080/"
    },
    "id": "UoYABmfcPi0C",
    "outputId": "65ada0cb-9170-40b9-e368-f03ea2c316ac"
   },
   "outputs": [
    {
     "name": "stdout",
     "output_type": "stream",
     "text": [
      "The--->>True\n",
      "sun--->>True\n",
      "shines--->>True\n",
      "brightly--->>True\n",
      "as--->>True\n",
      "I--->>True\n",
      "walk--->>True\n",
      "along--->>True\n",
      "the--->>True\n",
      "sandy--->>True\n",
      "shore--->>True\n",
      ",--->>True\n",
      "feeling--->>True\n",
      "the--->>True\n",
      "\n",
      "--->>False\n",
      "soft--->>True\n",
      "grains--->>True\n",
      "beneath--->>True\n",
      "my--->>True\n",
      "bare--->>True\n",
      "feet--->>True\n",
      ".--->>True\n",
      "The--->>True\n",
      "rhythmic--->>True\n",
      "sound--->>True\n",
      "of--->>True\n",
      "waves--->>True\n",
      "crashing--->>True\n",
      "against--->>True\n",
      "\n",
      "--->>False\n",
      "the--->>True\n",
      "shore--->>True\n",
      "fills--->>True\n",
      "the--->>True\n",
      "air--->>True\n",
      ",--->>True\n",
      "creating--->>True\n",
      "a--->>True\n",
      "soothing--->>True\n",
      "melody--->>True\n",
      ".--->>True\n",
      "The--->>True\n",
      "salty--->>True\n",
      "breeze--->>True\n",
      "carries--->>True\n",
      "a--->>True\n",
      "\n",
      "--->>False\n",
      "refreshing--->>True\n",
      "scent--->>True\n",
      ",--->>True\n",
      "reminding--->>True\n",
      "me--->>True\n",
      "of--->>True\n",
      "the--->>True\n",
      "vast--->>True\n",
      "ocean--->>True\n",
      "that--->>True\n",
      "stretches--->>True\n",
      "out--->>True\n",
      "before--->>True\n",
      "me--->>True\n",
      ".--->>True\n",
      "\n",
      "--->>False\n",
      "Seagulls--->>True\n",
      "soar--->>True\n",
      "gracefully--->>True\n",
      "overhead--->>True\n",
      ",--->>True\n",
      "their--->>True\n",
      "calls--->>True\n",
      "echoing--->>True\n",
      "in--->>True\n",
      "the--->>True\n",
      "distance--->>True\n"
     ]
    }
   ],
   "source": [
    "for token in doc:\n",
    "  print(f'{token}--->>{token.has_vector}')"
   ]
  },
  {
   "cell_type": "code",
   "execution_count": 22,
   "metadata": {
    "colab": {
     "base_uri": "https://localhost:8080/"
    },
    "id": "rPu1OulGPuOz",
    "outputId": "7af188f3-7048-453d-e7be-5e384c95a7bb"
   },
   "outputs": [
    {
     "data": {
      "text/plain": [
       "0.835605828756375"
      ]
     },
     "execution_count": 22,
     "metadata": {},
     "output_type": "execute_result"
    }
   ],
   "source": [
    "text1='brother'\n",
    "text2='sister'\n",
    "doc1=nlpp(text1)\n",
    "doc2=nlpp(text2)\n",
    "\n",
    "doc1.similarity(doc2)"
   ]
  },
  {
   "cell_type": "code",
   "execution_count": 22,
   "metadata": {
    "id": "EDpoqr05QfHP"
   },
   "outputs": [],
   "source": []
  }
 ],
 "metadata": {
  "accelerator": "GPU",
  "colab": {
   "gpuType": "T4",
   "provenance": []
  },
  "kernelspec": {
   "display_name": "Python 3",
   "name": "python3"
  },
  "language_info": {
   "name": "python"
  }
 },
 "nbformat": 4,
 "nbformat_minor": 0
}
