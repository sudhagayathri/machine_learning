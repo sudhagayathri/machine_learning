{
 "cells": [
  {
   "cell_type": "code",
   "execution_count": 3,
   "id": "5d6e27f1",
   "metadata": {},
   "outputs": [
    {
     "name": "stdout",
     "output_type": "stream",
     "text": [
      "the prob of rolling an even no or greater than 7 is : 66.77 %\n"
     ]
    }
   ],
   "source": [
    "import numpy as np\n",
    "import random\n",
    "\n",
    "#fn for rolling dice\n",
    "def roll_dice(n_sim=100000):\n",
    "    count=0\n",
    "    \n",
    "    for i in range(n_sim):\n",
    "        die1 = random.randint(1,6)\n",
    "        die2 = random.randint(1,6)\n",
    "        score = die1 + die2\n",
    "        \n",
    "        if((score % 2 == 0) or (score > 7)):\n",
    "            count += 1\n",
    "    return count/n_sim\n",
    "string = 'the prob of rolling an even no or greater than 7 is :'\n",
    "print(string, np.round(roll_dice()*100,2), '%')"
   ]
  },
  {
   "cell_type": "code",
   "execution_count": 6,
   "id": "a314b683",
   "metadata": {},
   "outputs": [
    {
     "name": "stdout",
     "output_type": "stream",
     "text": [
      "['A', 'A', 'A', 'A', 'A', 'A', 'A', 'A', 'A', 'A', 'A', 'A', 'B', 'B', 'B', 'B', 'B', 'B', 'B', 'B', 'B', 'B', 'B', 'B', 'B', 'B', 'B', 'B', 'B', 'B']\n",
      "0.2415\n"
     ]
    }
   ],
   "source": [
    "# a box contains 12 transistors of type A and 18 of type B\n",
    "#one transistor is taken random and returned\n",
    "#this process is repeated\n",
    "#determine the probability that first chosen is type A and second is type B\n",
    "\n",
    "import random\n",
    "\n",
    "trails = 10000 #total no of trails\n",
    "totalA = 12 #total no of A transistors\n",
    "totalB = 18 #total no of B transistors\n",
    "\n",
    "count = 0 #count of succesful pulls\n",
    "\n",
    "choicelist = list(\"A\" * totalA + \"B\" * totalB)\n",
    "print(choicelist)\n",
    "\n",
    "def transitor():\n",
    "    return random.choice(choicelist)\n",
    "\n",
    "for i in range(trails):\n",
    "    try1 = transitor()\n",
    "    try2 = transitor()\n",
    "    if try1==\"A\" and try2==\"B\":\n",
    "        count += 1\n",
    "        \n",
    "print(float(count) / trails)        "
   ]
  },
  {
   "cell_type": "markdown",
   "id": "dbea6878",
   "metadata": {},
   "source": [
    "# Binomial distribution"
   ]
  },
  {
   "cell_type": "code",
   "execution_count": 7,
   "id": "95448707",
   "metadata": {},
   "outputs": [
    {
     "name": "stdout",
     "output_type": "stream",
     "text": [
      "[5 6 4 5 6 7 7 6 6 6 3 6 6 7 5 8 4 6 6 5 6 4 8 4 4 5 6 4 8 7 7 9 3 4 5 3 6\n",
      " 7 6 5 6 1 5 6 3 6 6 7 5 5 3 4 5 5 4 6 5 4 6 4 4 4 3 6 4 3 6 6 5 6 7 6 3 4\n",
      " 3 7 3 6 5 6 5 3 5 7 4 1 4 5 6 6 3 8 8 4 4 6 4 6 7 5 6 6 3 5 5 4 5 3 7 6 6\n",
      " 7 5 5 6 5 6 5 5 1 5 5 3 8 7 6 2 5 8 7 3 6 3 2 6 4 5 5 7 3 3 5 6 3 4 5 3 7\n",
      " 4 1 6 5 4 4 4 3 6 6 7 5 5 4 3 6 5 8 7 5 6 4 6 5 6 5 3 3 6 3 5 5 8 5 4 7 3\n",
      " 4 4 5 3 4 3 2 7 4 6 3 5 2 5 7 4 5 3 7 7 6 4 4 4 4 3 5 4 3 7 6 3 4 5 7 9 6\n",
      " 7 5 5 3 6 8 2 6 2 3 8 3 7 6 6 3 3 4 5 4 5 5 5 4 3 5 5 3 5 2 4 7 4 6 7 5 7\n",
      " 6 2 5 3 3 2 6 5 6 5 5 6 6 6 5 3 5 9 6 7 4 2 5 3 8 5 5 4 6 6 5 4 4 6 4 5 6\n",
      " 3 7 2 1 5 5 5 6 3 5 6 5 4 6 6 6 5 6 4 3 5 6 5 7 4 8 6 2 5 5 5 4 6 5 4 2 7\n",
      " 5 6 6 8 6 3 5 3 5 6 3 4 9 4 8 4 3 7 3 4 7 6 5 5 6 7 5 6 6 6 4 8 3 7 7 5 3\n",
      " 3 6 6 8 8 6 6 5 7 4 4 6 5 6 4 5 4 5 7 6 4 6 4 6 6 5 9 5 3 6 6 3 4 4 6 2 7\n",
      " 5 4 5 7 5 3 5 7 4 3 4 7 6 4 4 4 7 4 6 3 8 5 6 6 5 5 6 5 6 7 5 6 5 4 5 6 3\n",
      " 7 1 3 7 4 6 6 4 5 4 4 4 4 5 5 4 6 7 9 4 4 4 4 3 6 2 6 3 5 1 4 6 7 4 6 3 3\n",
      " 8 4 6 4 5 4 3 3 7 7 4 2 4 5 5 3 8 1 6 3 2 5 4 3 5 4 6 2 5 3 4 6 4 6 3 5 4\n",
      " 5 5 5 4 4 3 5 6 5 2 4 6 6 5 8 4 5 6 5 4 5 5 4 6 4 4 6 8 5 6 5 4 5 4 6 8 3\n",
      " 4 6 8 7 3 4 4 5 8 6 4 3 5 4 5 4 6 4 8 3 3 6 6 5 3 7 4 5 4 7 1 6 5 5 5 6 4\n",
      " 5 4 5 5 4 5 5 5 6 5 6 4 6 5 4 4 6 3 6 4 4 5 5 5 5 3 7 5 4 6 4 6 7 2 7 6 7\n",
      " 6 4 8 6 5 7 3 1 7 2 4 5 4 6 6 5 4 6 7 3 6 3 4 5 4 5 7 5 3 5 4 4 5 7 5 4 5\n",
      " 7 7 7 5 5 5 4 4 6 6 5 6 5 6 5 5 6 4 4 5 7 6 6 3 4 5 8 7 6 6 5 5 5 1 4 6 6\n",
      " 4 3 4 9 5 5 5 5 6 8 5 3 5 5 5 8 6 6 6 8 1 3 5 3 3 3 8 4 4 5 6 4 5 5 3 7 6\n",
      " 5 8 4 6 4 4 5 6 6 8 4 3 4 4 6 3 4 6 5 8 5 4 3 4 4 7 8 3 7 5 6 7 4 5 4 7 6\n",
      " 4 4 1 7 6 7 5 5 4 5 5 3 7 4 6 3 7 9 3 5 5 7 5 1 5 5 2 3 4 7 5 2 6 2 5 3 3\n",
      " 7 6 5 4 5 5 6 7 7 6 4 8 7 5 6 3 5 2 5 1 5 8 6 6 5 5 5 3 7 4 7 4 3 4 6 3 4\n",
      " 5 5 5 5 5 6 7 3 7 5 3 3 8 4 5 2 5 5 4 6 3 1 5 5 6 5 4 7 6 4 4 4 6 6 5 3 3\n",
      " 7 6 3 4 5 5 5 5 6 7 6 8 4 4 5 6 6 4 8 6 4 6 5 7 8 3 6 6 8 4 8 7 5 7 8 5 4\n",
      " 5 2 5 4 6 4 4 7 2 5 3 3 8 6 4 3 5 3 2 3 4 5 5 5 2 5 7 5 6 7 4 5 4 5 5 7 5\n",
      " 6 5 5 3 7 5 3 5 4 4 5 6 8 6 6 7 4 6 5 6 5 3 4 7 5 3 7 2 5 5 4 6 2 4 6 8 7\n",
      " 4]\n"
     ]
    }
   ],
   "source": [
    "import numpy as np\n",
    "#result of flippinf a coin 10 times, tested 1000 times\n",
    "n , p = 10, 0.5\n",
    "s=np.random.binomial(n, p, 1000)\n",
    "print(s)"
   ]
  },
  {
   "cell_type": "code",
   "execution_count": null,
   "id": "4c775b40",
   "metadata": {},
   "outputs": [],
   "source": [
    "#A real world example. A company drills 9 wild-cat oil exploration wells, \n",
    "#each with an estimated probability of success of 0.1. All nine wells fail. \n",
    "#What is the probability of that happening?\n",
    "#Let’s do 20,000 trials of the model, and count the number that generate zero positive results."
   ]
  },
  {
   "cell_type": "code",
   "execution_count": 8,
   "id": "b03f310c",
   "metadata": {},
   "outputs": [
    {
     "data": {
      "text/plain": [
       "0.3877"
      ]
     },
     "execution_count": 8,
     "metadata": {},
     "output_type": "execute_result"
    }
   ],
   "source": [
    "sum(np.random.binomial(9, 0.1, 20000)==0)/20000"
   ]
  },
  {
   "cell_type": "code",
   "execution_count": null,
   "id": "bb10ca8f",
   "metadata": {},
   "outputs": [],
   "source": [
    "#so 38per cases it will happen"
   ]
  },
  {
   "cell_type": "code",
   "execution_count": 10,
   "id": "2ca2c540",
   "metadata": {},
   "outputs": [
    {
     "data": {
      "text/plain": [
       "[Text(0.5, 0, 'Binomail'), Text(0, 0.5, 'Frequwncy')]"
      ]
     },
     "execution_count": 10,
     "metadata": {},
     "output_type": "execute_result"
    },
    {
     "data": {
      "image/png": "[encoded data removed]",
      "text/plain": [
       "<Figure size 640x480 with 1 Axes>"
      ]
     },
     "metadata": {},
     "output_type": "display_data"
    }
   ],
   "source": [
    "import seaborn as sns\n",
    "from scipy.stats import binom\n",
    "binom.rvs(n=10,p=0.5)\n",
    "binom.rvs(size=5,n=10,p=0.5)\n",
    "\n",
    "data_binom = binom.rvs(size=10000,n=10,p=0.5)\n",
    "ax = sns.distplot(data_binom, kde=True, color=\"blue\", hist_kws={\"linewidth\":15, 'alpha':1})\n",
    "ax.set(xlabel='Binomail', ylabel='Frequwncy')\n"
   ]
  },
  {
   "cell_type": "code",
   "execution_count": null,
   "id": "bc1eed4c",
   "metadata": {},
   "outputs": [],
   "source": []
  }
 ],
 "metadata": {
  "kernelspec": {
   "display_name": "Python 3 (ipykernel)",
   "language": "python",
   "name": "python3"
  },
  "language_info": {
   "codemirror_mode": {
    "name": "ipython",
    "version": 3
   },
   "file_extension": ".py",
   "mimetype": "text/x-python",
   "name": "python",
   "nbconvert_exporter": "python",
   "pygments_lexer": "ipython3",
   "version": "3.9.13"
  }
 },
 "nbformat": 4,
 "nbformat_minor": 5
}
