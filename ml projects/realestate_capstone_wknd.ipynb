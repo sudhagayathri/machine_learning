{
 "cells": [
  {
   "cell_type": "markdown",
   "id": "4eebd506",
   "metadata": {},
   "source": [
    "#here data s webscraped frm 99 acres for 'Buy'\n",
    "#we use 'Beautiful soup' and 'selinium' for web scraping\n",
    "\n",
    "#steps in project is\n",
    "\n",
    "1.Probelm statement/objective/requirement\n",
    "2.Data Gathering/Data Acquistion - through webscraping/Fast APi, if internal data hadoop\n",
    "3.Analytics module -EDA- 60% to 70% spent on this\n",
    "    a.Spatial anlaysis - missing data, symbol, challenges, classify based on area\n",
    "    b.Price distribution across sector/locality/zip code\n",
    "    c.Price vs sqfoot analysis\n",
    "    d.No of rooms - Histogram/pie chart\n",
    "    e.Top features that contribute price - \n",
    "4.Feature Engineering\n",
    "5.Module - Regression system\n",
    "    Model building, evaluation\n",
    "6.Insight module and Recommendation system - website using streamlit\n",
    "  we will also show insight module3- comparison with different \n",
    "7.Deployment - website thrugh streamlit  "
   ]
  }
 ],
 "metadata": {
  "kernelspec": {
   "display_name": "Python 3 (ipykernel)",
   "language": "python",
   "name": "python3"
  },
  "language_info": {
   "codemirror_mode": {
    "name": "ipython",
    "version": 3
   },
   "file_extension": ".py",
   "mimetype": "text/x-python",
   "name": "python",
   "nbconvert_exporter": "python",
   "pygments_lexer": "ipython3",
   "version": "3.9.13"
  }
 },
 "nbformat": 4,
 "nbformat_minor": 5
}
