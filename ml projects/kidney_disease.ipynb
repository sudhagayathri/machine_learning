{
 "cells": [
  {
   "cell_type": "code",
   "execution_count": 4,
   "id": "85825554",
   "metadata": {},
   "outputs": [],
   "source": [
    "import os, sys\n",
    "import numpy as np\n",
    "import pandas as pd\n",
    "import seaborn as sns\n",
    "import matplotlib.pyplot as plt\n",
    "import warnings\n",
    "warnings.filterwarnings('ignore')"
   ]
  },
  {
   "cell_type": "code",
   "execution_count": 2,
   "id": "b9f24c09",
   "metadata": {},
   "outputs": [
    {
     "ename": "SyntaxError",
     "evalue": "invalid syntax (455394086.py, line 1)",
     "output_type": "error",
     "traceback": [
      "\u001b[0;36m  File \u001b[0;32m\"/tmp/ipykernel_6106/455394086.py\"\u001b[0;36m, line \u001b[0;32m1\u001b[0m\n\u001b[0;31m    We use the following representation to collect the dataset\u001b[0m\n\u001b[0m       ^\u001b[0m\n\u001b[0;31mSyntaxError\u001b[0m\u001b[0;31m:\u001b[0m invalid syntax\n"
     ]
    }
   ],
   "source": [
    "We use the following representation to collect the dataset\n",
    "age - age\n",
    "bp - blood pressure\n",
    "sg - specific gravity\n",
    "al - albumin\n",
    "su - sugar\n",
    "rbc - red blood cells\n",
    "pc - pus cell\n",
    "pcc - pus cell clumps\n",
    "ba - bacteria\n",
    "bgr - blood glucose random\n",
    "bu - blood urea\n",
    "sc - serum creatinine\n",
    "sod - sodium\n",
    "pot - potassium\n",
    "hemo - hemoglobin\n",
    "pcv - packed cell volume\n",
    "wc - white blood cell count\n",
    "rc - red blood cell count\n",
    "htn - hypertension\n",
    "dm - diabetes mellitus\n",
    "cad - coronary artery disease\n",
    "appet - appetite\n",
    "pe - pedal edema\n",
    "ane - anemia\n",
    "class - class\n",
    "\n",
    ".Age(numerical)\n",
    "age in years\n",
    "2.Blood Pressure(numerical)\n",
    "bp in mm/Hg\n",
    "3.Specific Gravity(nominal)\n",
    "sg - (1.005,1.010,1.015,1.020,1.025)\n",
    "4.Albumin(nominal)\n",
    "al - (0,1,2,3,4,5)\n",
    "5.Sugar(nominal)\n",
    "su - (0,1,2,3,4,5)\n",
    "6.Red Blood Cells(nominal)\n",
    "rbc - (normal,abnormal)\n",
    "7.Pus Cell (nominal)\n",
    "pc - (normal,abnormal)\n",
    "8.Pus Cell clumps(nominal)\n",
    "pcc - (present,notpresent)\n",
    "9.Bacteria(nominal)\n",
    "ba - (present,notpresent)\n",
    "10.Blood Glucose Random(numerical)\n",
    "bgr in mgs/dl\n",
    "11.Blood Urea(numerical)\n",
    "bu in mgs/dl\n",
    "12.Serum Creatinine(numerical)\n",
    "sc in mgs/dl\n",
    "13.Sodium(numerical)\n",
    "sod in mEq/L\n",
    "14.Potassium(numerical)\n",
    "pot in mEq/L\n",
    "15.Hemoglobin(numerical)\n",
    "hemo in gms\n",
    "16.Packed Cell Volume(numerical)\n",
    "17.White Blood Cell Count(numerical)\n",
    "wc in cells/cumm\n",
    "18.Red Blood Cell Count(numerical)\n",
    "rc in millions/cmm\n",
    "19.Hypertension(nominal)\n",
    "htn - (yes,no)\n",
    "20.Diabetes Mellitus(nominal)\n",
    "dm - (yes,no)\n",
    "21.Coronary Artery Disease(nominal)\n",
    "cad - (yes,no)\n",
    "22.Appetite(nominal)\n",
    "appet - (good,poor)\n",
    "23.Pedal Edema(nominal)\n",
    "pe - (yes,no)\n",
    "24.Anemia(nominal)\n",
    "ane - (yes,no)\n",
    "25.Class (nominal)\n",
    "class - (ckd,notckd)"
   ]
  },
  {
   "cell_type": "code",
   "execution_count": 5,
   "id": "6e141d94",
   "metadata": {},
   "outputs": [],
   "source": [
    "df=pd.read_csv('kidney_disease.csv')"
   ]
  },
  {
   "cell_type": "code",
   "execution_count": null,
   "id": "66d1cf9c",
   "metadata": {},
   "outputs": [],
   "source": [
    "df.head()"
   ]
  },
  {
   "cell_type": "code",
   "execution_count": null,
   "id": "3ec6ffdb",
   "metadata": {},
   "outputs": [],
   "source": [
    "df.info()"
   ]
  },
  {
   "cell_type": "code",
   "execution_count": null,
   "id": "ee8ab516",
   "metadata": {},
   "outputs": [],
   "source": [
    "df['classification'].value_counts()"
   ]
  },
  {
   "cell_type": "code",
   "execution_count": null,
   "id": "61d66ef8",
   "metadata": {},
   "outputs": [],
   "source": [
    "pd.set_option('display.max_columns', 30)"
   ]
  },
  {
   "cell_type": "code",
   "execution_count": null,
   "id": "d6cb358c",
   "metadata": {},
   "outputs": [],
   "source": [
    "df.head()"
   ]
  },
  {
   "cell_type": "code",
   "execution_count": null,
   "id": "b25da5e1",
   "metadata": {},
   "outputs": [],
   "source": [
    "df.isna().sum()/len(df)*100"
   ]
  },
  {
   "cell_type": "code",
   "execution_count": null,
   "id": "f0a5b4b7",
   "metadata": {},
   "outputs": [],
   "source": [
    "df.info()"
   ]
  },
  {
   "cell_type": "code",
   "execution_count": null,
   "id": "702981fe",
   "metadata": {},
   "outputs": [],
   "source": [
    "#check if datatype is same as given in description - dataset that has ammbiguity"
   ]
  },
  {
   "cell_type": "code",
   "execution_count": null,
   "id": "f3baa63e",
   "metadata": {},
   "outputs": [],
   "source": [
    "df['pcv'] = pd.to_numeric(df['pcv'])"
   ]
  },
  {
   "cell_type": "code",
   "execution_count": null,
   "id": "932b9327",
   "metadata": {},
   "outputs": [],
   "source": [
    "df['pcv'].mask((df['pcv'].eq(\"\t?\")), inplace=True)"
   ]
  },
  {
   "cell_type": "code",
   "execution_count": null,
   "id": "729397db",
   "metadata": {},
   "outputs": [],
   "source": [
    "df['pcv'] = pd.to_numeric(df['pcv'])"
   ]
  },
  {
   "cell_type": "code",
   "execution_count": null,
   "id": "0d220c04",
   "metadata": {},
   "outputs": [],
   "source": [
    "#to iddentify where ambiguity s there"
   ]
  },
  {
   "cell_type": "code",
   "execution_count": 10,
   "id": "53d5c231",
   "metadata": {},
   "outputs": [
    {
     "name": "stdout",
     "output_type": "stream",
     "text": [
      "rbc .......... [nan 'normal' 'abnormal']\n",
      "pc .......... ['normal' 'abnormal' nan]\n",
      "pcc .......... ['notpresent' 'present' nan]\n",
      "ba .......... ['notpresent' 'present' nan]\n",
      "pcv .......... ['44' '38' '31' '32' '35' '39' '36' '33' '29' '28' nan '16' '24' '37' '30'\n",
      " '34' '40' '45' '27' '48' '\\t?' '52' '14' '22' '18' '42' '17' '46' '23'\n",
      " '19' '25' '41' '26' '15' '21' '43' '20' '\\t43' '47' '9' '49' '50' '53'\n",
      " '51' '54']\n",
      "wc .......... ['7800' '6000' '7500' '6700' '7300' nan '6900' '9600' '12100' '4500'\n",
      " '12200' '11000' '3800' '11400' '5300' '9200' '6200' '8300' '8400' '10300'\n",
      " '9800' '9100' '7900' '6400' '8600' '18900' '21600' '4300' '8500' '11300'\n",
      " '7200' '7700' '14600' '6300' '\\t6200' '7100' '11800' '9400' '5500' '5800'\n",
      " '13200' '12500' '5600' '7000' '11900' '10400' '10700' '12700' '6800'\n",
      " '6500' '13600' '10200' '9000' '14900' '8200' '15200' '5000' '16300'\n",
      " '12400' '\\t8400' '10500' '4200' '4700' '10900' '8100' '9500' '2200'\n",
      " '12800' '11200' '19100' '\\t?' '12300' '16700' '2600' '26400' '8800'\n",
      " '7400' '4900' '8000' '12000' '15700' '4100' '5700' '11500' '5400' '10800'\n",
      " '9900' '5200' '5900' '9300' '9700' '5100' '6600']\n",
      "rc .......... ['5.2' nan '3.9' '4.6' '4.4' '5' '4.0' '3.7' '3.8' '3.4' '2.6' '2.8' '4.3'\n",
      " '3.2' '3.6' '4' '4.1' '4.9' '2.5' '4.2' '4.5' '3.1' '4.7' '3.5' '6.0'\n",
      " '5.0' '2.1' '5.6' '2.3' '2.9' '2.7' '8.0' '3.3' '3.0' '3' '2.4' '4.8'\n",
      " '\\t?' '5.4' '6.1' '6.2' '6.3' '5.1' '5.8' '5.5' '5.3' '6.4' '5.7' '5.9'\n",
      " '6.5']\n",
      "htn .......... ['yes' 'no' nan]\n",
      "dm .......... ['yes' 'no' ' yes' '\\tno' '\\tyes' nan]\n",
      "cad .......... ['no' 'yes' '\\tno' nan]\n",
      "appet .......... ['good' 'poor' nan]\n",
      "pe .......... ['no' 'yes' nan]\n",
      "ane .......... ['no' 'yes' nan]\n"
     ]
    }
   ],
   "source": [
    "for i in list(df.select_dtypes(include=[\"object\"]).columns):\n",
    "    print(i,'..........', df[i].unique() )"
   ]
  },
  {
   "cell_type": "code",
   "execution_count": null,
   "id": "9a1579b9",
   "metadata": {},
   "outputs": [],
   "source": [
    "df['classification'] = df['classification'].replace(\"ckd\\t\",'ckd')"
   ]
  },
  {
   "cell_type": "code",
   "execution_count": 6,
   "id": "423373df",
   "metadata": {},
   "outputs": [
    {
     "data": {
      "text/plain": [
       "ckd       248\n",
       "notckd    150\n",
       "ckd\\t       2\n",
       "Name: classification, dtype: int64"
      ]
     },
     "execution_count": 6,
     "metadata": {},
     "output_type": "execute_result"
    }
   ],
   "source": [
    "df['classification'].value_counts()"
   ]
  },
  {
   "cell_type": "code",
   "execution_count": 7,
   "id": "6125731c",
   "metadata": {},
   "outputs": [],
   "source": [
    "df['classification'] = df['classification'].replace({'ckd':1, 'notckd':0})"
   ]
  },
  {
   "cell_type": "code",
   "execution_count": 8,
   "id": "b58abde7",
   "metadata": {},
   "outputs": [
    {
     "data": {
      "text/plain": [
       "1        248\n",
       "0        150\n",
       "ckd\\t      2\n",
       "Name: classification, dtype: int64"
      ]
     },
     "execution_count": 8,
     "metadata": {},
     "output_type": "execute_result"
    }
   ],
   "source": [
    "df['classification'].value_counts()"
   ]
  },
  {
   "cell_type": "code",
   "execution_count": 9,
   "id": "b8f0897a",
   "metadata": {},
   "outputs": [],
   "source": [
    "df['classification'] = df['classification'].replace(\"ckd\\t\",1)"
   ]
  },
  {
   "cell_type": "code",
   "execution_count": 11,
   "id": "0a086be7",
   "metadata": {},
   "outputs": [],
   "source": [
    "df['cad'] = df['cad'].replace(\"\\tno\",'no')"
   ]
  },
  {
   "cell_type": "code",
   "execution_count": 12,
   "id": "580eeccc",
   "metadata": {},
   "outputs": [],
   "source": [
    "df['dm'] = df['dm'].replace({\"\\tno\":'no',' yes':'yes', '\\tyes':'yes' })"
   ]
  },
  {
   "cell_type": "code",
   "execution_count": 13,
   "id": "b74f901c",
   "metadata": {},
   "outputs": [
    {
     "data": {
      "text/plain": [
       "no     261\n",
       "yes    137\n",
       "Name: dm, dtype: int64"
      ]
     },
     "execution_count": 13,
     "metadata": {},
     "output_type": "execute_result"
    }
   ],
   "source": [
    "df['dm'].value_counts()"
   ]
  },
  {
   "cell_type": "code",
   "execution_count": null,
   "id": "5dbf9190",
   "metadata": {},
   "outputs": [],
   "source": [
    "#next param is rc,  here we see \\t, but that shud not be replaced with 0, as there cannot be person with 0 white blood"
   ]
  },
  {
   "cell_type": "code",
   "execution_count": 14,
   "id": "176d981a",
   "metadata": {},
   "outputs": [],
   "source": [
    "df['rc'] = df['rc'].replace(\"\\t?\",np.nan)"
   ]
  },
  {
   "cell_type": "code",
   "execution_count": 15,
   "id": "bc0315ba",
   "metadata": {},
   "outputs": [],
   "source": [
    "df['rc'] = pd.to_numeric(df['rc'])"
   ]
  },
  {
   "cell_type": "code",
   "execution_count": 16,
   "id": "09640748",
   "metadata": {},
   "outputs": [],
   "source": [
    "df['wc'] = df['wc'].replace({\"\\t8400\":'8400',' \\t6200':'6200', '\\t?':np.nan})"
   ]
  },
  {
   "cell_type": "code",
   "execution_count": 17,
   "id": "1f45f80c",
   "metadata": {},
   "outputs": [],
   "source": [
    "df['wc'] = pd.to_numeric(df['wc'])"
   ]
  },
  {
   "cell_type": "code",
   "execution_count": 18,
   "id": "664e7650",
   "metadata": {},
   "outputs": [],
   "source": [
    "#kd_data['pcv'].str.strip().replace('?','').value_counts()"
   ]
  },
  {
   "cell_type": "code",
   "execution_count": 20,
   "id": "edf35224",
   "metadata": {},
   "outputs": [],
   "source": [
    "df['pcv'] = df['pcv'].apply(lambda x: str(x).strip().replace('?',''))"
   ]
  },
  {
   "cell_type": "code",
   "execution_count": 22,
   "id": "e7dfc7b5",
   "metadata": {},
   "outputs": [
    {
     "data": {
      "text/plain": [
       "nan    70\n",
       "52     21\n",
       "41     21\n",
       "48     19\n",
       "44     19\n",
       "40     16\n",
       "43     15\n",
       "42     13\n",
       "45     13\n",
       "36     12\n",
       "33     12\n",
       "28     12\n",
       "50     12\n",
       "32     12\n",
       "37     11\n",
       "34     11\n",
       "46      9\n",
       "30      9\n",
       "29      9\n",
       "35      9\n",
       "31      8\n",
       "24      7\n",
       "39      7\n",
       "26      6\n",
       "38      5\n",
       "53      4\n",
       "51      4\n",
       "49      4\n",
       "47      4\n",
       "54      4\n",
       "25      3\n",
       "22      3\n",
       "27      3\n",
       "19      2\n",
       "23      2\n",
       "15      1\n",
       "21      1\n",
       "17      1\n",
       "20      1\n",
       "18      1\n",
       "9       1\n",
       "        1\n",
       "16      1\n",
       "14      1\n",
       "Name: pcv, dtype: int64"
      ]
     },
     "execution_count": 22,
     "metadata": {},
     "output_type": "execute_result"
    }
   ],
   "source": [
    "df['pcv'].value_counts()"
   ]
  },
  {
   "cell_type": "code",
   "execution_count": 23,
   "id": "afefdedf",
   "metadata": {},
   "outputs": [
    {
     "name": "stdout",
     "output_type": "stream",
     "text": [
      "<class 'pandas.core.frame.DataFrame'>\n",
      "RangeIndex: 400 entries, 0 to 399\n",
      "Data columns (total 26 columns):\n",
      " #   Column          Non-Null Count  Dtype  \n",
      "---  ------          --------------  -----  \n",
      " 0   id              400 non-null    int64  \n",
      " 1   age             391 non-null    float64\n",
      " 2   bp              388 non-null    float64\n",
      " 3   sg              353 non-null    float64\n",
      " 4   al              354 non-null    float64\n",
      " 5   su              351 non-null    float64\n",
      " 6   rbc             248 non-null    object \n",
      " 7   pc              335 non-null    object \n",
      " 8   pcc             396 non-null    object \n",
      " 9   ba              396 non-null    object \n",
      " 10  bgr             356 non-null    float64\n",
      " 11  bu              381 non-null    float64\n",
      " 12  sc              383 non-null    float64\n",
      " 13  sod             313 non-null    float64\n",
      " 14  pot             312 non-null    float64\n",
      " 15  hemo            348 non-null    float64\n",
      " 16  pcv             400 non-null    object \n",
      " 17  wc              294 non-null    float64\n",
      " 18  rc              269 non-null    float64\n",
      " 19  htn             398 non-null    object \n",
      " 20  dm              398 non-null    object \n",
      " 21  cad             398 non-null    object \n",
      " 22  appet           399 non-null    object \n",
      " 23  pe              399 non-null    object \n",
      " 24  ane             399 non-null    object \n",
      " 25  classification  400 non-null    int64  \n",
      "dtypes: float64(13), int64(2), object(11)\n",
      "memory usage: 81.4+ KB\n"
     ]
    }
   ],
   "source": [
    "df.info()"
   ]
  },
  {
   "cell_type": "code",
   "execution_count": 24,
   "id": "40023d87",
   "metadata": {},
   "outputs": [
    {
     "ename": "ValueError",
     "evalue": "Unable to parse string \"nan\" at position 13",
     "output_type": "error",
     "traceback": [
      "\u001b[0;31m---------------------------------------------------------------------------\u001b[0m",
      "\u001b[0;31mValueError\u001b[0m                                Traceback (most recent call last)",
      "\u001b[0;32m~/anaconda3/lib/python3.9/site-packages/pandas/_libs/lib.pyx\u001b[0m in \u001b[0;36mpandas._libs.lib.maybe_convert_numeric\u001b[0;34m()\u001b[0m\n",
      "\u001b[0;31mValueError\u001b[0m: Unable to parse string \"nan\"",
      "\nDuring handling of the above exception, another exception occurred:\n",
      "\u001b[0;31mValueError\u001b[0m                                Traceback (most recent call last)",
      "\u001b[0;32m/tmp/ipykernel_6106/76936443.py\u001b[0m in \u001b[0;36m<module>\u001b[0;34m\u001b[0m\n\u001b[0;32m----> 1\u001b[0;31m \u001b[0mdf\u001b[0m\u001b[0;34m[\u001b[0m\u001b[0;34m'pcv'\u001b[0m\u001b[0;34m]\u001b[0m \u001b[0;34m=\u001b[0m \u001b[0mpd\u001b[0m\u001b[0;34m.\u001b[0m\u001b[0mto_numeric\u001b[0m\u001b[0;34m(\u001b[0m\u001b[0mdf\u001b[0m\u001b[0;34m[\u001b[0m\u001b[0;34m'pcv'\u001b[0m\u001b[0;34m]\u001b[0m\u001b[0;34m)\u001b[0m\u001b[0;34m\u001b[0m\u001b[0;34m\u001b[0m\u001b[0m\n\u001b[0m",
      "\u001b[0;32m~/anaconda3/lib/python3.9/site-packages/pandas/core/tools/numeric.py\u001b[0m in \u001b[0;36mto_numeric\u001b[0;34m(arg, errors, downcast)\u001b[0m\n\u001b[1;32m    182\u001b[0m         \u001b[0mcoerce_numeric\u001b[0m \u001b[0;34m=\u001b[0m \u001b[0merrors\u001b[0m \u001b[0;32mnot\u001b[0m \u001b[0;32min\u001b[0m \u001b[0;34m(\u001b[0m\u001b[0;34m\"ignore\"\u001b[0m\u001b[0;34m,\u001b[0m \u001b[0;34m\"raise\"\u001b[0m\u001b[0;34m)\u001b[0m\u001b[0;34m\u001b[0m\u001b[0;34m\u001b[0m\u001b[0m\n\u001b[1;32m    183\u001b[0m         \u001b[0;32mtry\u001b[0m\u001b[0;34m:\u001b[0m\u001b[0;34m\u001b[0m\u001b[0;34m\u001b[0m\u001b[0m\n\u001b[0;32m--> 184\u001b[0;31m             values, _ = lib.maybe_convert_numeric(\n\u001b[0m\u001b[1;32m    185\u001b[0m                 \u001b[0mvalues\u001b[0m\u001b[0;34m,\u001b[0m \u001b[0mset\u001b[0m\u001b[0;34m(\u001b[0m\u001b[0;34m)\u001b[0m\u001b[0;34m,\u001b[0m \u001b[0mcoerce_numeric\u001b[0m\u001b[0;34m=\u001b[0m\u001b[0mcoerce_numeric\u001b[0m\u001b[0;34m\u001b[0m\u001b[0;34m\u001b[0m\u001b[0m\n\u001b[1;32m    186\u001b[0m             )\n",
      "\u001b[0;32m~/anaconda3/lib/python3.9/site-packages/pandas/_libs/lib.pyx\u001b[0m in \u001b[0;36mpandas._libs.lib.maybe_convert_numeric\u001b[0;34m()\u001b[0m\n",
      "\u001b[0;31mValueError\u001b[0m: Unable to parse string \"nan\" at position 13"
     ]
    }
   ],
   "source": [
    "df['pcv'] = pd.to_numeric(df['pcv'])"
   ]
  },
  {
   "cell_type": "code",
   "execution_count": 26,
   "id": "974ce95e",
   "metadata": {},
   "outputs": [],
   "source": [
    "df['pcv'] = df['pcv'].replace(\"nan\",np.nan)"
   ]
  },
  {
   "cell_type": "code",
   "execution_count": 27,
   "id": "8c374e85",
   "metadata": {},
   "outputs": [],
   "source": [
    "df['pcv'] = pd.to_numeric(df['pcv'])"
   ]
  },
  {
   "cell_type": "code",
   "execution_count": 28,
   "id": "8ff1dffd",
   "metadata": {},
   "outputs": [
    {
     "name": "stdout",
     "output_type": "stream",
     "text": [
      "<class 'pandas.core.frame.DataFrame'>\n",
      "RangeIndex: 400 entries, 0 to 399\n",
      "Data columns (total 26 columns):\n",
      " #   Column          Non-Null Count  Dtype  \n",
      "---  ------          --------------  -----  \n",
      " 0   id              400 non-null    int64  \n",
      " 1   age             391 non-null    float64\n",
      " 2   bp              388 non-null    float64\n",
      " 3   sg              353 non-null    float64\n",
      " 4   al              354 non-null    float64\n",
      " 5   su              351 non-null    float64\n",
      " 6   rbc             248 non-null    object \n",
      " 7   pc              335 non-null    object \n",
      " 8   pcc             396 non-null    object \n",
      " 9   ba              396 non-null    object \n",
      " 10  bgr             356 non-null    float64\n",
      " 11  bu              381 non-null    float64\n",
      " 12  sc              383 non-null    float64\n",
      " 13  sod             313 non-null    float64\n",
      " 14  pot             312 non-null    float64\n",
      " 15  hemo            348 non-null    float64\n",
      " 16  pcv             329 non-null    float64\n",
      " 17  wc              294 non-null    float64\n",
      " 18  rc              269 non-null    float64\n",
      " 19  htn             398 non-null    object \n",
      " 20  dm              398 non-null    object \n",
      " 21  cad             398 non-null    object \n",
      " 22  appet           399 non-null    object \n",
      " 23  pe              399 non-null    object \n",
      " 24  ane             399 non-null    object \n",
      " 25  classification  400 non-null    int64  \n",
      "dtypes: float64(14), int64(2), object(10)\n",
      "memory usage: 81.4+ KB\n"
     ]
    }
   ],
   "source": [
    "df.info()"
   ]
  },
  {
   "cell_type": "code",
   "execution_count": 29,
   "id": "1b03525f",
   "metadata": {},
   "outputs": [],
   "source": [
    "#so till now only datatype ambiguity is removed\n",
    "#now will start with filling missing values"
   ]
  },
  {
   "cell_type": "code",
   "execution_count": 30,
   "id": "2e38153c",
   "metadata": {},
   "outputs": [
    {
     "data": {
      "text/plain": [
       "id                 0.00\n",
       "age                2.25\n",
       "bp                 3.00\n",
       "sg                11.75\n",
       "al                11.50\n",
       "su                12.25\n",
       "rbc               38.00\n",
       "pc                16.25\n",
       "pcc                1.00\n",
       "ba                 1.00\n",
       "bgr               11.00\n",
       "bu                 4.75\n",
       "sc                 4.25\n",
       "sod               21.75\n",
       "pot               22.00\n",
       "hemo              13.00\n",
       "pcv               17.75\n",
       "wc                26.50\n",
       "rc                32.75\n",
       "htn                0.50\n",
       "dm                 0.50\n",
       "cad                0.50\n",
       "appet              0.25\n",
       "pe                 0.25\n",
       "ane                0.25\n",
       "classification     0.00\n",
       "dtype: float64"
      ]
     },
     "execution_count": 30,
     "metadata": {},
     "output_type": "execute_result"
    }
   ],
   "source": [
    "df.isna().sum()/len(df)*100"
   ]
  },
  {
   "cell_type": "code",
   "execution_count": 37,
   "id": "aef177cd",
   "metadata": {},
   "outputs": [],
   "source": [
    "for i in list(df.select_dtypes(include=[\"object\"]).columns):\n",
    "    df[i] = df[i].fillna(df[i].mode()[0])"
   ]
  },
  {
   "cell_type": "code",
   "execution_count": 36,
   "id": "4ac84545",
   "metadata": {},
   "outputs": [
    {
     "data": {
      "text/plain": [
       "id                 0.00\n",
       "age                2.25\n",
       "bp                 3.00\n",
       "sg                11.75\n",
       "al                11.50\n",
       "su                12.25\n",
       "rbc                0.00\n",
       "pc                 0.00\n",
       "pcc                0.00\n",
       "ba                 0.00\n",
       "bgr               11.00\n",
       "bu                 4.75\n",
       "sc                 4.25\n",
       "sod               21.75\n",
       "pot               22.00\n",
       "hemo              13.00\n",
       "pcv               17.75\n",
       "wc                26.50\n",
       "rc                32.75\n",
       "htn                0.00\n",
       "dm                 0.00\n",
       "cad                0.00\n",
       "appet              0.00\n",
       "pe                 0.00\n",
       "ane                0.00\n",
       "classification     0.00\n",
       "dtype: float64"
      ]
     },
     "execution_count": 36,
     "metadata": {},
     "output_type": "execute_result"
    }
   ],
   "source": [
    "df.isna().sum()/len(df)*100"
   ]
  },
  {
   "cell_type": "code",
   "execution_count": 35,
   "id": "2cbcc486",
   "metadata": {},
   "outputs": [
    {
     "name": "stdout",
     "output_type": "stream",
     "text": [
      "<class 'pandas.core.frame.DataFrame'>\n",
      "RangeIndex: 400 entries, 0 to 399\n",
      "Data columns (total 26 columns):\n",
      " #   Column          Non-Null Count  Dtype  \n",
      "---  ------          --------------  -----  \n",
      " 0   id              400 non-null    int64  \n",
      " 1   age             391 non-null    float64\n",
      " 2   bp              388 non-null    float64\n",
      " 3   sg              353 non-null    float64\n",
      " 4   al              354 non-null    float64\n",
      " 5   su              351 non-null    float64\n",
      " 6   rbc             400 non-null    object \n",
      " 7   pc              400 non-null    object \n",
      " 8   pcc             400 non-null    object \n",
      " 9   ba              400 non-null    object \n",
      " 10  bgr             356 non-null    float64\n",
      " 11  bu              381 non-null    float64\n",
      " 12  sc              383 non-null    float64\n",
      " 13  sod             313 non-null    float64\n",
      " 14  pot             312 non-null    float64\n",
      " 15  hemo            348 non-null    float64\n",
      " 16  pcv             329 non-null    float64\n",
      " 17  wc              294 non-null    float64\n",
      " 18  rc              269 non-null    float64\n",
      " 19  htn             400 non-null    object \n",
      " 20  dm              400 non-null    object \n",
      " 21  cad             400 non-null    object \n",
      " 22  appet           400 non-null    object \n",
      " 23  pe              400 non-null    object \n",
      " 24  ane             400 non-null    object \n",
      " 25  classification  400 non-null    int64  \n",
      "dtypes: float64(14), int64(2), object(10)\n",
      "memory usage: 81.4+ KB\n"
     ]
    }
   ],
   "source": [
    "df.info()\n"
   ]
  },
  {
   "cell_type": "code",
   "execution_count": 38,
   "id": "2634a423",
   "metadata": {
    "scrolled": false
   },
   "outputs": [
    {
     "data": {
      "text/plain": [
       "<AxesSubplot:>"
      ]
     },
     "execution_count": 38,
     "metadata": {},
     "output_type": "execute_result"
    },
    {
     "data": {
      "image/png": "[encoded data removed]",
      "text/plain": [
       "<Figure size 640x480 with 1 Axes>"
      ]
     },
     "metadata": {},
     "output_type": "display_data"
    }
   ],
   "source": [
    "sns.boxplot(data=df)\n"
   ]
  },
  {
   "cell_type": "code",
   "execution_count": 43,
   "id": "778b375c",
   "metadata": {},
   "outputs": [],
   "source": [
    "def boxplot(cols):\n",
    "    sns.boxplot(y=df[cols])\n",
    "    plt.show()"
   ]
  },
  {
   "cell_type": "code",
   "execution_count": 44,
   "id": "6db6d966",
   "metadata": {},
   "outputs": [
    {
     "data": {
      "image/png": "[encoded data removed]",
      "text/plain": [
       "<Figure size 640x480 with 1 Axes>"
      ]
     },
     "metadata": {},
     "output_type": "display_data"
    },
    {
     "data": {
      "image/png": "[encoded data removed]",
      "text/plain": [
       "<Figure size 640x480 with 1 Axes>"
      ]
     },
     "metadata": {},
     "output_type": "display_data"
    },
    {
     "data": {
      "image/png": "[encoded data removed]",
      "text/plain": [
       "<Figure size 640x480 with 1 Axes>"
      ]
     },
     "metadata": {},
     "output_type": "display_data"
    },
    {
     "data": {
      "image/png": "[encoded data removed]",
      "text/plain": [
       "<Figure size 640x480 with 1 Axes>"
      ]
     },
     "metadata": {},
     "output_type": "display_data"
    },
    {
     "data": {
      "image/png": "[encoded data removed]",
      "text/plain": [
       "<Figure size 640x480 with 1 Axes>"
      ]
     },
     "metadata": {},
     "output_type": "display_data"
    },
    {
     "data": {
      "image/png": "[encoded data removed]",
      "text/plain": [
       "<Figure size 640x480 with 1 Axes>"
      ]
     },
     "metadata": {},
     "output_type": "display_data"
    },
    {
     "data": {
      "image/png": "[encoded data removed]",
      "text/plain": [
       "<Figure size 640x480 with 1 Axes>"
      ]
     },
     "metadata": {},
     "output_type": "display_data"
    },
    {
     "data": {
      "image/png": "[encoded data removed]",
      "text/plain": [
       "<Figure size 640x480 with 1 Axes>"
      ]
     },
     "metadata": {},
     "output_type": "display_data"
    },
    {
     "data": {
      "image/png": "[encoded data removed]",
      "text/plain": [
       "<Figure size 640x480 with 1 Axes>"
      ]
     },
     "metadata": {},
     "output_type": "display_data"
    },
    {
     "data": {
      "image/png": "[encoded data removed]",
      "text/plain": [
       "<Figure size 640x480 with 1 Axes>"
      ]
     },
     "metadata": {},
     "output_type": "display_data"
    },
    {
     "data": {
      "image/png": "[encoded data removed]",
      "text/plain": [
       "<Figure size 640x480 with 1 Axes>"
      ]
     },
     "metadata": {},
     "output_type": "display_data"
    },
    {
     "data": {
      "image/png": "[encoded data removed]",
      "text/plain": [
       "<Figure size 640x480 with 1 Axes>"
      ]
     },
     "metadata": {},
     "output_type": "display_data"
    },
    {
     "data": {
      "image/png": "[encoded data removed]",
      "text/plain": [
       "<Figure size 640x480 with 1 Axes>"
      ]
     },
     "metadata": {},
     "output_type": "display_data"
    },
    {
     "data": {
      "image/png": "[encoded data removed]",
      "text/plain": [
       "<Figure size 640x480 with 1 Axes>"
      ]
     },
     "metadata": {},
     "output_type": "display_data"
    },
    {
     "data": {
      "image/png": "[encoded data removed]",
      "text/plain": [
       "<Figure size 640x480 with 1 Axes>"
      ]
     },
     "metadata": {},
     "output_type": "display_data"
    },
    {
     "data": {
      "image/png": "[encoded data removed]",
      "text/plain": [
       "<Figure size 640x480 with 1 Axes>"
      ]
     },
     "metadata": {},
     "output_type": "display_data"
    }
   ],
   "source": [
    "for i in list(df.select_dtypes(exclude=[\"object\"]).columns):\n",
    "    boxplot(i)\n"
   ]
  },
  {
   "cell_type": "code",
   "execution_count": 56,
   "id": "3511e419",
   "metadata": {},
   "outputs": [],
   "source": [
    "def outlier_detect(cols):\n",
    "    res = {}\n",
    "    Q1 = df.quantile(0.25)\n",
    "    Q3 = df.quantile(0.75)\n",
    "    iqr = Q3-Q1\n",
    "    upper_fence= Q3+1.5*iqr\n",
    "    lower_fence= Q1-1.5*iqr\n",
    "#     print('upper fence \\n', upper_fence)\n",
    "#     print('lowe fence \\n', lower_fence)\n",
    "    res['upper'] = upper_fence[cols]\n",
    "    res['lower'] = lower_fence[cols]\n",
    "    return res"
   ]
  },
  {
   "cell_type": "code",
   "execution_count": 62,
   "id": "1d17736c",
   "metadata": {},
   "outputs": [],
   "source": [
    "#\n",
    "out=[]\n",
    "for i in list(df.select_dtypes(exclude=[\"object\"]).columns):\n",
    "    res = outlier_detect(i)\n",
    "    for x in df[i]:\n",
    "        if x > res['upper'] or x < res['lower']:\n",
    "            out.append(x)\n",
    "        else:\n",
    "            continue\n",
    "    if len(out) > 0:\n",
    "        df[i] = df[i].fillna(df[i].median())\n",
    "        out.clear()\n",
    "    else:\n",
    "        df[i] = df[i].fillna(df[i].mean())\n",
    "        out.clear()"
   ]
  },
  {
   "cell_type": "code",
   "execution_count": 63,
   "id": "04bd9cd5",
   "metadata": {},
   "outputs": [
    {
     "name": "stdout",
     "output_type": "stream",
     "text": [
      "<class 'pandas.core.frame.DataFrame'>\n",
      "RangeIndex: 400 entries, 0 to 399\n",
      "Data columns (total 26 columns):\n",
      " #   Column          Non-Null Count  Dtype  \n",
      "---  ------          --------------  -----  \n",
      " 0   id              400 non-null    int64  \n",
      " 1   age             400 non-null    float64\n",
      " 2   bp              400 non-null    float64\n",
      " 3   sg              400 non-null    float64\n",
      " 4   al              400 non-null    float64\n",
      " 5   su              400 non-null    float64\n",
      " 6   rbc             400 non-null    object \n",
      " 7   pc              400 non-null    object \n",
      " 8   pcc             400 non-null    object \n",
      " 9   ba              400 non-null    object \n",
      " 10  bgr             400 non-null    float64\n",
      " 11  bu              400 non-null    float64\n",
      " 12  sc              400 non-null    float64\n",
      " 13  sod             400 non-null    float64\n",
      " 14  pot             400 non-null    float64\n",
      " 15  hemo            400 non-null    float64\n",
      " 16  pcv             400 non-null    float64\n",
      " 17  wc              400 non-null    float64\n",
      " 18  rc              400 non-null    float64\n",
      " 19  htn             400 non-null    object \n",
      " 20  dm              400 non-null    object \n",
      " 21  cad             400 non-null    object \n",
      " 22  appet           400 non-null    object \n",
      " 23  pe              400 non-null    object \n",
      " 24  ane             400 non-null    object \n",
      " 25  classification  400 non-null    int64  \n",
      "dtypes: float64(14), int64(2), object(10)\n",
      "memory usage: 81.4+ KB\n"
     ]
    }
   ],
   "source": [
    "df.info()"
   ]
  },
  {
   "cell_type": "code",
   "execution_count": null,
   "id": "d8d4aabe",
   "metadata": {},
   "outputs": [],
   "source": [
    "#hence all missing values has been removed"
   ]
  },
  {
   "cell_type": "code",
   "execution_count": null,
   "id": "c0150798",
   "metadata": {},
   "outputs": [],
   "source": [
    "#now encoding part of catgeory"
   ]
  },
  {
   "cell_type": "code",
   "execution_count": 65,
   "id": "c2b218ac",
   "metadata": {},
   "outputs": [
    {
     "data": {
      "text/plain": [
       "Index(['id', 'age', 'bp', 'sg', 'al', 'su', 'rbc', 'pc', 'pcc', 'ba', 'bgr',\n",
       "       'bu', 'sc', 'sod', 'pot', 'hemo', 'pcv', 'wc', 'rc', 'htn', 'dm', 'cad',\n",
       "       'appet', 'pe', 'ane', 'classification'],\n",
       "      dtype='object')"
      ]
     },
     "execution_count": 65,
     "metadata": {},
     "output_type": "execute_result"
    }
   ],
   "source": [
    "df.columns"
   ]
  },
  {
   "cell_type": "code",
   "execution_count": 66,
   "id": "f7258db7",
   "metadata": {},
   "outputs": [
    {
     "data": {
      "text/plain": [
       "(400, 26)"
      ]
     },
     "execution_count": 66,
     "metadata": {},
     "output_type": "execute_result"
    }
   ],
   "source": [
    "df = pd.get_dummies(df, columns = list(df.select_dtypes(include=object).columns), drop_first=True)\n",
    "df.shape"
   ]
  },
  {
   "cell_type": "code",
   "execution_count": 67,
   "id": "e4821d93",
   "metadata": {},
   "outputs": [
    {
     "data": {
      "text/html": [
       "<div>\n",
       "<style scoped>\n",
       "    .dataframe tbody tr th:only-of-type {\n",
       "        vertical-align: middle;\n",
       "    }\n",
       "\n",
       "    .dataframe tbody tr th {\n",
       "        vertical-align: top;\n",
       "    }\n",
       "\n",
       "    .dataframe thead th {\n",
       "        text-align: right;\n",
       "    }\n",
       "</style>\n",
       "<table border=\"1\" class=\"dataframe\">\n",
       "  <thead>\n",
       "    <tr style=\"text-align: right;\">\n",
       "      <th></th>\n",
       "      <th>id</th>\n",
       "      <th>age</th>\n",
       "      <th>bp</th>\n",
       "      <th>sg</th>\n",
       "      <th>al</th>\n",
       "      <th>su</th>\n",
       "      <th>bgr</th>\n",
       "      <th>bu</th>\n",
       "      <th>sc</th>\n",
       "      <th>sod</th>\n",
       "      <th>...</th>\n",
       "      <th>rbc_normal</th>\n",
       "      <th>pc_normal</th>\n",
       "      <th>pcc_present</th>\n",
       "      <th>ba_present</th>\n",
       "      <th>htn_yes</th>\n",
       "      <th>dm_yes</th>\n",
       "      <th>cad_yes</th>\n",
       "      <th>appet_poor</th>\n",
       "      <th>pe_yes</th>\n",
       "      <th>ane_yes</th>\n",
       "    </tr>\n",
       "  </thead>\n",
       "  <tbody>\n",
       "    <tr>\n",
       "      <th>0</th>\n",
       "      <td>0</td>\n",
       "      <td>48.0</td>\n",
       "      <td>80.0</td>\n",
       "      <td>1.020</td>\n",
       "      <td>1.0</td>\n",
       "      <td>0.0</td>\n",
       "      <td>121.0</td>\n",
       "      <td>36.0</td>\n",
       "      <td>1.2</td>\n",
       "      <td>138.0</td>\n",
       "      <td>...</td>\n",
       "      <td>1</td>\n",
       "      <td>1</td>\n",
       "      <td>0</td>\n",
       "      <td>0</td>\n",
       "      <td>1</td>\n",
       "      <td>1</td>\n",
       "      <td>0</td>\n",
       "      <td>0</td>\n",
       "      <td>0</td>\n",
       "      <td>0</td>\n",
       "    </tr>\n",
       "    <tr>\n",
       "      <th>1</th>\n",
       "      <td>1</td>\n",
       "      <td>7.0</td>\n",
       "      <td>50.0</td>\n",
       "      <td>1.020</td>\n",
       "      <td>4.0</td>\n",
       "      <td>0.0</td>\n",
       "      <td>121.0</td>\n",
       "      <td>18.0</td>\n",
       "      <td>0.8</td>\n",
       "      <td>138.0</td>\n",
       "      <td>...</td>\n",
       "      <td>1</td>\n",
       "      <td>1</td>\n",
       "      <td>0</td>\n",
       "      <td>0</td>\n",
       "      <td>0</td>\n",
       "      <td>0</td>\n",
       "      <td>0</td>\n",
       "      <td>0</td>\n",
       "      <td>0</td>\n",
       "      <td>0</td>\n",
       "    </tr>\n",
       "    <tr>\n",
       "      <th>2</th>\n",
       "      <td>2</td>\n",
       "      <td>62.0</td>\n",
       "      <td>80.0</td>\n",
       "      <td>1.010</td>\n",
       "      <td>2.0</td>\n",
       "      <td>3.0</td>\n",
       "      <td>423.0</td>\n",
       "      <td>53.0</td>\n",
       "      <td>1.8</td>\n",
       "      <td>138.0</td>\n",
       "      <td>...</td>\n",
       "      <td>1</td>\n",
       "      <td>1</td>\n",
       "      <td>0</td>\n",
       "      <td>0</td>\n",
       "      <td>0</td>\n",
       "      <td>1</td>\n",
       "      <td>0</td>\n",
       "      <td>1</td>\n",
       "      <td>0</td>\n",
       "      <td>1</td>\n",
       "    </tr>\n",
       "    <tr>\n",
       "      <th>3</th>\n",
       "      <td>3</td>\n",
       "      <td>48.0</td>\n",
       "      <td>70.0</td>\n",
       "      <td>1.005</td>\n",
       "      <td>4.0</td>\n",
       "      <td>0.0</td>\n",
       "      <td>117.0</td>\n",
       "      <td>56.0</td>\n",
       "      <td>3.8</td>\n",
       "      <td>111.0</td>\n",
       "      <td>...</td>\n",
       "      <td>1</td>\n",
       "      <td>0</td>\n",
       "      <td>1</td>\n",
       "      <td>0</td>\n",
       "      <td>1</td>\n",
       "      <td>0</td>\n",
       "      <td>0</td>\n",
       "      <td>1</td>\n",
       "      <td>1</td>\n",
       "      <td>1</td>\n",
       "    </tr>\n",
       "    <tr>\n",
       "      <th>4</th>\n",
       "      <td>4</td>\n",
       "      <td>51.0</td>\n",
       "      <td>80.0</td>\n",
       "      <td>1.010</td>\n",
       "      <td>2.0</td>\n",
       "      <td>0.0</td>\n",
       "      <td>106.0</td>\n",
       "      <td>26.0</td>\n",
       "      <td>1.4</td>\n",
       "      <td>138.0</td>\n",
       "      <td>...</td>\n",
       "      <td>1</td>\n",
       "      <td>1</td>\n",
       "      <td>0</td>\n",
       "      <td>0</td>\n",
       "      <td>0</td>\n",
       "      <td>0</td>\n",
       "      <td>0</td>\n",
       "      <td>0</td>\n",
       "      <td>0</td>\n",
       "      <td>0</td>\n",
       "    </tr>\n",
       "  </tbody>\n",
       "</table>\n",
       "<p>5 rows × 26 columns</p>\n",
       "</div>"
      ],
      "text/plain": [
       "   id   age    bp     sg   al   su    bgr    bu   sc    sod  ...  rbc_normal  \\\n",
       "0   0  48.0  80.0  1.020  1.0  0.0  121.0  36.0  1.2  138.0  ...           1   \n",
       "1   1   7.0  50.0  1.020  4.0  0.0  121.0  18.0  0.8  138.0  ...           1   \n",
       "2   2  62.0  80.0  1.010  2.0  3.0  423.0  53.0  1.8  138.0  ...           1   \n",
       "3   3  48.0  70.0  1.005  4.0  0.0  117.0  56.0  3.8  111.0  ...           1   \n",
       "4   4  51.0  80.0  1.010  2.0  0.0  106.0  26.0  1.4  138.0  ...           1   \n",
       "\n",
       "   pc_normal  pcc_present  ba_present  htn_yes  dm_yes  cad_yes  appet_poor  \\\n",
       "0          1            0           0        1       1        0           0   \n",
       "1          1            0           0        0       0        0           0   \n",
       "2          1            0           0        0       1        0           1   \n",
       "3          0            1           0        1       0        0           1   \n",
       "4          1            0           0        0       0        0           0   \n",
       "\n",
       "   pe_yes  ane_yes  \n",
       "0       0        0  \n",
       "1       0        0  \n",
       "2       0        1  \n",
       "3       1        1  \n",
       "4       0        0  \n",
       "\n",
       "[5 rows x 26 columns]"
      ]
     },
     "execution_count": 67,
     "metadata": {},
     "output_type": "execute_result"
    }
   ],
   "source": [
    "df.head()"
   ]
  },
  {
   "cell_type": "code",
   "execution_count": 69,
   "id": "a7e25392",
   "metadata": {},
   "outputs": [
    {
     "data": {
      "text/html": [
       "<div>\n",
       "<style scoped>\n",
       "    .dataframe tbody tr th:only-of-type {\n",
       "        vertical-align: middle;\n",
       "    }\n",
       "\n",
       "    .dataframe tbody tr th {\n",
       "        vertical-align: top;\n",
       "    }\n",
       "\n",
       "    .dataframe thead th {\n",
       "        text-align: right;\n",
       "    }\n",
       "</style>\n",
       "<table border=\"1\" class=\"dataframe\">\n",
       "  <thead>\n",
       "    <tr style=\"text-align: right;\">\n",
       "      <th></th>\n",
       "      <th>age</th>\n",
       "      <th>bp</th>\n",
       "      <th>sg</th>\n",
       "      <th>al</th>\n",
       "      <th>su</th>\n",
       "      <th>bgr</th>\n",
       "      <th>bu</th>\n",
       "      <th>sc</th>\n",
       "      <th>sod</th>\n",
       "      <th>pot</th>\n",
       "      <th>...</th>\n",
       "      <th>rbc_normal</th>\n",
       "      <th>pc_normal</th>\n",
       "      <th>pcc_present</th>\n",
       "      <th>ba_present</th>\n",
       "      <th>htn_yes</th>\n",
       "      <th>dm_yes</th>\n",
       "      <th>cad_yes</th>\n",
       "      <th>appet_poor</th>\n",
       "      <th>pe_yes</th>\n",
       "      <th>ane_yes</th>\n",
       "    </tr>\n",
       "  </thead>\n",
       "  <tbody>\n",
       "    <tr>\n",
       "      <th>0</th>\n",
       "      <td>48.0</td>\n",
       "      <td>80.0</td>\n",
       "      <td>1.020</td>\n",
       "      <td>1.0</td>\n",
       "      <td>0.0</td>\n",
       "      <td>121.0</td>\n",
       "      <td>36.0</td>\n",
       "      <td>1.2</td>\n",
       "      <td>138.0</td>\n",
       "      <td>4.4</td>\n",
       "      <td>...</td>\n",
       "      <td>1</td>\n",
       "      <td>1</td>\n",
       "      <td>0</td>\n",
       "      <td>0</td>\n",
       "      <td>1</td>\n",
       "      <td>1</td>\n",
       "      <td>0</td>\n",
       "      <td>0</td>\n",
       "      <td>0</td>\n",
       "      <td>0</td>\n",
       "    </tr>\n",
       "    <tr>\n",
       "      <th>1</th>\n",
       "      <td>7.0</td>\n",
       "      <td>50.0</td>\n",
       "      <td>1.020</td>\n",
       "      <td>4.0</td>\n",
       "      <td>0.0</td>\n",
       "      <td>121.0</td>\n",
       "      <td>18.0</td>\n",
       "      <td>0.8</td>\n",
       "      <td>138.0</td>\n",
       "      <td>4.4</td>\n",
       "      <td>...</td>\n",
       "      <td>1</td>\n",
       "      <td>1</td>\n",
       "      <td>0</td>\n",
       "      <td>0</td>\n",
       "      <td>0</td>\n",
       "      <td>0</td>\n",
       "      <td>0</td>\n",
       "      <td>0</td>\n",
       "      <td>0</td>\n",
       "      <td>0</td>\n",
       "    </tr>\n",
       "    <tr>\n",
       "      <th>2</th>\n",
       "      <td>62.0</td>\n",
       "      <td>80.0</td>\n",
       "      <td>1.010</td>\n",
       "      <td>2.0</td>\n",
       "      <td>3.0</td>\n",
       "      <td>423.0</td>\n",
       "      <td>53.0</td>\n",
       "      <td>1.8</td>\n",
       "      <td>138.0</td>\n",
       "      <td>4.4</td>\n",
       "      <td>...</td>\n",
       "      <td>1</td>\n",
       "      <td>1</td>\n",
       "      <td>0</td>\n",
       "      <td>0</td>\n",
       "      <td>0</td>\n",
       "      <td>1</td>\n",
       "      <td>0</td>\n",
       "      <td>1</td>\n",
       "      <td>0</td>\n",
       "      <td>1</td>\n",
       "    </tr>\n",
       "    <tr>\n",
       "      <th>3</th>\n",
       "      <td>48.0</td>\n",
       "      <td>70.0</td>\n",
       "      <td>1.005</td>\n",
       "      <td>4.0</td>\n",
       "      <td>0.0</td>\n",
       "      <td>117.0</td>\n",
       "      <td>56.0</td>\n",
       "      <td>3.8</td>\n",
       "      <td>111.0</td>\n",
       "      <td>2.5</td>\n",
       "      <td>...</td>\n",
       "      <td>1</td>\n",
       "      <td>0</td>\n",
       "      <td>1</td>\n",
       "      <td>0</td>\n",
       "      <td>1</td>\n",
       "      <td>0</td>\n",
       "      <td>0</td>\n",
       "      <td>1</td>\n",
       "      <td>1</td>\n",
       "      <td>1</td>\n",
       "    </tr>\n",
       "    <tr>\n",
       "      <th>4</th>\n",
       "      <td>51.0</td>\n",
       "      <td>80.0</td>\n",
       "      <td>1.010</td>\n",
       "      <td>2.0</td>\n",
       "      <td>0.0</td>\n",
       "      <td>106.0</td>\n",
       "      <td>26.0</td>\n",
       "      <td>1.4</td>\n",
       "      <td>138.0</td>\n",
       "      <td>4.4</td>\n",
       "      <td>...</td>\n",
       "      <td>1</td>\n",
       "      <td>1</td>\n",
       "      <td>0</td>\n",
       "      <td>0</td>\n",
       "      <td>0</td>\n",
       "      <td>0</td>\n",
       "      <td>0</td>\n",
       "      <td>0</td>\n",
       "      <td>0</td>\n",
       "      <td>0</td>\n",
       "    </tr>\n",
       "    <tr>\n",
       "      <th>...</th>\n",
       "      <td>...</td>\n",
       "      <td>...</td>\n",
       "      <td>...</td>\n",
       "      <td>...</td>\n",
       "      <td>...</td>\n",
       "      <td>...</td>\n",
       "      <td>...</td>\n",
       "      <td>...</td>\n",
       "      <td>...</td>\n",
       "      <td>...</td>\n",
       "      <td>...</td>\n",
       "      <td>...</td>\n",
       "      <td>...</td>\n",
       "      <td>...</td>\n",
       "      <td>...</td>\n",
       "      <td>...</td>\n",
       "      <td>...</td>\n",
       "      <td>...</td>\n",
       "      <td>...</td>\n",
       "      <td>...</td>\n",
       "      <td>...</td>\n",
       "    </tr>\n",
       "    <tr>\n",
       "      <th>395</th>\n",
       "      <td>55.0</td>\n",
       "      <td>80.0</td>\n",
       "      <td>1.020</td>\n",
       "      <td>0.0</td>\n",
       "      <td>0.0</td>\n",
       "      <td>140.0</td>\n",
       "      <td>49.0</td>\n",
       "      <td>0.5</td>\n",
       "      <td>150.0</td>\n",
       "      <td>4.9</td>\n",
       "      <td>...</td>\n",
       "      <td>1</td>\n",
       "      <td>1</td>\n",
       "      <td>0</td>\n",
       "      <td>0</td>\n",
       "      <td>0</td>\n",
       "      <td>0</td>\n",
       "      <td>0</td>\n",
       "      <td>0</td>\n",
       "      <td>0</td>\n",
       "      <td>0</td>\n",
       "    </tr>\n",
       "    <tr>\n",
       "      <th>396</th>\n",
       "      <td>42.0</td>\n",
       "      <td>70.0</td>\n",
       "      <td>1.025</td>\n",
       "      <td>0.0</td>\n",
       "      <td>0.0</td>\n",
       "      <td>75.0</td>\n",
       "      <td>31.0</td>\n",
       "      <td>1.2</td>\n",
       "      <td>141.0</td>\n",
       "      <td>3.5</td>\n",
       "      <td>...</td>\n",
       "      <td>1</td>\n",
       "      <td>1</td>\n",
       "      <td>0</td>\n",
       "      <td>0</td>\n",
       "      <td>0</td>\n",
       "      <td>0</td>\n",
       "      <td>0</td>\n",
       "      <td>0</td>\n",
       "      <td>0</td>\n",
       "      <td>0</td>\n",
       "    </tr>\n",
       "    <tr>\n",
       "      <th>397</th>\n",
       "      <td>12.0</td>\n",
       "      <td>80.0</td>\n",
       "      <td>1.020</td>\n",
       "      <td>0.0</td>\n",
       "      <td>0.0</td>\n",
       "      <td>100.0</td>\n",
       "      <td>26.0</td>\n",
       "      <td>0.6</td>\n",
       "      <td>137.0</td>\n",
       "      <td>4.4</td>\n",
       "      <td>...</td>\n",
       "      <td>1</td>\n",
       "      <td>1</td>\n",
       "      <td>0</td>\n",
       "      <td>0</td>\n",
       "      <td>0</td>\n",
       "      <td>0</td>\n",
       "      <td>0</td>\n",
       "      <td>0</td>\n",
       "      <td>0</td>\n",
       "      <td>0</td>\n",
       "    </tr>\n",
       "    <tr>\n",
       "      <th>398</th>\n",
       "      <td>17.0</td>\n",
       "      <td>60.0</td>\n",
       "      <td>1.025</td>\n",
       "      <td>0.0</td>\n",
       "      <td>0.0</td>\n",
       "      <td>114.0</td>\n",
       "      <td>50.0</td>\n",
       "      <td>1.0</td>\n",
       "      <td>135.0</td>\n",
       "      <td>4.9</td>\n",
       "      <td>...</td>\n",
       "      <td>1</td>\n",
       "      <td>1</td>\n",
       "      <td>0</td>\n",
       "      <td>0</td>\n",
       "      <td>0</td>\n",
       "      <td>0</td>\n",
       "      <td>0</td>\n",
       "      <td>0</td>\n",
       "      <td>0</td>\n",
       "      <td>0</td>\n",
       "    </tr>\n",
       "    <tr>\n",
       "      <th>399</th>\n",
       "      <td>58.0</td>\n",
       "      <td>80.0</td>\n",
       "      <td>1.025</td>\n",
       "      <td>0.0</td>\n",
       "      <td>0.0</td>\n",
       "      <td>131.0</td>\n",
       "      <td>18.0</td>\n",
       "      <td>1.1</td>\n",
       "      <td>141.0</td>\n",
       "      <td>3.5</td>\n",
       "      <td>...</td>\n",
       "      <td>1</td>\n",
       "      <td>1</td>\n",
       "      <td>0</td>\n",
       "      <td>0</td>\n",
       "      <td>0</td>\n",
       "      <td>0</td>\n",
       "      <td>0</td>\n",
       "      <td>0</td>\n",
       "      <td>0</td>\n",
       "      <td>0</td>\n",
       "    </tr>\n",
       "  </tbody>\n",
       "</table>\n",
       "<p>400 rows × 25 columns</p>\n",
       "</div>"
      ],
      "text/plain": [
       "      age    bp     sg   al   su    bgr    bu   sc    sod  pot  ...  \\\n",
       "0    48.0  80.0  1.020  1.0  0.0  121.0  36.0  1.2  138.0  4.4  ...   \n",
       "1     7.0  50.0  1.020  4.0  0.0  121.0  18.0  0.8  138.0  4.4  ...   \n",
       "2    62.0  80.0  1.010  2.0  3.0  423.0  53.0  1.8  138.0  4.4  ...   \n",
       "3    48.0  70.0  1.005  4.0  0.0  117.0  56.0  3.8  111.0  2.5  ...   \n",
       "4    51.0  80.0  1.010  2.0  0.0  106.0  26.0  1.4  138.0  4.4  ...   \n",
       "..    ...   ...    ...  ...  ...    ...   ...  ...    ...  ...  ...   \n",
       "395  55.0  80.0  1.020  0.0  0.0  140.0  49.0  0.5  150.0  4.9  ...   \n",
       "396  42.0  70.0  1.025  0.0  0.0   75.0  31.0  1.2  141.0  3.5  ...   \n",
       "397  12.0  80.0  1.020  0.0  0.0  100.0  26.0  0.6  137.0  4.4  ...   \n",
       "398  17.0  60.0  1.025  0.0  0.0  114.0  50.0  1.0  135.0  4.9  ...   \n",
       "399  58.0  80.0  1.025  0.0  0.0  131.0  18.0  1.1  141.0  3.5  ...   \n",
       "\n",
       "     rbc_normal  pc_normal  pcc_present  ba_present  htn_yes  dm_yes  cad_yes  \\\n",
       "0             1          1            0           0        1       1        0   \n",
       "1             1          1            0           0        0       0        0   \n",
       "2             1          1            0           0        0       1        0   \n",
       "3             1          0            1           0        1       0        0   \n",
       "4             1          1            0           0        0       0        0   \n",
       "..          ...        ...          ...         ...      ...     ...      ...   \n",
       "395           1          1            0           0        0       0        0   \n",
       "396           1          1            0           0        0       0        0   \n",
       "397           1          1            0           0        0       0        0   \n",
       "398           1          1            0           0        0       0        0   \n",
       "399           1          1            0           0        0       0        0   \n",
       "\n",
       "     appet_poor  pe_yes  ane_yes  \n",
       "0             0       0        0  \n",
       "1             0       0        0  \n",
       "2             1       0        1  \n",
       "3             1       1        1  \n",
       "4             0       0        0  \n",
       "..          ...     ...      ...  \n",
       "395           0       0        0  \n",
       "396           0       0        0  \n",
       "397           0       0        0  \n",
       "398           0       0        0  \n",
       "399           0       0        0  \n",
       "\n",
       "[400 rows x 25 columns]"
      ]
     },
     "execution_count": 69,
     "metadata": {},
     "output_type": "execute_result"
    }
   ],
   "source": [
    "df.drop(['id'], axis=1)"
   ]
  },
  {
   "cell_type": "code",
   "execution_count": 70,
   "id": "4338ff10",
   "metadata": {},
   "outputs": [],
   "source": [
    "x = df.drop(['classification'], axis=1)\n",
    "y = df['classification']\n"
   ]
  },
  {
   "cell_type": "code",
   "execution_count": 71,
   "id": "9124a3af",
   "metadata": {},
   "outputs": [],
   "source": [
    "from sklearn.model_selection import train_test_split\n",
    "x_train,x_test, y_train, y_test = train_test_split(x,y, test_size=0.2, random_state=17)"
   ]
  },
  {
   "cell_type": "code",
   "execution_count": 72,
   "id": "36cec71c",
   "metadata": {},
   "outputs": [],
   "source": [
    "from sklearn.preprocessing import StandardScaler\n",
    "ss = StandardScaler()\n",
    "x_train = ss.fit_transform(x_train)\n",
    "x_test = ss.transform(x_test)"
   ]
  },
  {
   "cell_type": "code",
   "execution_count": 73,
   "id": "38730662",
   "metadata": {},
   "outputs": [
    {
     "data": {
      "text/html": [
       "<div>\n",
       "<style scoped>\n",
       "    .dataframe tbody tr th:only-of-type {\n",
       "        vertical-align: middle;\n",
       "    }\n",
       "\n",
       "    .dataframe tbody tr th {\n",
       "        vertical-align: top;\n",
       "    }\n",
       "\n",
       "    .dataframe thead th {\n",
       "        text-align: right;\n",
       "    }\n",
       "</style>\n",
       "<table border=\"1\" class=\"dataframe\">\n",
       "  <thead>\n",
       "    <tr style=\"text-align: right;\">\n",
       "      <th></th>\n",
       "      <th>id</th>\n",
       "      <th>age</th>\n",
       "      <th>bp</th>\n",
       "      <th>sg</th>\n",
       "      <th>al</th>\n",
       "      <th>su</th>\n",
       "      <th>bgr</th>\n",
       "      <th>bu</th>\n",
       "      <th>sc</th>\n",
       "      <th>sod</th>\n",
       "      <th>...</th>\n",
       "      <th>rbc_normal</th>\n",
       "      <th>pc_normal</th>\n",
       "      <th>pcc_present</th>\n",
       "      <th>ba_present</th>\n",
       "      <th>htn_yes</th>\n",
       "      <th>dm_yes</th>\n",
       "      <th>cad_yes</th>\n",
       "      <th>appet_poor</th>\n",
       "      <th>pe_yes</th>\n",
       "      <th>ane_yes</th>\n",
       "    </tr>\n",
       "  </thead>\n",
       "  <tbody>\n",
       "    <tr>\n",
       "      <th>0</th>\n",
       "      <td>0</td>\n",
       "      <td>48.0</td>\n",
       "      <td>80.0</td>\n",
       "      <td>1.020</td>\n",
       "      <td>1.0</td>\n",
       "      <td>0.0</td>\n",
       "      <td>121.0</td>\n",
       "      <td>36.0</td>\n",
       "      <td>1.2</td>\n",
       "      <td>138.0</td>\n",
       "      <td>...</td>\n",
       "      <td>1</td>\n",
       "      <td>1</td>\n",
       "      <td>0</td>\n",
       "      <td>0</td>\n",
       "      <td>1</td>\n",
       "      <td>1</td>\n",
       "      <td>0</td>\n",
       "      <td>0</td>\n",
       "      <td>0</td>\n",
       "      <td>0</td>\n",
       "    </tr>\n",
       "    <tr>\n",
       "      <th>1</th>\n",
       "      <td>1</td>\n",
       "      <td>7.0</td>\n",
       "      <td>50.0</td>\n",
       "      <td>1.020</td>\n",
       "      <td>4.0</td>\n",
       "      <td>0.0</td>\n",
       "      <td>121.0</td>\n",
       "      <td>18.0</td>\n",
       "      <td>0.8</td>\n",
       "      <td>138.0</td>\n",
       "      <td>...</td>\n",
       "      <td>1</td>\n",
       "      <td>1</td>\n",
       "      <td>0</td>\n",
       "      <td>0</td>\n",
       "      <td>0</td>\n",
       "      <td>0</td>\n",
       "      <td>0</td>\n",
       "      <td>0</td>\n",
       "      <td>0</td>\n",
       "      <td>0</td>\n",
       "    </tr>\n",
       "    <tr>\n",
       "      <th>2</th>\n",
       "      <td>2</td>\n",
       "      <td>62.0</td>\n",
       "      <td>80.0</td>\n",
       "      <td>1.010</td>\n",
       "      <td>2.0</td>\n",
       "      <td>3.0</td>\n",
       "      <td>423.0</td>\n",
       "      <td>53.0</td>\n",
       "      <td>1.8</td>\n",
       "      <td>138.0</td>\n",
       "      <td>...</td>\n",
       "      <td>1</td>\n",
       "      <td>1</td>\n",
       "      <td>0</td>\n",
       "      <td>0</td>\n",
       "      <td>0</td>\n",
       "      <td>1</td>\n",
       "      <td>0</td>\n",
       "      <td>1</td>\n",
       "      <td>0</td>\n",
       "      <td>1</td>\n",
       "    </tr>\n",
       "    <tr>\n",
       "      <th>3</th>\n",
       "      <td>3</td>\n",
       "      <td>48.0</td>\n",
       "      <td>70.0</td>\n",
       "      <td>1.005</td>\n",
       "      <td>4.0</td>\n",
       "      <td>0.0</td>\n",
       "      <td>117.0</td>\n",
       "      <td>56.0</td>\n",
       "      <td>3.8</td>\n",
       "      <td>111.0</td>\n",
       "      <td>...</td>\n",
       "      <td>1</td>\n",
       "      <td>0</td>\n",
       "      <td>1</td>\n",
       "      <td>0</td>\n",
       "      <td>1</td>\n",
       "      <td>0</td>\n",
       "      <td>0</td>\n",
       "      <td>1</td>\n",
       "      <td>1</td>\n",
       "      <td>1</td>\n",
       "    </tr>\n",
       "    <tr>\n",
       "      <th>4</th>\n",
       "      <td>4</td>\n",
       "      <td>51.0</td>\n",
       "      <td>80.0</td>\n",
       "      <td>1.010</td>\n",
       "      <td>2.0</td>\n",
       "      <td>0.0</td>\n",
       "      <td>106.0</td>\n",
       "      <td>26.0</td>\n",
       "      <td>1.4</td>\n",
       "      <td>138.0</td>\n",
       "      <td>...</td>\n",
       "      <td>1</td>\n",
       "      <td>1</td>\n",
       "      <td>0</td>\n",
       "      <td>0</td>\n",
       "      <td>0</td>\n",
       "      <td>0</td>\n",
       "      <td>0</td>\n",
       "      <td>0</td>\n",
       "      <td>0</td>\n",
       "      <td>0</td>\n",
       "    </tr>\n",
       "  </tbody>\n",
       "</table>\n",
       "<p>5 rows × 26 columns</p>\n",
       "</div>"
      ],
      "text/plain": [
       "   id   age    bp     sg   al   su    bgr    bu   sc    sod  ...  rbc_normal  \\\n",
       "0   0  48.0  80.0  1.020  1.0  0.0  121.0  36.0  1.2  138.0  ...           1   \n",
       "1   1   7.0  50.0  1.020  4.0  0.0  121.0  18.0  0.8  138.0  ...           1   \n",
       "2   2  62.0  80.0  1.010  2.0  3.0  423.0  53.0  1.8  138.0  ...           1   \n",
       "3   3  48.0  70.0  1.005  4.0  0.0  117.0  56.0  3.8  111.0  ...           1   \n",
       "4   4  51.0  80.0  1.010  2.0  0.0  106.0  26.0  1.4  138.0  ...           1   \n",
       "\n",
       "   pc_normal  pcc_present  ba_present  htn_yes  dm_yes  cad_yes  appet_poor  \\\n",
       "0          1            0           0        1       1        0           0   \n",
       "1          1            0           0        0       0        0           0   \n",
       "2          1            0           0        0       1        0           1   \n",
       "3          0            1           0        1       0        0           1   \n",
       "4          1            0           0        0       0        0           0   \n",
       "\n",
       "   pe_yes  ane_yes  \n",
       "0       0        0  \n",
       "1       0        0  \n",
       "2       0        1  \n",
       "3       1        1  \n",
       "4       0        0  \n",
       "\n",
       "[5 rows x 26 columns]"
      ]
     },
     "execution_count": 73,
     "metadata": {},
     "output_type": "execute_result"
    }
   ],
   "source": [
    "df.head()"
   ]
  },
  {
   "cell_type": "code",
   "execution_count": 74,
   "id": "1cefb0b0",
   "metadata": {},
   "outputs": [],
   "source": [
    "from sklearn.metrics import classification_report, accuracy_score, confusion_matrix"
   ]
  },
  {
   "cell_type": "code",
   "execution_count": 75,
   "id": "d512fbb6",
   "metadata": {},
   "outputs": [],
   "source": [
    "from sklearn.ensemble import RandomForestClassifier"
   ]
  },
  {
   "cell_type": "code",
   "execution_count": 77,
   "id": "94959ced",
   "metadata": {},
   "outputs": [
    {
     "data": {
      "text/plain": [
       "{'criterion': 'gini',\n",
       " 'max_depth': 5,\n",
       " 'min_samples_split': 5,\n",
       " 'n_estimators': 10}"
      ]
     },
     "execution_count": 77,
     "metadata": {},
     "output_type": "execute_result"
    }
   ],
   "source": [
    "from sklearn.model_selection import GridSearchCV\n",
    "param_grid= {'max_depth':[5,10,15,20,25], 'criterion': ['gini', 'entropy'],\n",
    "            'min_samples_split':[1,5,7,10], 'n_estimators': [5,10,15,20,25]}\n",
    "rf1= RandomForestClassifier()\n",
    "grid = GridSearchCV(rf1, param_grid, cv=10)\n",
    "grid.fit(x_train, y_train)\n",
    "grid.best_params_"
   ]
  },
  {
   "cell_type": "code",
   "execution_count": 80,
   "id": "c9d32a85",
   "metadata": {},
   "outputs": [
    {
     "name": "stdout",
     "output_type": "stream",
     "text": [
      "              precision    recall  f1-score   support\n",
      "\n",
      "           0       1.00      1.00      1.00        30\n",
      "           1       1.00      1.00      1.00        50\n",
      "\n",
      "    accuracy                           1.00        80\n",
      "   macro avg       1.00      1.00      1.00        80\n",
      "weighted avg       1.00      1.00      1.00        80\n",
      "\n",
      "*********************\n",
      "              precision    recall  f1-score   support\n",
      "\n",
      "           0       1.00      1.00      1.00       120\n",
      "           1       1.00      1.00      1.00       200\n",
      "\n",
      "    accuracy                           1.00       320\n",
      "   macro avg       1.00      1.00      1.00       320\n",
      "weighted avg       1.00      1.00      1.00       320\n",
      "\n"
     ]
    }
   ],
   "source": [
    "clasifier1 = RandomForestClassifier(criterion='gini',max_depth= 5,min_samples_split= 5,n_estimators=10, random_state=17)\n",
    "\n",
    "rf=clasifier1.fit(x_train, y_train)\n",
    "y_pred= clasifier1.predict(x_test)\n",
    "y_pred_train = clasifier1.predict(x_train)\n",
    "print(classification_report(y_test, y_pred))\n",
    "print('*********************')\n",
    "print(classification_report(y_train, y_pred_train))"
   ]
  },
  {
   "cell_type": "code",
   "execution_count": null,
   "id": "73627eba",
   "metadata": {},
   "outputs": [],
   "source": [
    "#here above accuracy is 100%"
   ]
  }
 ],
 "metadata": {
  "kernelspec": {
   "display_name": "Python 3 (ipykernel)",
   "language": "python",
   "name": "python3"
  },
  "language_info": {
   "codemirror_mode": {
    "name": "ipython",
    "version": 3
   },
   "file_extension": ".py",
   "mimetype": "text/x-python",
   "name": "python",
   "nbconvert_exporter": "python",
   "pygments_lexer": "ipython3",
   "version": "3.9.13"
  }
 },
 "nbformat": 4,
 "nbformat_minor": 5
}
